{
    "metadata": {
        "kernelspec": {
            "name": "SQL",
            "display_name": "SQL",
            "language": "sql"
        },
        "language_info": {
            "name": "sql",
            "version": ""
        }
    },
    "nbformat_minor": 2,
    "nbformat": 4,
    "cells": [
        {
            "cell_type": "markdown",
            "source": [
                "2\\. ZH - Seres László - MFRJE7\n",
                "\n",
                "1\\. Feladat"
            ],
            "metadata": {
                "azdata_cell_guid": "7652f9ee-e462-4726-8b57-105edd4e2429"
            },
            "attachments": {}
        },
        {
            "cell_type": "code",
            "source": [
                "SELECT sz.SZOBA_ID, sz.FEROHELY, f.FOGLALAS_PK\r\n",
                "FROM Foglalas f JOIN Szoba sz ON f.SZOBA_FK = sz.SZOBA_ID\r\n",
                "ORDER BY f.FOGLALAS_PK DESC, sz.FEROHELY DESC"
            ],
            "metadata": {
                "azdata_cell_guid": "1a3e1285-d7fe-45e7-a436-58c1b086969c",
                "language": "sql"
            },
            "outputs": [
                {
                    "output_type": "display_data",
                    "data": {
                        "text/html": "(1027 rows affected)"
                    },
                    "metadata": {}
                },
                {
                    "output_type": "display_data",
                    "data": {
                        "text/html": "Total execution time: 00:00:00.012"
                    },
                    "metadata": {}
                },
                {
                    "output_type": "execute_result",
                    "metadata": {},
                    "execution_count": 8,
                    "data": {
                        "application/vnd.dataresource+json": {
                            "schema": {
                                "fields": [
                                    {
                                        "name": "SZOBA_ID"
                                    },
                                    {
                                        "name": "FEROHELY"
                                    },
                                    {
                                        "name": "FOGLALAS_PK"
                                    }
                                ]
                            },
                            "data": [
                                {
                                    "SZOBA_ID": "67",
                                    "FEROHELY": "2",
                                    "FOGLALAS_PK": "1584"
                                },
                                {
                                    "SZOBA_ID": "128",
                                    "FEROHELY": "2",
                                    "FOGLALAS_PK": "1583"
                                },
                                {
                                    "SZOBA_ID": "64",
                                    "FEROHELY": "2",
                                    "FOGLALAS_PK": "1582"
                                },
                                {
                                    "SZOBA_ID": "48",
                                    "FEROHELY": "3",
                                    "FOGLALAS_PK": "1581"
                                },
                                {
                                    "SZOBA_ID": "67",
                                    "FEROHELY": "2",
                                    "FOGLALAS_PK": "1580"
                                },
                                {
                                    "SZOBA_ID": "127",
                                    "FEROHELY": "2",
                                    "FOGLALAS_PK": "1579"
                                },
                                {
                                    "SZOBA_ID": "148",
                                    "FEROHELY": "2",
                                    "FOGLALAS_PK": "1578"
                                },
                                {
                                    "SZOBA_ID": "78",
                                    "FEROHELY": "2",
                                    "FOGLALAS_PK": "1577"
                                },
                                {
                                    "SZOBA_ID": "189",
                                    "FEROHELY": "2",
                                    "FOGLALAS_PK": "1576"
                                },
                                {
                                    "SZOBA_ID": "88",
                                    "FEROHELY": "3",
                                    "FOGLALAS_PK": "1575"
                                },
                                {
                                    "SZOBA_ID": "128",
                                    "FEROHELY": "2",
                                    "FOGLALAS_PK": "1574"
                                },
                                {
                                    "SZOBA_ID": "59",
                                    "FEROHELY": "2",
                                    "FOGLALAS_PK": "1573"
                                },
                                {
                                    "SZOBA_ID": "144",
                                    "FEROHELY": "3",
                                    "FOGLALAS_PK": "1572"
                                },
                                {
                                    "SZOBA_ID": "161",
                                    "FEROHELY": "2",
                                    "FOGLALAS_PK": "1571"
                                },
                                {
                                    "SZOBA_ID": "176",
                                    "FEROHELY": "3",
                                    "FOGLALAS_PK": "1570"
                                },
                                {
                                    "SZOBA_ID": "96",
                                    "FEROHELY": "3",
                                    "FOGLALAS_PK": "1569"
                                },
                                {
                                    "SZOBA_ID": "29",
                                    "FEROHELY": "2",
                                    "FOGLALAS_PK": "1568"
                                },
                                {
                                    "SZOBA_ID": "171",
                                    "FEROHELY": "2",
                                    "FOGLALAS_PK": "1567"
                                },
                                {
                                    "SZOBA_ID": "115",
                                    "FEROHELY": "3",
                                    "FOGLALAS_PK": "1566"
                                },
                                {
                                    "SZOBA_ID": "160",
                                    "FEROHELY": "3",
                                    "FOGLALAS_PK": "1565"
                                },
                                {
                                    "SZOBA_ID": "94",
                                    "FEROHELY": "2",
                                    "FOGLALAS_PK": "1564"
                                },
                                {
                                    "SZOBA_ID": "180",
                                    "FEROHELY": "2",
                                    "FOGLALAS_PK": "1563"
                                },
                                {
                                    "SZOBA_ID": "81",
                                    "FEROHELY": "2",
                                    "FOGLALAS_PK": "1562"
                                },
                                {
                                    "SZOBA_ID": "156",
                                    "FEROHELY": "2",
                                    "FOGLALAS_PK": "1561"
                                },
                                {
                                    "SZOBA_ID": "109",
                                    "FEROHELY": "2",
                                    "FOGLALAS_PK": "1560"
                                },
                                {
                                    "SZOBA_ID": "180",
                                    "FEROHELY": "2",
                                    "FOGLALAS_PK": "1559"
                                },
                                {
                                    "SZOBA_ID": "152",
                                    "FEROHELY": "2",
                                    "FOGLALAS_PK": "1558"
                                },
                                {
                                    "SZOBA_ID": "76",
                                    "FEROHELY": "2",
                                    "FOGLALAS_PK": "1557"
                                },
                                {
                                    "SZOBA_ID": "38",
                                    "FEROHELY": "2",
                                    "FOGLALAS_PK": "1556"
                                },
                                {
                                    "SZOBA_ID": "92",
                                    "FEROHELY": "3",
                                    "FOGLALAS_PK": "1555"
                                },
                                {
                                    "SZOBA_ID": "115",
                                    "FEROHELY": "3",
                                    "FOGLALAS_PK": "1554"
                                },
                                {
                                    "SZOBA_ID": "43",
                                    "FEROHELY": "3",
                                    "FOGLALAS_PK": "1553"
                                },
                                {
                                    "SZOBA_ID": "44",
                                    "FEROHELY": "3",
                                    "FOGLALAS_PK": "1552"
                                },
                                {
                                    "SZOBA_ID": "157",
                                    "FEROHELY": "2",
                                    "FOGLALAS_PK": "1551"
                                },
                                {
                                    "SZOBA_ID": "51",
                                    "FEROHELY": "3",
                                    "FOGLALAS_PK": "1550"
                                },
                                {
                                    "SZOBA_ID": "17",
                                    "FEROHELY": "3",
                                    "FOGLALAS_PK": "1549"
                                },
                                {
                                    "SZOBA_ID": "88",
                                    "FEROHELY": "3",
                                    "FOGLALAS_PK": "1548"
                                },
                                {
                                    "SZOBA_ID": "48",
                                    "FEROHELY": "3",
                                    "FOGLALAS_PK": "1547"
                                },
                                {
                                    "SZOBA_ID": "48",
                                    "FEROHELY": "3",
                                    "FOGLALAS_PK": "1546"
                                },
                                {
                                    "SZOBA_ID": "142",
                                    "FEROHELY": "3",
                                    "FOGLALAS_PK": "1545"
                                },
                                {
                                    "SZOBA_ID": "3",
                                    "FEROHELY": "3",
                                    "FOGLALAS_PK": "1544"
                                },
                                {
                                    "SZOBA_ID": "95",
                                    "FEROHELY": "3",
                                    "FOGLALAS_PK": "1543"
                                },
                                {
                                    "SZOBA_ID": "14",
                                    "FEROHELY": "3",
                                    "FOGLALAS_PK": "1542"
                                },
                                {
                                    "SZOBA_ID": "155",
                                    "FEROHELY": "3",
                                    "FOGLALAS_PK": "1541"
                                },
                                {
                                    "SZOBA_ID": "114",
                                    "FEROHELY": "2",
                                    "FOGLALAS_PK": "1540"
                                },
                                {
                                    "SZOBA_ID": "154",
                                    "FEROHELY": "2",
                                    "FOGLALAS_PK": "1539"
                                },
                                {
                                    "SZOBA_ID": "39",
                                    "FEROHELY": "2",
                                    "FOGLALAS_PK": "1538"
                                },
                                {
                                    "SZOBA_ID": "9",
                                    "FEROHELY": "3",
                                    "FOGLALAS_PK": "1537"
                                },
                                {
                                    "SZOBA_ID": "49",
                                    "FEROHELY": "3",
                                    "FOGLALAS_PK": "1536"
                                },
                                {
                                    "SZOBA_ID": "134",
                                    "FEROHELY": "3",
                                    "FOGLALAS_PK": "1535"
                                },
                                {
                                    "SZOBA_ID": "52",
                                    "FEROHELY": "2",
                                    "FOGLALAS_PK": "1534"
                                },
                                {
                                    "SZOBA_ID": "19",
                                    "FEROHELY": "2",
                                    "FOGLALAS_PK": "1533"
                                },
                                {
                                    "SZOBA_ID": "104",
                                    "FEROHELY": "3",
                                    "FOGLALAS_PK": "1532"
                                },
                                {
                                    "SZOBA_ID": "124",
                                    "FEROHELY": "3",
                                    "FOGLALAS_PK": "1531"
                                },
                                {
                                    "SZOBA_ID": "112",
                                    "FEROHELY": "3",
                                    "FOGLALAS_PK": "1530"
                                },
                                {
                                    "SZOBA_ID": "35",
                                    "FEROHELY": "3",
                                    "FOGLALAS_PK": "1529"
                                },
                                {
                                    "SZOBA_ID": "97",
                                    "FEROHELY": "3",
                                    "FOGLALAS_PK": "1528"
                                },
                                {
                                    "SZOBA_ID": "92",
                                    "FEROHELY": "3",
                                    "FOGLALAS_PK": "1527"
                                },
                                {
                                    "SZOBA_ID": "166",
                                    "FEROHELY": "2",
                                    "FOGLALAS_PK": "1526"
                                },
                                {
                                    "SZOBA_ID": "105",
                                    "FEROHELY": "2",
                                    "FOGLALAS_PK": "1525"
                                },
                                {
                                    "SZOBA_ID": "43",
                                    "FEROHELY": "3",
                                    "FOGLALAS_PK": "1524"
                                },
                                {
                                    "SZOBA_ID": "11",
                                    "FEROHELY": "2",
                                    "FOGLALAS_PK": "1523"
                                },
                                {
                                    "SZOBA_ID": "104",
                                    "FEROHELY": "3",
                                    "FOGLALAS_PK": "1522"
                                },
                                {
                                    "SZOBA_ID": "89",
                                    "FEROHELY": "3",
                                    "FOGLALAS_PK": "1521"
                                },
                                {
                                    "SZOBA_ID": "55",
                                    "FEROHELY": "2",
                                    "FOGLALAS_PK": "1520"
                                },
                                {
                                    "SZOBA_ID": "132",
                                    "FEROHELY": "3",
                                    "FOGLALAS_PK": "1519"
                                },
                                {
                                    "SZOBA_ID": "94",
                                    "FEROHELY": "2",
                                    "FOGLALAS_PK": "1518"
                                },
                                {
                                    "SZOBA_ID": "190",
                                    "FEROHELY": "2",
                                    "FOGLALAS_PK": "1517"
                                },
                                {
                                    "SZOBA_ID": "101",
                                    "FEROHELY": "2",
                                    "FOGLALAS_PK": "1516"
                                },
                                {
                                    "SZOBA_ID": "46",
                                    "FEROHELY": "3",
                                    "FOGLALAS_PK": "1515"
                                },
                                {
                                    "SZOBA_ID": "149",
                                    "FEROHELY": "2",
                                    "FOGLALAS_PK": "1514"
                                },
                                {
                                    "SZOBA_ID": "85",
                                    "FEROHELY": "2",
                                    "FOGLALAS_PK": "1513"
                                },
                                {
                                    "SZOBA_ID": "55",
                                    "FEROHELY": "2",
                                    "FOGLALAS_PK": "1512"
                                },
                                {
                                    "SZOBA_ID": "176",
                                    "FEROHELY": "3",
                                    "FOGLALAS_PK": "1511"
                                },
                                {
                                    "SZOBA_ID": "106",
                                    "FEROHELY": "2",
                                    "FOGLALAS_PK": "1510"
                                },
                                {
                                    "SZOBA_ID": "129",
                                    "FEROHELY": "2",
                                    "FOGLALAS_PK": "1509"
                                },
                                {
                                    "SZOBA_ID": "191",
                                    "FEROHELY": "2",
                                    "FOGLALAS_PK": "1508"
                                },
                                {
                                    "SZOBA_ID": "153",
                                    "FEROHELY": "3",
                                    "FOGLALAS_PK": "1507"
                                },
                                {
                                    "SZOBA_ID": "81",
                                    "FEROHELY": "2",
                                    "FOGLALAS_PK": "1506"
                                },
                                {
                                    "SZOBA_ID": "18",
                                    "FEROHELY": "3",
                                    "FOGLALAS_PK": "1505"
                                },
                                {
                                    "SZOBA_ID": "57",
                                    "FEROHELY": "2",
                                    "FOGLALAS_PK": "1504"
                                },
                                {
                                    "SZOBA_ID": "177",
                                    "FEROHELY": "3",
                                    "FOGLALAS_PK": "1503"
                                },
                                {
                                    "SZOBA_ID": "191",
                                    "FEROHELY": "2",
                                    "FOGLALAS_PK": "1502"
                                },
                                {
                                    "SZOBA_ID": "116",
                                    "FEROHELY": "3",
                                    "FOGLALAS_PK": "1501"
                                },
                                {
                                    "SZOBA_ID": "126",
                                    "FEROHELY": "2",
                                    "FOGLALAS_PK": "1500"
                                },
                                {
                                    "SZOBA_ID": "113",
                                    "FEROHELY": "3",
                                    "FOGLALAS_PK": "1499"
                                },
                                {
                                    "SZOBA_ID": "16",
                                    "FEROHELY": "3",
                                    "FOGLALAS_PK": "1498"
                                },
                                {
                                    "SZOBA_ID": "179",
                                    "FEROHELY": "3",
                                    "FOGLALAS_PK": "1497"
                                },
                                {
                                    "SZOBA_ID": "61",
                                    "FEROHELY": "3",
                                    "FOGLALAS_PK": "1496"
                                },
                                {
                                    "SZOBA_ID": "113",
                                    "FEROHELY": "3",
                                    "FOGLALAS_PK": "1495"
                                },
                                {
                                    "SZOBA_ID": "107",
                                    "FEROHELY": "2",
                                    "FOGLALAS_PK": "1494"
                                },
                                {
                                    "SZOBA_ID": "120",
                                    "FEROHELY": "3",
                                    "FOGLALAS_PK": "1493"
                                },
                                {
                                    "SZOBA_ID": "4",
                                    "FEROHELY": "2",
                                    "FOGLALAS_PK": "1492"
                                },
                                {
                                    "SZOBA_ID": "172",
                                    "FEROHELY": "2",
                                    "FOGLALAS_PK": "1491"
                                },
                                {
                                    "SZOBA_ID": "156",
                                    "FEROHELY": "2",
                                    "FOGLALAS_PK": "1490"
                                },
                                {
                                    "SZOBA_ID": "110",
                                    "FEROHELY": "2",
                                    "FOGLALAS_PK": "1489"
                                },
                                {
                                    "SZOBA_ID": "119",
                                    "FEROHELY": "2",
                                    "FOGLALAS_PK": "1488"
                                },
                                {
                                    "SZOBA_ID": "163",
                                    "FEROHELY": "2",
                                    "FOGLALAS_PK": "1487"
                                },
                                {
                                    "SZOBA_ID": "99",
                                    "FEROHELY": "2",
                                    "FOGLALAS_PK": "1486"
                                },
                                {
                                    "SZOBA_ID": "103",
                                    "FEROHELY": "2",
                                    "FOGLALAS_PK": "1485"
                                },
                                {
                                    "SZOBA_ID": "195",
                                    "FEROHELY": "2",
                                    "FOGLALAS_PK": "1484"
                                },
                                {
                                    "SZOBA_ID": "120",
                                    "FEROHELY": "3",
                                    "FOGLALAS_PK": "1483"
                                },
                                {
                                    "SZOBA_ID": "100",
                                    "FEROHELY": "2",
                                    "FOGLALAS_PK": "1482"
                                },
                                {
                                    "SZOBA_ID": "118",
                                    "FEROHELY": "2",
                                    "FOGLALAS_PK": "1481"
                                },
                                {
                                    "SZOBA_ID": "35",
                                    "FEROHELY": "3",
                                    "FOGLALAS_PK": "1480"
                                },
                                {
                                    "SZOBA_ID": "146",
                                    "FEROHELY": "3",
                                    "FOGLALAS_PK": "1479"
                                },
                                {
                                    "SZOBA_ID": "38",
                                    "FEROHELY": "2",
                                    "FOGLALAS_PK": "1478"
                                },
                                {
                                    "SZOBA_ID": "51",
                                    "FEROHELY": "3",
                                    "FOGLALAS_PK": "1477"
                                },
                                {
                                    "SZOBA_ID": "27",
                                    "FEROHELY": "3",
                                    "FOGLALAS_PK": "1476"
                                },
                                {
                                    "SZOBA_ID": "130",
                                    "FEROHELY": "2",
                                    "FOGLALAS_PK": "1475"
                                },
                                {
                                    "SZOBA_ID": "131",
                                    "FEROHELY": "2",
                                    "FOGLALAS_PK": "1474"
                                },
                                {
                                    "SZOBA_ID": "195",
                                    "FEROHELY": "2",
                                    "FOGLALAS_PK": "1473"
                                },
                                {
                                    "SZOBA_ID": "118",
                                    "FEROHELY": "2",
                                    "FOGLALAS_PK": "1472"
                                },
                                {
                                    "SZOBA_ID": "145",
                                    "FEROHELY": "2",
                                    "FOGLALAS_PK": "1471"
                                },
                                {
                                    "SZOBA_ID": "153",
                                    "FEROHELY": "3",
                                    "FOGLALAS_PK": "1470"
                                },
                                {
                                    "SZOBA_ID": "13",
                                    "FEROHELY": "3",
                                    "FOGLALAS_PK": "1469"
                                },
                                {
                                    "SZOBA_ID": "117",
                                    "FEROHELY": "3",
                                    "FOGLALAS_PK": "1468"
                                },
                                {
                                    "SZOBA_ID": "186",
                                    "FEROHELY": "2",
                                    "FOGLALAS_PK": "1467"
                                },
                                {
                                    "SZOBA_ID": "57",
                                    "FEROHELY": "2",
                                    "FOGLALAS_PK": "1466"
                                },
                                {
                                    "SZOBA_ID": "64",
                                    "FEROHELY": "2",
                                    "FOGLALAS_PK": "1465"
                                },
                                {
                                    "SZOBA_ID": "81",
                                    "FEROHELY": "2",
                                    "FOGLALAS_PK": "1464"
                                },
                                {
                                    "SZOBA_ID": "185",
                                    "FEROHELY": "3",
                                    "FOGLALAS_PK": "1463"
                                },
                                {
                                    "SZOBA_ID": "156",
                                    "FEROHELY": "2",
                                    "FOGLALAS_PK": "1462"
                                },
                                {
                                    "SZOBA_ID": "77",
                                    "FEROHELY": "3",
                                    "FOGLALAS_PK": "1461"
                                },
                                {
                                    "SZOBA_ID": "153",
                                    "FEROHELY": "3",
                                    "FOGLALAS_PK": "1460"
                                },
                                {
                                    "SZOBA_ID": "28",
                                    "FEROHELY": "2",
                                    "FOGLALAS_PK": "1459"
                                },
                                {
                                    "SZOBA_ID": "75",
                                    "FEROHELY": "2",
                                    "FOGLALAS_PK": "1458"
                                },
                                {
                                    "SZOBA_ID": "70",
                                    "FEROHELY": "2",
                                    "FOGLALAS_PK": "1457"
                                },
                                {
                                    "SZOBA_ID": "87",
                                    "FEROHELY": "3",
                                    "FOGLALAS_PK": "1456"
                                },
                                {
                                    "SZOBA_ID": "116",
                                    "FEROHELY": "3",
                                    "FOGLALAS_PK": "1455"
                                },
                                {
                                    "SZOBA_ID": "39",
                                    "FEROHELY": "2",
                                    "FOGLALAS_PK": "1454"
                                },
                                {
                                    "SZOBA_ID": "86",
                                    "FEROHELY": "2",
                                    "FOGLALAS_PK": "1453"
                                },
                                {
                                    "SZOBA_ID": "107",
                                    "FEROHELY": "2",
                                    "FOGLALAS_PK": "1452"
                                },
                                {
                                    "SZOBA_ID": "58",
                                    "FEROHELY": "2",
                                    "FOGLALAS_PK": "1451"
                                },
                                {
                                    "SZOBA_ID": "139",
                                    "FEROHELY": "2",
                                    "FOGLALAS_PK": "1450"
                                },
                                {
                                    "SZOBA_ID": "189",
                                    "FEROHELY": "2",
                                    "FOGLALAS_PK": "1449"
                                },
                                {
                                    "SZOBA_ID": "143",
                                    "FEROHELY": "3",
                                    "FOGLALAS_PK": "1448"
                                },
                                {
                                    "SZOBA_ID": "79",
                                    "FEROHELY": "3",
                                    "FOGLALAS_PK": "1447"
                                },
                                {
                                    "SZOBA_ID": "64",
                                    "FEROHELY": "2",
                                    "FOGLALAS_PK": "1446"
                                },
                                {
                                    "SZOBA_ID": "129",
                                    "FEROHELY": "2",
                                    "FOGLALAS_PK": "1445"
                                },
                                {
                                    "SZOBA_ID": "42",
                                    "FEROHELY": "2",
                                    "FOGLALAS_PK": "1444"
                                },
                                {
                                    "SZOBA_ID": "81",
                                    "FEROHELY": "2",
                                    "FOGLALAS_PK": "1443"
                                },
                                {
                                    "SZOBA_ID": "15",
                                    "FEROHELY": "2",
                                    "FOGLALAS_PK": "1442"
                                },
                                {
                                    "SZOBA_ID": "185",
                                    "FEROHELY": "3",
                                    "FOGLALAS_PK": "1441"
                                },
                                {
                                    "SZOBA_ID": "122",
                                    "FEROHELY": "3",
                                    "FOGLALAS_PK": "1440"
                                },
                                {
                                    "SZOBA_ID": "77",
                                    "FEROHELY": "3",
                                    "FOGLALAS_PK": "1439"
                                },
                                {
                                    "SZOBA_ID": "96",
                                    "FEROHELY": "3",
                                    "FOGLALAS_PK": "1438"
                                },
                                {
                                    "SZOBA_ID": "183",
                                    "FEROHELY": "3",
                                    "FOGLALAS_PK": "1437"
                                },
                                {
                                    "SZOBA_ID": "35",
                                    "FEROHELY": "3",
                                    "FOGLALAS_PK": "1436"
                                },
                                {
                                    "SZOBA_ID": "39",
                                    "FEROHELY": "2",
                                    "FOGLALAS_PK": "1435"
                                },
                                {
                                    "SZOBA_ID": "3",
                                    "FEROHELY": "3",
                                    "FOGLALAS_PK": "1434"
                                },
                                {
                                    "SZOBA_ID": "139",
                                    "FEROHELY": "2",
                                    "FOGLALAS_PK": "1433"
                                },
                                {
                                    "SZOBA_ID": "150",
                                    "FEROHELY": "2",
                                    "FOGLALAS_PK": "1432"
                                },
                                {
                                    "SZOBA_ID": "52",
                                    "FEROHELY": "2",
                                    "FOGLALAS_PK": "1431"
                                },
                                {
                                    "SZOBA_ID": "12",
                                    "FEROHELY": "2",
                                    "FOGLALAS_PK": "1430"
                                },
                                {
                                    "SZOBA_ID": "173",
                                    "FEROHELY": "2",
                                    "FOGLALAS_PK": "1429"
                                },
                                {
                                    "SZOBA_ID": "126",
                                    "FEROHELY": "2",
                                    "FOGLALAS_PK": "1428"
                                },
                                {
                                    "SZOBA_ID": "169",
                                    "FEROHELY": "2",
                                    "FOGLALAS_PK": "1427"
                                },
                                {
                                    "SZOBA_ID": "62",
                                    "FEROHELY": "2",
                                    "FOGLALAS_PK": "1426"
                                },
                                {
                                    "SZOBA_ID": "44",
                                    "FEROHELY": "3",
                                    "FOGLALAS_PK": "1425"
                                },
                                {
                                    "SZOBA_ID": "110",
                                    "FEROHELY": "2",
                                    "FOGLALAS_PK": "1424"
                                },
                                {
                                    "SZOBA_ID": "9",
                                    "FEROHELY": "3",
                                    "FOGLALAS_PK": "1423"
                                },
                                {
                                    "SZOBA_ID": "182",
                                    "FEROHELY": "2",
                                    "FOGLALAS_PK": "1422"
                                },
                                {
                                    "SZOBA_ID": "172",
                                    "FEROHELY": "2",
                                    "FOGLALAS_PK": "1421"
                                },
                                {
                                    "SZOBA_ID": "198",
                                    "FEROHELY": "3",
                                    "FOGLALAS_PK": "1420"
                                },
                                {
                                    "SZOBA_ID": "124",
                                    "FEROHELY": "3",
                                    "FOGLALAS_PK": "1419"
                                },
                                {
                                    "SZOBA_ID": "15",
                                    "FEROHELY": "2",
                                    "FOGLALAS_PK": "1418"
                                },
                                {
                                    "SZOBA_ID": "97",
                                    "FEROHELY": "3",
                                    "FOGLALAS_PK": "1417"
                                },
                                {
                                    "SZOBA_ID": "38",
                                    "FEROHELY": "2",
                                    "FOGLALAS_PK": "1416"
                                },
                                {
                                    "SZOBA_ID": "24",
                                    "FEROHELY": "4",
                                    "FOGLALAS_PK": "1415"
                                },
                                {
                                    "SZOBA_ID": "167",
                                    "FEROHELY": "3",
                                    "FOGLALAS_PK": "1414"
                                },
                                {
                                    "SZOBA_ID": "119",
                                    "FEROHELY": "2",
                                    "FOGLALAS_PK": "1413"
                                },
                                {
                                    "SZOBA_ID": "75",
                                    "FEROHELY": "2",
                                    "FOGLALAS_PK": "1412"
                                },
                                {
                                    "SZOBA_ID": "35",
                                    "FEROHELY": "3",
                                    "FOGLALAS_PK": "1411"
                                },
                                {
                                    "SZOBA_ID": "182",
                                    "FEROHELY": "2",
                                    "FOGLALAS_PK": "1410"
                                },
                                {
                                    "SZOBA_ID": "133",
                                    "FEROHELY": "3",
                                    "FOGLALAS_PK": "1409"
                                },
                                {
                                    "SZOBA_ID": "99",
                                    "FEROHELY": "2",
                                    "FOGLALAS_PK": "1408"
                                },
                                {
                                    "SZOBA_ID": "175",
                                    "FEROHELY": "2",
                                    "FOGLALAS_PK": "1407"
                                },
                                {
                                    "SZOBA_ID": "82",
                                    "FEROHELY": "3",
                                    "FOGLALAS_PK": "1406"
                                },
                                {
                                    "SZOBA_ID": "90",
                                    "FEROHELY": "3",
                                    "FOGLALAS_PK": "1405"
                                },
                                {
                                    "SZOBA_ID": "187",
                                    "FEROHELY": "3",
                                    "FOGLALAS_PK": "1404"
                                },
                                {
                                    "SZOBA_ID": "124",
                                    "FEROHELY": "3",
                                    "FOGLALAS_PK": "1403"
                                },
                                {
                                    "SZOBA_ID": "98",
                                    "FEROHELY": "2",
                                    "FOGLALAS_PK": "1402"
                                },
                                {
                                    "SZOBA_ID": "141",
                                    "FEROHELY": "2",
                                    "FOGLALAS_PK": "1401"
                                },
                                {
                                    "SZOBA_ID": "162",
                                    "FEROHELY": "3",
                                    "FOGLALAS_PK": "1400"
                                },
                                {
                                    "SZOBA_ID": "89",
                                    "FEROHELY": "3",
                                    "FOGLALAS_PK": "1399"
                                },
                                {
                                    "SZOBA_ID": "103",
                                    "FEROHELY": "2",
                                    "FOGLALAS_PK": "1398"
                                },
                                {
                                    "SZOBA_ID": "91",
                                    "FEROHELY": "2",
                                    "FOGLALAS_PK": "1397"
                                },
                                {
                                    "SZOBA_ID": "72",
                                    "FEROHELY": "2",
                                    "FOGLALAS_PK": "1396"
                                },
                                {
                                    "SZOBA_ID": "97",
                                    "FEROHELY": "3",
                                    "FOGLALAS_PK": "1395"
                                },
                                {
                                    "SZOBA_ID": "143",
                                    "FEROHELY": "3",
                                    "FOGLALAS_PK": "1394"
                                },
                                {
                                    "SZOBA_ID": "121",
                                    "FEROHELY": "2",
                                    "FOGLALAS_PK": "1393"
                                },
                                {
                                    "SZOBA_ID": "108",
                                    "FEROHELY": "2",
                                    "FOGLALAS_PK": "1392"
                                },
                                {
                                    "SZOBA_ID": "93",
                                    "FEROHELY": "3",
                                    "FOGLALAS_PK": "1391"
                                },
                                {
                                    "SZOBA_ID": "188",
                                    "FEROHELY": "3",
                                    "FOGLALAS_PK": "1390"
                                },
                                {
                                    "SZOBA_ID": "57",
                                    "FEROHELY": "2",
                                    "FOGLALAS_PK": "1389"
                                },
                                {
                                    "SZOBA_ID": "26",
                                    "FEROHELY": "2",
                                    "FOGLALAS_PK": "1388"
                                },
                                {
                                    "SZOBA_ID": "197",
                                    "FEROHELY": "3",
                                    "FOGLALAS_PK": "1387"
                                },
                                {
                                    "SZOBA_ID": "55",
                                    "FEROHELY": "2",
                                    "FOGLALAS_PK": "1386"
                                },
                                {
                                    "SZOBA_ID": "122",
                                    "FEROHELY": "3",
                                    "FOGLALAS_PK": "1385"
                                },
                                {
                                    "SZOBA_ID": "84",
                                    "FEROHELY": "3",
                                    "FOGLALAS_PK": "1384"
                                },
                                {
                                    "SZOBA_ID": "176",
                                    "FEROHELY": "3",
                                    "FOGLALAS_PK": "1383"
                                },
                                {
                                    "SZOBA_ID": "67",
                                    "FEROHELY": "2",
                                    "FOGLALAS_PK": "1382"
                                },
                                {
                                    "SZOBA_ID": "33",
                                    "FEROHELY": "2",
                                    "FOGLALAS_PK": "1381"
                                },
                                {
                                    "SZOBA_ID": "39",
                                    "FEROHELY": "2",
                                    "FOGLALAS_PK": "1380"
                                },
                                {
                                    "SZOBA_ID": "83",
                                    "FEROHELY": "3",
                                    "FOGLALAS_PK": "1379"
                                },
                                {
                                    "SZOBA_ID": "96",
                                    "FEROHELY": "3",
                                    "FOGLALAS_PK": "1378"
                                },
                                {
                                    "SZOBA_ID": "27",
                                    "FEROHELY": "3",
                                    "FOGLALAS_PK": "1377"
                                },
                                {
                                    "SZOBA_ID": "84",
                                    "FEROHELY": "3",
                                    "FOGLALAS_PK": "1376"
                                },
                                {
                                    "SZOBA_ID": "165",
                                    "FEROHELY": "2",
                                    "FOGLALAS_PK": "1375"
                                },
                                {
                                    "SZOBA_ID": "118",
                                    "FEROHELY": "2",
                                    "FOGLALAS_PK": "1374"
                                },
                                {
                                    "SZOBA_ID": "121",
                                    "FEROHELY": "2",
                                    "FOGLALAS_PK": "1373"
                                },
                                {
                                    "SZOBA_ID": "106",
                                    "FEROHELY": "2",
                                    "FOGLALAS_PK": "1372"
                                },
                                {
                                    "SZOBA_ID": "140",
                                    "FEROHELY": "2",
                                    "FOGLALAS_PK": "1371"
                                },
                                {
                                    "SZOBA_ID": "138",
                                    "FEROHELY": "3",
                                    "FOGLALAS_PK": "1370"
                                },
                                {
                                    "SZOBA_ID": "142",
                                    "FEROHELY": "3",
                                    "FOGLALAS_PK": "1369"
                                },
                                {
                                    "SZOBA_ID": "94",
                                    "FEROHELY": "2",
                                    "FOGLALAS_PK": "1368"
                                },
                                {
                                    "SZOBA_ID": "80",
                                    "FEROHELY": "2",
                                    "FOGLALAS_PK": "1367"
                                },
                                {
                                    "SZOBA_ID": "81",
                                    "FEROHELY": "2",
                                    "FOGLALAS_PK": "1366"
                                },
                                {
                                    "SZOBA_ID": "70",
                                    "FEROHELY": "2",
                                    "FOGLALAS_PK": "1365"
                                },
                                {
                                    "SZOBA_ID": "126",
                                    "FEROHELY": "2",
                                    "FOGLALAS_PK": "1364"
                                },
                                {
                                    "SZOBA_ID": "133",
                                    "FEROHELY": "3",
                                    "FOGLALAS_PK": "1363"
                                },
                                {
                                    "SZOBA_ID": "25",
                                    "FEROHELY": "3",
                                    "FOGLALAS_PK": "1362"
                                },
                                {
                                    "SZOBA_ID": "140",
                                    "FEROHELY": "2",
                                    "FOGLALAS_PK": "1361"
                                },
                                {
                                    "SZOBA_ID": "129",
                                    "FEROHELY": "2",
                                    "FOGLALAS_PK": "1360"
                                },
                                {
                                    "SZOBA_ID": "88",
                                    "FEROHELY": "3",
                                    "FOGLALAS_PK": "1359"
                                },
                                {
                                    "SZOBA_ID": "138",
                                    "FEROHELY": "3",
                                    "FOGLALAS_PK": "1358"
                                },
                                {
                                    "SZOBA_ID": "140",
                                    "FEROHELY": "2",
                                    "FOGLALAS_PK": "1357"
                                },
                                {
                                    "SZOBA_ID": "169",
                                    "FEROHELY": "2",
                                    "FOGLALAS_PK": "1356"
                                },
                                {
                                    "SZOBA_ID": "93",
                                    "FEROHELY": "3",
                                    "FOGLALAS_PK": "1355"
                                },
                                {
                                    "SZOBA_ID": "107",
                                    "FEROHELY": "2",
                                    "FOGLALAS_PK": "1354"
                                },
                                {
                                    "SZOBA_ID": "111",
                                    "FEROHELY": "2",
                                    "FOGLALAS_PK": "1353"
                                },
                                {
                                    "SZOBA_ID": "115",
                                    "FEROHELY": "3",
                                    "FOGLALAS_PK": "1352"
                                },
                                {
                                    "SZOBA_ID": "38",
                                    "FEROHELY": "2",
                                    "FOGLALAS_PK": "1351"
                                },
                                {
                                    "SZOBA_ID": "173",
                                    "FEROHELY": "2",
                                    "FOGLALAS_PK": "1350"
                                },
                                {
                                    "SZOBA_ID": "87",
                                    "FEROHELY": "3",
                                    "FOGLALAS_PK": "1349"
                                },
                                {
                                    "SZOBA_ID": "57",
                                    "FEROHELY": "2",
                                    "FOGLALAS_PK": "1348"
                                },
                                {
                                    "SZOBA_ID": "13",
                                    "FEROHELY": "3",
                                    "FOGLALAS_PK": "1347"
                                },
                                {
                                    "SZOBA_ID": "181",
                                    "FEROHELY": "3",
                                    "FOGLALAS_PK": "1346"
                                },
                                {
                                    "SZOBA_ID": "79",
                                    "FEROHELY": "3",
                                    "FOGLALAS_PK": "1345"
                                },
                                {
                                    "SZOBA_ID": "33",
                                    "FEROHELY": "2",
                                    "FOGLALAS_PK": "1344"
                                },
                                {
                                    "SZOBA_ID": "102",
                                    "FEROHELY": "2",
                                    "FOGLALAS_PK": "1343"
                                },
                                {
                                    "SZOBA_ID": "170",
                                    "FEROHELY": "2",
                                    "FOGLALAS_PK": "1342"
                                },
                                {
                                    "SZOBA_ID": "82",
                                    "FEROHELY": "3",
                                    "FOGLALAS_PK": "1341"
                                },
                                {
                                    "SZOBA_ID": "196",
                                    "FEROHELY": "2",
                                    "FOGLALAS_PK": "1340"
                                },
                                {
                                    "SZOBA_ID": "120",
                                    "FEROHELY": "3",
                                    "FOGLALAS_PK": "1339"
                                },
                                {
                                    "SZOBA_ID": "145",
                                    "FEROHELY": "2",
                                    "FOGLALAS_PK": "1338"
                                },
                                {
                                    "SZOBA_ID": "122",
                                    "FEROHELY": "3",
                                    "FOGLALAS_PK": "1337"
                                },
                                {
                                    "SZOBA_ID": "172",
                                    "FEROHELY": "2",
                                    "FOGLALAS_PK": "1336"
                                },
                                {
                                    "SZOBA_ID": "37",
                                    "FEROHELY": "2",
                                    "FOGLALAS_PK": "1335"
                                },
                                {
                                    "SZOBA_ID": "1",
                                    "FEROHELY": "3",
                                    "FOGLALAS_PK": "1334"
                                },
                                {
                                    "SZOBA_ID": "70",
                                    "FEROHELY": "2",
                                    "FOGLALAS_PK": "1333"
                                },
                                {
                                    "SZOBA_ID": "101",
                                    "FEROHELY": "2",
                                    "FOGLALAS_PK": "1332"
                                },
                                {
                                    "SZOBA_ID": "73",
                                    "FEROHELY": "2",
                                    "FOGLALAS_PK": "1331"
                                },
                                {
                                    "SZOBA_ID": "124",
                                    "FEROHELY": "3",
                                    "FOGLALAS_PK": "1330"
                                },
                                {
                                    "SZOBA_ID": "171",
                                    "FEROHELY": "2",
                                    "FOGLALAS_PK": "1329"
                                },
                                {
                                    "SZOBA_ID": "54",
                                    "FEROHELY": "3",
                                    "FOGLALAS_PK": "1328"
                                },
                                {
                                    "SZOBA_ID": "55",
                                    "FEROHELY": "2",
                                    "FOGLALAS_PK": "1327"
                                },
                                {
                                    "SZOBA_ID": "182",
                                    "FEROHELY": "2",
                                    "FOGLALAS_PK": "1326"
                                },
                                {
                                    "SZOBA_ID": "70",
                                    "FEROHELY": "2",
                                    "FOGLALAS_PK": "1325"
                                },
                                {
                                    "SZOBA_ID": "68",
                                    "FEROHELY": "2",
                                    "FOGLALAS_PK": "1324"
                                },
                                {
                                    "SZOBA_ID": "191",
                                    "FEROHELY": "2",
                                    "FOGLALAS_PK": "1323"
                                },
                                {
                                    "SZOBA_ID": "58",
                                    "FEROHELY": "2",
                                    "FOGLALAS_PK": "1322"
                                },
                                {
                                    "SZOBA_ID": "33",
                                    "FEROHELY": "2",
                                    "FOGLALAS_PK": "1321"
                                },
                                {
                                    "SZOBA_ID": "85",
                                    "FEROHELY": "2",
                                    "FOGLALAS_PK": "1320"
                                },
                                {
                                    "SZOBA_ID": "10",
                                    "FEROHELY": "3",
                                    "FOGLALAS_PK": "1319"
                                },
                                {
                                    "SZOBA_ID": "72",
                                    "FEROHELY": "2",
                                    "FOGLALAS_PK": "1318"
                                },
                                {
                                    "SZOBA_ID": "182",
                                    "FEROHELY": "2",
                                    "FOGLALAS_PK": "1317"
                                },
                                {
                                    "SZOBA_ID": "17",
                                    "FEROHELY": "3",
                                    "FOGLALAS_PK": "1316"
                                },
                                {
                                    "SZOBA_ID": "100",
                                    "FEROHELY": "2",
                                    "FOGLALAS_PK": "1315"
                                },
                                {
                                    "SZOBA_ID": "196",
                                    "FEROHELY": "2",
                                    "FOGLALAS_PK": "1314"
                                },
                                {
                                    "SZOBA_ID": "143",
                                    "FEROHELY": "3",
                                    "FOGLALAS_PK": "1313"
                                },
                                {
                                    "SZOBA_ID": "94",
                                    "FEROHELY": "2",
                                    "FOGLALAS_PK": "1312"
                                },
                                {
                                    "SZOBA_ID": "2",
                                    "FEROHELY": "3",
                                    "FOGLALAS_PK": "1311"
                                },
                                {
                                    "SZOBA_ID": "155",
                                    "FEROHELY": "3",
                                    "FOGLALAS_PK": "1310"
                                },
                                {
                                    "SZOBA_ID": "42",
                                    "FEROHELY": "2",
                                    "FOGLALAS_PK": "1309"
                                },
                                {
                                    "SZOBA_ID": "182",
                                    "FEROHELY": "2",
                                    "FOGLALAS_PK": "1308"
                                },
                                {
                                    "SZOBA_ID": "58",
                                    "FEROHELY": "2",
                                    "FOGLALAS_PK": "1307"
                                },
                                {
                                    "SZOBA_ID": "133",
                                    "FEROHELY": "3",
                                    "FOGLALAS_PK": "1306"
                                },
                                {
                                    "SZOBA_ID": "94",
                                    "FEROHELY": "2",
                                    "FOGLALAS_PK": "1305"
                                },
                                {
                                    "SZOBA_ID": "197",
                                    "FEROHELY": "3",
                                    "FOGLALAS_PK": "1304"
                                },
                                {
                                    "SZOBA_ID": "45",
                                    "FEROHELY": "2",
                                    "FOGLALAS_PK": "1303"
                                },
                                {
                                    "SZOBA_ID": "191",
                                    "FEROHELY": "2",
                                    "FOGLALAS_PK": "1302"
                                },
                                {
                                    "SZOBA_ID": "132",
                                    "FEROHELY": "3",
                                    "FOGLALAS_PK": "1301"
                                },
                                {
                                    "SZOBA_ID": "88",
                                    "FEROHELY": "3",
                                    "FOGLALAS_PK": "1300"
                                },
                                {
                                    "SZOBA_ID": "90",
                                    "FEROHELY": "3",
                                    "FOGLALAS_PK": "1299"
                                },
                                {
                                    "SZOBA_ID": "109",
                                    "FEROHELY": "2",
                                    "FOGLALAS_PK": "1298"
                                },
                                {
                                    "SZOBA_ID": "144",
                                    "FEROHELY": "3",
                                    "FOGLALAS_PK": "1297"
                                },
                                {
                                    "SZOBA_ID": "111",
                                    "FEROHELY": "2",
                                    "FOGLALAS_PK": "1296"
                                },
                                {
                                    "SZOBA_ID": "44",
                                    "FEROHELY": "3",
                                    "FOGLALAS_PK": "1295"
                                },
                                {
                                    "SZOBA_ID": "138",
                                    "FEROHELY": "3",
                                    "FOGLALAS_PK": "1294"
                                },
                                {
                                    "SZOBA_ID": "58",
                                    "FEROHELY": "2",
                                    "FOGLALAS_PK": "1293"
                                },
                                {
                                    "SZOBA_ID": "164",
                                    "FEROHELY": "2",
                                    "FOGLALAS_PK": "1292"
                                },
                                {
                                    "SZOBA_ID": "46",
                                    "FEROHELY": "3",
                                    "FOGLALAS_PK": "1291"
                                },
                                {
                                    "SZOBA_ID": "128",
                                    "FEROHELY": "2",
                                    "FOGLALAS_PK": "1290"
                                },
                                {
                                    "SZOBA_ID": "135",
                                    "FEROHELY": "3",
                                    "FOGLALAS_PK": "1289"
                                },
                                {
                                    "SZOBA_ID": "59",
                                    "FEROHELY": "2",
                                    "FOGLALAS_PK": "1288"
                                },
                                {
                                    "SZOBA_ID": "22",
                                    "FEROHELY": "3",
                                    "FOGLALAS_PK": "1287"
                                },
                                {
                                    "SZOBA_ID": "127",
                                    "FEROHELY": "2",
                                    "FOGLALAS_PK": "1286"
                                },
                                {
                                    "SZOBA_ID": "58",
                                    "FEROHELY": "2",
                                    "FOGLALAS_PK": "1285"
                                },
                                {
                                    "SZOBA_ID": "164",
                                    "FEROHELY": "2",
                                    "FOGLALAS_PK": "1284"
                                },
                                {
                                    "SZOBA_ID": "138",
                                    "FEROHELY": "3",
                                    "FOGLALAS_PK": "1283"
                                },
                                {
                                    "SZOBA_ID": "123",
                                    "FEROHELY": "3",
                                    "FOGLALAS_PK": "1282"
                                },
                                {
                                    "SZOBA_ID": "78",
                                    "FEROHELY": "2",
                                    "FOGLALAS_PK": "1281"
                                },
                                {
                                    "SZOBA_ID": "137",
                                    "FEROHELY": "2",
                                    "FOGLALAS_PK": "1280"
                                },
                                {
                                    "SZOBA_ID": "80",
                                    "FEROHELY": "2",
                                    "FOGLALAS_PK": "1279"
                                },
                                {
                                    "SZOBA_ID": "176",
                                    "FEROHELY": "3",
                                    "FOGLALAS_PK": "1278"
                                },
                                {
                                    "SZOBA_ID": "82",
                                    "FEROHELY": "3",
                                    "FOGLALAS_PK": "1277"
                                },
                                {
                                    "SZOBA_ID": "174",
                                    "FEROHELY": "2",
                                    "FOGLALAS_PK": "1276"
                                },
                                {
                                    "SZOBA_ID": "27",
                                    "FEROHELY": "3",
                                    "FOGLALAS_PK": "1275"
                                },
                                {
                                    "SZOBA_ID": "1",
                                    "FEROHELY": "3",
                                    "FOGLALAS_PK": "1274"
                                },
                                {
                                    "SZOBA_ID": "88",
                                    "FEROHELY": "3",
                                    "FOGLALAS_PK": "1273"
                                },
                                {
                                    "SZOBA_ID": "50",
                                    "FEROHELY": "2",
                                    "FOGLALAS_PK": "1272"
                                },
                                {
                                    "SZOBA_ID": "106",
                                    "FEROHELY": "2",
                                    "FOGLALAS_PK": "1271"
                                },
                                {
                                    "SZOBA_ID": "43",
                                    "FEROHELY": "3",
                                    "FOGLALAS_PK": "1270"
                                },
                                {
                                    "SZOBA_ID": "89",
                                    "FEROHELY": "3",
                                    "FOGLALAS_PK": "1269"
                                },
                                {
                                    "SZOBA_ID": "78",
                                    "FEROHELY": "2",
                                    "FOGLALAS_PK": "1268"
                                },
                                {
                                    "SZOBA_ID": "170",
                                    "FEROHELY": "2",
                                    "FOGLALAS_PK": "1267"
                                },
                                {
                                    "SZOBA_ID": "168",
                                    "FEROHELY": "2",
                                    "FOGLALAS_PK": "1266"
                                },
                                {
                                    "SZOBA_ID": "163",
                                    "FEROHELY": "2",
                                    "FOGLALAS_PK": "1265"
                                },
                                {
                                    "SZOBA_ID": "66",
                                    "FEROHELY": "3",
                                    "FOGLALAS_PK": "1264"
                                },
                                {
                                    "SZOBA_ID": "113",
                                    "FEROHELY": "3",
                                    "FOGLALAS_PK": "1263"
                                },
                                {
                                    "SZOBA_ID": "154",
                                    "FEROHELY": "2",
                                    "FOGLALAS_PK": "1262"
                                },
                                {
                                    "SZOBA_ID": "58",
                                    "FEROHELY": "2",
                                    "FOGLALAS_PK": "1261"
                                },
                                {
                                    "SZOBA_ID": "9",
                                    "FEROHELY": "3",
                                    "FOGLALAS_PK": "1260"
                                },
                                {
                                    "SZOBA_ID": "140",
                                    "FEROHELY": "2",
                                    "FOGLALAS_PK": "1259"
                                },
                                {
                                    "SZOBA_ID": "52",
                                    "FEROHELY": "2",
                                    "FOGLALAS_PK": "1258"
                                },
                                {
                                    "SZOBA_ID": "5",
                                    "FEROHELY": "2",
                                    "FOGLALAS_PK": "1257"
                                },
                                {
                                    "SZOBA_ID": "138",
                                    "FEROHELY": "3",
                                    "FOGLALAS_PK": "1256"
                                },
                                {
                                    "SZOBA_ID": "58",
                                    "FEROHELY": "2",
                                    "FOGLALAS_PK": "1255"
                                },
                                {
                                    "SZOBA_ID": "141",
                                    "FEROHELY": "2",
                                    "FOGLALAS_PK": "1254"
                                },
                                {
                                    "SZOBA_ID": "89",
                                    "FEROHELY": "3",
                                    "FOGLALAS_PK": "1253"
                                },
                                {
                                    "SZOBA_ID": "7",
                                    "FEROHELY": "2",
                                    "FOGLALAS_PK": "1252"
                                },
                                {
                                    "SZOBA_ID": "184",
                                    "FEROHELY": "2",
                                    "FOGLALAS_PK": "1251"
                                },
                                {
                                    "SZOBA_ID": "107",
                                    "FEROHELY": "2",
                                    "FOGLALAS_PK": "1250"
                                },
                                {
                                    "SZOBA_ID": "168",
                                    "FEROHELY": "2",
                                    "FOGLALAS_PK": "1249"
                                },
                                {
                                    "SZOBA_ID": "186",
                                    "FEROHELY": "2",
                                    "FOGLALAS_PK": "1248"
                                },
                                {
                                    "SZOBA_ID": "117",
                                    "FEROHELY": "3",
                                    "FOGLALAS_PK": "1247"
                                },
                                {
                                    "SZOBA_ID": "69",
                                    "FEROHELY": "3",
                                    "FOGLALAS_PK": "1246"
                                },
                                {
                                    "SZOBA_ID": "122",
                                    "FEROHELY": "3",
                                    "FOGLALAS_PK": "1245"
                                },
                                {
                                    "SZOBA_ID": "15",
                                    "FEROHELY": "2",
                                    "FOGLALAS_PK": "1244"
                                },
                                {
                                    "SZOBA_ID": "48",
                                    "FEROHELY": "3",
                                    "FOGLALAS_PK": "1243"
                                },
                                {
                                    "SZOBA_ID": "178",
                                    "FEROHELY": "3",
                                    "FOGLALAS_PK": "1242"
                                },
                                {
                                    "SZOBA_ID": "94",
                                    "FEROHELY": "2",
                                    "FOGLALAS_PK": "1241"
                                },
                                {
                                    "SZOBA_ID": "157",
                                    "FEROHELY": "2",
                                    "FOGLALAS_PK": "1240"
                                },
                                {
                                    "SZOBA_ID": "59",
                                    "FEROHELY": "2",
                                    "FOGLALAS_PK": "1239"
                                },
                                {
                                    "SZOBA_ID": "193",
                                    "FEROHELY": "3",
                                    "FOGLALAS_PK": "1238"
                                },
                                {
                                    "SZOBA_ID": "19",
                                    "FEROHELY": "2",
                                    "FOGLALAS_PK": "1237"
                                },
                                {
                                    "SZOBA_ID": "11",
                                    "FEROHELY": "2",
                                    "FOGLALAS_PK": "1236"
                                },
                                {
                                    "SZOBA_ID": "29",
                                    "FEROHELY": "2",
                                    "FOGLALAS_PK": "1235"
                                },
                                {
                                    "SZOBA_ID": "66",
                                    "FEROHELY": "3",
                                    "FOGLALAS_PK": "1234"
                                },
                                {
                                    "SZOBA_ID": "64",
                                    "FEROHELY": "2",
                                    "FOGLALAS_PK": "1233"
                                },
                                {
                                    "SZOBA_ID": "55",
                                    "FEROHELY": "2",
                                    "FOGLALAS_PK": "1232"
                                },
                                {
                                    "SZOBA_ID": "182",
                                    "FEROHELY": "2",
                                    "FOGLALAS_PK": "1231"
                                },
                                {
                                    "SZOBA_ID": "182",
                                    "FEROHELY": "2",
                                    "FOGLALAS_PK": "1230"
                                },
                                {
                                    "SZOBA_ID": "79",
                                    "FEROHELY": "3",
                                    "FOGLALAS_PK": "1229"
                                },
                                {
                                    "SZOBA_ID": "106",
                                    "FEROHELY": "2",
                                    "FOGLALAS_PK": "1228"
                                },
                                {
                                    "SZOBA_ID": "43",
                                    "FEROHELY": "3",
                                    "FOGLALAS_PK": "1227"
                                },
                                {
                                    "SZOBA_ID": "127",
                                    "FEROHELY": "2",
                                    "FOGLALAS_PK": "1226"
                                },
                                {
                                    "SZOBA_ID": "69",
                                    "FEROHELY": "3",
                                    "FOGLALAS_PK": "1225"
                                },
                                {
                                    "SZOBA_ID": "50",
                                    "FEROHELY": "2",
                                    "FOGLALAS_PK": "1224"
                                },
                                {
                                    "SZOBA_ID": "123",
                                    "FEROHELY": "3",
                                    "FOGLALAS_PK": "1223"
                                },
                                {
                                    "SZOBA_ID": "143",
                                    "FEROHELY": "3",
                                    "FOGLALAS_PK": "1222"
                                },
                                {
                                    "SZOBA_ID": "49",
                                    "FEROHELY": "3",
                                    "FOGLALAS_PK": "1221"
                                },
                                {
                                    "SZOBA_ID": "9",
                                    "FEROHELY": "3",
                                    "FOGLALAS_PK": "1220"
                                },
                                {
                                    "SZOBA_ID": "134",
                                    "FEROHELY": "3",
                                    "FOGLALAS_PK": "1219"
                                },
                                {
                                    "SZOBA_ID": "61",
                                    "FEROHELY": "3",
                                    "FOGLALAS_PK": "1218"
                                },
                                {
                                    "SZOBA_ID": "93",
                                    "FEROHELY": "3",
                                    "FOGLALAS_PK": "1217"
                                },
                                {
                                    "SZOBA_ID": "198",
                                    "FEROHELY": "3",
                                    "FOGLALAS_PK": "1216"
                                },
                                {
                                    "SZOBA_ID": "121",
                                    "FEROHELY": "2",
                                    "FOGLALAS_PK": "1215"
                                },
                                {
                                    "SZOBA_ID": "39",
                                    "FEROHELY": "2",
                                    "FOGLALAS_PK": "1214"
                                },
                                {
                                    "SZOBA_ID": "91",
                                    "FEROHELY": "2",
                                    "FOGLALAS_PK": "1213"
                                },
                                {
                                    "SZOBA_ID": "21",
                                    "FEROHELY": "2",
                                    "FOGLALAS_PK": "1212"
                                },
                                {
                                    "SZOBA_ID": "178",
                                    "FEROHELY": "3",
                                    "FOGLALAS_PK": "1211"
                                },
                                {
                                    "SZOBA_ID": "124",
                                    "FEROHELY": "3",
                                    "FOGLALAS_PK": "1210"
                                },
                                {
                                    "SZOBA_ID": "122",
                                    "FEROHELY": "3",
                                    "FOGLALAS_PK": "1209"
                                },
                                {
                                    "SZOBA_ID": "58",
                                    "FEROHELY": "2",
                                    "FOGLALAS_PK": "1208"
                                },
                                {
                                    "SZOBA_ID": "43",
                                    "FEROHELY": "3",
                                    "FOGLALAS_PK": "1207"
                                },
                                {
                                    "SZOBA_ID": "22",
                                    "FEROHELY": "3",
                                    "FOGLALAS_PK": "1206"
                                },
                                {
                                    "SZOBA_ID": "162",
                                    "FEROHELY": "3",
                                    "FOGLALAS_PK": "1205"
                                },
                                {
                                    "SZOBA_ID": "189",
                                    "FEROHELY": "2",
                                    "FOGLALAS_PK": "1204"
                                },
                                {
                                    "SZOBA_ID": "150",
                                    "FEROHELY": "2",
                                    "FOGLALAS_PK": "1203"
                                },
                                {
                                    "SZOBA_ID": "52",
                                    "FEROHELY": "2",
                                    "FOGLALAS_PK": "1202"
                                },
                                {
                                    "SZOBA_ID": "137",
                                    "FEROHELY": "2",
                                    "FOGLALAS_PK": "1201"
                                },
                                {
                                    "SZOBA_ID": "49",
                                    "FEROHELY": "3",
                                    "FOGLALAS_PK": "1200"
                                },
                                {
                                    "SZOBA_ID": "144",
                                    "FEROHELY": "3",
                                    "FOGLALAS_PK": "1199"
                                },
                                {
                                    "SZOBA_ID": "18",
                                    "FEROHELY": "3",
                                    "FOGLALAS_PK": "1198"
                                },
                                {
                                    "SZOBA_ID": "152",
                                    "FEROHELY": "2",
                                    "FOGLALAS_PK": "1197"
                                },
                                {
                                    "SZOBA_ID": "88",
                                    "FEROHELY": "3",
                                    "FOGLALAS_PK": "1196"
                                },
                                {
                                    "SZOBA_ID": "22",
                                    "FEROHELY": "3",
                                    "FOGLALAS_PK": "1195"
                                },
                                {
                                    "SZOBA_ID": "170",
                                    "FEROHELY": "2",
                                    "FOGLALAS_PK": "1194"
                                },
                                {
                                    "SZOBA_ID": "143",
                                    "FEROHELY": "3",
                                    "FOGLALAS_PK": "1193"
                                },
                                {
                                    "SZOBA_ID": "117",
                                    "FEROHELY": "3",
                                    "FOGLALAS_PK": "1192"
                                },
                                {
                                    "SZOBA_ID": "59",
                                    "FEROHELY": "2",
                                    "FOGLALAS_PK": "1191"
                                },
                                {
                                    "SZOBA_ID": "161",
                                    "FEROHELY": "2",
                                    "FOGLALAS_PK": "1190"
                                },
                                {
                                    "SZOBA_ID": "89",
                                    "FEROHELY": "3",
                                    "FOGLALAS_PK": "1189"
                                },
                                {
                                    "SZOBA_ID": "182",
                                    "FEROHELY": "2",
                                    "FOGLALAS_PK": "1188"
                                },
                                {
                                    "SZOBA_ID": "46",
                                    "FEROHELY": "3",
                                    "FOGLALAS_PK": "1187"
                                },
                                {
                                    "SZOBA_ID": "58",
                                    "FEROHELY": "2",
                                    "FOGLALAS_PK": "1186"
                                },
                                {
                                    "SZOBA_ID": "29",
                                    "FEROHELY": "2",
                                    "FOGLALAS_PK": "1185"
                                },
                                {
                                    "SZOBA_ID": "195",
                                    "FEROHELY": "2",
                                    "FOGLALAS_PK": "1184"
                                },
                                {
                                    "SZOBA_ID": "185",
                                    "FEROHELY": "3",
                                    "FOGLALAS_PK": "1183"
                                },
                                {
                                    "SZOBA_ID": "7",
                                    "FEROHELY": "2",
                                    "FOGLALAS_PK": "1182"
                                },
                                {
                                    "SZOBA_ID": "171",
                                    "FEROHELY": "2",
                                    "FOGLALAS_PK": "1181"
                                },
                                {
                                    "SZOBA_ID": "104",
                                    "FEROHELY": "3",
                                    "FOGLALAS_PK": "1180"
                                },
                                {
                                    "SZOBA_ID": "74",
                                    "FEROHELY": "3",
                                    "FOGLALAS_PK": "1179"
                                },
                                {
                                    "SZOBA_ID": "134",
                                    "FEROHELY": "3",
                                    "FOGLALAS_PK": "1178"
                                },
                                {
                                    "SZOBA_ID": "150",
                                    "FEROHELY": "2",
                                    "FOGLALAS_PK": "1177"
                                },
                                {
                                    "SZOBA_ID": "177",
                                    "FEROHELY": "3",
                                    "FOGLALAS_PK": "1176"
                                },
                                {
                                    "SZOBA_ID": "7",
                                    "FEROHELY": "2",
                                    "FOGLALAS_PK": "1175"
                                },
                                {
                                    "SZOBA_ID": "90",
                                    "FEROHELY": "3",
                                    "FOGLALAS_PK": "1174"
                                },
                                {
                                    "SZOBA_ID": "18",
                                    "FEROHELY": "3",
                                    "FOGLALAS_PK": "1173"
                                },
                                {
                                    "SZOBA_ID": "197",
                                    "FEROHELY": "3",
                                    "FOGLALAS_PK": "1172"
                                },
                                {
                                    "SZOBA_ID": "172",
                                    "FEROHELY": "2",
                                    "FOGLALAS_PK": "1171"
                                },
                                {
                                    "SZOBA_ID": "59",
                                    "FEROHELY": "2",
                                    "FOGLALAS_PK": "1170"
                                },
                                {
                                    "SZOBA_ID": "93",
                                    "FEROHELY": "3",
                                    "FOGLALAS_PK": "1169"
                                },
                                {
                                    "SZOBA_ID": "154",
                                    "FEROHELY": "2",
                                    "FOGLALAS_PK": "1168"
                                },
                                {
                                    "SZOBA_ID": "24",
                                    "FEROHELY": "4",
                                    "FOGLALAS_PK": "1167"
                                },
                                {
                                    "SZOBA_ID": "122",
                                    "FEROHELY": "3",
                                    "FOGLALAS_PK": "1166"
                                },
                                {
                                    "SZOBA_ID": "51",
                                    "FEROHELY": "3",
                                    "FOGLALAS_PK": "1165"
                                },
                                {
                                    "SZOBA_ID": "12",
                                    "FEROHELY": "2",
                                    "FOGLALAS_PK": "1164"
                                },
                                {
                                    "SZOBA_ID": "55",
                                    "FEROHELY": "2",
                                    "FOGLALAS_PK": "1163"
                                },
                                {
                                    "SZOBA_ID": "110",
                                    "FEROHELY": "2",
                                    "FOGLALAS_PK": "1162"
                                },
                                {
                                    "SZOBA_ID": "198",
                                    "FEROHELY": "3",
                                    "FOGLALAS_PK": "1161"
                                },
                                {
                                    "SZOBA_ID": "152",
                                    "FEROHELY": "2",
                                    "FOGLALAS_PK": "1160"
                                },
                                {
                                    "SZOBA_ID": "73",
                                    "FEROHELY": "2",
                                    "FOGLALAS_PK": "1159"
                                },
                                {
                                    "SZOBA_ID": "26",
                                    "FEROHELY": "2",
                                    "FOGLALAS_PK": "1158"
                                },
                                {
                                    "SZOBA_ID": "9",
                                    "FEROHELY": "3",
                                    "FOGLALAS_PK": "1157"
                                },
                                {
                                    "SZOBA_ID": "140",
                                    "FEROHELY": "2",
                                    "FOGLALAS_PK": "1156"
                                },
                                {
                                    "SZOBA_ID": "143",
                                    "FEROHELY": "3",
                                    "FOGLALAS_PK": "1155"
                                },
                                {
                                    "SZOBA_ID": "115",
                                    "FEROHELY": "3",
                                    "FOGLALAS_PK": "1154"
                                },
                                {
                                    "SZOBA_ID": "186",
                                    "FEROHELY": "2",
                                    "FOGLALAS_PK": "1153"
                                },
                                {
                                    "SZOBA_ID": "1",
                                    "FEROHELY": "3",
                                    "FOGLALAS_PK": "1152"
                                },
                                {
                                    "SZOBA_ID": "3",
                                    "FEROHELY": "3",
                                    "FOGLALAS_PK": "1151"
                                },
                                {
                                    "SZOBA_ID": "28",
                                    "FEROHELY": "2",
                                    "FOGLALAS_PK": "1150"
                                },
                                {
                                    "SZOBA_ID": "133",
                                    "FEROHELY": "3",
                                    "FOGLALAS_PK": "1149"
                                },
                                {
                                    "SZOBA_ID": "61",
                                    "FEROHELY": "3",
                                    "FOGLALAS_PK": "1148"
                                },
                                {
                                    "SZOBA_ID": "183",
                                    "FEROHELY": "3",
                                    "FOGLALAS_PK": "1147"
                                },
                                {
                                    "SZOBA_ID": "149",
                                    "FEROHELY": "2",
                                    "FOGLALAS_PK": "1146"
                                },
                                {
                                    "SZOBA_ID": "145",
                                    "FEROHELY": "2",
                                    "FOGLALAS_PK": "1145"
                                },
                                {
                                    "SZOBA_ID": "41",
                                    "FEROHELY": "3",
                                    "FOGLALAS_PK": "1144"
                                },
                                {
                                    "SZOBA_ID": "176",
                                    "FEROHELY": "3",
                                    "FOGLALAS_PK": "1143"
                                },
                                {
                                    "SZOBA_ID": "172",
                                    "FEROHELY": "2",
                                    "FOGLALAS_PK": "1142"
                                },
                                {
                                    "SZOBA_ID": "165",
                                    "FEROHELY": "2",
                                    "FOGLALAS_PK": "1141"
                                },
                                {
                                    "SZOBA_ID": "12",
                                    "FEROHELY": "2",
                                    "FOGLALAS_PK": "1140"
                                },
                                {
                                    "SZOBA_ID": "19",
                                    "FEROHELY": "2",
                                    "FOGLALAS_PK": "1139"
                                },
                                {
                                    "SZOBA_ID": "198",
                                    "FEROHELY": "3",
                                    "FOGLALAS_PK": "1138"
                                },
                                {
                                    "SZOBA_ID": "1",
                                    "FEROHELY": "3",
                                    "FOGLALAS_PK": "1137"
                                },
                                {
                                    "SZOBA_ID": "30",
                                    "FEROHELY": "3",
                                    "FOGLALAS_PK": "1136"
                                },
                                {
                                    "SZOBA_ID": "45",
                                    "FEROHELY": "2",
                                    "FOGLALAS_PK": "1135"
                                },
                                {
                                    "SZOBA_ID": "126",
                                    "FEROHELY": "2",
                                    "FOGLALAS_PK": "1134"
                                },
                                {
                                    "SZOBA_ID": "175",
                                    "FEROHELY": "2",
                                    "FOGLALAS_PK": "1133"
                                },
                                {
                                    "SZOBA_ID": "4",
                                    "FEROHELY": "2",
                                    "FOGLALAS_PK": "1132"
                                },
                                {
                                    "SZOBA_ID": "7",
                                    "FEROHELY": "2",
                                    "FOGLALAS_PK": "1131"
                                },
                                {
                                    "SZOBA_ID": "22",
                                    "FEROHELY": "3",
                                    "FOGLALAS_PK": "1130"
                                },
                                {
                                    "SZOBA_ID": "15",
                                    "FEROHELY": "2",
                                    "FOGLALAS_PK": "1129"
                                },
                                {
                                    "SZOBA_ID": "121",
                                    "FEROHELY": "2",
                                    "FOGLALAS_PK": "1128"
                                },
                                {
                                    "SZOBA_ID": "4",
                                    "FEROHELY": "2",
                                    "FOGLALAS_PK": "1127"
                                },
                                {
                                    "SZOBA_ID": "70",
                                    "FEROHELY": "2",
                                    "FOGLALAS_PK": "1126"
                                },
                                {
                                    "SZOBA_ID": "185",
                                    "FEROHELY": "3",
                                    "FOGLALAS_PK": "1125"
                                },
                                {
                                    "SZOBA_ID": "112",
                                    "FEROHELY": "3",
                                    "FOGLALAS_PK": "1124"
                                },
                                {
                                    "SZOBA_ID": "11",
                                    "FEROHELY": "2",
                                    "FOGLALAS_PK": "1123"
                                },
                                {
                                    "SZOBA_ID": "64",
                                    "FEROHELY": "2",
                                    "FOGLALAS_PK": "1122"
                                },
                                {
                                    "SZOBA_ID": "115",
                                    "FEROHELY": "3",
                                    "FOGLALAS_PK": "1121"
                                },
                                {
                                    "SZOBA_ID": "145",
                                    "FEROHELY": "2",
                                    "FOGLALAS_PK": "1120"
                                },
                                {
                                    "SZOBA_ID": "83",
                                    "FEROHELY": "3",
                                    "FOGLALAS_PK": "1119"
                                },
                                {
                                    "SZOBA_ID": "40",
                                    "FEROHELY": "3",
                                    "FOGLALAS_PK": "1118"
                                },
                                {
                                    "SZOBA_ID": "158",
                                    "FEROHELY": "2",
                                    "FOGLALAS_PK": "1117"
                                },
                                {
                                    "SZOBA_ID": "198",
                                    "FEROHELY": "3",
                                    "FOGLALAS_PK": "1116"
                                },
                                {
                                    "SZOBA_ID": "151",
                                    "FEROHELY": "2",
                                    "FOGLALAS_PK": "1115"
                                },
                                {
                                    "SZOBA_ID": "20",
                                    "FEROHELY": "3",
                                    "FOGLALAS_PK": "1114"
                                },
                                {
                                    "SZOBA_ID": "58",
                                    "FEROHELY": "2",
                                    "FOGLALAS_PK": "1113"
                                },
                                {
                                    "SZOBA_ID": "155",
                                    "FEROHELY": "3",
                                    "FOGLALAS_PK": "1112"
                                },
                                {
                                    "SZOBA_ID": "132",
                                    "FEROHELY": "3",
                                    "FOGLALAS_PK": "1111"
                                },
                                {
                                    "SZOBA_ID": "3",
                                    "FEROHELY": "3",
                                    "FOGLALAS_PK": "1110"
                                },
                                {
                                    "SZOBA_ID": "110",
                                    "FEROHELY": "2",
                                    "FOGLALAS_PK": "1109"
                                },
                                {
                                    "SZOBA_ID": "86",
                                    "FEROHELY": "2",
                                    "FOGLALAS_PK": "1108"
                                },
                                {
                                    "SZOBA_ID": "163",
                                    "FEROHELY": "2",
                                    "FOGLALAS_PK": "1107"
                                },
                                {
                                    "SZOBA_ID": "20",
                                    "FEROHELY": "3",
                                    "FOGLALAS_PK": "1106"
                                },
                                {
                                    "SZOBA_ID": "150",
                                    "FEROHELY": "2",
                                    "FOGLALAS_PK": "1105"
                                },
                                {
                                    "SZOBA_ID": "77",
                                    "FEROHELY": "3",
                                    "FOGLALAS_PK": "1104"
                                },
                                {
                                    "SZOBA_ID": "87",
                                    "FEROHELY": "3",
                                    "FOGLALAS_PK": "1103"
                                },
                                {
                                    "SZOBA_ID": "108",
                                    "FEROHELY": "2",
                                    "FOGLALAS_PK": "1102"
                                },
                                {
                                    "SZOBA_ID": "89",
                                    "FEROHELY": "3",
                                    "FOGLALAS_PK": "1101"
                                },
                                {
                                    "SZOBA_ID": "150",
                                    "FEROHELY": "2",
                                    "FOGLALAS_PK": "1100"
                                },
                                {
                                    "SZOBA_ID": "6",
                                    "FEROHELY": "3",
                                    "FOGLALAS_PK": "1099"
                                },
                                {
                                    "SZOBA_ID": "140",
                                    "FEROHELY": "2",
                                    "FOGLALAS_PK": "1098"
                                },
                                {
                                    "SZOBA_ID": "95",
                                    "FEROHELY": "3",
                                    "FOGLALAS_PK": "1097"
                                },
                                {
                                    "SZOBA_ID": "54",
                                    "FEROHELY": "3",
                                    "FOGLALAS_PK": "1096"
                                },
                                {
                                    "SZOBA_ID": "194",
                                    "FEROHELY": "2",
                                    "FOGLALAS_PK": "1095"
                                },
                                {
                                    "SZOBA_ID": "175",
                                    "FEROHELY": "2",
                                    "FOGLALAS_PK": "1094"
                                },
                                {
                                    "SZOBA_ID": "74",
                                    "FEROHELY": "3",
                                    "FOGLALAS_PK": "1093"
                                },
                                {
                                    "SZOBA_ID": "70",
                                    "FEROHELY": "2",
                                    "FOGLALAS_PK": "1092"
                                },
                                {
                                    "SZOBA_ID": "197",
                                    "FEROHELY": "3",
                                    "FOGLALAS_PK": "1091"
                                },
                                {
                                    "SZOBA_ID": "132",
                                    "FEROHELY": "3",
                                    "FOGLALAS_PK": "1090"
                                },
                                {
                                    "SZOBA_ID": "120",
                                    "FEROHELY": "3",
                                    "FOGLALAS_PK": "1089"
                                },
                                {
                                    "SZOBA_ID": "43",
                                    "FEROHELY": "3",
                                    "FOGLALAS_PK": "1088"
                                },
                                {
                                    "SZOBA_ID": "144",
                                    "FEROHELY": "3",
                                    "FOGLALAS_PK": "1087"
                                },
                                {
                                    "SZOBA_ID": "55",
                                    "FEROHELY": "2",
                                    "FOGLALAS_PK": "1086"
                                },
                                {
                                    "SZOBA_ID": "113",
                                    "FEROHELY": "3",
                                    "FOGLALAS_PK": "1085"
                                },
                                {
                                    "SZOBA_ID": "59",
                                    "FEROHELY": "2",
                                    "FOGLALAS_PK": "1084"
                                },
                                {
                                    "SZOBA_ID": "109",
                                    "FEROHELY": "2",
                                    "FOGLALAS_PK": "1083"
                                },
                                {
                                    "SZOBA_ID": "27",
                                    "FEROHELY": "3",
                                    "FOGLALAS_PK": "1082"
                                },
                                {
                                    "SZOBA_ID": "62",
                                    "FEROHELY": "2",
                                    "FOGLALAS_PK": "1081"
                                },
                                {
                                    "SZOBA_ID": "59",
                                    "FEROHELY": "2",
                                    "FOGLALAS_PK": "1080"
                                },
                                {
                                    "SZOBA_ID": "86",
                                    "FEROHELY": "2",
                                    "FOGLALAS_PK": "1079"
                                },
                                {
                                    "SZOBA_ID": "38",
                                    "FEROHELY": "2",
                                    "FOGLALAS_PK": "1078"
                                },
                                {
                                    "SZOBA_ID": "145",
                                    "FEROHELY": "2",
                                    "FOGLALAS_PK": "1077"
                                },
                                {
                                    "SZOBA_ID": "29",
                                    "FEROHELY": "2",
                                    "FOGLALAS_PK": "1076"
                                },
                                {
                                    "SZOBA_ID": "163",
                                    "FEROHELY": "2",
                                    "FOGLALAS_PK": "1075"
                                },
                                {
                                    "SZOBA_ID": "195",
                                    "FEROHELY": "2",
                                    "FOGLALAS_PK": "1074"
                                },
                                {
                                    "SZOBA_ID": "5",
                                    "FEROHELY": "2",
                                    "FOGLALAS_PK": "1073"
                                },
                                {
                                    "SZOBA_ID": "99",
                                    "FEROHELY": "2",
                                    "FOGLALAS_PK": "1072"
                                },
                                {
                                    "SZOBA_ID": "80",
                                    "FEROHELY": "2",
                                    "FOGLALAS_PK": "1071"
                                },
                                {
                                    "SZOBA_ID": "20",
                                    "FEROHELY": "3",
                                    "FOGLALAS_PK": "1070"
                                },
                                {
                                    "SZOBA_ID": "2",
                                    "FEROHELY": "3",
                                    "FOGLALAS_PK": "1069"
                                },
                                {
                                    "SZOBA_ID": "161",
                                    "FEROHELY": "2",
                                    "FOGLALAS_PK": "1068"
                                },
                                {
                                    "SZOBA_ID": "183",
                                    "FEROHELY": "3",
                                    "FOGLALAS_PK": "1067"
                                },
                                {
                                    "SZOBA_ID": "49",
                                    "FEROHELY": "3",
                                    "FOGLALAS_PK": "1066"
                                },
                                {
                                    "SZOBA_ID": "198",
                                    "FEROHELY": "3",
                                    "FOGLALAS_PK": "1065"
                                },
                                {
                                    "SZOBA_ID": "139",
                                    "FEROHELY": "2",
                                    "FOGLALAS_PK": "1064"
                                },
                                {
                                    "SZOBA_ID": "50",
                                    "FEROHELY": "2",
                                    "FOGLALAS_PK": "1063"
                                },
                                {
                                    "SZOBA_ID": "122",
                                    "FEROHELY": "3",
                                    "FOGLALAS_PK": "1062"
                                },
                                {
                                    "SZOBA_ID": "154",
                                    "FEROHELY": "2",
                                    "FOGLALAS_PK": "1061"
                                },
                                {
                                    "SZOBA_ID": "38",
                                    "FEROHELY": "2",
                                    "FOGLALAS_PK": "1060"
                                },
                                {
                                    "SZOBA_ID": "85",
                                    "FEROHELY": "2",
                                    "FOGLALAS_PK": "1059"
                                },
                                {
                                    "SZOBA_ID": "151",
                                    "FEROHELY": "2",
                                    "FOGLALAS_PK": "1058"
                                },
                                {
                                    "SZOBA_ID": "86",
                                    "FEROHELY": "2",
                                    "FOGLALAS_PK": "1057"
                                },
                                {
                                    "SZOBA_ID": "47",
                                    "FEROHELY": "2",
                                    "FOGLALAS_PK": "1056"
                                },
                                {
                                    "SZOBA_ID": "69",
                                    "FEROHELY": "3",
                                    "FOGLALAS_PK": "1055"
                                },
                                {
                                    "SZOBA_ID": "79",
                                    "FEROHELY": "3",
                                    "FOGLALAS_PK": "1054"
                                },
                                {
                                    "SZOBA_ID": "33",
                                    "FEROHELY": "2",
                                    "FOGLALAS_PK": "1053"
                                },
                                {
                                    "SZOBA_ID": "25",
                                    "FEROHELY": "3",
                                    "FOGLALAS_PK": "1052"
                                },
                                {
                                    "SZOBA_ID": "2",
                                    "FEROHELY": "3",
                                    "FOGLALAS_PK": "1051"
                                },
                                {
                                    "SZOBA_ID": "98",
                                    "FEROHELY": "2",
                                    "FOGLALAS_PK": "1050"
                                },
                                {
                                    "SZOBA_ID": "121",
                                    "FEROHELY": "2",
                                    "FOGLALAS_PK": "1049"
                                },
                                {
                                    "SZOBA_ID": "95",
                                    "FEROHELY": "3",
                                    "FOGLALAS_PK": "1048"
                                },
                                {
                                    "SZOBA_ID": "157",
                                    "FEROHELY": "2",
                                    "FOGLALAS_PK": "1047"
                                },
                                {
                                    "SZOBA_ID": "136",
                                    "FEROHELY": "2",
                                    "FOGLALAS_PK": "1046"
                                },
                                {
                                    "SZOBA_ID": "134",
                                    "FEROHELY": "3",
                                    "FOGLALAS_PK": "1045"
                                },
                                {
                                    "SZOBA_ID": "13",
                                    "FEROHELY": "3",
                                    "FOGLALAS_PK": "1044"
                                },
                                {
                                    "SZOBA_ID": "193",
                                    "FEROHELY": "3",
                                    "FOGLALAS_PK": "1043"
                                },
                                {
                                    "SZOBA_ID": "139",
                                    "FEROHELY": "2",
                                    "FOGLALAS_PK": "1042"
                                },
                                {
                                    "SZOBA_ID": "110",
                                    "FEROHELY": "2",
                                    "FOGLALAS_PK": "1041"
                                },
                                {
                                    "SZOBA_ID": "130",
                                    "FEROHELY": "2",
                                    "FOGLALAS_PK": "1040"
                                },
                                {
                                    "SZOBA_ID": "191",
                                    "FEROHELY": "2",
                                    "FOGLALAS_PK": "1039"
                                },
                                {
                                    "SZOBA_ID": "3",
                                    "FEROHELY": "3",
                                    "FOGLALAS_PK": "1038"
                                },
                                {
                                    "SZOBA_ID": "89",
                                    "FEROHELY": "3",
                                    "FOGLALAS_PK": "1037"
                                },
                                {
                                    "SZOBA_ID": "122",
                                    "FEROHELY": "3",
                                    "FOGLALAS_PK": "1036"
                                },
                                {
                                    "SZOBA_ID": "18",
                                    "FEROHELY": "3",
                                    "FOGLALAS_PK": "1035"
                                },
                                {
                                    "SZOBA_ID": "127",
                                    "FEROHELY": "2",
                                    "FOGLALAS_PK": "1034"
                                },
                                {
                                    "SZOBA_ID": "38",
                                    "FEROHELY": "2",
                                    "FOGLALAS_PK": "1033"
                                },
                                {
                                    "SZOBA_ID": "146",
                                    "FEROHELY": "3",
                                    "FOGLALAS_PK": "1032"
                                },
                                {
                                    "SZOBA_ID": "27",
                                    "FEROHELY": "3",
                                    "FOGLALAS_PK": "1031"
                                },
                                {
                                    "SZOBA_ID": "188",
                                    "FEROHELY": "3",
                                    "FOGLALAS_PK": "1030"
                                },
                                {
                                    "SZOBA_ID": "113",
                                    "FEROHELY": "3",
                                    "FOGLALAS_PK": "1029"
                                },
                                {
                                    "SZOBA_ID": "15",
                                    "FEROHELY": "2",
                                    "FOGLALAS_PK": "1028"
                                },
                                {
                                    "SZOBA_ID": "68",
                                    "FEROHELY": "2",
                                    "FOGLALAS_PK": "1027"
                                },
                                {
                                    "SZOBA_ID": "119",
                                    "FEROHELY": "2",
                                    "FOGLALAS_PK": "1026"
                                },
                                {
                                    "SZOBA_ID": "157",
                                    "FEROHELY": "2",
                                    "FOGLALAS_PK": "1025"
                                },
                                {
                                    "SZOBA_ID": "134",
                                    "FEROHELY": "3",
                                    "FOGLALAS_PK": "1024"
                                },
                                {
                                    "SZOBA_ID": "30",
                                    "FEROHELY": "3",
                                    "FOGLALAS_PK": "1023"
                                },
                                {
                                    "SZOBA_ID": "181",
                                    "FEROHELY": "3",
                                    "FOGLALAS_PK": "1022"
                                },
                                {
                                    "SZOBA_ID": "179",
                                    "FEROHELY": "3",
                                    "FOGLALAS_PK": "1021"
                                },
                                {
                                    "SZOBA_ID": "12",
                                    "FEROHELY": "2",
                                    "FOGLALAS_PK": "1020"
                                },
                                {
                                    "SZOBA_ID": "43",
                                    "FEROHELY": "3",
                                    "FOGLALAS_PK": "1019"
                                },
                                {
                                    "SZOBA_ID": "40",
                                    "FEROHELY": "3",
                                    "FOGLALAS_PK": "1018"
                                },
                                {
                                    "SZOBA_ID": "190",
                                    "FEROHELY": "2",
                                    "FOGLALAS_PK": "1017"
                                },
                                {
                                    "SZOBA_ID": "92",
                                    "FEROHELY": "3",
                                    "FOGLALAS_PK": "1016"
                                },
                                {
                                    "SZOBA_ID": "174",
                                    "FEROHELY": "2",
                                    "FOGLALAS_PK": "1015"
                                },
                                {
                                    "SZOBA_ID": "137",
                                    "FEROHELY": "2",
                                    "FOGLALAS_PK": "1014"
                                },
                                {
                                    "SZOBA_ID": "75",
                                    "FEROHELY": "2",
                                    "FOGLALAS_PK": "1013"
                                },
                                {
                                    "SZOBA_ID": "33",
                                    "FEROHELY": "2",
                                    "FOGLALAS_PK": "1012"
                                },
                                {
                                    "SZOBA_ID": "198",
                                    "FEROHELY": "3",
                                    "FOGLALAS_PK": "1011"
                                },
                                {
                                    "SZOBA_ID": "164",
                                    "FEROHELY": "2",
                                    "FOGLALAS_PK": "1010"
                                },
                                {
                                    "SZOBA_ID": "71",
                                    "FEROHELY": "3",
                                    "FOGLALAS_PK": "1009"
                                },
                                {
                                    "SZOBA_ID": "182",
                                    "FEROHELY": "2",
                                    "FOGLALAS_PK": "1008"
                                },
                                {
                                    "SZOBA_ID": "122",
                                    "FEROHELY": "3",
                                    "FOGLALAS_PK": "1007"
                                },
                                {
                                    "SZOBA_ID": "70",
                                    "FEROHELY": "2",
                                    "FOGLALAS_PK": "1006"
                                },
                                {
                                    "SZOBA_ID": "22",
                                    "FEROHELY": "3",
                                    "FOGLALAS_PK": "1005"
                                },
                                {
                                    "SZOBA_ID": "134",
                                    "FEROHELY": "3",
                                    "FOGLALAS_PK": "1004"
                                },
                                {
                                    "SZOBA_ID": "36",
                                    "FEROHELY": "3",
                                    "FOGLALAS_PK": "1003"
                                },
                                {
                                    "SZOBA_ID": "117",
                                    "FEROHELY": "3",
                                    "FOGLALAS_PK": "1002"
                                },
                                {
                                    "SZOBA_ID": "4",
                                    "FEROHELY": "2",
                                    "FOGLALAS_PK": "1001"
                                },
                                {
                                    "SZOBA_ID": "73",
                                    "FEROHELY": "2",
                                    "FOGLALAS_PK": "1000"
                                },
                                {
                                    "SZOBA_ID": "132",
                                    "FEROHELY": "3",
                                    "FOGLALAS_PK": "999"
                                },
                                {
                                    "SZOBA_ID": "120",
                                    "FEROHELY": "3",
                                    "FOGLALAS_PK": "998"
                                },
                                {
                                    "SZOBA_ID": "82",
                                    "FEROHELY": "3",
                                    "FOGLALAS_PK": "997"
                                },
                                {
                                    "SZOBA_ID": "118",
                                    "FEROHELY": "2",
                                    "FOGLALAS_PK": "996"
                                },
                                {
                                    "SZOBA_ID": "83",
                                    "FEROHELY": "3",
                                    "FOGLALAS_PK": "995"
                                },
                                {
                                    "SZOBA_ID": "118",
                                    "FEROHELY": "2",
                                    "FOGLALAS_PK": "994"
                                },
                                {
                                    "SZOBA_ID": "197",
                                    "FEROHELY": "3",
                                    "FOGLALAS_PK": "993"
                                },
                                {
                                    "SZOBA_ID": "103",
                                    "FEROHELY": "2",
                                    "FOGLALAS_PK": "992"
                                },
                                {
                                    "SZOBA_ID": "178",
                                    "FEROHELY": "3",
                                    "FOGLALAS_PK": "991"
                                },
                                {
                                    "SZOBA_ID": "6",
                                    "FEROHELY": "3",
                                    "FOGLALAS_PK": "990"
                                },
                                {
                                    "SZOBA_ID": "190",
                                    "FEROHELY": "2",
                                    "FOGLALAS_PK": "989"
                                },
                                {
                                    "SZOBA_ID": "133",
                                    "FEROHELY": "3",
                                    "FOGLALAS_PK": "988"
                                },
                                {
                                    "SZOBA_ID": "53",
                                    "FEROHELY": "2",
                                    "FOGLALAS_PK": "987"
                                },
                                {
                                    "SZOBA_ID": "48",
                                    "FEROHELY": "3",
                                    "FOGLALAS_PK": "986"
                                },
                                {
                                    "SZOBA_ID": "36",
                                    "FEROHELY": "3",
                                    "FOGLALAS_PK": "985"
                                },
                                {
                                    "SZOBA_ID": "172",
                                    "FEROHELY": "2",
                                    "FOGLALAS_PK": "984"
                                },
                                {
                                    "SZOBA_ID": "80",
                                    "FEROHELY": "2",
                                    "FOGLALAS_PK": "983"
                                },
                                {
                                    "SZOBA_ID": "77",
                                    "FEROHELY": "3",
                                    "FOGLALAS_PK": "982"
                                },
                                {
                                    "SZOBA_ID": "171",
                                    "FEROHELY": "2",
                                    "FOGLALAS_PK": "981"
                                },
                                {
                                    "SZOBA_ID": "143",
                                    "FEROHELY": "3",
                                    "FOGLALAS_PK": "980"
                                },
                                {
                                    "SZOBA_ID": "35",
                                    "FEROHELY": "3",
                                    "FOGLALAS_PK": "979"
                                },
                                {
                                    "SZOBA_ID": "198",
                                    "FEROHELY": "3",
                                    "FOGLALAS_PK": "978"
                                },
                                {
                                    "SZOBA_ID": "193",
                                    "FEROHELY": "3",
                                    "FOGLALAS_PK": "977"
                                },
                                {
                                    "SZOBA_ID": "76",
                                    "FEROHELY": "2",
                                    "FOGLALAS_PK": "976"
                                },
                                {
                                    "SZOBA_ID": "94",
                                    "FEROHELY": "2",
                                    "FOGLALAS_PK": "975"
                                },
                                {
                                    "SZOBA_ID": "169",
                                    "FEROHELY": "2",
                                    "FOGLALAS_PK": "974"
                                },
                                {
                                    "SZOBA_ID": "16",
                                    "FEROHELY": "3",
                                    "FOGLALAS_PK": "973"
                                },
                                {
                                    "SZOBA_ID": "103",
                                    "FEROHELY": "2",
                                    "FOGLALAS_PK": "972"
                                },
                                {
                                    "SZOBA_ID": "35",
                                    "FEROHELY": "3",
                                    "FOGLALAS_PK": "971"
                                },
                                {
                                    "SZOBA_ID": "12",
                                    "FEROHELY": "2",
                                    "FOGLALAS_PK": "970"
                                },
                                {
                                    "SZOBA_ID": "153",
                                    "FEROHELY": "3",
                                    "FOGLALAS_PK": "969"
                                },
                                {
                                    "SZOBA_ID": "154",
                                    "FEROHELY": "2",
                                    "FOGLALAS_PK": "968"
                                },
                                {
                                    "SZOBA_ID": "123",
                                    "FEROHELY": "3",
                                    "FOGLALAS_PK": "967"
                                },
                                {
                                    "SZOBA_ID": "114",
                                    "FEROHELY": "2",
                                    "FOGLALAS_PK": "966"
                                },
                                {
                                    "SZOBA_ID": "5",
                                    "FEROHELY": "2",
                                    "FOGLALAS_PK": "965"
                                },
                                {
                                    "SZOBA_ID": "110",
                                    "FEROHELY": "2",
                                    "FOGLALAS_PK": "964"
                                },
                                {
                                    "SZOBA_ID": "74",
                                    "FEROHELY": "3",
                                    "FOGLALAS_PK": "963"
                                },
                                {
                                    "SZOBA_ID": "117",
                                    "FEROHELY": "3",
                                    "FOGLALAS_PK": "962"
                                },
                                {
                                    "SZOBA_ID": "72",
                                    "FEROHELY": "2",
                                    "FOGLALAS_PK": "961"
                                },
                                {
                                    "SZOBA_ID": "41",
                                    "FEROHELY": "3",
                                    "FOGLALAS_PK": "960"
                                },
                                {
                                    "SZOBA_ID": "111",
                                    "FEROHELY": "2",
                                    "FOGLALAS_PK": "959"
                                },
                                {
                                    "SZOBA_ID": "181",
                                    "FEROHELY": "3",
                                    "FOGLALAS_PK": "958"
                                },
                                {
                                    "SZOBA_ID": "187",
                                    "FEROHELY": "3",
                                    "FOGLALAS_PK": "957"
                                },
                                {
                                    "SZOBA_ID": "156",
                                    "FEROHELY": "2",
                                    "FOGLALAS_PK": "956"
                                },
                                {
                                    "SZOBA_ID": "47",
                                    "FEROHELY": "2",
                                    "FOGLALAS_PK": "955"
                                },
                                {
                                    "SZOBA_ID": "84",
                                    "FEROHELY": "3",
                                    "FOGLALAS_PK": "954"
                                },
                                {
                                    "SZOBA_ID": "117",
                                    "FEROHELY": "3",
                                    "FOGLALAS_PK": "953"
                                },
                                {
                                    "SZOBA_ID": "196",
                                    "FEROHELY": "2",
                                    "FOGLALAS_PK": "952"
                                },
                                {
                                    "SZOBA_ID": "12",
                                    "FEROHELY": "2",
                                    "FOGLALAS_PK": "951"
                                },
                                {
                                    "SZOBA_ID": "66",
                                    "FEROHELY": "3",
                                    "FOGLALAS_PK": "950"
                                },
                                {
                                    "SZOBA_ID": "1",
                                    "FEROHELY": "3",
                                    "FOGLALAS_PK": "949"
                                },
                                {
                                    "SZOBA_ID": "19",
                                    "FEROHELY": "2",
                                    "FOGLALAS_PK": "948"
                                },
                                {
                                    "SZOBA_ID": "8",
                                    "FEROHELY": "3",
                                    "FOGLALAS_PK": "947"
                                },
                                {
                                    "SZOBA_ID": "4",
                                    "FEROHELY": "2",
                                    "FOGLALAS_PK": "946"
                                },
                                {
                                    "SZOBA_ID": "23",
                                    "FEROHELY": "2",
                                    "FOGLALAS_PK": "945"
                                },
                                {
                                    "SZOBA_ID": "170",
                                    "FEROHELY": "2",
                                    "FOGLALAS_PK": "944"
                                },
                                {
                                    "SZOBA_ID": "115",
                                    "FEROHELY": "3",
                                    "FOGLALAS_PK": "943"
                                },
                                {
                                    "SZOBA_ID": "92",
                                    "FEROHELY": "3",
                                    "FOGLALAS_PK": "942"
                                },
                                {
                                    "SZOBA_ID": "163",
                                    "FEROHELY": "2",
                                    "FOGLALAS_PK": "941"
                                },
                                {
                                    "SZOBA_ID": "74",
                                    "FEROHELY": "3",
                                    "FOGLALAS_PK": "940"
                                },
                                {
                                    "SZOBA_ID": "183",
                                    "FEROHELY": "3",
                                    "FOGLALAS_PK": "939"
                                },
                                {
                                    "SZOBA_ID": "62",
                                    "FEROHELY": "2",
                                    "FOGLALAS_PK": "938"
                                },
                                {
                                    "SZOBA_ID": "181",
                                    "FEROHELY": "3",
                                    "FOGLALAS_PK": "937"
                                },
                                {
                                    "SZOBA_ID": "62",
                                    "FEROHELY": "2",
                                    "FOGLALAS_PK": "936"
                                },
                                {
                                    "SZOBA_ID": "56",
                                    "FEROHELY": "2",
                                    "FOGLALAS_PK": "935"
                                },
                                {
                                    "SZOBA_ID": "23",
                                    "FEROHELY": "2",
                                    "FOGLALAS_PK": "934"
                                },
                                {
                                    "SZOBA_ID": "160",
                                    "FEROHELY": "3",
                                    "FOGLALAS_PK": "933"
                                },
                                {
                                    "SZOBA_ID": "40",
                                    "FEROHELY": "3",
                                    "FOGLALAS_PK": "932"
                                },
                                {
                                    "SZOBA_ID": "110",
                                    "FEROHELY": "2",
                                    "FOGLALAS_PK": "931"
                                },
                                {
                                    "SZOBA_ID": "168",
                                    "FEROHELY": "2",
                                    "FOGLALAS_PK": "930"
                                },
                                {
                                    "SZOBA_ID": "80",
                                    "FEROHELY": "2",
                                    "FOGLALAS_PK": "929"
                                },
                                {
                                    "SZOBA_ID": "182",
                                    "FEROHELY": "2",
                                    "FOGLALAS_PK": "928"
                                },
                                {
                                    "SZOBA_ID": "160",
                                    "FEROHELY": "3",
                                    "FOGLALAS_PK": "927"
                                },
                                {
                                    "SZOBA_ID": "193",
                                    "FEROHELY": "3",
                                    "FOGLALAS_PK": "926"
                                },
                                {
                                    "SZOBA_ID": "185",
                                    "FEROHELY": "3",
                                    "FOGLALAS_PK": "925"
                                },
                                {
                                    "SZOBA_ID": "40",
                                    "FEROHELY": "3",
                                    "FOGLALAS_PK": "924"
                                },
                                {
                                    "SZOBA_ID": "123",
                                    "FEROHELY": "3",
                                    "FOGLALAS_PK": "923"
                                },
                                {
                                    "SZOBA_ID": "160",
                                    "FEROHELY": "3",
                                    "FOGLALAS_PK": "922"
                                },
                                {
                                    "SZOBA_ID": "112",
                                    "FEROHELY": "3",
                                    "FOGLALAS_PK": "921"
                                },
                                {
                                    "SZOBA_ID": "32",
                                    "FEROHELY": "2",
                                    "FOGLALAS_PK": "920"
                                },
                                {
                                    "SZOBA_ID": "36",
                                    "FEROHELY": "3",
                                    "FOGLALAS_PK": "919"
                                },
                                {
                                    "SZOBA_ID": "11",
                                    "FEROHELY": "2",
                                    "FOGLALAS_PK": "918"
                                },
                                {
                                    "SZOBA_ID": "174",
                                    "FEROHELY": "2",
                                    "FOGLALAS_PK": "917"
                                },
                                {
                                    "SZOBA_ID": "17",
                                    "FEROHELY": "3",
                                    "FOGLALAS_PK": "916"
                                },
                                {
                                    "SZOBA_ID": "140",
                                    "FEROHELY": "2",
                                    "FOGLALAS_PK": "915"
                                },
                                {
                                    "SZOBA_ID": "48",
                                    "FEROHELY": "3",
                                    "FOGLALAS_PK": "914"
                                },
                                {
                                    "SZOBA_ID": "173",
                                    "FEROHELY": "2",
                                    "FOGLALAS_PK": "913"
                                },
                                {
                                    "SZOBA_ID": "188",
                                    "FEROHELY": "3",
                                    "FOGLALAS_PK": "912"
                                },
                                {
                                    "SZOBA_ID": "161",
                                    "FEROHELY": "2",
                                    "FOGLALAS_PK": "911"
                                },
                                {
                                    "SZOBA_ID": "130",
                                    "FEROHELY": "2",
                                    "FOGLALAS_PK": "910"
                                },
                                {
                                    "SZOBA_ID": "133",
                                    "FEROHELY": "3",
                                    "FOGLALAS_PK": "909"
                                },
                                {
                                    "SZOBA_ID": "141",
                                    "FEROHELY": "2",
                                    "FOGLALAS_PK": "908"
                                },
                                {
                                    "SZOBA_ID": "156",
                                    "FEROHELY": "2",
                                    "FOGLALAS_PK": "907"
                                },
                                {
                                    "SZOBA_ID": "22",
                                    "FEROHELY": "3",
                                    "FOGLALAS_PK": "906"
                                },
                                {
                                    "SZOBA_ID": "180",
                                    "FEROHELY": "2",
                                    "FOGLALAS_PK": "905"
                                },
                                {
                                    "SZOBA_ID": "34",
                                    "FEROHELY": "3",
                                    "FOGLALAS_PK": "904"
                                },
                                {
                                    "SZOBA_ID": "192",
                                    "FEROHELY": "2",
                                    "FOGLALAS_PK": "903"
                                },
                                {
                                    "SZOBA_ID": "72",
                                    "FEROHELY": "2",
                                    "FOGLALAS_PK": "902"
                                },
                                {
                                    "SZOBA_ID": "28",
                                    "FEROHELY": "2",
                                    "FOGLALAS_PK": "901"
                                },
                                {
                                    "SZOBA_ID": "165",
                                    "FEROHELY": "2",
                                    "FOGLALAS_PK": "900"
                                },
                                {
                                    "SZOBA_ID": "39",
                                    "FEROHELY": "2",
                                    "FOGLALAS_PK": "899"
                                },
                                {
                                    "SZOBA_ID": "185",
                                    "FEROHELY": "3",
                                    "FOGLALAS_PK": "898"
                                },
                                {
                                    "SZOBA_ID": "165",
                                    "FEROHELY": "2",
                                    "FOGLALAS_PK": "897"
                                },
                                {
                                    "SZOBA_ID": "16",
                                    "FEROHELY": "3",
                                    "FOGLALAS_PK": "896"
                                },
                                {
                                    "SZOBA_ID": "36",
                                    "FEROHELY": "3",
                                    "FOGLALAS_PK": "895"
                                },
                                {
                                    "SZOBA_ID": "29",
                                    "FEROHELY": "2",
                                    "FOGLALAS_PK": "894"
                                },
                                {
                                    "SZOBA_ID": "151",
                                    "FEROHELY": "2",
                                    "FOGLALAS_PK": "893"
                                },
                                {
                                    "SZOBA_ID": "165",
                                    "FEROHELY": "2",
                                    "FOGLALAS_PK": "892"
                                },
                                {
                                    "SZOBA_ID": "63",
                                    "FEROHELY": "2",
                                    "FOGLALAS_PK": "891"
                                },
                                {
                                    "SZOBA_ID": "146",
                                    "FEROHELY": "3",
                                    "FOGLALAS_PK": "890"
                                },
                                {
                                    "SZOBA_ID": "54",
                                    "FEROHELY": "3",
                                    "FOGLALAS_PK": "889"
                                },
                                {
                                    "SZOBA_ID": "49",
                                    "FEROHELY": "3",
                                    "FOGLALAS_PK": "888"
                                },
                                {
                                    "SZOBA_ID": "80",
                                    "FEROHELY": "2",
                                    "FOGLALAS_PK": "887"
                                },
                                {
                                    "SZOBA_ID": "28",
                                    "FEROHELY": "2",
                                    "FOGLALAS_PK": "886"
                                },
                                {
                                    "SZOBA_ID": "69",
                                    "FEROHELY": "3",
                                    "FOGLALAS_PK": "885"
                                },
                                {
                                    "SZOBA_ID": "98",
                                    "FEROHELY": "2",
                                    "FOGLALAS_PK": "884"
                                },
                                {
                                    "SZOBA_ID": "58",
                                    "FEROHELY": "2",
                                    "FOGLALAS_PK": "883"
                                },
                                {
                                    "SZOBA_ID": "8",
                                    "FEROHELY": "3",
                                    "FOGLALAS_PK": "882"
                                },
                                {
                                    "SZOBA_ID": "131",
                                    "FEROHELY": "2",
                                    "FOGLALAS_PK": "881"
                                },
                                {
                                    "SZOBA_ID": "184",
                                    "FEROHELY": "2",
                                    "FOGLALAS_PK": "880"
                                },
                                {
                                    "SZOBA_ID": "127",
                                    "FEROHELY": "2",
                                    "FOGLALAS_PK": "879"
                                },
                                {
                                    "SZOBA_ID": "83",
                                    "FEROHELY": "3",
                                    "FOGLALAS_PK": "878"
                                },
                                {
                                    "SZOBA_ID": "74",
                                    "FEROHELY": "3",
                                    "FOGLALAS_PK": "877"
                                },
                                {
                                    "SZOBA_ID": "12",
                                    "FEROHELY": "2",
                                    "FOGLALAS_PK": "876"
                                },
                                {
                                    "SZOBA_ID": "64",
                                    "FEROHELY": "2",
                                    "FOGLALAS_PK": "875"
                                },
                                {
                                    "SZOBA_ID": "67",
                                    "FEROHELY": "2",
                                    "FOGLALAS_PK": "874"
                                },
                                {
                                    "SZOBA_ID": "6",
                                    "FEROHELY": "3",
                                    "FOGLALAS_PK": "873"
                                },
                                {
                                    "SZOBA_ID": "28",
                                    "FEROHELY": "2",
                                    "FOGLALAS_PK": "872"
                                },
                                {
                                    "SZOBA_ID": "82",
                                    "FEROHELY": "3",
                                    "FOGLALAS_PK": "871"
                                },
                                {
                                    "SZOBA_ID": "34",
                                    "FEROHELY": "3",
                                    "FOGLALAS_PK": "870"
                                },
                                {
                                    "SZOBA_ID": "83",
                                    "FEROHELY": "3",
                                    "FOGLALAS_PK": "869"
                                },
                                {
                                    "SZOBA_ID": "187",
                                    "FEROHELY": "3",
                                    "FOGLALAS_PK": "868"
                                },
                                {
                                    "SZOBA_ID": "175",
                                    "FEROHELY": "2",
                                    "FOGLALAS_PK": "867"
                                },
                                {
                                    "SZOBA_ID": "88",
                                    "FEROHELY": "3",
                                    "FOGLALAS_PK": "866"
                                },
                                {
                                    "SZOBA_ID": "51",
                                    "FEROHELY": "3",
                                    "FOGLALAS_PK": "865"
                                },
                                {
                                    "SZOBA_ID": "118",
                                    "FEROHELY": "2",
                                    "FOGLALAS_PK": "864"
                                },
                                {
                                    "SZOBA_ID": "185",
                                    "FEROHELY": "3",
                                    "FOGLALAS_PK": "863"
                                },
                                {
                                    "SZOBA_ID": "82",
                                    "FEROHELY": "3",
                                    "FOGLALAS_PK": "862"
                                },
                                {
                                    "SZOBA_ID": "124",
                                    "FEROHELY": "3",
                                    "FOGLALAS_PK": "861"
                                },
                                {
                                    "SZOBA_ID": "70",
                                    "FEROHELY": "2",
                                    "FOGLALAS_PK": "860"
                                },
                                {
                                    "SZOBA_ID": "86",
                                    "FEROHELY": "2",
                                    "FOGLALAS_PK": "859"
                                },
                                {
                                    "SZOBA_ID": "121",
                                    "FEROHELY": "2",
                                    "FOGLALAS_PK": "858"
                                },
                                {
                                    "SZOBA_ID": "165",
                                    "FEROHELY": "2",
                                    "FOGLALAS_PK": "857"
                                },
                                {
                                    "SZOBA_ID": "16",
                                    "FEROHELY": "3",
                                    "FOGLALAS_PK": "856"
                                },
                                {
                                    "SZOBA_ID": "53",
                                    "FEROHELY": "2",
                                    "FOGLALAS_PK": "855"
                                },
                                {
                                    "SZOBA_ID": "167",
                                    "FEROHELY": "3",
                                    "FOGLALAS_PK": "854"
                                },
                                {
                                    "SZOBA_ID": "127",
                                    "FEROHELY": "2",
                                    "FOGLALAS_PK": "853"
                                },
                                {
                                    "SZOBA_ID": "24",
                                    "FEROHELY": "4",
                                    "FOGLALAS_PK": "852"
                                },
                                {
                                    "SZOBA_ID": "42",
                                    "FEROHELY": "2",
                                    "FOGLALAS_PK": "851"
                                },
                                {
                                    "SZOBA_ID": "6",
                                    "FEROHELY": "3",
                                    "FOGLALAS_PK": "850"
                                },
                                {
                                    "SZOBA_ID": "135",
                                    "FEROHELY": "3",
                                    "FOGLALAS_PK": "849"
                                },
                                {
                                    "SZOBA_ID": "23",
                                    "FEROHELY": "2",
                                    "FOGLALAS_PK": "848"
                                },
                                {
                                    "SZOBA_ID": "74",
                                    "FEROHELY": "3",
                                    "FOGLALAS_PK": "847"
                                },
                                {
                                    "SZOBA_ID": "45",
                                    "FEROHELY": "2",
                                    "FOGLALAS_PK": "846"
                                },
                                {
                                    "SZOBA_ID": "63",
                                    "FEROHELY": "2",
                                    "FOGLALAS_PK": "845"
                                },
                                {
                                    "SZOBA_ID": "87",
                                    "FEROHELY": "3",
                                    "FOGLALAS_PK": "844"
                                },
                                {
                                    "SZOBA_ID": "149",
                                    "FEROHELY": "2",
                                    "FOGLALAS_PK": "843"
                                },
                                {
                                    "SZOBA_ID": "195",
                                    "FEROHELY": "2",
                                    "FOGLALAS_PK": "842"
                                },
                                {
                                    "SZOBA_ID": "92",
                                    "FEROHELY": "3",
                                    "FOGLALAS_PK": "841"
                                },
                                {
                                    "SZOBA_ID": "158",
                                    "FEROHELY": "2",
                                    "FOGLALAS_PK": "840"
                                },
                                {
                                    "SZOBA_ID": "172",
                                    "FEROHELY": "2",
                                    "FOGLALAS_PK": "839"
                                },
                                {
                                    "SZOBA_ID": "56",
                                    "FEROHELY": "2",
                                    "FOGLALAS_PK": "838"
                                },
                                {
                                    "SZOBA_ID": "104",
                                    "FEROHELY": "3",
                                    "FOGLALAS_PK": "837"
                                },
                                {
                                    "SZOBA_ID": "97",
                                    "FEROHELY": "3",
                                    "FOGLALAS_PK": "836"
                                },
                                {
                                    "SZOBA_ID": "193",
                                    "FEROHELY": "3",
                                    "FOGLALAS_PK": "835"
                                },
                                {
                                    "SZOBA_ID": "149",
                                    "FEROHELY": "2",
                                    "FOGLALAS_PK": "834"
                                },
                                {
                                    "SZOBA_ID": "149",
                                    "FEROHELY": "2",
                                    "FOGLALAS_PK": "833"
                                },
                                {
                                    "SZOBA_ID": "8",
                                    "FEROHELY": "3",
                                    "FOGLALAS_PK": "832"
                                },
                                {
                                    "SZOBA_ID": "177",
                                    "FEROHELY": "3",
                                    "FOGLALAS_PK": "831"
                                },
                                {
                                    "SZOBA_ID": "74",
                                    "FEROHELY": "3",
                                    "FOGLALAS_PK": "830"
                                },
                                {
                                    "SZOBA_ID": "35",
                                    "FEROHELY": "3",
                                    "FOGLALAS_PK": "829"
                                },
                                {
                                    "SZOBA_ID": "2",
                                    "FEROHELY": "3",
                                    "FOGLALAS_PK": "828"
                                },
                                {
                                    "SZOBA_ID": "114",
                                    "FEROHELY": "2",
                                    "FOGLALAS_PK": "827"
                                },
                                {
                                    "SZOBA_ID": "49",
                                    "FEROHELY": "3",
                                    "FOGLALAS_PK": "826"
                                },
                                {
                                    "SZOBA_ID": "158",
                                    "FEROHELY": "2",
                                    "FOGLALAS_PK": "825"
                                },
                                {
                                    "SZOBA_ID": "48",
                                    "FEROHELY": "3",
                                    "FOGLALAS_PK": "824"
                                },
                                {
                                    "SZOBA_ID": "44",
                                    "FEROHELY": "3",
                                    "FOGLALAS_PK": "823"
                                },
                                {
                                    "SZOBA_ID": "52",
                                    "FEROHELY": "2",
                                    "FOGLALAS_PK": "822"
                                },
                                {
                                    "SZOBA_ID": "34",
                                    "FEROHELY": "3",
                                    "FOGLALAS_PK": "821"
                                },
                                {
                                    "SZOBA_ID": "20",
                                    "FEROHELY": "3",
                                    "FOGLALAS_PK": "820"
                                },
                                {
                                    "SZOBA_ID": "84",
                                    "FEROHELY": "3",
                                    "FOGLALAS_PK": "819"
                                },
                                {
                                    "SZOBA_ID": "8",
                                    "FEROHELY": "3",
                                    "FOGLALAS_PK": "818"
                                },
                                {
                                    "SZOBA_ID": "89",
                                    "FEROHELY": "3",
                                    "FOGLALAS_PK": "817"
                                },
                                {
                                    "SZOBA_ID": "178",
                                    "FEROHELY": "3",
                                    "FOGLALAS_PK": "816"
                                },
                                {
                                    "SZOBA_ID": "128",
                                    "FEROHELY": "2",
                                    "FOGLALAS_PK": "815"
                                },
                                {
                                    "SZOBA_ID": "70",
                                    "FEROHELY": "2",
                                    "FOGLALAS_PK": "814"
                                },
                                {
                                    "SZOBA_ID": "14",
                                    "FEROHELY": "3",
                                    "FOGLALAS_PK": "813"
                                },
                                {
                                    "SZOBA_ID": "148",
                                    "FEROHELY": "2",
                                    "FOGLALAS_PK": "812"
                                },
                                {
                                    "SZOBA_ID": "51",
                                    "FEROHELY": "3",
                                    "FOGLALAS_PK": "811"
                                },
                                {
                                    "SZOBA_ID": "109",
                                    "FEROHELY": "2",
                                    "FOGLALAS_PK": "810"
                                },
                                {
                                    "SZOBA_ID": "92",
                                    "FEROHELY": "3",
                                    "FOGLALAS_PK": "809"
                                },
                                {
                                    "SZOBA_ID": "148",
                                    "FEROHELY": "2",
                                    "FOGLALAS_PK": "808"
                                },
                                {
                                    "SZOBA_ID": "27",
                                    "FEROHELY": "3",
                                    "FOGLALAS_PK": "807"
                                },
                                {
                                    "SZOBA_ID": "126",
                                    "FEROHELY": "2",
                                    "FOGLALAS_PK": "806"
                                },
                                {
                                    "SZOBA_ID": "21",
                                    "FEROHELY": "2",
                                    "FOGLALAS_PK": "805"
                                },
                                {
                                    "SZOBA_ID": "146",
                                    "FEROHELY": "3",
                                    "FOGLALAS_PK": "804"
                                },
                                {
                                    "SZOBA_ID": "1",
                                    "FEROHELY": "3",
                                    "FOGLALAS_PK": "803"
                                },
                                {
                                    "SZOBA_ID": "45",
                                    "FEROHELY": "2",
                                    "FOGLALAS_PK": "802"
                                },
                                {
                                    "SZOBA_ID": "112",
                                    "FEROHELY": "3",
                                    "FOGLALAS_PK": "801"
                                },
                                {
                                    "SZOBA_ID": "45",
                                    "FEROHELY": "2",
                                    "FOGLALAS_PK": "800"
                                },
                                {
                                    "SZOBA_ID": "175",
                                    "FEROHELY": "2",
                                    "FOGLALAS_PK": "799"
                                },
                                {
                                    "SZOBA_ID": "83",
                                    "FEROHELY": "3",
                                    "FOGLALAS_PK": "798"
                                },
                                {
                                    "SZOBA_ID": "74",
                                    "FEROHELY": "3",
                                    "FOGLALAS_PK": "797"
                                },
                                {
                                    "SZOBA_ID": "138",
                                    "FEROHELY": "3",
                                    "FOGLALAS_PK": "796"
                                },
                                {
                                    "SZOBA_ID": "10",
                                    "FEROHELY": "3",
                                    "FOGLALAS_PK": "795"
                                },
                                {
                                    "SZOBA_ID": "168",
                                    "FEROHELY": "2",
                                    "FOGLALAS_PK": "794"
                                },
                                {
                                    "SZOBA_ID": "49",
                                    "FEROHELY": "3",
                                    "FOGLALAS_PK": "793"
                                },
                                {
                                    "SZOBA_ID": "168",
                                    "FEROHELY": "2",
                                    "FOGLALAS_PK": "792"
                                },
                                {
                                    "SZOBA_ID": "15",
                                    "FEROHELY": "2",
                                    "FOGLALAS_PK": "791"
                                },
                                {
                                    "SZOBA_ID": "10",
                                    "FEROHELY": "3",
                                    "FOGLALAS_PK": "790"
                                },
                                {
                                    "SZOBA_ID": "146",
                                    "FEROHELY": "3",
                                    "FOGLALAS_PK": "789"
                                },
                                {
                                    "SZOBA_ID": "3",
                                    "FEROHELY": "3",
                                    "FOGLALAS_PK": "788"
                                },
                                {
                                    "SZOBA_ID": "50",
                                    "FEROHELY": "2",
                                    "FOGLALAS_PK": "787"
                                },
                                {
                                    "SZOBA_ID": "111",
                                    "FEROHELY": "2",
                                    "FOGLALAS_PK": "786"
                                },
                                {
                                    "SZOBA_ID": "177",
                                    "FEROHELY": "3",
                                    "FOGLALAS_PK": "785"
                                },
                                {
                                    "SZOBA_ID": "141",
                                    "FEROHELY": "2",
                                    "FOGLALAS_PK": "784"
                                },
                                {
                                    "SZOBA_ID": "148",
                                    "FEROHELY": "2",
                                    "FOGLALAS_PK": "783"
                                },
                                {
                                    "SZOBA_ID": "163",
                                    "FEROHELY": "2",
                                    "FOGLALAS_PK": "782"
                                },
                                {
                                    "SZOBA_ID": "166",
                                    "FEROHELY": "2",
                                    "FOGLALAS_PK": "781"
                                },
                                {
                                    "SZOBA_ID": "96",
                                    "FEROHELY": "3",
                                    "FOGLALAS_PK": "780"
                                },
                                {
                                    "SZOBA_ID": "130",
                                    "FEROHELY": "2",
                                    "FOGLALAS_PK": "779"
                                },
                                {
                                    "SZOBA_ID": "19",
                                    "FEROHELY": "2",
                                    "FOGLALAS_PK": "778"
                                },
                                {
                                    "SZOBA_ID": "34",
                                    "FEROHELY": "3",
                                    "FOGLALAS_PK": "777"
                                },
                                {
                                    "SZOBA_ID": "112",
                                    "FEROHELY": "3",
                                    "FOGLALAS_PK": "776"
                                },
                                {
                                    "SZOBA_ID": "12",
                                    "FEROHELY": "2",
                                    "FOGLALAS_PK": "775"
                                },
                                {
                                    "SZOBA_ID": "190",
                                    "FEROHELY": "2",
                                    "FOGLALAS_PK": "774"
                                },
                                {
                                    "SZOBA_ID": "58",
                                    "FEROHELY": "2",
                                    "FOGLALAS_PK": "773"
                                },
                                {
                                    "SZOBA_ID": "6",
                                    "FEROHELY": "3",
                                    "FOGLALAS_PK": "772"
                                },
                                {
                                    "SZOBA_ID": "147",
                                    "FEROHELY": "2",
                                    "FOGLALAS_PK": "771"
                                },
                                {
                                    "SZOBA_ID": "42",
                                    "FEROHELY": "2",
                                    "FOGLALAS_PK": "770"
                                },
                                {
                                    "SZOBA_ID": "63",
                                    "FEROHELY": "2",
                                    "FOGLALAS_PK": "769"
                                },
                                {
                                    "SZOBA_ID": "138",
                                    "FEROHELY": "3",
                                    "FOGLALAS_PK": "768"
                                },
                                {
                                    "SZOBA_ID": "18",
                                    "FEROHELY": "3",
                                    "FOGLALAS_PK": "767"
                                },
                                {
                                    "SZOBA_ID": "187",
                                    "FEROHELY": "3",
                                    "FOGLALAS_PK": "766"
                                },
                                {
                                    "SZOBA_ID": "148",
                                    "FEROHELY": "2",
                                    "FOGLALAS_PK": "765"
                                },
                                {
                                    "SZOBA_ID": "197",
                                    "FEROHELY": "3",
                                    "FOGLALAS_PK": "764"
                                },
                                {
                                    "SZOBA_ID": "13",
                                    "FEROHELY": "3",
                                    "FOGLALAS_PK": "763"
                                },
                                {
                                    "SZOBA_ID": "120",
                                    "FEROHELY": "3",
                                    "FOGLALAS_PK": "762"
                                },
                                {
                                    "SZOBA_ID": "141",
                                    "FEROHELY": "2",
                                    "FOGLALAS_PK": "761"
                                },
                                {
                                    "SZOBA_ID": "131",
                                    "FEROHELY": "2",
                                    "FOGLALAS_PK": "760"
                                },
                                {
                                    "SZOBA_ID": "7",
                                    "FEROHELY": "2",
                                    "FOGLALAS_PK": "759"
                                },
                                {
                                    "SZOBA_ID": "27",
                                    "FEROHELY": "3",
                                    "FOGLALAS_PK": "758"
                                },
                                {
                                    "SZOBA_ID": "88",
                                    "FEROHELY": "3",
                                    "FOGLALAS_PK": "757"
                                },
                                {
                                    "SZOBA_ID": "61",
                                    "FEROHELY": "3",
                                    "FOGLALAS_PK": "756"
                                },
                                {
                                    "SZOBA_ID": "20",
                                    "FEROHELY": "3",
                                    "FOGLALAS_PK": "755"
                                },
                                {
                                    "SZOBA_ID": "126",
                                    "FEROHELY": "2",
                                    "FOGLALAS_PK": "754"
                                },
                                {
                                    "SZOBA_ID": "189",
                                    "FEROHELY": "2",
                                    "FOGLALAS_PK": "753"
                                },
                                {
                                    "SZOBA_ID": "46",
                                    "FEROHELY": "3",
                                    "FOGLALAS_PK": "752"
                                },
                                {
                                    "SZOBA_ID": "139",
                                    "FEROHELY": "2",
                                    "FOGLALAS_PK": "751"
                                },
                                {
                                    "SZOBA_ID": "36",
                                    "FEROHELY": "3",
                                    "FOGLALAS_PK": "750"
                                },
                                {
                                    "SZOBA_ID": "172",
                                    "FEROHELY": "2",
                                    "FOGLALAS_PK": "749"
                                },
                                {
                                    "SZOBA_ID": "36",
                                    "FEROHELY": "3",
                                    "FOGLALAS_PK": "748"
                                },
                                {
                                    "SZOBA_ID": "188",
                                    "FEROHELY": "3",
                                    "FOGLALAS_PK": "747"
                                },
                                {
                                    "SZOBA_ID": "169",
                                    "FEROHELY": "2",
                                    "FOGLALAS_PK": "746"
                                },
                                {
                                    "SZOBA_ID": "139",
                                    "FEROHELY": "2",
                                    "FOGLALAS_PK": "745"
                                },
                                {
                                    "SZOBA_ID": "17",
                                    "FEROHELY": "3",
                                    "FOGLALAS_PK": "744"
                                },
                                {
                                    "SZOBA_ID": "187",
                                    "FEROHELY": "3",
                                    "FOGLALAS_PK": "743"
                                },
                                {
                                    "SZOBA_ID": "164",
                                    "FEROHELY": "2",
                                    "FOGLALAS_PK": "742"
                                },
                                {
                                    "SZOBA_ID": "93",
                                    "FEROHELY": "3",
                                    "FOGLALAS_PK": "741"
                                },
                                {
                                    "SZOBA_ID": "182",
                                    "FEROHELY": "2",
                                    "FOGLALAS_PK": "740"
                                },
                                {
                                    "SZOBA_ID": "121",
                                    "FEROHELY": "2",
                                    "FOGLALAS_PK": "739"
                                },
                                {
                                    "SZOBA_ID": "1",
                                    "FEROHELY": "3",
                                    "FOGLALAS_PK": "738"
                                },
                                {
                                    "SZOBA_ID": "114",
                                    "FEROHELY": "2",
                                    "FOGLALAS_PK": "737"
                                },
                                {
                                    "SZOBA_ID": "66",
                                    "FEROHELY": "3",
                                    "FOGLALAS_PK": "736"
                                },
                                {
                                    "SZOBA_ID": "121",
                                    "FEROHELY": "2",
                                    "FOGLALAS_PK": "735"
                                },
                                {
                                    "SZOBA_ID": "55",
                                    "FEROHELY": "2",
                                    "FOGLALAS_PK": "734"
                                },
                                {
                                    "SZOBA_ID": "140",
                                    "FEROHELY": "2",
                                    "FOGLALAS_PK": "733"
                                },
                                {
                                    "SZOBA_ID": "91",
                                    "FEROHELY": "2",
                                    "FOGLALAS_PK": "732"
                                },
                                {
                                    "SZOBA_ID": "181",
                                    "FEROHELY": "3",
                                    "FOGLALAS_PK": "731"
                                },
                                {
                                    "SZOBA_ID": "152",
                                    "FEROHELY": "2",
                                    "FOGLALAS_PK": "730"
                                },
                                {
                                    "SZOBA_ID": "90",
                                    "FEROHELY": "3",
                                    "FOGLALAS_PK": "729"
                                },
                                {
                                    "SZOBA_ID": "31",
                                    "FEROHELY": "3",
                                    "FOGLALAS_PK": "728"
                                },
                                {
                                    "SZOBA_ID": "94",
                                    "FEROHELY": "2",
                                    "FOGLALAS_PK": "727"
                                },
                                {
                                    "SZOBA_ID": "97",
                                    "FEROHELY": "3",
                                    "FOGLALAS_PK": "726"
                                },
                                {
                                    "SZOBA_ID": "28",
                                    "FEROHELY": "2",
                                    "FOGLALAS_PK": "725"
                                },
                                {
                                    "SZOBA_ID": "135",
                                    "FEROHELY": "3",
                                    "FOGLALAS_PK": "724"
                                },
                                {
                                    "SZOBA_ID": "129",
                                    "FEROHELY": "2",
                                    "FOGLALAS_PK": "723"
                                },
                                {
                                    "SZOBA_ID": "119",
                                    "FEROHELY": "2",
                                    "FOGLALAS_PK": "722"
                                },
                                {
                                    "SZOBA_ID": "195",
                                    "FEROHELY": "2",
                                    "FOGLALAS_PK": "721"
                                },
                                {
                                    "SZOBA_ID": "160",
                                    "FEROHELY": "3",
                                    "FOGLALAS_PK": "720"
                                },
                                {
                                    "SZOBA_ID": "58",
                                    "FEROHELY": "2",
                                    "FOGLALAS_PK": "719"
                                },
                                {
                                    "SZOBA_ID": "97",
                                    "FEROHELY": "3",
                                    "FOGLALAS_PK": "718"
                                },
                                {
                                    "SZOBA_ID": "128",
                                    "FEROHELY": "2",
                                    "FOGLALAS_PK": "717"
                                },
                                {
                                    "SZOBA_ID": "118",
                                    "FEROHELY": "2",
                                    "FOGLALAS_PK": "716"
                                },
                                {
                                    "SZOBA_ID": "101",
                                    "FEROHELY": "2",
                                    "FOGLALAS_PK": "715"
                                },
                                {
                                    "SZOBA_ID": "73",
                                    "FEROHELY": "2",
                                    "FOGLALAS_PK": "714"
                                },
                                {
                                    "SZOBA_ID": "17",
                                    "FEROHELY": "3",
                                    "FOGLALAS_PK": "713"
                                },
                                {
                                    "SZOBA_ID": "71",
                                    "FEROHELY": "3",
                                    "FOGLALAS_PK": "712"
                                },
                                {
                                    "SZOBA_ID": "185",
                                    "FEROHELY": "3",
                                    "FOGLALAS_PK": "711"
                                },
                                {
                                    "SZOBA_ID": "188",
                                    "FEROHELY": "3",
                                    "FOGLALAS_PK": "710"
                                },
                                {
                                    "SZOBA_ID": "172",
                                    "FEROHELY": "2",
                                    "FOGLALAS_PK": "709"
                                },
                                {
                                    "SZOBA_ID": "106",
                                    "FEROHELY": "2",
                                    "FOGLALAS_PK": "708"
                                },
                                {
                                    "SZOBA_ID": "35",
                                    "FEROHELY": "3",
                                    "FOGLALAS_PK": "707"
                                },
                                {
                                    "SZOBA_ID": "119",
                                    "FEROHELY": "2",
                                    "FOGLALAS_PK": "706"
                                },
                                {
                                    "SZOBA_ID": "37",
                                    "FEROHELY": "2",
                                    "FOGLALAS_PK": "705"
                                },
                                {
                                    "SZOBA_ID": "70",
                                    "FEROHELY": "2",
                                    "FOGLALAS_PK": "704"
                                },
                                {
                                    "SZOBA_ID": "145",
                                    "FEROHELY": "2",
                                    "FOGLALAS_PK": "703"
                                },
                                {
                                    "SZOBA_ID": "62",
                                    "FEROHELY": "2",
                                    "FOGLALAS_PK": "702"
                                },
                                {
                                    "SZOBA_ID": "61",
                                    "FEROHELY": "3",
                                    "FOGLALAS_PK": "701"
                                },
                                {
                                    "SZOBA_ID": "78",
                                    "FEROHELY": "2",
                                    "FOGLALAS_PK": "700"
                                },
                                {
                                    "SZOBA_ID": "189",
                                    "FEROHELY": "2",
                                    "FOGLALAS_PK": "699"
                                },
                                {
                                    "SZOBA_ID": "77",
                                    "FEROHELY": "3",
                                    "FOGLALAS_PK": "698"
                                },
                                {
                                    "SZOBA_ID": "12",
                                    "FEROHELY": "2",
                                    "FOGLALAS_PK": "697"
                                },
                                {
                                    "SZOBA_ID": "19",
                                    "FEROHELY": "2",
                                    "FOGLALAS_PK": "696"
                                },
                                {
                                    "SZOBA_ID": "187",
                                    "FEROHELY": "3",
                                    "FOGLALAS_PK": "695"
                                },
                                {
                                    "SZOBA_ID": "8",
                                    "FEROHELY": "3",
                                    "FOGLALAS_PK": "694"
                                },
                                {
                                    "SZOBA_ID": "185",
                                    "FEROHELY": "3",
                                    "FOGLALAS_PK": "693"
                                },
                                {
                                    "SZOBA_ID": "156",
                                    "FEROHELY": "2",
                                    "FOGLALAS_PK": "692"
                                },
                                {
                                    "SZOBA_ID": "99",
                                    "FEROHELY": "2",
                                    "FOGLALAS_PK": "691"
                                },
                                {
                                    "SZOBA_ID": "188",
                                    "FEROHELY": "3",
                                    "FOGLALAS_PK": "690"
                                },
                                {
                                    "SZOBA_ID": "102",
                                    "FEROHELY": "2",
                                    "FOGLALAS_PK": "689"
                                },
                                {
                                    "SZOBA_ID": "37",
                                    "FEROHELY": "2",
                                    "FOGLALAS_PK": "688"
                                },
                                {
                                    "SZOBA_ID": "16",
                                    "FEROHELY": "3",
                                    "FOGLALAS_PK": "687"
                                },
                                {
                                    "SZOBA_ID": "35",
                                    "FEROHELY": "3",
                                    "FOGLALAS_PK": "686"
                                },
                                {
                                    "SZOBA_ID": "110",
                                    "FEROHELY": "2",
                                    "FOGLALAS_PK": "685"
                                },
                                {
                                    "SZOBA_ID": "184",
                                    "FEROHELY": "2",
                                    "FOGLALAS_PK": "684"
                                },
                                {
                                    "SZOBA_ID": "76",
                                    "FEROHELY": "2",
                                    "FOGLALAS_PK": "683"
                                },
                                {
                                    "SZOBA_ID": "174",
                                    "FEROHELY": "2",
                                    "FOGLALAS_PK": "682"
                                },
                                {
                                    "SZOBA_ID": "71",
                                    "FEROHELY": "3",
                                    "FOGLALAS_PK": "681"
                                },
                                {
                                    "SZOBA_ID": "192",
                                    "FEROHELY": "2",
                                    "FOGLALAS_PK": "680"
                                },
                                {
                                    "SZOBA_ID": "185",
                                    "FEROHELY": "3",
                                    "FOGLALAS_PK": "679"
                                },
                                {
                                    "SZOBA_ID": "148",
                                    "FEROHELY": "2",
                                    "FOGLALAS_PK": "678"
                                },
                                {
                                    "SZOBA_ID": "181",
                                    "FEROHELY": "3",
                                    "FOGLALAS_PK": "677"
                                },
                                {
                                    "SZOBA_ID": "60",
                                    "FEROHELY": "3",
                                    "FOGLALAS_PK": "676"
                                },
                                {
                                    "SZOBA_ID": "193",
                                    "FEROHELY": "3",
                                    "FOGLALAS_PK": "675"
                                },
                                {
                                    "SZOBA_ID": "83",
                                    "FEROHELY": "3",
                                    "FOGLALAS_PK": "674"
                                },
                                {
                                    "SZOBA_ID": "196",
                                    "FEROHELY": "2",
                                    "FOGLALAS_PK": "673"
                                },
                                {
                                    "SZOBA_ID": "185",
                                    "FEROHELY": "3",
                                    "FOGLALAS_PK": "672"
                                },
                                {
                                    "SZOBA_ID": "96",
                                    "FEROHELY": "3",
                                    "FOGLALAS_PK": "671"
                                },
                                {
                                    "SZOBA_ID": "43",
                                    "FEROHELY": "3",
                                    "FOGLALAS_PK": "670"
                                },
                                {
                                    "SZOBA_ID": "173",
                                    "FEROHELY": "2",
                                    "FOGLALAS_PK": "669"
                                },
                                {
                                    "SZOBA_ID": "54",
                                    "FEROHELY": "3",
                                    "FOGLALAS_PK": "668"
                                },
                                {
                                    "SZOBA_ID": "80",
                                    "FEROHELY": "2",
                                    "FOGLALAS_PK": "667"
                                },
                                {
                                    "SZOBA_ID": "3",
                                    "FEROHELY": "3",
                                    "FOGLALAS_PK": "666"
                                },
                                {
                                    "SZOBA_ID": "94",
                                    "FEROHELY": "2",
                                    "FOGLALAS_PK": "665"
                                },
                                {
                                    "SZOBA_ID": "146",
                                    "FEROHELY": "3",
                                    "FOGLALAS_PK": "664"
                                },
                                {
                                    "SZOBA_ID": "14",
                                    "FEROHELY": "3",
                                    "FOGLALAS_PK": "663"
                                },
                                {
                                    "SZOBA_ID": "179",
                                    "FEROHELY": "3",
                                    "FOGLALAS_PK": "662"
                                },
                                {
                                    "SZOBA_ID": "136",
                                    "FEROHELY": "2",
                                    "FOGLALAS_PK": "661"
                                },
                                {
                                    "SZOBA_ID": "21",
                                    "FEROHELY": "2",
                                    "FOGLALAS_PK": "660"
                                },
                                {
                                    "SZOBA_ID": "169",
                                    "FEROHELY": "2",
                                    "FOGLALAS_PK": "659"
                                },
                                {
                                    "SZOBA_ID": "44",
                                    "FEROHELY": "3",
                                    "FOGLALAS_PK": "658"
                                },
                                {
                                    "SZOBA_ID": "137",
                                    "FEROHELY": "2",
                                    "FOGLALAS_PK": "657"
                                },
                                {
                                    "SZOBA_ID": "95",
                                    "FEROHELY": "3",
                                    "FOGLALAS_PK": "656"
                                },
                                {
                                    "SZOBA_ID": "131",
                                    "FEROHELY": "2",
                                    "FOGLALAS_PK": "655"
                                },
                                {
                                    "SZOBA_ID": "109",
                                    "FEROHELY": "2",
                                    "FOGLALAS_PK": "654"
                                },
                                {
                                    "SZOBA_ID": "161",
                                    "FEROHELY": "2",
                                    "FOGLALAS_PK": "653"
                                },
                                {
                                    "SZOBA_ID": "149",
                                    "FEROHELY": "2",
                                    "FOGLALAS_PK": "652"
                                },
                                {
                                    "SZOBA_ID": "4",
                                    "FEROHELY": "2",
                                    "FOGLALAS_PK": "651"
                                },
                                {
                                    "SZOBA_ID": "65",
                                    "FEROHELY": "2",
                                    "FOGLALAS_PK": "650"
                                },
                                {
                                    "SZOBA_ID": "137",
                                    "FEROHELY": "2",
                                    "FOGLALAS_PK": "649"
                                },
                                {
                                    "SZOBA_ID": "157",
                                    "FEROHELY": "2",
                                    "FOGLALAS_PK": "648"
                                },
                                {
                                    "SZOBA_ID": "85",
                                    "FEROHELY": "2",
                                    "FOGLALAS_PK": "647"
                                },
                                {
                                    "SZOBA_ID": "78",
                                    "FEROHELY": "2",
                                    "FOGLALAS_PK": "646"
                                },
                                {
                                    "SZOBA_ID": "67",
                                    "FEROHELY": "2",
                                    "FOGLALAS_PK": "645"
                                },
                                {
                                    "SZOBA_ID": "166",
                                    "FEROHELY": "2",
                                    "FOGLALAS_PK": "644"
                                },
                                {
                                    "SZOBA_ID": "127",
                                    "FEROHELY": "2",
                                    "FOGLALAS_PK": "643"
                                },
                                {
                                    "SZOBA_ID": "54",
                                    "FEROHELY": "3",
                                    "FOGLALAS_PK": "642"
                                },
                                {
                                    "SZOBA_ID": "150",
                                    "FEROHELY": "2",
                                    "FOGLALAS_PK": "641"
                                },
                                {
                                    "SZOBA_ID": "165",
                                    "FEROHELY": "2",
                                    "FOGLALAS_PK": "640"
                                },
                                {
                                    "SZOBA_ID": "161",
                                    "FEROHELY": "2",
                                    "FOGLALAS_PK": "639"
                                },
                                {
                                    "SZOBA_ID": "67",
                                    "FEROHELY": "2",
                                    "FOGLALAS_PK": "638"
                                },
                                {
                                    "SZOBA_ID": "100",
                                    "FEROHELY": "2",
                                    "FOGLALAS_PK": "637"
                                },
                                {
                                    "SZOBA_ID": "91",
                                    "FEROHELY": "2",
                                    "FOGLALAS_PK": "636"
                                },
                                {
                                    "SZOBA_ID": "97",
                                    "FEROHELY": "3",
                                    "FOGLALAS_PK": "635"
                                },
                                {
                                    "SZOBA_ID": "193",
                                    "FEROHELY": "3",
                                    "FOGLALAS_PK": "634"
                                },
                                {
                                    "SZOBA_ID": "187",
                                    "FEROHELY": "3",
                                    "FOGLALAS_PK": "633"
                                },
                                {
                                    "SZOBA_ID": "99",
                                    "FEROHELY": "2",
                                    "FOGLALAS_PK": "632"
                                },
                                {
                                    "SZOBA_ID": "98",
                                    "FEROHELY": "2",
                                    "FOGLALAS_PK": "631"
                                },
                                {
                                    "SZOBA_ID": "163",
                                    "FEROHELY": "2",
                                    "FOGLALAS_PK": "630"
                                },
                                {
                                    "SZOBA_ID": "3",
                                    "FEROHELY": "3",
                                    "FOGLALAS_PK": "629"
                                },
                                {
                                    "SZOBA_ID": "48",
                                    "FEROHELY": "3",
                                    "FOGLALAS_PK": "628"
                                },
                                {
                                    "SZOBA_ID": "38",
                                    "FEROHELY": "2",
                                    "FOGLALAS_PK": "627"
                                },
                                {
                                    "SZOBA_ID": "18",
                                    "FEROHELY": "3",
                                    "FOGLALAS_PK": "626"
                                },
                                {
                                    "SZOBA_ID": "63",
                                    "FEROHELY": "2",
                                    "FOGLALAS_PK": "625"
                                },
                                {
                                    "SZOBA_ID": "33",
                                    "FEROHELY": "2",
                                    "FOGLALAS_PK": "624"
                                },
                                {
                                    "SZOBA_ID": "96",
                                    "FEROHELY": "3",
                                    "FOGLALAS_PK": "623"
                                },
                                {
                                    "SZOBA_ID": "54",
                                    "FEROHELY": "3",
                                    "FOGLALAS_PK": "622"
                                },
                                {
                                    "SZOBA_ID": "109",
                                    "FEROHELY": "2",
                                    "FOGLALAS_PK": "621"
                                },
                                {
                                    "SZOBA_ID": "1",
                                    "FEROHELY": "3",
                                    "FOGLALAS_PK": "620"
                                },
                                {
                                    "SZOBA_ID": "132",
                                    "FEROHELY": "3",
                                    "FOGLALAS_PK": "619"
                                },
                                {
                                    "SZOBA_ID": "105",
                                    "FEROHELY": "2",
                                    "FOGLALAS_PK": "618"
                                },
                                {
                                    "SZOBA_ID": "117",
                                    "FEROHELY": "3",
                                    "FOGLALAS_PK": "617"
                                },
                                {
                                    "SZOBA_ID": "94",
                                    "FEROHELY": "2",
                                    "FOGLALAS_PK": "616"
                                },
                                {
                                    "SZOBA_ID": "186",
                                    "FEROHELY": "2",
                                    "FOGLALAS_PK": "615"
                                },
                                {
                                    "SZOBA_ID": "109",
                                    "FEROHELY": "2",
                                    "FOGLALAS_PK": "614"
                                },
                                {
                                    "SZOBA_ID": "130",
                                    "FEROHELY": "2",
                                    "FOGLALAS_PK": "613"
                                },
                                {
                                    "SZOBA_ID": "117",
                                    "FEROHELY": "3",
                                    "FOGLALAS_PK": "612"
                                },
                                {
                                    "SZOBA_ID": "29",
                                    "FEROHELY": "2",
                                    "FOGLALAS_PK": "611"
                                },
                                {
                                    "SZOBA_ID": "106",
                                    "FEROHELY": "2",
                                    "FOGLALAS_PK": "610"
                                },
                                {
                                    "SZOBA_ID": "9",
                                    "FEROHELY": "3",
                                    "FOGLALAS_PK": "609"
                                },
                                {
                                    "SZOBA_ID": "184",
                                    "FEROHELY": "2",
                                    "FOGLALAS_PK": "608"
                                },
                                {
                                    "SZOBA_ID": "96",
                                    "FEROHELY": "3",
                                    "FOGLALAS_PK": "607"
                                },
                                {
                                    "SZOBA_ID": "31",
                                    "FEROHELY": "3",
                                    "FOGLALAS_PK": "606"
                                },
                                {
                                    "SZOBA_ID": "111",
                                    "FEROHELY": "2",
                                    "FOGLALAS_PK": "605"
                                },
                                {
                                    "SZOBA_ID": "30",
                                    "FEROHELY": "3",
                                    "FOGLALAS_PK": "604"
                                },
                                {
                                    "SZOBA_ID": "48",
                                    "FEROHELY": "3",
                                    "FOGLALAS_PK": "603"
                                },
                                {
                                    "SZOBA_ID": "17",
                                    "FEROHELY": "3",
                                    "FOGLALAS_PK": "602"
                                },
                                {
                                    "SZOBA_ID": "39",
                                    "FEROHELY": "2",
                                    "FOGLALAS_PK": "601"
                                },
                                {
                                    "SZOBA_ID": "190",
                                    "FEROHELY": "2",
                                    "FOGLALAS_PK": "600"
                                },
                                {
                                    "SZOBA_ID": "162",
                                    "FEROHELY": "3",
                                    "FOGLALAS_PK": "599"
                                },
                                {
                                    "SZOBA_ID": "31",
                                    "FEROHELY": "3",
                                    "FOGLALAS_PK": "598"
                                },
                                {
                                    "SZOBA_ID": "100",
                                    "FEROHELY": "2",
                                    "FOGLALAS_PK": "597"
                                },
                                {
                                    "SZOBA_ID": "115",
                                    "FEROHELY": "3",
                                    "FOGLALAS_PK": "596"
                                },
                                {
                                    "SZOBA_ID": "74",
                                    "FEROHELY": "3",
                                    "FOGLALAS_PK": "595"
                                },
                                {
                                    "SZOBA_ID": "153",
                                    "FEROHELY": "3",
                                    "FOGLALAS_PK": "594"
                                },
                                {
                                    "SZOBA_ID": "77",
                                    "FEROHELY": "3",
                                    "FOGLALAS_PK": "593"
                                },
                                {
                                    "SZOBA_ID": "176",
                                    "FEROHELY": "3",
                                    "FOGLALAS_PK": "592"
                                },
                                {
                                    "SZOBA_ID": "149",
                                    "FEROHELY": "2",
                                    "FOGLALAS_PK": "591"
                                },
                                {
                                    "SZOBA_ID": "42",
                                    "FEROHELY": "2",
                                    "FOGLALAS_PK": "590"
                                },
                                {
                                    "SZOBA_ID": "44",
                                    "FEROHELY": "3",
                                    "FOGLALAS_PK": "589"
                                },
                                {
                                    "SZOBA_ID": "156",
                                    "FEROHELY": "2",
                                    "FOGLALAS_PK": "588"
                                },
                                {
                                    "SZOBA_ID": "123",
                                    "FEROHELY": "3",
                                    "FOGLALAS_PK": "587"
                                },
                                {
                                    "SZOBA_ID": "107",
                                    "FEROHELY": "2",
                                    "FOGLALAS_PK": "586"
                                },
                                {
                                    "SZOBA_ID": "70",
                                    "FEROHELY": "2",
                                    "FOGLALAS_PK": "585"
                                },
                                {
                                    "SZOBA_ID": "136",
                                    "FEROHELY": "2",
                                    "FOGLALAS_PK": "584"
                                },
                                {
                                    "SZOBA_ID": "79",
                                    "FEROHELY": "3",
                                    "FOGLALAS_PK": "583"
                                },
                                {
                                    "SZOBA_ID": "137",
                                    "FEROHELY": "2",
                                    "FOGLALAS_PK": "582"
                                },
                                {
                                    "SZOBA_ID": "144",
                                    "FEROHELY": "3",
                                    "FOGLALAS_PK": "581"
                                },
                                {
                                    "SZOBA_ID": "130",
                                    "FEROHELY": "2",
                                    "FOGLALAS_PK": "580"
                                },
                                {
                                    "SZOBA_ID": "139",
                                    "FEROHELY": "2",
                                    "FOGLALAS_PK": "579"
                                },
                                {
                                    "SZOBA_ID": "185",
                                    "FEROHELY": "3",
                                    "FOGLALAS_PK": "578"
                                },
                                {
                                    "SZOBA_ID": "155",
                                    "FEROHELY": "3",
                                    "FOGLALAS_PK": "577"
                                },
                                {
                                    "SZOBA_ID": "125",
                                    "FEROHELY": "2",
                                    "FOGLALAS_PK": "576"
                                },
                                {
                                    "SZOBA_ID": "155",
                                    "FEROHELY": "3",
                                    "FOGLALAS_PK": "575"
                                },
                                {
                                    "SZOBA_ID": "171",
                                    "FEROHELY": "2",
                                    "FOGLALAS_PK": "574"
                                },
                                {
                                    "SZOBA_ID": "169",
                                    "FEROHELY": "2",
                                    "FOGLALAS_PK": "573"
                                },
                                {
                                    "SZOBA_ID": "83",
                                    "FEROHELY": "3",
                                    "FOGLALAS_PK": "572"
                                },
                                {
                                    "SZOBA_ID": "182",
                                    "FEROHELY": "2",
                                    "FOGLALAS_PK": "571"
                                },
                                {
                                    "SZOBA_ID": "164",
                                    "FEROHELY": "2",
                                    "FOGLALAS_PK": "570"
                                },
                                {
                                    "SZOBA_ID": "10",
                                    "FEROHELY": "3",
                                    "FOGLALAS_PK": "569"
                                },
                                {
                                    "SZOBA_ID": "78",
                                    "FEROHELY": "2",
                                    "FOGLALAS_PK": "568"
                                },
                                {
                                    "SZOBA_ID": "170",
                                    "FEROHELY": "2",
                                    "FOGLALAS_PK": "567"
                                },
                                {
                                    "SZOBA_ID": "21",
                                    "FEROHELY": "2",
                                    "FOGLALAS_PK": "566"
                                },
                                {
                                    "SZOBA_ID": "141",
                                    "FEROHELY": "2",
                                    "FOGLALAS_PK": "565"
                                },
                                {
                                    "SZOBA_ID": "5",
                                    "FEROHELY": "2",
                                    "FOGLALAS_PK": "564"
                                },
                                {
                                    "SZOBA_ID": "68",
                                    "FEROHELY": "2",
                                    "FOGLALAS_PK": "563"
                                },
                                {
                                    "SZOBA_ID": "7",
                                    "FEROHELY": "2",
                                    "FOGLALAS_PK": "562"
                                },
                                {
                                    "SZOBA_ID": "42",
                                    "FEROHELY": "2",
                                    "FOGLALAS_PK": "561"
                                },
                                {
                                    "SZOBA_ID": "6",
                                    "FEROHELY": "3",
                                    "FOGLALAS_PK": "560"
                                },
                                {
                                    "SZOBA_ID": "131",
                                    "FEROHELY": "2",
                                    "FOGLALAS_PK": "559"
                                },
                                {
                                    "SZOBA_ID": "87",
                                    "FEROHELY": "3",
                                    "FOGLALAS_PK": "558"
                                }
                            ]
                        },
                        "text/html": [
                            "<table>",
                            "<tr><th>SZOBA_ID</th><th>FEROHELY</th><th>FOGLALAS_PK</th></tr>",
                            "<tr><td>67</td><td>2</td><td>1584</td></tr>",
                            "<tr><td>128</td><td>2</td><td>1583</td></tr>",
                            "<tr><td>64</td><td>2</td><td>1582</td></tr>",
                            "<tr><td>48</td><td>3</td><td>1581</td></tr>",
                            "<tr><td>67</td><td>2</td><td>1580</td></tr>",
                            "<tr><td>127</td><td>2</td><td>1579</td></tr>",
                            "<tr><td>148</td><td>2</td><td>1578</td></tr>",
                            "<tr><td>78</td><td>2</td><td>1577</td></tr>",
                            "<tr><td>189</td><td>2</td><td>1576</td></tr>",
                            "<tr><td>88</td><td>3</td><td>1575</td></tr>",
                            "<tr><td>128</td><td>2</td><td>1574</td></tr>",
                            "<tr><td>59</td><td>2</td><td>1573</td></tr>",
                            "<tr><td>144</td><td>3</td><td>1572</td></tr>",
                            "<tr><td>161</td><td>2</td><td>1571</td></tr>",
                            "<tr><td>176</td><td>3</td><td>1570</td></tr>",
                            "<tr><td>96</td><td>3</td><td>1569</td></tr>",
                            "<tr><td>29</td><td>2</td><td>1568</td></tr>",
                            "<tr><td>171</td><td>2</td><td>1567</td></tr>",
                            "<tr><td>115</td><td>3</td><td>1566</td></tr>",
                            "<tr><td>160</td><td>3</td><td>1565</td></tr>",
                            "<tr><td>94</td><td>2</td><td>1564</td></tr>",
                            "<tr><td>180</td><td>2</td><td>1563</td></tr>",
                            "<tr><td>81</td><td>2</td><td>1562</td></tr>",
                            "<tr><td>156</td><td>2</td><td>1561</td></tr>",
                            "<tr><td>109</td><td>2</td><td>1560</td></tr>",
                            "<tr><td>180</td><td>2</td><td>1559</td></tr>",
                            "<tr><td>152</td><td>2</td><td>1558</td></tr>",
                            "<tr><td>76</td><td>2</td><td>1557</td></tr>",
                            "<tr><td>38</td><td>2</td><td>1556</td></tr>",
                            "<tr><td>92</td><td>3</td><td>1555</td></tr>",
                            "<tr><td>115</td><td>3</td><td>1554</td></tr>",
                            "<tr><td>43</td><td>3</td><td>1553</td></tr>",
                            "<tr><td>44</td><td>3</td><td>1552</td></tr>",
                            "<tr><td>157</td><td>2</td><td>1551</td></tr>",
                            "<tr><td>51</td><td>3</td><td>1550</td></tr>",
                            "<tr><td>17</td><td>3</td><td>1549</td></tr>",
                            "<tr><td>88</td><td>3</td><td>1548</td></tr>",
                            "<tr><td>48</td><td>3</td><td>1547</td></tr>",
                            "<tr><td>48</td><td>3</td><td>1546</td></tr>",
                            "<tr><td>142</td><td>3</td><td>1545</td></tr>",
                            "<tr><td>3</td><td>3</td><td>1544</td></tr>",
                            "<tr><td>95</td><td>3</td><td>1543</td></tr>",
                            "<tr><td>14</td><td>3</td><td>1542</td></tr>",
                            "<tr><td>155</td><td>3</td><td>1541</td></tr>",
                            "<tr><td>114</td><td>2</td><td>1540</td></tr>",
                            "<tr><td>154</td><td>2</td><td>1539</td></tr>",
                            "<tr><td>39</td><td>2</td><td>1538</td></tr>",
                            "<tr><td>9</td><td>3</td><td>1537</td></tr>",
                            "<tr><td>49</td><td>3</td><td>1536</td></tr>",
                            "<tr><td>134</td><td>3</td><td>1535</td></tr>",
                            "<tr><td>52</td><td>2</td><td>1534</td></tr>",
                            "<tr><td>19</td><td>2</td><td>1533</td></tr>",
                            "<tr><td>104</td><td>3</td><td>1532</td></tr>",
                            "<tr><td>124</td><td>3</td><td>1531</td></tr>",
                            "<tr><td>112</td><td>3</td><td>1530</td></tr>",
                            "<tr><td>35</td><td>3</td><td>1529</td></tr>",
                            "<tr><td>97</td><td>3</td><td>1528</td></tr>",
                            "<tr><td>92</td><td>3</td><td>1527</td></tr>",
                            "<tr><td>166</td><td>2</td><td>1526</td></tr>",
                            "<tr><td>105</td><td>2</td><td>1525</td></tr>",
                            "<tr><td>43</td><td>3</td><td>1524</td></tr>",
                            "<tr><td>11</td><td>2</td><td>1523</td></tr>",
                            "<tr><td>104</td><td>3</td><td>1522</td></tr>",
                            "<tr><td>89</td><td>3</td><td>1521</td></tr>",
                            "<tr><td>55</td><td>2</td><td>1520</td></tr>",
                            "<tr><td>132</td><td>3</td><td>1519</td></tr>",
                            "<tr><td>94</td><td>2</td><td>1518</td></tr>",
                            "<tr><td>190</td><td>2</td><td>1517</td></tr>",
                            "<tr><td>101</td><td>2</td><td>1516</td></tr>",
                            "<tr><td>46</td><td>3</td><td>1515</td></tr>",
                            "<tr><td>149</td><td>2</td><td>1514</td></tr>",
                            "<tr><td>85</td><td>2</td><td>1513</td></tr>",
                            "<tr><td>55</td><td>2</td><td>1512</td></tr>",
                            "<tr><td>176</td><td>3</td><td>1511</td></tr>",
                            "<tr><td>106</td><td>2</td><td>1510</td></tr>",
                            "<tr><td>129</td><td>2</td><td>1509</td></tr>",
                            "<tr><td>191</td><td>2</td><td>1508</td></tr>",
                            "<tr><td>153</td><td>3</td><td>1507</td></tr>",
                            "<tr><td>81</td><td>2</td><td>1506</td></tr>",
                            "<tr><td>18</td><td>3</td><td>1505</td></tr>",
                            "<tr><td>57</td><td>2</td><td>1504</td></tr>",
                            "<tr><td>177</td><td>3</td><td>1503</td></tr>",
                            "<tr><td>191</td><td>2</td><td>1502</td></tr>",
                            "<tr><td>116</td><td>3</td><td>1501</td></tr>",
                            "<tr><td>126</td><td>2</td><td>1500</td></tr>",
                            "<tr><td>113</td><td>3</td><td>1499</td></tr>",
                            "<tr><td>16</td><td>3</td><td>1498</td></tr>",
                            "<tr><td>179</td><td>3</td><td>1497</td></tr>",
                            "<tr><td>61</td><td>3</td><td>1496</td></tr>",
                            "<tr><td>113</td><td>3</td><td>1495</td></tr>",
                            "<tr><td>107</td><td>2</td><td>1494</td></tr>",
                            "<tr><td>120</td><td>3</td><td>1493</td></tr>",
                            "<tr><td>4</td><td>2</td><td>1492</td></tr>",
                            "<tr><td>172</td><td>2</td><td>1491</td></tr>",
                            "<tr><td>156</td><td>2</td><td>1490</td></tr>",
                            "<tr><td>110</td><td>2</td><td>1489</td></tr>",
                            "<tr><td>119</td><td>2</td><td>1488</td></tr>",
                            "<tr><td>163</td><td>2</td><td>1487</td></tr>",
                            "<tr><td>99</td><td>2</td><td>1486</td></tr>",
                            "<tr><td>103</td><td>2</td><td>1485</td></tr>",
                            "<tr><td>195</td><td>2</td><td>1484</td></tr>",
                            "<tr><td>120</td><td>3</td><td>1483</td></tr>",
                            "<tr><td>100</td><td>2</td><td>1482</td></tr>",
                            "<tr><td>118</td><td>2</td><td>1481</td></tr>",
                            "<tr><td>35</td><td>3</td><td>1480</td></tr>",
                            "<tr><td>146</td><td>3</td><td>1479</td></tr>",
                            "<tr><td>38</td><td>2</td><td>1478</td></tr>",
                            "<tr><td>51</td><td>3</td><td>1477</td></tr>",
                            "<tr><td>27</td><td>3</td><td>1476</td></tr>",
                            "<tr><td>130</td><td>2</td><td>1475</td></tr>",
                            "<tr><td>131</td><td>2</td><td>1474</td></tr>",
                            "<tr><td>195</td><td>2</td><td>1473</td></tr>",
                            "<tr><td>118</td><td>2</td><td>1472</td></tr>",
                            "<tr><td>145</td><td>2</td><td>1471</td></tr>",
                            "<tr><td>153</td><td>3</td><td>1470</td></tr>",
                            "<tr><td>13</td><td>3</td><td>1469</td></tr>",
                            "<tr><td>117</td><td>3</td><td>1468</td></tr>",
                            "<tr><td>186</td><td>2</td><td>1467</td></tr>",
                            "<tr><td>57</td><td>2</td><td>1466</td></tr>",
                            "<tr><td>64</td><td>2</td><td>1465</td></tr>",
                            "<tr><td>81</td><td>2</td><td>1464</td></tr>",
                            "<tr><td>185</td><td>3</td><td>1463</td></tr>",
                            "<tr><td>156</td><td>2</td><td>1462</td></tr>",
                            "<tr><td>77</td><td>3</td><td>1461</td></tr>",
                            "<tr><td>153</td><td>3</td><td>1460</td></tr>",
                            "<tr><td>28</td><td>2</td><td>1459</td></tr>",
                            "<tr><td>75</td><td>2</td><td>1458</td></tr>",
                            "<tr><td>70</td><td>2</td><td>1457</td></tr>",
                            "<tr><td>87</td><td>3</td><td>1456</td></tr>",
                            "<tr><td>116</td><td>3</td><td>1455</td></tr>",
                            "<tr><td>39</td><td>2</td><td>1454</td></tr>",
                            "<tr><td>86</td><td>2</td><td>1453</td></tr>",
                            "<tr><td>107</td><td>2</td><td>1452</td></tr>",
                            "<tr><td>58</td><td>2</td><td>1451</td></tr>",
                            "<tr><td>139</td><td>2</td><td>1450</td></tr>",
                            "<tr><td>189</td><td>2</td><td>1449</td></tr>",
                            "<tr><td>143</td><td>3</td><td>1448</td></tr>",
                            "<tr><td>79</td><td>3</td><td>1447</td></tr>",
                            "<tr><td>64</td><td>2</td><td>1446</td></tr>",
                            "<tr><td>129</td><td>2</td><td>1445</td></tr>",
                            "<tr><td>42</td><td>2</td><td>1444</td></tr>",
                            "<tr><td>81</td><td>2</td><td>1443</td></tr>",
                            "<tr><td>15</td><td>2</td><td>1442</td></tr>",
                            "<tr><td>185</td><td>3</td><td>1441</td></tr>",
                            "<tr><td>122</td><td>3</td><td>1440</td></tr>",
                            "<tr><td>77</td><td>3</td><td>1439</td></tr>",
                            "<tr><td>96</td><td>3</td><td>1438</td></tr>",
                            "<tr><td>183</td><td>3</td><td>1437</td></tr>",
                            "<tr><td>35</td><td>3</td><td>1436</td></tr>",
                            "<tr><td>39</td><td>2</td><td>1435</td></tr>",
                            "<tr><td>3</td><td>3</td><td>1434</td></tr>",
                            "<tr><td>139</td><td>2</td><td>1433</td></tr>",
                            "<tr><td>150</td><td>2</td><td>1432</td></tr>",
                            "<tr><td>52</td><td>2</td><td>1431</td></tr>",
                            "<tr><td>12</td><td>2</td><td>1430</td></tr>",
                            "<tr><td>173</td><td>2</td><td>1429</td></tr>",
                            "<tr><td>126</td><td>2</td><td>1428</td></tr>",
                            "<tr><td>169</td><td>2</td><td>1427</td></tr>",
                            "<tr><td>62</td><td>2</td><td>1426</td></tr>",
                            "<tr><td>44</td><td>3</td><td>1425</td></tr>",
                            "<tr><td>110</td><td>2</td><td>1424</td></tr>",
                            "<tr><td>9</td><td>3</td><td>1423</td></tr>",
                            "<tr><td>182</td><td>2</td><td>1422</td></tr>",
                            "<tr><td>172</td><td>2</td><td>1421</td></tr>",
                            "<tr><td>198</td><td>3</td><td>1420</td></tr>",
                            "<tr><td>124</td><td>3</td><td>1419</td></tr>",
                            "<tr><td>15</td><td>2</td><td>1418</td></tr>",
                            "<tr><td>97</td><td>3</td><td>1417</td></tr>",
                            "<tr><td>38</td><td>2</td><td>1416</td></tr>",
                            "<tr><td>24</td><td>4</td><td>1415</td></tr>",
                            "<tr><td>167</td><td>3</td><td>1414</td></tr>",
                            "<tr><td>119</td><td>2</td><td>1413</td></tr>",
                            "<tr><td>75</td><td>2</td><td>1412</td></tr>",
                            "<tr><td>35</td><td>3</td><td>1411</td></tr>",
                            "<tr><td>182</td><td>2</td><td>1410</td></tr>",
                            "<tr><td>133</td><td>3</td><td>1409</td></tr>",
                            "<tr><td>99</td><td>2</td><td>1408</td></tr>",
                            "<tr><td>175</td><td>2</td><td>1407</td></tr>",
                            "<tr><td>82</td><td>3</td><td>1406</td></tr>",
                            "<tr><td>90</td><td>3</td><td>1405</td></tr>",
                            "<tr><td>187</td><td>3</td><td>1404</td></tr>",
                            "<tr><td>124</td><td>3</td><td>1403</td></tr>",
                            "<tr><td>98</td><td>2</td><td>1402</td></tr>",
                            "<tr><td>141</td><td>2</td><td>1401</td></tr>",
                            "<tr><td>162</td><td>3</td><td>1400</td></tr>",
                            "<tr><td>89</td><td>3</td><td>1399</td></tr>",
                            "<tr><td>103</td><td>2</td><td>1398</td></tr>",
                            "<tr><td>91</td><td>2</td><td>1397</td></tr>",
                            "<tr><td>72</td><td>2</td><td>1396</td></tr>",
                            "<tr><td>97</td><td>3</td><td>1395</td></tr>",
                            "<tr><td>143</td><td>3</td><td>1394</td></tr>",
                            "<tr><td>121</td><td>2</td><td>1393</td></tr>",
                            "<tr><td>108</td><td>2</td><td>1392</td></tr>",
                            "<tr><td>93</td><td>3</td><td>1391</td></tr>",
                            "<tr><td>188</td><td>3</td><td>1390</td></tr>",
                            "<tr><td>57</td><td>2</td><td>1389</td></tr>",
                            "<tr><td>26</td><td>2</td><td>1388</td></tr>",
                            "<tr><td>197</td><td>3</td><td>1387</td></tr>",
                            "<tr><td>55</td><td>2</td><td>1386</td></tr>",
                            "<tr><td>122</td><td>3</td><td>1385</td></tr>",
                            "<tr><td>84</td><td>3</td><td>1384</td></tr>",
                            "<tr><td>176</td><td>3</td><td>1383</td></tr>",
                            "<tr><td>67</td><td>2</td><td>1382</td></tr>",
                            "<tr><td>33</td><td>2</td><td>1381</td></tr>",
                            "<tr><td>39</td><td>2</td><td>1380</td></tr>",
                            "<tr><td>83</td><td>3</td><td>1379</td></tr>",
                            "<tr><td>96</td><td>3</td><td>1378</td></tr>",
                            "<tr><td>27</td><td>3</td><td>1377</td></tr>",
                            "<tr><td>84</td><td>3</td><td>1376</td></tr>",
                            "<tr><td>165</td><td>2</td><td>1375</td></tr>",
                            "<tr><td>118</td><td>2</td><td>1374</td></tr>",
                            "<tr><td>121</td><td>2</td><td>1373</td></tr>",
                            "<tr><td>106</td><td>2</td><td>1372</td></tr>",
                            "<tr><td>140</td><td>2</td><td>1371</td></tr>",
                            "<tr><td>138</td><td>3</td><td>1370</td></tr>",
                            "<tr><td>142</td><td>3</td><td>1369</td></tr>",
                            "<tr><td>94</td><td>2</td><td>1368</td></tr>",
                            "<tr><td>80</td><td>2</td><td>1367</td></tr>",
                            "<tr><td>81</td><td>2</td><td>1366</td></tr>",
                            "<tr><td>70</td><td>2</td><td>1365</td></tr>",
                            "<tr><td>126</td><td>2</td><td>1364</td></tr>",
                            "<tr><td>133</td><td>3</td><td>1363</td></tr>",
                            "<tr><td>25</td><td>3</td><td>1362</td></tr>",
                            "<tr><td>140</td><td>2</td><td>1361</td></tr>",
                            "<tr><td>129</td><td>2</td><td>1360</td></tr>",
                            "<tr><td>88</td><td>3</td><td>1359</td></tr>",
                            "<tr><td>138</td><td>3</td><td>1358</td></tr>",
                            "<tr><td>140</td><td>2</td><td>1357</td></tr>",
                            "<tr><td>169</td><td>2</td><td>1356</td></tr>",
                            "<tr><td>93</td><td>3</td><td>1355</td></tr>",
                            "<tr><td>107</td><td>2</td><td>1354</td></tr>",
                            "<tr><td>111</td><td>2</td><td>1353</td></tr>",
                            "<tr><td>115</td><td>3</td><td>1352</td></tr>",
                            "<tr><td>38</td><td>2</td><td>1351</td></tr>",
                            "<tr><td>173</td><td>2</td><td>1350</td></tr>",
                            "<tr><td>87</td><td>3</td><td>1349</td></tr>",
                            "<tr><td>57</td><td>2</td><td>1348</td></tr>",
                            "<tr><td>13</td><td>3</td><td>1347</td></tr>",
                            "<tr><td>181</td><td>3</td><td>1346</td></tr>",
                            "<tr><td>79</td><td>3</td><td>1345</td></tr>",
                            "<tr><td>33</td><td>2</td><td>1344</td></tr>",
                            "<tr><td>102</td><td>2</td><td>1343</td></tr>",
                            "<tr><td>170</td><td>2</td><td>1342</td></tr>",
                            "<tr><td>82</td><td>3</td><td>1341</td></tr>",
                            "<tr><td>196</td><td>2</td><td>1340</td></tr>",
                            "<tr><td>120</td><td>3</td><td>1339</td></tr>",
                            "<tr><td>145</td><td>2</td><td>1338</td></tr>",
                            "<tr><td>122</td><td>3</td><td>1337</td></tr>",
                            "<tr><td>172</td><td>2</td><td>1336</td></tr>",
                            "<tr><td>37</td><td>2</td><td>1335</td></tr>",
                            "<tr><td>1</td><td>3</td><td>1334</td></tr>",
                            "<tr><td>70</td><td>2</td><td>1333</td></tr>",
                            "<tr><td>101</td><td>2</td><td>1332</td></tr>",
                            "<tr><td>73</td><td>2</td><td>1331</td></tr>",
                            "<tr><td>124</td><td>3</td><td>1330</td></tr>",
                            "<tr><td>171</td><td>2</td><td>1329</td></tr>",
                            "<tr><td>54</td><td>3</td><td>1328</td></tr>",
                            "<tr><td>55</td><td>2</td><td>1327</td></tr>",
                            "<tr><td>182</td><td>2</td><td>1326</td></tr>",
                            "<tr><td>70</td><td>2</td><td>1325</td></tr>",
                            "<tr><td>68</td><td>2</td><td>1324</td></tr>",
                            "<tr><td>191</td><td>2</td><td>1323</td></tr>",
                            "<tr><td>58</td><td>2</td><td>1322</td></tr>",
                            "<tr><td>33</td><td>2</td><td>1321</td></tr>",
                            "<tr><td>85</td><td>2</td><td>1320</td></tr>",
                            "<tr><td>10</td><td>3</td><td>1319</td></tr>",
                            "<tr><td>72</td><td>2</td><td>1318</td></tr>",
                            "<tr><td>182</td><td>2</td><td>1317</td></tr>",
                            "<tr><td>17</td><td>3</td><td>1316</td></tr>",
                            "<tr><td>100</td><td>2</td><td>1315</td></tr>",
                            "<tr><td>196</td><td>2</td><td>1314</td></tr>",
                            "<tr><td>143</td><td>3</td><td>1313</td></tr>",
                            "<tr><td>94</td><td>2</td><td>1312</td></tr>",
                            "<tr><td>2</td><td>3</td><td>1311</td></tr>",
                            "<tr><td>155</td><td>3</td><td>1310</td></tr>",
                            "<tr><td>42</td><td>2</td><td>1309</td></tr>",
                            "<tr><td>182</td><td>2</td><td>1308</td></tr>",
                            "<tr><td>58</td><td>2</td><td>1307</td></tr>",
                            "<tr><td>133</td><td>3</td><td>1306</td></tr>",
                            "<tr><td>94</td><td>2</td><td>1305</td></tr>",
                            "<tr><td>197</td><td>3</td><td>1304</td></tr>",
                            "<tr><td>45</td><td>2</td><td>1303</td></tr>",
                            "<tr><td>191</td><td>2</td><td>1302</td></tr>",
                            "<tr><td>132</td><td>3</td><td>1301</td></tr>",
                            "<tr><td>88</td><td>3</td><td>1300</td></tr>",
                            "<tr><td>90</td><td>3</td><td>1299</td></tr>",
                            "<tr><td>109</td><td>2</td><td>1298</td></tr>",
                            "<tr><td>144</td><td>3</td><td>1297</td></tr>",
                            "<tr><td>111</td><td>2</td><td>1296</td></tr>",
                            "<tr><td>44</td><td>3</td><td>1295</td></tr>",
                            "<tr><td>138</td><td>3</td><td>1294</td></tr>",
                            "<tr><td>58</td><td>2</td><td>1293</td></tr>",
                            "<tr><td>164</td><td>2</td><td>1292</td></tr>",
                            "<tr><td>46</td><td>3</td><td>1291</td></tr>",
                            "<tr><td>128</td><td>2</td><td>1290</td></tr>",
                            "<tr><td>135</td><td>3</td><td>1289</td></tr>",
                            "<tr><td>59</td><td>2</td><td>1288</td></tr>",
                            "<tr><td>22</td><td>3</td><td>1287</td></tr>",
                            "<tr><td>127</td><td>2</td><td>1286</td></tr>",
                            "<tr><td>58</td><td>2</td><td>1285</td></tr>",
                            "<tr><td>164</td><td>2</td><td>1284</td></tr>",
                            "<tr><td>138</td><td>3</td><td>1283</td></tr>",
                            "<tr><td>123</td><td>3</td><td>1282</td></tr>",
                            "<tr><td>78</td><td>2</td><td>1281</td></tr>",
                            "<tr><td>137</td><td>2</td><td>1280</td></tr>",
                            "<tr><td>80</td><td>2</td><td>1279</td></tr>",
                            "<tr><td>176</td><td>3</td><td>1278</td></tr>",
                            "<tr><td>82</td><td>3</td><td>1277</td></tr>",
                            "<tr><td>174</td><td>2</td><td>1276</td></tr>",
                            "<tr><td>27</td><td>3</td><td>1275</td></tr>",
                            "<tr><td>1</td><td>3</td><td>1274</td></tr>",
                            "<tr><td>88</td><td>3</td><td>1273</td></tr>",
                            "<tr><td>50</td><td>2</td><td>1272</td></tr>",
                            "<tr><td>106</td><td>2</td><td>1271</td></tr>",
                            "<tr><td>43</td><td>3</td><td>1270</td></tr>",
                            "<tr><td>89</td><td>3</td><td>1269</td></tr>",
                            "<tr><td>78</td><td>2</td><td>1268</td></tr>",
                            "<tr><td>170</td><td>2</td><td>1267</td></tr>",
                            "<tr><td>168</td><td>2</td><td>1266</td></tr>",
                            "<tr><td>163</td><td>2</td><td>1265</td></tr>",
                            "<tr><td>66</td><td>3</td><td>1264</td></tr>",
                            "<tr><td>113</td><td>3</td><td>1263</td></tr>",
                            "<tr><td>154</td><td>2</td><td>1262</td></tr>",
                            "<tr><td>58</td><td>2</td><td>1261</td></tr>",
                            "<tr><td>9</td><td>3</td><td>1260</td></tr>",
                            "<tr><td>140</td><td>2</td><td>1259</td></tr>",
                            "<tr><td>52</td><td>2</td><td>1258</td></tr>",
                            "<tr><td>5</td><td>2</td><td>1257</td></tr>",
                            "<tr><td>138</td><td>3</td><td>1256</td></tr>",
                            "<tr><td>58</td><td>2</td><td>1255</td></tr>",
                            "<tr><td>141</td><td>2</td><td>1254</td></tr>",
                            "<tr><td>89</td><td>3</td><td>1253</td></tr>",
                            "<tr><td>7</td><td>2</td><td>1252</td></tr>",
                            "<tr><td>184</td><td>2</td><td>1251</td></tr>",
                            "<tr><td>107</td><td>2</td><td>1250</td></tr>",
                            "<tr><td>168</td><td>2</td><td>1249</td></tr>",
                            "<tr><td>186</td><td>2</td><td>1248</td></tr>",
                            "<tr><td>117</td><td>3</td><td>1247</td></tr>",
                            "<tr><td>69</td><td>3</td><td>1246</td></tr>",
                            "<tr><td>122</td><td>3</td><td>1245</td></tr>",
                            "<tr><td>15</td><td>2</td><td>1244</td></tr>",
                            "<tr><td>48</td><td>3</td><td>1243</td></tr>",
                            "<tr><td>178</td><td>3</td><td>1242</td></tr>",
                            "<tr><td>94</td><td>2</td><td>1241</td></tr>",
                            "<tr><td>157</td><td>2</td><td>1240</td></tr>",
                            "<tr><td>59</td><td>2</td><td>1239</td></tr>",
                            "<tr><td>193</td><td>3</td><td>1238</td></tr>",
                            "<tr><td>19</td><td>2</td><td>1237</td></tr>",
                            "<tr><td>11</td><td>2</td><td>1236</td></tr>",
                            "<tr><td>29</td><td>2</td><td>1235</td></tr>",
                            "<tr><td>66</td><td>3</td><td>1234</td></tr>",
                            "<tr><td>64</td><td>2</td><td>1233</td></tr>",
                            "<tr><td>55</td><td>2</td><td>1232</td></tr>",
                            "<tr><td>182</td><td>2</td><td>1231</td></tr>",
                            "<tr><td>182</td><td>2</td><td>1230</td></tr>",
                            "<tr><td>79</td><td>3</td><td>1229</td></tr>",
                            "<tr><td>106</td><td>2</td><td>1228</td></tr>",
                            "<tr><td>43</td><td>3</td><td>1227</td></tr>",
                            "<tr><td>127</td><td>2</td><td>1226</td></tr>",
                            "<tr><td>69</td><td>3</td><td>1225</td></tr>",
                            "<tr><td>50</td><td>2</td><td>1224</td></tr>",
                            "<tr><td>123</td><td>3</td><td>1223</td></tr>",
                            "<tr><td>143</td><td>3</td><td>1222</td></tr>",
                            "<tr><td>49</td><td>3</td><td>1221</td></tr>",
                            "<tr><td>9</td><td>3</td><td>1220</td></tr>",
                            "<tr><td>134</td><td>3</td><td>1219</td></tr>",
                            "<tr><td>61</td><td>3</td><td>1218</td></tr>",
                            "<tr><td>93</td><td>3</td><td>1217</td></tr>",
                            "<tr><td>198</td><td>3</td><td>1216</td></tr>",
                            "<tr><td>121</td><td>2</td><td>1215</td></tr>",
                            "<tr><td>39</td><td>2</td><td>1214</td></tr>",
                            "<tr><td>91</td><td>2</td><td>1213</td></tr>",
                            "<tr><td>21</td><td>2</td><td>1212</td></tr>",
                            "<tr><td>178</td><td>3</td><td>1211</td></tr>",
                            "<tr><td>124</td><td>3</td><td>1210</td></tr>",
                            "<tr><td>122</td><td>3</td><td>1209</td></tr>",
                            "<tr><td>58</td><td>2</td><td>1208</td></tr>",
                            "<tr><td>43</td><td>3</td><td>1207</td></tr>",
                            "<tr><td>22</td><td>3</td><td>1206</td></tr>",
                            "<tr><td>162</td><td>3</td><td>1205</td></tr>",
                            "<tr><td>189</td><td>2</td><td>1204</td></tr>",
                            "<tr><td>150</td><td>2</td><td>1203</td></tr>",
                            "<tr><td>52</td><td>2</td><td>1202</td></tr>",
                            "<tr><td>137</td><td>2</td><td>1201</td></tr>",
                            "<tr><td>49</td><td>3</td><td>1200</td></tr>",
                            "<tr><td>144</td><td>3</td><td>1199</td></tr>",
                            "<tr><td>18</td><td>3</td><td>1198</td></tr>",
                            "<tr><td>152</td><td>2</td><td>1197</td></tr>",
                            "<tr><td>88</td><td>3</td><td>1196</td></tr>",
                            "<tr><td>22</td><td>3</td><td>1195</td></tr>",
                            "<tr><td>170</td><td>2</td><td>1194</td></tr>",
                            "<tr><td>143</td><td>3</td><td>1193</td></tr>",
                            "<tr><td>117</td><td>3</td><td>1192</td></tr>",
                            "<tr><td>59</td><td>2</td><td>1191</td></tr>",
                            "<tr><td>161</td><td>2</td><td>1190</td></tr>",
                            "<tr><td>89</td><td>3</td><td>1189</td></tr>",
                            "<tr><td>182</td><td>2</td><td>1188</td></tr>",
                            "<tr><td>46</td><td>3</td><td>1187</td></tr>",
                            "<tr><td>58</td><td>2</td><td>1186</td></tr>",
                            "<tr><td>29</td><td>2</td><td>1185</td></tr>",
                            "<tr><td>195</td><td>2</td><td>1184</td></tr>",
                            "<tr><td>185</td><td>3</td><td>1183</td></tr>",
                            "<tr><td>7</td><td>2</td><td>1182</td></tr>",
                            "<tr><td>171</td><td>2</td><td>1181</td></tr>",
                            "<tr><td>104</td><td>3</td><td>1180</td></tr>",
                            "<tr><td>74</td><td>3</td><td>1179</td></tr>",
                            "<tr><td>134</td><td>3</td><td>1178</td></tr>",
                            "<tr><td>150</td><td>2</td><td>1177</td></tr>",
                            "<tr><td>177</td><td>3</td><td>1176</td></tr>",
                            "<tr><td>7</td><td>2</td><td>1175</td></tr>",
                            "<tr><td>90</td><td>3</td><td>1174</td></tr>",
                            "<tr><td>18</td><td>3</td><td>1173</td></tr>",
                            "<tr><td>197</td><td>3</td><td>1172</td></tr>",
                            "<tr><td>172</td><td>2</td><td>1171</td></tr>",
                            "<tr><td>59</td><td>2</td><td>1170</td></tr>",
                            "<tr><td>93</td><td>3</td><td>1169</td></tr>",
                            "<tr><td>154</td><td>2</td><td>1168</td></tr>",
                            "<tr><td>24</td><td>4</td><td>1167</td></tr>",
                            "<tr><td>122</td><td>3</td><td>1166</td></tr>",
                            "<tr><td>51</td><td>3</td><td>1165</td></tr>",
                            "<tr><td>12</td><td>2</td><td>1164</td></tr>",
                            "<tr><td>55</td><td>2</td><td>1163</td></tr>",
                            "<tr><td>110</td><td>2</td><td>1162</td></tr>",
                            "<tr><td>198</td><td>3</td><td>1161</td></tr>",
                            "<tr><td>152</td><td>2</td><td>1160</td></tr>",
                            "<tr><td>73</td><td>2</td><td>1159</td></tr>",
                            "<tr><td>26</td><td>2</td><td>1158</td></tr>",
                            "<tr><td>9</td><td>3</td><td>1157</td></tr>",
                            "<tr><td>140</td><td>2</td><td>1156</td></tr>",
                            "<tr><td>143</td><td>3</td><td>1155</td></tr>",
                            "<tr><td>115</td><td>3</td><td>1154</td></tr>",
                            "<tr><td>186</td><td>2</td><td>1153</td></tr>",
                            "<tr><td>1</td><td>3</td><td>1152</td></tr>",
                            "<tr><td>3</td><td>3</td><td>1151</td></tr>",
                            "<tr><td>28</td><td>2</td><td>1150</td></tr>",
                            "<tr><td>133</td><td>3</td><td>1149</td></tr>",
                            "<tr><td>61</td><td>3</td><td>1148</td></tr>",
                            "<tr><td>183</td><td>3</td><td>1147</td></tr>",
                            "<tr><td>149</td><td>2</td><td>1146</td></tr>",
                            "<tr><td>145</td><td>2</td><td>1145</td></tr>",
                            "<tr><td>41</td><td>3</td><td>1144</td></tr>",
                            "<tr><td>176</td><td>3</td><td>1143</td></tr>",
                            "<tr><td>172</td><td>2</td><td>1142</td></tr>",
                            "<tr><td>165</td><td>2</td><td>1141</td></tr>",
                            "<tr><td>12</td><td>2</td><td>1140</td></tr>",
                            "<tr><td>19</td><td>2</td><td>1139</td></tr>",
                            "<tr><td>198</td><td>3</td><td>1138</td></tr>",
                            "<tr><td>1</td><td>3</td><td>1137</td></tr>",
                            "<tr><td>30</td><td>3</td><td>1136</td></tr>",
                            "<tr><td>45</td><td>2</td><td>1135</td></tr>",
                            "<tr><td>126</td><td>2</td><td>1134</td></tr>",
                            "<tr><td>175</td><td>2</td><td>1133</td></tr>",
                            "<tr><td>4</td><td>2</td><td>1132</td></tr>",
                            "<tr><td>7</td><td>2</td><td>1131</td></tr>",
                            "<tr><td>22</td><td>3</td><td>1130</td></tr>",
                            "<tr><td>15</td><td>2</td><td>1129</td></tr>",
                            "<tr><td>121</td><td>2</td><td>1128</td></tr>",
                            "<tr><td>4</td><td>2</td><td>1127</td></tr>",
                            "<tr><td>70</td><td>2</td><td>1126</td></tr>",
                            "<tr><td>185</td><td>3</td><td>1125</td></tr>",
                            "<tr><td>112</td><td>3</td><td>1124</td></tr>",
                            "<tr><td>11</td><td>2</td><td>1123</td></tr>",
                            "<tr><td>64</td><td>2</td><td>1122</td></tr>",
                            "<tr><td>115</td><td>3</td><td>1121</td></tr>",
                            "<tr><td>145</td><td>2</td><td>1120</td></tr>",
                            "<tr><td>83</td><td>3</td><td>1119</td></tr>",
                            "<tr><td>40</td><td>3</td><td>1118</td></tr>",
                            "<tr><td>158</td><td>2</td><td>1117</td></tr>",
                            "<tr><td>198</td><td>3</td><td>1116</td></tr>",
                            "<tr><td>151</td><td>2</td><td>1115</td></tr>",
                            "<tr><td>20</td><td>3</td><td>1114</td></tr>",
                            "<tr><td>58</td><td>2</td><td>1113</td></tr>",
                            "<tr><td>155</td><td>3</td><td>1112</td></tr>",
                            "<tr><td>132</td><td>3</td><td>1111</td></tr>",
                            "<tr><td>3</td><td>3</td><td>1110</td></tr>",
                            "<tr><td>110</td><td>2</td><td>1109</td></tr>",
                            "<tr><td>86</td><td>2</td><td>1108</td></tr>",
                            "<tr><td>163</td><td>2</td><td>1107</td></tr>",
                            "<tr><td>20</td><td>3</td><td>1106</td></tr>",
                            "<tr><td>150</td><td>2</td><td>1105</td></tr>",
                            "<tr><td>77</td><td>3</td><td>1104</td></tr>",
                            "<tr><td>87</td><td>3</td><td>1103</td></tr>",
                            "<tr><td>108</td><td>2</td><td>1102</td></tr>",
                            "<tr><td>89</td><td>3</td><td>1101</td></tr>",
                            "<tr><td>150</td><td>2</td><td>1100</td></tr>",
                            "<tr><td>6</td><td>3</td><td>1099</td></tr>",
                            "<tr><td>140</td><td>2</td><td>1098</td></tr>",
                            "<tr><td>95</td><td>3</td><td>1097</td></tr>",
                            "<tr><td>54</td><td>3</td><td>1096</td></tr>",
                            "<tr><td>194</td><td>2</td><td>1095</td></tr>",
                            "<tr><td>175</td><td>2</td><td>1094</td></tr>",
                            "<tr><td>74</td><td>3</td><td>1093</td></tr>",
                            "<tr><td>70</td><td>2</td><td>1092</td></tr>",
                            "<tr><td>197</td><td>3</td><td>1091</td></tr>",
                            "<tr><td>132</td><td>3</td><td>1090</td></tr>",
                            "<tr><td>120</td><td>3</td><td>1089</td></tr>",
                            "<tr><td>43</td><td>3</td><td>1088</td></tr>",
                            "<tr><td>144</td><td>3</td><td>1087</td></tr>",
                            "<tr><td>55</td><td>2</td><td>1086</td></tr>",
                            "<tr><td>113</td><td>3</td><td>1085</td></tr>",
                            "<tr><td>59</td><td>2</td><td>1084</td></tr>",
                            "<tr><td>109</td><td>2</td><td>1083</td></tr>",
                            "<tr><td>27</td><td>3</td><td>1082</td></tr>",
                            "<tr><td>62</td><td>2</td><td>1081</td></tr>",
                            "<tr><td>59</td><td>2</td><td>1080</td></tr>",
                            "<tr><td>86</td><td>2</td><td>1079</td></tr>",
                            "<tr><td>38</td><td>2</td><td>1078</td></tr>",
                            "<tr><td>145</td><td>2</td><td>1077</td></tr>",
                            "<tr><td>29</td><td>2</td><td>1076</td></tr>",
                            "<tr><td>163</td><td>2</td><td>1075</td></tr>",
                            "<tr><td>195</td><td>2</td><td>1074</td></tr>",
                            "<tr><td>5</td><td>2</td><td>1073</td></tr>",
                            "<tr><td>99</td><td>2</td><td>1072</td></tr>",
                            "<tr><td>80</td><td>2</td><td>1071</td></tr>",
                            "<tr><td>20</td><td>3</td><td>1070</td></tr>",
                            "<tr><td>2</td><td>3</td><td>1069</td></tr>",
                            "<tr><td>161</td><td>2</td><td>1068</td></tr>",
                            "<tr><td>183</td><td>3</td><td>1067</td></tr>",
                            "<tr><td>49</td><td>3</td><td>1066</td></tr>",
                            "<tr><td>198</td><td>3</td><td>1065</td></tr>",
                            "<tr><td>139</td><td>2</td><td>1064</td></tr>",
                            "<tr><td>50</td><td>2</td><td>1063</td></tr>",
                            "<tr><td>122</td><td>3</td><td>1062</td></tr>",
                            "<tr><td>154</td><td>2</td><td>1061</td></tr>",
                            "<tr><td>38</td><td>2</td><td>1060</td></tr>",
                            "<tr><td>85</td><td>2</td><td>1059</td></tr>",
                            "<tr><td>151</td><td>2</td><td>1058</td></tr>",
                            "<tr><td>86</td><td>2</td><td>1057</td></tr>",
                            "<tr><td>47</td><td>2</td><td>1056</td></tr>",
                            "<tr><td>69</td><td>3</td><td>1055</td></tr>",
                            "<tr><td>79</td><td>3</td><td>1054</td></tr>",
                            "<tr><td>33</td><td>2</td><td>1053</td></tr>",
                            "<tr><td>25</td><td>3</td><td>1052</td></tr>",
                            "<tr><td>2</td><td>3</td><td>1051</td></tr>",
                            "<tr><td>98</td><td>2</td><td>1050</td></tr>",
                            "<tr><td>121</td><td>2</td><td>1049</td></tr>",
                            "<tr><td>95</td><td>3</td><td>1048</td></tr>",
                            "<tr><td>157</td><td>2</td><td>1047</td></tr>",
                            "<tr><td>136</td><td>2</td><td>1046</td></tr>",
                            "<tr><td>134</td><td>3</td><td>1045</td></tr>",
                            "<tr><td>13</td><td>3</td><td>1044</td></tr>",
                            "<tr><td>193</td><td>3</td><td>1043</td></tr>",
                            "<tr><td>139</td><td>2</td><td>1042</td></tr>",
                            "<tr><td>110</td><td>2</td><td>1041</td></tr>",
                            "<tr><td>130</td><td>2</td><td>1040</td></tr>",
                            "<tr><td>191</td><td>2</td><td>1039</td></tr>",
                            "<tr><td>3</td><td>3</td><td>1038</td></tr>",
                            "<tr><td>89</td><td>3</td><td>1037</td></tr>",
                            "<tr><td>122</td><td>3</td><td>1036</td></tr>",
                            "<tr><td>18</td><td>3</td><td>1035</td></tr>",
                            "<tr><td>127</td><td>2</td><td>1034</td></tr>",
                            "<tr><td>38</td><td>2</td><td>1033</td></tr>",
                            "<tr><td>146</td><td>3</td><td>1032</td></tr>",
                            "<tr><td>27</td><td>3</td><td>1031</td></tr>",
                            "<tr><td>188</td><td>3</td><td>1030</td></tr>",
                            "<tr><td>113</td><td>3</td><td>1029</td></tr>",
                            "<tr><td>15</td><td>2</td><td>1028</td></tr>",
                            "<tr><td>68</td><td>2</td><td>1027</td></tr>",
                            "<tr><td>119</td><td>2</td><td>1026</td></tr>",
                            "<tr><td>157</td><td>2</td><td>1025</td></tr>",
                            "<tr><td>134</td><td>3</td><td>1024</td></tr>",
                            "<tr><td>30</td><td>3</td><td>1023</td></tr>",
                            "<tr><td>181</td><td>3</td><td>1022</td></tr>",
                            "<tr><td>179</td><td>3</td><td>1021</td></tr>",
                            "<tr><td>12</td><td>2</td><td>1020</td></tr>",
                            "<tr><td>43</td><td>3</td><td>1019</td></tr>",
                            "<tr><td>40</td><td>3</td><td>1018</td></tr>",
                            "<tr><td>190</td><td>2</td><td>1017</td></tr>",
                            "<tr><td>92</td><td>3</td><td>1016</td></tr>",
                            "<tr><td>174</td><td>2</td><td>1015</td></tr>",
                            "<tr><td>137</td><td>2</td><td>1014</td></tr>",
                            "<tr><td>75</td><td>2</td><td>1013</td></tr>",
                            "<tr><td>33</td><td>2</td><td>1012</td></tr>",
                            "<tr><td>198</td><td>3</td><td>1011</td></tr>",
                            "<tr><td>164</td><td>2</td><td>1010</td></tr>",
                            "<tr><td>71</td><td>3</td><td>1009</td></tr>",
                            "<tr><td>182</td><td>2</td><td>1008</td></tr>",
                            "<tr><td>122</td><td>3</td><td>1007</td></tr>",
                            "<tr><td>70</td><td>2</td><td>1006</td></tr>",
                            "<tr><td>22</td><td>3</td><td>1005</td></tr>",
                            "<tr><td>134</td><td>3</td><td>1004</td></tr>",
                            "<tr><td>36</td><td>3</td><td>1003</td></tr>",
                            "<tr><td>117</td><td>3</td><td>1002</td></tr>",
                            "<tr><td>4</td><td>2</td><td>1001</td></tr>",
                            "<tr><td>73</td><td>2</td><td>1000</td></tr>",
                            "<tr><td>132</td><td>3</td><td>999</td></tr>",
                            "<tr><td>120</td><td>3</td><td>998</td></tr>",
                            "<tr><td>82</td><td>3</td><td>997</td></tr>",
                            "<tr><td>118</td><td>2</td><td>996</td></tr>",
                            "<tr><td>83</td><td>3</td><td>995</td></tr>",
                            "<tr><td>118</td><td>2</td><td>994</td></tr>",
                            "<tr><td>197</td><td>3</td><td>993</td></tr>",
                            "<tr><td>103</td><td>2</td><td>992</td></tr>",
                            "<tr><td>178</td><td>3</td><td>991</td></tr>",
                            "<tr><td>6</td><td>3</td><td>990</td></tr>",
                            "<tr><td>190</td><td>2</td><td>989</td></tr>",
                            "<tr><td>133</td><td>3</td><td>988</td></tr>",
                            "<tr><td>53</td><td>2</td><td>987</td></tr>",
                            "<tr><td>48</td><td>3</td><td>986</td></tr>",
                            "<tr><td>36</td><td>3</td><td>985</td></tr>",
                            "<tr><td>172</td><td>2</td><td>984</td></tr>",
                            "<tr><td>80</td><td>2</td><td>983</td></tr>",
                            "<tr><td>77</td><td>3</td><td>982</td></tr>",
                            "<tr><td>171</td><td>2</td><td>981</td></tr>",
                            "<tr><td>143</td><td>3</td><td>980</td></tr>",
                            "<tr><td>35</td><td>3</td><td>979</td></tr>",
                            "<tr><td>198</td><td>3</td><td>978</td></tr>",
                            "<tr><td>193</td><td>3</td><td>977</td></tr>",
                            "<tr><td>76</td><td>2</td><td>976</td></tr>",
                            "<tr><td>94</td><td>2</td><td>975</td></tr>",
                            "<tr><td>169</td><td>2</td><td>974</td></tr>",
                            "<tr><td>16</td><td>3</td><td>973</td></tr>",
                            "<tr><td>103</td><td>2</td><td>972</td></tr>",
                            "<tr><td>35</td><td>3</td><td>971</td></tr>",
                            "<tr><td>12</td><td>2</td><td>970</td></tr>",
                            "<tr><td>153</td><td>3</td><td>969</td></tr>",
                            "<tr><td>154</td><td>2</td><td>968</td></tr>",
                            "<tr><td>123</td><td>3</td><td>967</td></tr>",
                            "<tr><td>114</td><td>2</td><td>966</td></tr>",
                            "<tr><td>5</td><td>2</td><td>965</td></tr>",
                            "<tr><td>110</td><td>2</td><td>964</td></tr>",
                            "<tr><td>74</td><td>3</td><td>963</td></tr>",
                            "<tr><td>117</td><td>3</td><td>962</td></tr>",
                            "<tr><td>72</td><td>2</td><td>961</td></tr>",
                            "<tr><td>41</td><td>3</td><td>960</td></tr>",
                            "<tr><td>111</td><td>2</td><td>959</td></tr>",
                            "<tr><td>181</td><td>3</td><td>958</td></tr>",
                            "<tr><td>187</td><td>3</td><td>957</td></tr>",
                            "<tr><td>156</td><td>2</td><td>956</td></tr>",
                            "<tr><td>47</td><td>2</td><td>955</td></tr>",
                            "<tr><td>84</td><td>3</td><td>954</td></tr>",
                            "<tr><td>117</td><td>3</td><td>953</td></tr>",
                            "<tr><td>196</td><td>2</td><td>952</td></tr>",
                            "<tr><td>12</td><td>2</td><td>951</td></tr>",
                            "<tr><td>66</td><td>3</td><td>950</td></tr>",
                            "<tr><td>1</td><td>3</td><td>949</td></tr>",
                            "<tr><td>19</td><td>2</td><td>948</td></tr>",
                            "<tr><td>8</td><td>3</td><td>947</td></tr>",
                            "<tr><td>4</td><td>2</td><td>946</td></tr>",
                            "<tr><td>23</td><td>2</td><td>945</td></tr>",
                            "<tr><td>170</td><td>2</td><td>944</td></tr>",
                            "<tr><td>115</td><td>3</td><td>943</td></tr>",
                            "<tr><td>92</td><td>3</td><td>942</td></tr>",
                            "<tr><td>163</td><td>2</td><td>941</td></tr>",
                            "<tr><td>74</td><td>3</td><td>940</td></tr>",
                            "<tr><td>183</td><td>3</td><td>939</td></tr>",
                            "<tr><td>62</td><td>2</td><td>938</td></tr>",
                            "<tr><td>181</td><td>3</td><td>937</td></tr>",
                            "<tr><td>62</td><td>2</td><td>936</td></tr>",
                            "<tr><td>56</td><td>2</td><td>935</td></tr>",
                            "<tr><td>23</td><td>2</td><td>934</td></tr>",
                            "<tr><td>160</td><td>3</td><td>933</td></tr>",
                            "<tr><td>40</td><td>3</td><td>932</td></tr>",
                            "<tr><td>110</td><td>2</td><td>931</td></tr>",
                            "<tr><td>168</td><td>2</td><td>930</td></tr>",
                            "<tr><td>80</td><td>2</td><td>929</td></tr>",
                            "<tr><td>182</td><td>2</td><td>928</td></tr>",
                            "<tr><td>160</td><td>3</td><td>927</td></tr>",
                            "<tr><td>193</td><td>3</td><td>926</td></tr>",
                            "<tr><td>185</td><td>3</td><td>925</td></tr>",
                            "<tr><td>40</td><td>3</td><td>924</td></tr>",
                            "<tr><td>123</td><td>3</td><td>923</td></tr>",
                            "<tr><td>160</td><td>3</td><td>922</td></tr>",
                            "<tr><td>112</td><td>3</td><td>921</td></tr>",
                            "<tr><td>32</td><td>2</td><td>920</td></tr>",
                            "<tr><td>36</td><td>3</td><td>919</td></tr>",
                            "<tr><td>11</td><td>2</td><td>918</td></tr>",
                            "<tr><td>174</td><td>2</td><td>917</td></tr>",
                            "<tr><td>17</td><td>3</td><td>916</td></tr>",
                            "<tr><td>140</td><td>2</td><td>915</td></tr>",
                            "<tr><td>48</td><td>3</td><td>914</td></tr>",
                            "<tr><td>173</td><td>2</td><td>913</td></tr>",
                            "<tr><td>188</td><td>3</td><td>912</td></tr>",
                            "<tr><td>161</td><td>2</td><td>911</td></tr>",
                            "<tr><td>130</td><td>2</td><td>910</td></tr>",
                            "<tr><td>133</td><td>3</td><td>909</td></tr>",
                            "<tr><td>141</td><td>2</td><td>908</td></tr>",
                            "<tr><td>156</td><td>2</td><td>907</td></tr>",
                            "<tr><td>22</td><td>3</td><td>906</td></tr>",
                            "<tr><td>180</td><td>2</td><td>905</td></tr>",
                            "<tr><td>34</td><td>3</td><td>904</td></tr>",
                            "<tr><td>192</td><td>2</td><td>903</td></tr>",
                            "<tr><td>72</td><td>2</td><td>902</td></tr>",
                            "<tr><td>28</td><td>2</td><td>901</td></tr>",
                            "<tr><td>165</td><td>2</td><td>900</td></tr>",
                            "<tr><td>39</td><td>2</td><td>899</td></tr>",
                            "<tr><td>185</td><td>3</td><td>898</td></tr>",
                            "<tr><td>165</td><td>2</td><td>897</td></tr>",
                            "<tr><td>16</td><td>3</td><td>896</td></tr>",
                            "<tr><td>36</td><td>3</td><td>895</td></tr>",
                            "<tr><td>29</td><td>2</td><td>894</td></tr>",
                            "<tr><td>151</td><td>2</td><td>893</td></tr>",
                            "<tr><td>165</td><td>2</td><td>892</td></tr>",
                            "<tr><td>63</td><td>2</td><td>891</td></tr>",
                            "<tr><td>146</td><td>3</td><td>890</td></tr>",
                            "<tr><td>54</td><td>3</td><td>889</td></tr>",
                            "<tr><td>49</td><td>3</td><td>888</td></tr>",
                            "<tr><td>80</td><td>2</td><td>887</td></tr>",
                            "<tr><td>28</td><td>2</td><td>886</td></tr>",
                            "<tr><td>69</td><td>3</td><td>885</td></tr>",
                            "<tr><td>98</td><td>2</td><td>884</td></tr>",
                            "<tr><td>58</td><td>2</td><td>883</td></tr>",
                            "<tr><td>8</td><td>3</td><td>882</td></tr>",
                            "<tr><td>131</td><td>2</td><td>881</td></tr>",
                            "<tr><td>184</td><td>2</td><td>880</td></tr>",
                            "<tr><td>127</td><td>2</td><td>879</td></tr>",
                            "<tr><td>83</td><td>3</td><td>878</td></tr>",
                            "<tr><td>74</td><td>3</td><td>877</td></tr>",
                            "<tr><td>12</td><td>2</td><td>876</td></tr>",
                            "<tr><td>64</td><td>2</td><td>875</td></tr>",
                            "<tr><td>67</td><td>2</td><td>874</td></tr>",
                            "<tr><td>6</td><td>3</td><td>873</td></tr>",
                            "<tr><td>28</td><td>2</td><td>872</td></tr>",
                            "<tr><td>82</td><td>3</td><td>871</td></tr>",
                            "<tr><td>34</td><td>3</td><td>870</td></tr>",
                            "<tr><td>83</td><td>3</td><td>869</td></tr>",
                            "<tr><td>187</td><td>3</td><td>868</td></tr>",
                            "<tr><td>175</td><td>2</td><td>867</td></tr>",
                            "<tr><td>88</td><td>3</td><td>866</td></tr>",
                            "<tr><td>51</td><td>3</td><td>865</td></tr>",
                            "<tr><td>118</td><td>2</td><td>864</td></tr>",
                            "<tr><td>185</td><td>3</td><td>863</td></tr>",
                            "<tr><td>82</td><td>3</td><td>862</td></tr>",
                            "<tr><td>124</td><td>3</td><td>861</td></tr>",
                            "<tr><td>70</td><td>2</td><td>860</td></tr>",
                            "<tr><td>86</td><td>2</td><td>859</td></tr>",
                            "<tr><td>121</td><td>2</td><td>858</td></tr>",
                            "<tr><td>165</td><td>2</td><td>857</td></tr>",
                            "<tr><td>16</td><td>3</td><td>856</td></tr>",
                            "<tr><td>53</td><td>2</td><td>855</td></tr>",
                            "<tr><td>167</td><td>3</td><td>854</td></tr>",
                            "<tr><td>127</td><td>2</td><td>853</td></tr>",
                            "<tr><td>24</td><td>4</td><td>852</td></tr>",
                            "<tr><td>42</td><td>2</td><td>851</td></tr>",
                            "<tr><td>6</td><td>3</td><td>850</td></tr>",
                            "<tr><td>135</td><td>3</td><td>849</td></tr>",
                            "<tr><td>23</td><td>2</td><td>848</td></tr>",
                            "<tr><td>74</td><td>3</td><td>847</td></tr>",
                            "<tr><td>45</td><td>2</td><td>846</td></tr>",
                            "<tr><td>63</td><td>2</td><td>845</td></tr>",
                            "<tr><td>87</td><td>3</td><td>844</td></tr>",
                            "<tr><td>149</td><td>2</td><td>843</td></tr>",
                            "<tr><td>195</td><td>2</td><td>842</td></tr>",
                            "<tr><td>92</td><td>3</td><td>841</td></tr>",
                            "<tr><td>158</td><td>2</td><td>840</td></tr>",
                            "<tr><td>172</td><td>2</td><td>839</td></tr>",
                            "<tr><td>56</td><td>2</td><td>838</td></tr>",
                            "<tr><td>104</td><td>3</td><td>837</td></tr>",
                            "<tr><td>97</td><td>3</td><td>836</td></tr>",
                            "<tr><td>193</td><td>3</td><td>835</td></tr>",
                            "<tr><td>149</td><td>2</td><td>834</td></tr>",
                            "<tr><td>149</td><td>2</td><td>833</td></tr>",
                            "<tr><td>8</td><td>3</td><td>832</td></tr>",
                            "<tr><td>177</td><td>3</td><td>831</td></tr>",
                            "<tr><td>74</td><td>3</td><td>830</td></tr>",
                            "<tr><td>35</td><td>3</td><td>829</td></tr>",
                            "<tr><td>2</td><td>3</td><td>828</td></tr>",
                            "<tr><td>114</td><td>2</td><td>827</td></tr>",
                            "<tr><td>49</td><td>3</td><td>826</td></tr>",
                            "<tr><td>158</td><td>2</td><td>825</td></tr>",
                            "<tr><td>48</td><td>3</td><td>824</td></tr>",
                            "<tr><td>44</td><td>3</td><td>823</td></tr>",
                            "<tr><td>52</td><td>2</td><td>822</td></tr>",
                            "<tr><td>34</td><td>3</td><td>821</td></tr>",
                            "<tr><td>20</td><td>3</td><td>820</td></tr>",
                            "<tr><td>84</td><td>3</td><td>819</td></tr>",
                            "<tr><td>8</td><td>3</td><td>818</td></tr>",
                            "<tr><td>89</td><td>3</td><td>817</td></tr>",
                            "<tr><td>178</td><td>3</td><td>816</td></tr>",
                            "<tr><td>128</td><td>2</td><td>815</td></tr>",
                            "<tr><td>70</td><td>2</td><td>814</td></tr>",
                            "<tr><td>14</td><td>3</td><td>813</td></tr>",
                            "<tr><td>148</td><td>2</td><td>812</td></tr>",
                            "<tr><td>51</td><td>3</td><td>811</td></tr>",
                            "<tr><td>109</td><td>2</td><td>810</td></tr>",
                            "<tr><td>92</td><td>3</td><td>809</td></tr>",
                            "<tr><td>148</td><td>2</td><td>808</td></tr>",
                            "<tr><td>27</td><td>3</td><td>807</td></tr>",
                            "<tr><td>126</td><td>2</td><td>806</td></tr>",
                            "<tr><td>21</td><td>2</td><td>805</td></tr>",
                            "<tr><td>146</td><td>3</td><td>804</td></tr>",
                            "<tr><td>1</td><td>3</td><td>803</td></tr>",
                            "<tr><td>45</td><td>2</td><td>802</td></tr>",
                            "<tr><td>112</td><td>3</td><td>801</td></tr>",
                            "<tr><td>45</td><td>2</td><td>800</td></tr>",
                            "<tr><td>175</td><td>2</td><td>799</td></tr>",
                            "<tr><td>83</td><td>3</td><td>798</td></tr>",
                            "<tr><td>74</td><td>3</td><td>797</td></tr>",
                            "<tr><td>138</td><td>3</td><td>796</td></tr>",
                            "<tr><td>10</td><td>3</td><td>795</td></tr>",
                            "<tr><td>168</td><td>2</td><td>794</td></tr>",
                            "<tr><td>49</td><td>3</td><td>793</td></tr>",
                            "<tr><td>168</td><td>2</td><td>792</td></tr>",
                            "<tr><td>15</td><td>2</td><td>791</td></tr>",
                            "<tr><td>10</td><td>3</td><td>790</td></tr>",
                            "<tr><td>146</td><td>3</td><td>789</td></tr>",
                            "<tr><td>3</td><td>3</td><td>788</td></tr>",
                            "<tr><td>50</td><td>2</td><td>787</td></tr>",
                            "<tr><td>111</td><td>2</td><td>786</td></tr>",
                            "<tr><td>177</td><td>3</td><td>785</td></tr>",
                            "<tr><td>141</td><td>2</td><td>784</td></tr>",
                            "<tr><td>148</td><td>2</td><td>783</td></tr>",
                            "<tr><td>163</td><td>2</td><td>782</td></tr>",
                            "<tr><td>166</td><td>2</td><td>781</td></tr>",
                            "<tr><td>96</td><td>3</td><td>780</td></tr>",
                            "<tr><td>130</td><td>2</td><td>779</td></tr>",
                            "<tr><td>19</td><td>2</td><td>778</td></tr>",
                            "<tr><td>34</td><td>3</td><td>777</td></tr>",
                            "<tr><td>112</td><td>3</td><td>776</td></tr>",
                            "<tr><td>12</td><td>2</td><td>775</td></tr>",
                            "<tr><td>190</td><td>2</td><td>774</td></tr>",
                            "<tr><td>58</td><td>2</td><td>773</td></tr>",
                            "<tr><td>6</td><td>3</td><td>772</td></tr>",
                            "<tr><td>147</td><td>2</td><td>771</td></tr>",
                            "<tr><td>42</td><td>2</td><td>770</td></tr>",
                            "<tr><td>63</td><td>2</td><td>769</td></tr>",
                            "<tr><td>138</td><td>3</td><td>768</td></tr>",
                            "<tr><td>18</td><td>3</td><td>767</td></tr>",
                            "<tr><td>187</td><td>3</td><td>766</td></tr>",
                            "<tr><td>148</td><td>2</td><td>765</td></tr>",
                            "<tr><td>197</td><td>3</td><td>764</td></tr>",
                            "<tr><td>13</td><td>3</td><td>763</td></tr>",
                            "<tr><td>120</td><td>3</td><td>762</td></tr>",
                            "<tr><td>141</td><td>2</td><td>761</td></tr>",
                            "<tr><td>131</td><td>2</td><td>760</td></tr>",
                            "<tr><td>7</td><td>2</td><td>759</td></tr>",
                            "<tr><td>27</td><td>3</td><td>758</td></tr>",
                            "<tr><td>88</td><td>3</td><td>757</td></tr>",
                            "<tr><td>61</td><td>3</td><td>756</td></tr>",
                            "<tr><td>20</td><td>3</td><td>755</td></tr>",
                            "<tr><td>126</td><td>2</td><td>754</td></tr>",
                            "<tr><td>189</td><td>2</td><td>753</td></tr>",
                            "<tr><td>46</td><td>3</td><td>752</td></tr>",
                            "<tr><td>139</td><td>2</td><td>751</td></tr>",
                            "<tr><td>36</td><td>3</td><td>750</td></tr>",
                            "<tr><td>172</td><td>2</td><td>749</td></tr>",
                            "<tr><td>36</td><td>3</td><td>748</td></tr>",
                            "<tr><td>188</td><td>3</td><td>747</td></tr>",
                            "<tr><td>169</td><td>2</td><td>746</td></tr>",
                            "<tr><td>139</td><td>2</td><td>745</td></tr>",
                            "<tr><td>17</td><td>3</td><td>744</td></tr>",
                            "<tr><td>187</td><td>3</td><td>743</td></tr>",
                            "<tr><td>164</td><td>2</td><td>742</td></tr>",
                            "<tr><td>93</td><td>3</td><td>741</td></tr>",
                            "<tr><td>182</td><td>2</td><td>740</td></tr>",
                            "<tr><td>121</td><td>2</td><td>739</td></tr>",
                            "<tr><td>1</td><td>3</td><td>738</td></tr>",
                            "<tr><td>114</td><td>2</td><td>737</td></tr>",
                            "<tr><td>66</td><td>3</td><td>736</td></tr>",
                            "<tr><td>121</td><td>2</td><td>735</td></tr>",
                            "<tr><td>55</td><td>2</td><td>734</td></tr>",
                            "<tr><td>140</td><td>2</td><td>733</td></tr>",
                            "<tr><td>91</td><td>2</td><td>732</td></tr>",
                            "<tr><td>181</td><td>3</td><td>731</td></tr>",
                            "<tr><td>152</td><td>2</td><td>730</td></tr>",
                            "<tr><td>90</td><td>3</td><td>729</td></tr>",
                            "<tr><td>31</td><td>3</td><td>728</td></tr>",
                            "<tr><td>94</td><td>2</td><td>727</td></tr>",
                            "<tr><td>97</td><td>3</td><td>726</td></tr>",
                            "<tr><td>28</td><td>2</td><td>725</td></tr>",
                            "<tr><td>135</td><td>3</td><td>724</td></tr>",
                            "<tr><td>129</td><td>2</td><td>723</td></tr>",
                            "<tr><td>119</td><td>2</td><td>722</td></tr>",
                            "<tr><td>195</td><td>2</td><td>721</td></tr>",
                            "<tr><td>160</td><td>3</td><td>720</td></tr>",
                            "<tr><td>58</td><td>2</td><td>719</td></tr>",
                            "<tr><td>97</td><td>3</td><td>718</td></tr>",
                            "<tr><td>128</td><td>2</td><td>717</td></tr>",
                            "<tr><td>118</td><td>2</td><td>716</td></tr>",
                            "<tr><td>101</td><td>2</td><td>715</td></tr>",
                            "<tr><td>73</td><td>2</td><td>714</td></tr>",
                            "<tr><td>17</td><td>3</td><td>713</td></tr>",
                            "<tr><td>71</td><td>3</td><td>712</td></tr>",
                            "<tr><td>185</td><td>3</td><td>711</td></tr>",
                            "<tr><td>188</td><td>3</td><td>710</td></tr>",
                            "<tr><td>172</td><td>2</td><td>709</td></tr>",
                            "<tr><td>106</td><td>2</td><td>708</td></tr>",
                            "<tr><td>35</td><td>3</td><td>707</td></tr>",
                            "<tr><td>119</td><td>2</td><td>706</td></tr>",
                            "<tr><td>37</td><td>2</td><td>705</td></tr>",
                            "<tr><td>70</td><td>2</td><td>704</td></tr>",
                            "<tr><td>145</td><td>2</td><td>703</td></tr>",
                            "<tr><td>62</td><td>2</td><td>702</td></tr>",
                            "<tr><td>61</td><td>3</td><td>701</td></tr>",
                            "<tr><td>78</td><td>2</td><td>700</td></tr>",
                            "<tr><td>189</td><td>2</td><td>699</td></tr>",
                            "<tr><td>77</td><td>3</td><td>698</td></tr>",
                            "<tr><td>12</td><td>2</td><td>697</td></tr>",
                            "<tr><td>19</td><td>2</td><td>696</td></tr>",
                            "<tr><td>187</td><td>3</td><td>695</td></tr>",
                            "<tr><td>8</td><td>3</td><td>694</td></tr>",
                            "<tr><td>185</td><td>3</td><td>693</td></tr>",
                            "<tr><td>156</td><td>2</td><td>692</td></tr>",
                            "<tr><td>99</td><td>2</td><td>691</td></tr>",
                            "<tr><td>188</td><td>3</td><td>690</td></tr>",
                            "<tr><td>102</td><td>2</td><td>689</td></tr>",
                            "<tr><td>37</td><td>2</td><td>688</td></tr>",
                            "<tr><td>16</td><td>3</td><td>687</td></tr>",
                            "<tr><td>35</td><td>3</td><td>686</td></tr>",
                            "<tr><td>110</td><td>2</td><td>685</td></tr>",
                            "<tr><td>184</td><td>2</td><td>684</td></tr>",
                            "<tr><td>76</td><td>2</td><td>683</td></tr>",
                            "<tr><td>174</td><td>2</td><td>682</td></tr>",
                            "<tr><td>71</td><td>3</td><td>681</td></tr>",
                            "<tr><td>192</td><td>2</td><td>680</td></tr>",
                            "<tr><td>185</td><td>3</td><td>679</td></tr>",
                            "<tr><td>148</td><td>2</td><td>678</td></tr>",
                            "<tr><td>181</td><td>3</td><td>677</td></tr>",
                            "<tr><td>60</td><td>3</td><td>676</td></tr>",
                            "<tr><td>193</td><td>3</td><td>675</td></tr>",
                            "<tr><td>83</td><td>3</td><td>674</td></tr>",
                            "<tr><td>196</td><td>2</td><td>673</td></tr>",
                            "<tr><td>185</td><td>3</td><td>672</td></tr>",
                            "<tr><td>96</td><td>3</td><td>671</td></tr>",
                            "<tr><td>43</td><td>3</td><td>670</td></tr>",
                            "<tr><td>173</td><td>2</td><td>669</td></tr>",
                            "<tr><td>54</td><td>3</td><td>668</td></tr>",
                            "<tr><td>80</td><td>2</td><td>667</td></tr>",
                            "<tr><td>3</td><td>3</td><td>666</td></tr>",
                            "<tr><td>94</td><td>2</td><td>665</td></tr>",
                            "<tr><td>146</td><td>3</td><td>664</td></tr>",
                            "<tr><td>14</td><td>3</td><td>663</td></tr>",
                            "<tr><td>179</td><td>3</td><td>662</td></tr>",
                            "<tr><td>136</td><td>2</td><td>661</td></tr>",
                            "<tr><td>21</td><td>2</td><td>660</td></tr>",
                            "<tr><td>169</td><td>2</td><td>659</td></tr>",
                            "<tr><td>44</td><td>3</td><td>658</td></tr>",
                            "<tr><td>137</td><td>2</td><td>657</td></tr>",
                            "<tr><td>95</td><td>3</td><td>656</td></tr>",
                            "<tr><td>131</td><td>2</td><td>655</td></tr>",
                            "<tr><td>109</td><td>2</td><td>654</td></tr>",
                            "<tr><td>161</td><td>2</td><td>653</td></tr>",
                            "<tr><td>149</td><td>2</td><td>652</td></tr>",
                            "<tr><td>4</td><td>2</td><td>651</td></tr>",
                            "<tr><td>65</td><td>2</td><td>650</td></tr>",
                            "<tr><td>137</td><td>2</td><td>649</td></tr>",
                            "<tr><td>157</td><td>2</td><td>648</td></tr>",
                            "<tr><td>85</td><td>2</td><td>647</td></tr>",
                            "<tr><td>78</td><td>2</td><td>646</td></tr>",
                            "<tr><td>67</td><td>2</td><td>645</td></tr>",
                            "<tr><td>166</td><td>2</td><td>644</td></tr>",
                            "<tr><td>127</td><td>2</td><td>643</td></tr>",
                            "<tr><td>54</td><td>3</td><td>642</td></tr>",
                            "<tr><td>150</td><td>2</td><td>641</td></tr>",
                            "<tr><td>165</td><td>2</td><td>640</td></tr>",
                            "<tr><td>161</td><td>2</td><td>639</td></tr>",
                            "<tr><td>67</td><td>2</td><td>638</td></tr>",
                            "<tr><td>100</td><td>2</td><td>637</td></tr>",
                            "<tr><td>91</td><td>2</td><td>636</td></tr>",
                            "<tr><td>97</td><td>3</td><td>635</td></tr>",
                            "<tr><td>193</td><td>3</td><td>634</td></tr>",
                            "<tr><td>187</td><td>3</td><td>633</td></tr>",
                            "<tr><td>99</td><td>2</td><td>632</td></tr>",
                            "<tr><td>98</td><td>2</td><td>631</td></tr>",
                            "<tr><td>163</td><td>2</td><td>630</td></tr>",
                            "<tr><td>3</td><td>3</td><td>629</td></tr>",
                            "<tr><td>48</td><td>3</td><td>628</td></tr>",
                            "<tr><td>38</td><td>2</td><td>627</td></tr>",
                            "<tr><td>18</td><td>3</td><td>626</td></tr>",
                            "<tr><td>63</td><td>2</td><td>625</td></tr>",
                            "<tr><td>33</td><td>2</td><td>624</td></tr>",
                            "<tr><td>96</td><td>3</td><td>623</td></tr>",
                            "<tr><td>54</td><td>3</td><td>622</td></tr>",
                            "<tr><td>109</td><td>2</td><td>621</td></tr>",
                            "<tr><td>1</td><td>3</td><td>620</td></tr>",
                            "<tr><td>132</td><td>3</td><td>619</td></tr>",
                            "<tr><td>105</td><td>2</td><td>618</td></tr>",
                            "<tr><td>117</td><td>3</td><td>617</td></tr>",
                            "<tr><td>94</td><td>2</td><td>616</td></tr>",
                            "<tr><td>186</td><td>2</td><td>615</td></tr>",
                            "<tr><td>109</td><td>2</td><td>614</td></tr>",
                            "<tr><td>130</td><td>2</td><td>613</td></tr>",
                            "<tr><td>117</td><td>3</td><td>612</td></tr>",
                            "<tr><td>29</td><td>2</td><td>611</td></tr>",
                            "<tr><td>106</td><td>2</td><td>610</td></tr>",
                            "<tr><td>9</td><td>3</td><td>609</td></tr>",
                            "<tr><td>184</td><td>2</td><td>608</td></tr>",
                            "<tr><td>96</td><td>3</td><td>607</td></tr>",
                            "<tr><td>31</td><td>3</td><td>606</td></tr>",
                            "<tr><td>111</td><td>2</td><td>605</td></tr>",
                            "<tr><td>30</td><td>3</td><td>604</td></tr>",
                            "<tr><td>48</td><td>3</td><td>603</td></tr>",
                            "<tr><td>17</td><td>3</td><td>602</td></tr>",
                            "<tr><td>39</td><td>2</td><td>601</td></tr>",
                            "<tr><td>190</td><td>2</td><td>600</td></tr>",
                            "<tr><td>162</td><td>3</td><td>599</td></tr>",
                            "<tr><td>31</td><td>3</td><td>598</td></tr>",
                            "<tr><td>100</td><td>2</td><td>597</td></tr>",
                            "<tr><td>115</td><td>3</td><td>596</td></tr>",
                            "<tr><td>74</td><td>3</td><td>595</td></tr>",
                            "<tr><td>153</td><td>3</td><td>594</td></tr>",
                            "<tr><td>77</td><td>3</td><td>593</td></tr>",
                            "<tr><td>176</td><td>3</td><td>592</td></tr>",
                            "<tr><td>149</td><td>2</td><td>591</td></tr>",
                            "<tr><td>42</td><td>2</td><td>590</td></tr>",
                            "<tr><td>44</td><td>3</td><td>589</td></tr>",
                            "<tr><td>156</td><td>2</td><td>588</td></tr>",
                            "<tr><td>123</td><td>3</td><td>587</td></tr>",
                            "<tr><td>107</td><td>2</td><td>586</td></tr>",
                            "<tr><td>70</td><td>2</td><td>585</td></tr>",
                            "<tr><td>136</td><td>2</td><td>584</td></tr>",
                            "<tr><td>79</td><td>3</td><td>583</td></tr>",
                            "<tr><td>137</td><td>2</td><td>582</td></tr>",
                            "<tr><td>144</td><td>3</td><td>581</td></tr>",
                            "<tr><td>130</td><td>2</td><td>580</td></tr>",
                            "<tr><td>139</td><td>2</td><td>579</td></tr>",
                            "<tr><td>185</td><td>3</td><td>578</td></tr>",
                            "<tr><td>155</td><td>3</td><td>577</td></tr>",
                            "<tr><td>125</td><td>2</td><td>576</td></tr>",
                            "<tr><td>155</td><td>3</td><td>575</td></tr>",
                            "<tr><td>171</td><td>2</td><td>574</td></tr>",
                            "<tr><td>169</td><td>2</td><td>573</td></tr>",
                            "<tr><td>83</td><td>3</td><td>572</td></tr>",
                            "<tr><td>182</td><td>2</td><td>571</td></tr>",
                            "<tr><td>164</td><td>2</td><td>570</td></tr>",
                            "<tr><td>10</td><td>3</td><td>569</td></tr>",
                            "<tr><td>78</td><td>2</td><td>568</td></tr>",
                            "<tr><td>170</td><td>2</td><td>567</td></tr>",
                            "<tr><td>21</td><td>2</td><td>566</td></tr>",
                            "<tr><td>141</td><td>2</td><td>565</td></tr>",
                            "<tr><td>5</td><td>2</td><td>564</td></tr>",
                            "<tr><td>68</td><td>2</td><td>563</td></tr>",
                            "<tr><td>7</td><td>2</td><td>562</td></tr>",
                            "<tr><td>42</td><td>2</td><td>561</td></tr>",
                            "<tr><td>6</td><td>3</td><td>560</td></tr>",
                            "<tr><td>131</td><td>2</td><td>559</td></tr>",
                            "<tr><td>87</td><td>3</td><td>558</td></tr>",
                            "</table>"
                        ]
                    }
                }
            ],
            "execution_count": 8
        },
        {
            "cell_type": "markdown",
            "source": [
                "2\\. Feladat"
            ],
            "metadata": {
                "language": "sql",
                "azdata_cell_guid": "01b98e0d-5130-43c4-a659-23aa415e2a88"
            },
            "attachments": {}
        },
        {
            "cell_type": "code",
            "source": [
                "SELECT f.FOGLALAS_PK, f.METTOL\r\n",
                "FROM Foglalas f JOIN Szoba sz ON f.SZOBA_FK = sz.SZOBA_ID\r\n",
                "GROUP BY sz.SZOBA_ID, f.FOGLALAS_PK, f.METTOL"
            ],
            "metadata": {
                "azdata_cell_guid": "c863d7ff-fce7-4bd9-83cb-b7e8b31313d1",
                "language": "sql",
                "tags": []
            },
            "outputs": [
                {
                    "output_type": "display_data",
                    "data": {
                        "text/html": "(1027 rows affected)"
                    },
                    "metadata": {}
                },
                {
                    "output_type": "display_data",
                    "data": {
                        "text/html": "Total execution time: 00:00:00.014"
                    },
                    "metadata": {}
                },
                {
                    "output_type": "execute_result",
                    "metadata": {},
                    "execution_count": 28,
                    "data": {
                        "application/vnd.dataresource+json": {
                            "schema": {
                                "fields": [
                                    {
                                        "name": "FOGLALAS_PK"
                                    },
                                    {
                                        "name": "METTOL"
                                    }
                                ]
                            },
                            "data": [
                                {
                                    "FOGLALAS_PK": "558",
                                    "METTOL": "2016-04-06"
                                },
                                {
                                    "FOGLALAS_PK": "559",
                                    "METTOL": "2016-04-06"
                                },
                                {
                                    "FOGLALAS_PK": "560",
                                    "METTOL": "2016-04-06"
                                },
                                {
                                    "FOGLALAS_PK": "561",
                                    "METTOL": "2016-04-06"
                                },
                                {
                                    "FOGLALAS_PK": "562",
                                    "METTOL": "2016-04-06"
                                },
                                {
                                    "FOGLALAS_PK": "563",
                                    "METTOL": "2016-04-07"
                                },
                                {
                                    "FOGLALAS_PK": "564",
                                    "METTOL": "2016-04-08"
                                },
                                {
                                    "FOGLALAS_PK": "565",
                                    "METTOL": "2016-04-08"
                                },
                                {
                                    "FOGLALAS_PK": "566",
                                    "METTOL": "2016-04-09"
                                },
                                {
                                    "FOGLALAS_PK": "567",
                                    "METTOL": "2016-04-10"
                                },
                                {
                                    "FOGLALAS_PK": "568",
                                    "METTOL": "2016-04-10"
                                },
                                {
                                    "FOGLALAS_PK": "569",
                                    "METTOL": "2016-04-10"
                                },
                                {
                                    "FOGLALAS_PK": "570",
                                    "METTOL": "2016-04-10"
                                },
                                {
                                    "FOGLALAS_PK": "571",
                                    "METTOL": "2016-04-10"
                                },
                                {
                                    "FOGLALAS_PK": "572",
                                    "METTOL": "2016-04-10"
                                },
                                {
                                    "FOGLALAS_PK": "573",
                                    "METTOL": "2016-04-10"
                                },
                                {
                                    "FOGLALAS_PK": "574",
                                    "METTOL": "2016-04-10"
                                },
                                {
                                    "FOGLALAS_PK": "575",
                                    "METTOL": "2016-04-10"
                                },
                                {
                                    "FOGLALAS_PK": "576",
                                    "METTOL": "2016-04-11"
                                },
                                {
                                    "FOGLALAS_PK": "577",
                                    "METTOL": "2016-04-12"
                                },
                                {
                                    "FOGLALAS_PK": "578",
                                    "METTOL": "2016-04-13"
                                },
                                {
                                    "FOGLALAS_PK": "579",
                                    "METTOL": "2016-04-14"
                                },
                                {
                                    "FOGLALAS_PK": "580",
                                    "METTOL": "2016-04-14"
                                },
                                {
                                    "FOGLALAS_PK": "581",
                                    "METTOL": "2016-04-15"
                                },
                                {
                                    "FOGLALAS_PK": "582",
                                    "METTOL": "2016-04-16"
                                },
                                {
                                    "FOGLALAS_PK": "583",
                                    "METTOL": "2016-04-16"
                                },
                                {
                                    "FOGLALAS_PK": "584",
                                    "METTOL": "2016-04-17"
                                },
                                {
                                    "FOGLALAS_PK": "585",
                                    "METTOL": "2016-04-17"
                                },
                                {
                                    "FOGLALAS_PK": "586",
                                    "METTOL": "2016-04-18"
                                },
                                {
                                    "FOGLALAS_PK": "587",
                                    "METTOL": "2016-04-19"
                                },
                                {
                                    "FOGLALAS_PK": "588",
                                    "METTOL": "2016-04-19"
                                },
                                {
                                    "FOGLALAS_PK": "589",
                                    "METTOL": "2016-04-19"
                                },
                                {
                                    "FOGLALAS_PK": "590",
                                    "METTOL": "2016-04-19"
                                },
                                {
                                    "FOGLALAS_PK": "591",
                                    "METTOL": "2016-04-20"
                                },
                                {
                                    "FOGLALAS_PK": "592",
                                    "METTOL": "2016-04-21"
                                },
                                {
                                    "FOGLALAS_PK": "593",
                                    "METTOL": "2016-04-21"
                                },
                                {
                                    "FOGLALAS_PK": "594",
                                    "METTOL": "2016-04-22"
                                },
                                {
                                    "FOGLALAS_PK": "595",
                                    "METTOL": "2016-04-22"
                                },
                                {
                                    "FOGLALAS_PK": "596",
                                    "METTOL": "2016-04-23"
                                },
                                {
                                    "FOGLALAS_PK": "597",
                                    "METTOL": "2016-04-23"
                                },
                                {
                                    "FOGLALAS_PK": "598",
                                    "METTOL": "2016-04-24"
                                },
                                {
                                    "FOGLALAS_PK": "599",
                                    "METTOL": "2016-04-24"
                                },
                                {
                                    "FOGLALAS_PK": "600",
                                    "METTOL": "2016-04-24"
                                },
                                {
                                    "FOGLALAS_PK": "601",
                                    "METTOL": "2016-04-25"
                                },
                                {
                                    "FOGLALAS_PK": "602",
                                    "METTOL": "2016-04-26"
                                },
                                {
                                    "FOGLALAS_PK": "603",
                                    "METTOL": "2016-04-26"
                                },
                                {
                                    "FOGLALAS_PK": "604",
                                    "METTOL": "2016-04-27"
                                },
                                {
                                    "FOGLALAS_PK": "605",
                                    "METTOL": "2016-04-27"
                                },
                                {
                                    "FOGLALAS_PK": "606",
                                    "METTOL": "2016-04-27"
                                },
                                {
                                    "FOGLALAS_PK": "607",
                                    "METTOL": "2016-04-28"
                                },
                                {
                                    "FOGLALAS_PK": "608",
                                    "METTOL": "2016-04-28"
                                },
                                {
                                    "FOGLALAS_PK": "609",
                                    "METTOL": "2016-04-29"
                                },
                                {
                                    "FOGLALAS_PK": "610",
                                    "METTOL": "2016-04-30"
                                },
                                {
                                    "FOGLALAS_PK": "611",
                                    "METTOL": "2016-05-01"
                                },
                                {
                                    "FOGLALAS_PK": "612",
                                    "METTOL": "2016-05-01"
                                },
                                {
                                    "FOGLALAS_PK": "613",
                                    "METTOL": "2016-05-01"
                                },
                                {
                                    "FOGLALAS_PK": "614",
                                    "METTOL": "2016-05-01"
                                },
                                {
                                    "FOGLALAS_PK": "615",
                                    "METTOL": "2016-05-01"
                                },
                                {
                                    "FOGLALAS_PK": "616",
                                    "METTOL": "2016-05-02"
                                },
                                {
                                    "FOGLALAS_PK": "617",
                                    "METTOL": "2016-05-02"
                                },
                                {
                                    "FOGLALAS_PK": "618",
                                    "METTOL": "2016-05-03"
                                },
                                {
                                    "FOGLALAS_PK": "619",
                                    "METTOL": "2016-05-04"
                                },
                                {
                                    "FOGLALAS_PK": "620",
                                    "METTOL": "2016-05-05"
                                },
                                {
                                    "FOGLALAS_PK": "621",
                                    "METTOL": "2016-05-06"
                                },
                                {
                                    "FOGLALAS_PK": "622",
                                    "METTOL": "2016-05-07"
                                },
                                {
                                    "FOGLALAS_PK": "623",
                                    "METTOL": "2016-05-08"
                                },
                                {
                                    "FOGLALAS_PK": "624",
                                    "METTOL": "2016-05-08"
                                },
                                {
                                    "FOGLALAS_PK": "625",
                                    "METTOL": "2016-05-08"
                                },
                                {
                                    "FOGLALAS_PK": "626",
                                    "METTOL": "2016-05-08"
                                },
                                {
                                    "FOGLALAS_PK": "627",
                                    "METTOL": "2016-05-08"
                                },
                                {
                                    "FOGLALAS_PK": "628",
                                    "METTOL": "2016-05-09"
                                },
                                {
                                    "FOGLALAS_PK": "629",
                                    "METTOL": "2016-05-09"
                                },
                                {
                                    "FOGLALAS_PK": "630",
                                    "METTOL": "2016-05-09"
                                },
                                {
                                    "FOGLALAS_PK": "631",
                                    "METTOL": "2016-05-09"
                                },
                                {
                                    "FOGLALAS_PK": "632",
                                    "METTOL": "2016-05-09"
                                },
                                {
                                    "FOGLALAS_PK": "633",
                                    "METTOL": "2016-05-09"
                                },
                                {
                                    "FOGLALAS_PK": "634",
                                    "METTOL": "2016-05-09"
                                },
                                {
                                    "FOGLALAS_PK": "635",
                                    "METTOL": "2016-05-10"
                                },
                                {
                                    "FOGLALAS_PK": "636",
                                    "METTOL": "2016-05-10"
                                },
                                {
                                    "FOGLALAS_PK": "637",
                                    "METTOL": "2016-05-11"
                                },
                                {
                                    "FOGLALAS_PK": "638",
                                    "METTOL": "2016-05-12"
                                },
                                {
                                    "FOGLALAS_PK": "639",
                                    "METTOL": "2016-05-12"
                                },
                                {
                                    "FOGLALAS_PK": "640",
                                    "METTOL": "2016-05-12"
                                },
                                {
                                    "FOGLALAS_PK": "641",
                                    "METTOL": "2016-05-13"
                                },
                                {
                                    "FOGLALAS_PK": "642",
                                    "METTOL": "2016-05-13"
                                },
                                {
                                    "FOGLALAS_PK": "643",
                                    "METTOL": "2016-05-14"
                                },
                                {
                                    "FOGLALAS_PK": "644",
                                    "METTOL": "2016-05-14"
                                },
                                {
                                    "FOGLALAS_PK": "645",
                                    "METTOL": "2016-05-14"
                                },
                                {
                                    "FOGLALAS_PK": "646",
                                    "METTOL": "2016-05-14"
                                },
                                {
                                    "FOGLALAS_PK": "647",
                                    "METTOL": "2016-05-15"
                                },
                                {
                                    "FOGLALAS_PK": "648",
                                    "METTOL": "2016-05-16"
                                },
                                {
                                    "FOGLALAS_PK": "649",
                                    "METTOL": "2016-05-17"
                                },
                                {
                                    "FOGLALAS_PK": "650",
                                    "METTOL": "2016-05-17"
                                },
                                {
                                    "FOGLALAS_PK": "651",
                                    "METTOL": "2016-05-17"
                                },
                                {
                                    "FOGLALAS_PK": "652",
                                    "METTOL": "2016-05-18"
                                },
                                {
                                    "FOGLALAS_PK": "653",
                                    "METTOL": "2016-05-18"
                                },
                                {
                                    "FOGLALAS_PK": "654",
                                    "METTOL": "2016-05-18"
                                },
                                {
                                    "FOGLALAS_PK": "655",
                                    "METTOL": "2016-05-18"
                                },
                                {
                                    "FOGLALAS_PK": "656",
                                    "METTOL": "2016-05-19"
                                },
                                {
                                    "FOGLALAS_PK": "657",
                                    "METTOL": "2016-05-20"
                                },
                                {
                                    "FOGLALAS_PK": "658",
                                    "METTOL": "2016-05-21"
                                },
                                {
                                    "FOGLALAS_PK": "659",
                                    "METTOL": "2016-05-21"
                                },
                                {
                                    "FOGLALAS_PK": "660",
                                    "METTOL": "2016-05-21"
                                },
                                {
                                    "FOGLALAS_PK": "661",
                                    "METTOL": "2016-05-21"
                                },
                                {
                                    "FOGLALAS_PK": "662",
                                    "METTOL": "2016-05-21"
                                },
                                {
                                    "FOGLALAS_PK": "663",
                                    "METTOL": "2016-05-22"
                                },
                                {
                                    "FOGLALAS_PK": "664",
                                    "METTOL": "2016-07-13"
                                },
                                {
                                    "FOGLALAS_PK": "665",
                                    "METTOL": "2016-07-13"
                                },
                                {
                                    "FOGLALAS_PK": "666",
                                    "METTOL": "2016-07-13"
                                },
                                {
                                    "FOGLALAS_PK": "667",
                                    "METTOL": "2016-07-13"
                                },
                                {
                                    "FOGLALAS_PK": "668",
                                    "METTOL": "2016-07-14"
                                },
                                {
                                    "FOGLALAS_PK": "669",
                                    "METTOL": "2016-07-14"
                                },
                                {
                                    "FOGLALAS_PK": "670",
                                    "METTOL": "2016-07-14"
                                },
                                {
                                    "FOGLALAS_PK": "671",
                                    "METTOL": "2016-07-14"
                                },
                                {
                                    "FOGLALAS_PK": "672",
                                    "METTOL": "2016-07-14"
                                },
                                {
                                    "FOGLALAS_PK": "673",
                                    "METTOL": "2016-07-14"
                                },
                                {
                                    "FOGLALAS_PK": "674",
                                    "METTOL": "2016-07-15"
                                },
                                {
                                    "FOGLALAS_PK": "675",
                                    "METTOL": "2016-07-15"
                                },
                                {
                                    "FOGLALAS_PK": "676",
                                    "METTOL": "2016-07-16"
                                },
                                {
                                    "FOGLALAS_PK": "677",
                                    "METTOL": "2016-07-16"
                                },
                                {
                                    "FOGLALAS_PK": "678",
                                    "METTOL": "2016-07-17"
                                },
                                {
                                    "FOGLALAS_PK": "679",
                                    "METTOL": "2016-07-17"
                                },
                                {
                                    "FOGLALAS_PK": "680",
                                    "METTOL": "2016-07-17"
                                },
                                {
                                    "FOGLALAS_PK": "681",
                                    "METTOL": "2016-07-18"
                                },
                                {
                                    "FOGLALAS_PK": "682",
                                    "METTOL": "2016-07-18"
                                },
                                {
                                    "FOGLALAS_PK": "683",
                                    "METTOL": "2016-07-18"
                                },
                                {
                                    "FOGLALAS_PK": "684",
                                    "METTOL": "2016-07-18"
                                },
                                {
                                    "FOGLALAS_PK": "685",
                                    "METTOL": "2016-07-18"
                                },
                                {
                                    "FOGLALAS_PK": "686",
                                    "METTOL": "2016-07-18"
                                },
                                {
                                    "FOGLALAS_PK": "687",
                                    "METTOL": "2016-07-18"
                                },
                                {
                                    "FOGLALAS_PK": "688",
                                    "METTOL": "2016-07-19"
                                },
                                {
                                    "FOGLALAS_PK": "689",
                                    "METTOL": "2016-07-19"
                                },
                                {
                                    "FOGLALAS_PK": "690",
                                    "METTOL": "2016-07-19"
                                },
                                {
                                    "FOGLALAS_PK": "691",
                                    "METTOL": "2016-07-20"
                                },
                                {
                                    "FOGLALAS_PK": "692",
                                    "METTOL": "2016-07-20"
                                },
                                {
                                    "FOGLALAS_PK": "693",
                                    "METTOL": "2016-07-20"
                                },
                                {
                                    "FOGLALAS_PK": "694",
                                    "METTOL": "2016-07-20"
                                },
                                {
                                    "FOGLALAS_PK": "695",
                                    "METTOL": "2016-07-20"
                                },
                                {
                                    "FOGLALAS_PK": "696",
                                    "METTOL": "2016-07-20"
                                },
                                {
                                    "FOGLALAS_PK": "697",
                                    "METTOL": "2016-07-20"
                                },
                                {
                                    "FOGLALAS_PK": "698",
                                    "METTOL": "2016-07-20"
                                },
                                {
                                    "FOGLALAS_PK": "699",
                                    "METTOL": "2016-07-20"
                                },
                                {
                                    "FOGLALAS_PK": "700",
                                    "METTOL": "2016-07-20"
                                },
                                {
                                    "FOGLALAS_PK": "701",
                                    "METTOL": "2016-07-21"
                                },
                                {
                                    "FOGLALAS_PK": "702",
                                    "METTOL": "2016-07-21"
                                },
                                {
                                    "FOGLALAS_PK": "703",
                                    "METTOL": "2016-07-22"
                                },
                                {
                                    "FOGLALAS_PK": "704",
                                    "METTOL": "2016-07-22"
                                },
                                {
                                    "FOGLALAS_PK": "705",
                                    "METTOL": "2016-07-22"
                                },
                                {
                                    "FOGLALAS_PK": "706",
                                    "METTOL": "2016-07-22"
                                },
                                {
                                    "FOGLALAS_PK": "707",
                                    "METTOL": "2016-07-23"
                                },
                                {
                                    "FOGLALAS_PK": "708",
                                    "METTOL": "2016-07-23"
                                },
                                {
                                    "FOGLALAS_PK": "709",
                                    "METTOL": "2016-07-24"
                                },
                                {
                                    "FOGLALAS_PK": "710",
                                    "METTOL": "2016-07-24"
                                },
                                {
                                    "FOGLALAS_PK": "711",
                                    "METTOL": "2016-07-24"
                                },
                                {
                                    "FOGLALAS_PK": "712",
                                    "METTOL": "2016-07-24"
                                },
                                {
                                    "FOGLALAS_PK": "713",
                                    "METTOL": "2016-07-24"
                                },
                                {
                                    "FOGLALAS_PK": "714",
                                    "METTOL": "2016-07-25"
                                },
                                {
                                    "FOGLALAS_PK": "715",
                                    "METTOL": "2016-07-25"
                                },
                                {
                                    "FOGLALAS_PK": "716",
                                    "METTOL": "2016-07-26"
                                },
                                {
                                    "FOGLALAS_PK": "717",
                                    "METTOL": "2016-07-26"
                                },
                                {
                                    "FOGLALAS_PK": "718",
                                    "METTOL": "2016-07-27"
                                },
                                {
                                    "FOGLALAS_PK": "719",
                                    "METTOL": "2016-07-27"
                                },
                                {
                                    "FOGLALAS_PK": "720",
                                    "METTOL": "2016-07-27"
                                },
                                {
                                    "FOGLALAS_PK": "721",
                                    "METTOL": "2016-07-27"
                                },
                                {
                                    "FOGLALAS_PK": "722",
                                    "METTOL": "2016-07-27"
                                },
                                {
                                    "FOGLALAS_PK": "723",
                                    "METTOL": "2016-07-27"
                                },
                                {
                                    "FOGLALAS_PK": "724",
                                    "METTOL": "2016-07-27"
                                },
                                {
                                    "FOGLALAS_PK": "725",
                                    "METTOL": "2016-07-27"
                                },
                                {
                                    "FOGLALAS_PK": "726",
                                    "METTOL": "2016-07-27"
                                },
                                {
                                    "FOGLALAS_PK": "727",
                                    "METTOL": "2016-07-27"
                                },
                                {
                                    "FOGLALAS_PK": "728",
                                    "METTOL": "2016-07-27"
                                },
                                {
                                    "FOGLALAS_PK": "729",
                                    "METTOL": "2016-07-28"
                                },
                                {
                                    "FOGLALAS_PK": "730",
                                    "METTOL": "2016-07-28"
                                },
                                {
                                    "FOGLALAS_PK": "731",
                                    "METTOL": "2016-07-28"
                                },
                                {
                                    "FOGLALAS_PK": "732",
                                    "METTOL": "2016-07-28"
                                },
                                {
                                    "FOGLALAS_PK": "733",
                                    "METTOL": "2016-07-28"
                                },
                                {
                                    "FOGLALAS_PK": "734",
                                    "METTOL": "2016-07-28"
                                },
                                {
                                    "FOGLALAS_PK": "735",
                                    "METTOL": "2016-07-28"
                                },
                                {
                                    "FOGLALAS_PK": "736",
                                    "METTOL": "2016-07-29"
                                },
                                {
                                    "FOGLALAS_PK": "737",
                                    "METTOL": "2016-07-29"
                                },
                                {
                                    "FOGLALAS_PK": "738",
                                    "METTOL": "2016-07-30"
                                },
                                {
                                    "FOGLALAS_PK": "739",
                                    "METTOL": "2016-07-30"
                                },
                                {
                                    "FOGLALAS_PK": "740",
                                    "METTOL": "2016-07-30"
                                },
                                {
                                    "FOGLALAS_PK": "741",
                                    "METTOL": "2016-07-30"
                                },
                                {
                                    "FOGLALAS_PK": "742",
                                    "METTOL": "2016-07-31"
                                },
                                {
                                    "FOGLALAS_PK": "743",
                                    "METTOL": "2016-07-31"
                                },
                                {
                                    "FOGLALAS_PK": "744",
                                    "METTOL": "2016-08-01"
                                },
                                {
                                    "FOGLALAS_PK": "745",
                                    "METTOL": "2016-08-01"
                                },
                                {
                                    "FOGLALAS_PK": "746",
                                    "METTOL": "2016-08-01"
                                },
                                {
                                    "FOGLALAS_PK": "747",
                                    "METTOL": "2016-08-01"
                                },
                                {
                                    "FOGLALAS_PK": "748",
                                    "METTOL": "2016-08-02"
                                },
                                {
                                    "FOGLALAS_PK": "749",
                                    "METTOL": "2016-08-02"
                                },
                                {
                                    "FOGLALAS_PK": "750",
                                    "METTOL": "2016-08-03"
                                },
                                {
                                    "FOGLALAS_PK": "751",
                                    "METTOL": "2016-08-03"
                                },
                                {
                                    "FOGLALAS_PK": "752",
                                    "METTOL": "2016-08-03"
                                },
                                {
                                    "FOGLALAS_PK": "753",
                                    "METTOL": "2016-08-03"
                                },
                                {
                                    "FOGLALAS_PK": "754",
                                    "METTOL": "2016-08-04"
                                },
                                {
                                    "FOGLALAS_PK": "755",
                                    "METTOL": "2016-08-04"
                                },
                                {
                                    "FOGLALAS_PK": "756",
                                    "METTOL": "2016-08-05"
                                },
                                {
                                    "FOGLALAS_PK": "757",
                                    "METTOL": "2016-08-05"
                                },
                                {
                                    "FOGLALAS_PK": "758",
                                    "METTOL": "2016-08-05"
                                },
                                {
                                    "FOGLALAS_PK": "759",
                                    "METTOL": "2016-08-06"
                                },
                                {
                                    "FOGLALAS_PK": "760",
                                    "METTOL": "2016-08-06"
                                },
                                {
                                    "FOGLALAS_PK": "761",
                                    "METTOL": "2016-08-06"
                                },
                                {
                                    "FOGLALAS_PK": "762",
                                    "METTOL": "2016-08-07"
                                },
                                {
                                    "FOGLALAS_PK": "763",
                                    "METTOL": "2016-08-08"
                                },
                                {
                                    "FOGLALAS_PK": "764",
                                    "METTOL": "2016-08-09"
                                },
                                {
                                    "FOGLALAS_PK": "765",
                                    "METTOL": "2016-08-09"
                                },
                                {
                                    "FOGLALAS_PK": "766",
                                    "METTOL": "2016-08-10"
                                },
                                {
                                    "FOGLALAS_PK": "767",
                                    "METTOL": "2016-08-11"
                                },
                                {
                                    "FOGLALAS_PK": "768",
                                    "METTOL": "2016-08-12"
                                },
                                {
                                    "FOGLALAS_PK": "769",
                                    "METTOL": "2016-08-12"
                                },
                                {
                                    "FOGLALAS_PK": "770",
                                    "METTOL": "2016-08-12"
                                },
                                {
                                    "FOGLALAS_PK": "771",
                                    "METTOL": "2016-08-12"
                                },
                                {
                                    "FOGLALAS_PK": "772",
                                    "METTOL": "2016-08-12"
                                },
                                {
                                    "FOGLALAS_PK": "773",
                                    "METTOL": "2016-08-12"
                                },
                                {
                                    "FOGLALAS_PK": "774",
                                    "METTOL": "2016-08-13"
                                },
                                {
                                    "FOGLALAS_PK": "775",
                                    "METTOL": "2016-08-13"
                                },
                                {
                                    "FOGLALAS_PK": "776",
                                    "METTOL": "2016-08-14"
                                },
                                {
                                    "FOGLALAS_PK": "777",
                                    "METTOL": "2016-08-14"
                                },
                                {
                                    "FOGLALAS_PK": "778",
                                    "METTOL": "2016-08-14"
                                },
                                {
                                    "FOGLALAS_PK": "779",
                                    "METTOL": "2016-08-15"
                                },
                                {
                                    "FOGLALAS_PK": "780",
                                    "METTOL": "2016-08-15"
                                },
                                {
                                    "FOGLALAS_PK": "781",
                                    "METTOL": "2016-08-16"
                                },
                                {
                                    "FOGLALAS_PK": "782",
                                    "METTOL": "2016-08-16"
                                },
                                {
                                    "FOGLALAS_PK": "783",
                                    "METTOL": "2016-08-16"
                                },
                                {
                                    "FOGLALAS_PK": "784",
                                    "METTOL": "2016-08-16"
                                },
                                {
                                    "FOGLALAS_PK": "785",
                                    "METTOL": "2016-08-16"
                                },
                                {
                                    "FOGLALAS_PK": "786",
                                    "METTOL": "2016-08-16"
                                },
                                {
                                    "FOGLALAS_PK": "787",
                                    "METTOL": "2016-08-16"
                                },
                                {
                                    "FOGLALAS_PK": "788",
                                    "METTOL": "2016-08-16"
                                },
                                {
                                    "FOGLALAS_PK": "789",
                                    "METTOL": "2016-08-16"
                                },
                                {
                                    "FOGLALAS_PK": "790",
                                    "METTOL": "2016-08-16"
                                },
                                {
                                    "FOGLALAS_PK": "791",
                                    "METTOL": "2016-08-16"
                                },
                                {
                                    "FOGLALAS_PK": "792",
                                    "METTOL": "2016-08-16"
                                },
                                {
                                    "FOGLALAS_PK": "793",
                                    "METTOL": "2016-08-17"
                                },
                                {
                                    "FOGLALAS_PK": "794",
                                    "METTOL": "2016-08-17"
                                },
                                {
                                    "FOGLALAS_PK": "795",
                                    "METTOL": "2016-08-17"
                                },
                                {
                                    "FOGLALAS_PK": "796",
                                    "METTOL": "2016-08-17"
                                },
                                {
                                    "FOGLALAS_PK": "797",
                                    "METTOL": "2016-08-18"
                                },
                                {
                                    "FOGLALAS_PK": "798",
                                    "METTOL": "2016-08-18"
                                },
                                {
                                    "FOGLALAS_PK": "799",
                                    "METTOL": "2016-08-19"
                                },
                                {
                                    "FOGLALAS_PK": "800",
                                    "METTOL": "2016-08-20"
                                },
                                {
                                    "FOGLALAS_PK": "801",
                                    "METTOL": "2016-08-20"
                                },
                                {
                                    "FOGLALAS_PK": "802",
                                    "METTOL": "2016-08-20"
                                },
                                {
                                    "FOGLALAS_PK": "803",
                                    "METTOL": "2016-08-20"
                                },
                                {
                                    "FOGLALAS_PK": "804",
                                    "METTOL": "2016-08-20"
                                },
                                {
                                    "FOGLALAS_PK": "805",
                                    "METTOL": "2016-08-21"
                                },
                                {
                                    "FOGLALAS_PK": "806",
                                    "METTOL": "2016-08-21"
                                },
                                {
                                    "FOGLALAS_PK": "807",
                                    "METTOL": "2016-08-22"
                                },
                                {
                                    "FOGLALAS_PK": "808",
                                    "METTOL": "2016-08-23"
                                },
                                {
                                    "FOGLALAS_PK": "809",
                                    "METTOL": "2016-08-23"
                                },
                                {
                                    "FOGLALAS_PK": "810",
                                    "METTOL": "2016-08-23"
                                },
                                {
                                    "FOGLALAS_PK": "811",
                                    "METTOL": "2016-08-23"
                                },
                                {
                                    "FOGLALAS_PK": "812",
                                    "METTOL": "2016-08-23"
                                },
                                {
                                    "FOGLALAS_PK": "813",
                                    "METTOL": "2016-08-24"
                                },
                                {
                                    "FOGLALAS_PK": "814",
                                    "METTOL": "2016-08-24"
                                },
                                {
                                    "FOGLALAS_PK": "815",
                                    "METTOL": "2016-08-24"
                                },
                                {
                                    "FOGLALAS_PK": "816",
                                    "METTOL": "2016-08-24"
                                },
                                {
                                    "FOGLALAS_PK": "817",
                                    "METTOL": "2016-08-24"
                                },
                                {
                                    "FOGLALAS_PK": "818",
                                    "METTOL": "2016-08-24"
                                },
                                {
                                    "FOGLALAS_PK": "819",
                                    "METTOL": "2016-08-24"
                                },
                                {
                                    "FOGLALAS_PK": "820",
                                    "METTOL": "2016-08-24"
                                },
                                {
                                    "FOGLALAS_PK": "821",
                                    "METTOL": "2016-08-24"
                                },
                                {
                                    "FOGLALAS_PK": "822",
                                    "METTOL": "2016-08-24"
                                },
                                {
                                    "FOGLALAS_PK": "823",
                                    "METTOL": "2016-08-25"
                                },
                                {
                                    "FOGLALAS_PK": "824",
                                    "METTOL": "2016-08-25"
                                },
                                {
                                    "FOGLALAS_PK": "825",
                                    "METTOL": "2016-08-25"
                                },
                                {
                                    "FOGLALAS_PK": "826",
                                    "METTOL": "2016-08-26"
                                },
                                {
                                    "FOGLALAS_PK": "827",
                                    "METTOL": "2016-08-26"
                                },
                                {
                                    "FOGLALAS_PK": "828",
                                    "METTOL": "2016-08-27"
                                },
                                {
                                    "FOGLALAS_PK": "829",
                                    "METTOL": "2016-08-28"
                                },
                                {
                                    "FOGLALAS_PK": "830",
                                    "METTOL": "2016-08-28"
                                },
                                {
                                    "FOGLALAS_PK": "831",
                                    "METTOL": "2016-08-28"
                                },
                                {
                                    "FOGLALAS_PK": "832",
                                    "METTOL": "2016-08-28"
                                },
                                {
                                    "FOGLALAS_PK": "833",
                                    "METTOL": "2016-08-28"
                                },
                                {
                                    "FOGLALAS_PK": "834",
                                    "METTOL": "2016-08-29"
                                },
                                {
                                    "FOGLALAS_PK": "835",
                                    "METTOL": "2016-08-29"
                                },
                                {
                                    "FOGLALAS_PK": "836",
                                    "METTOL": "2016-08-29"
                                },
                                {
                                    "FOGLALAS_PK": "837",
                                    "METTOL": "2016-08-29"
                                },
                                {
                                    "FOGLALAS_PK": "838",
                                    "METTOL": "2016-08-29"
                                },
                                {
                                    "FOGLALAS_PK": "839",
                                    "METTOL": "2016-08-29"
                                },
                                {
                                    "FOGLALAS_PK": "840",
                                    "METTOL": "2016-08-30"
                                },
                                {
                                    "FOGLALAS_PK": "841",
                                    "METTOL": "2016-08-31"
                                },
                                {
                                    "FOGLALAS_PK": "842",
                                    "METTOL": "2016-08-31"
                                },
                                {
                                    "FOGLALAS_PK": "843",
                                    "METTOL": "2016-09-01"
                                },
                                {
                                    "FOGLALAS_PK": "844",
                                    "METTOL": "2016-09-02"
                                },
                                {
                                    "FOGLALAS_PK": "845",
                                    "METTOL": "2016-09-02"
                                },
                                {
                                    "FOGLALAS_PK": "846",
                                    "METTOL": "2016-09-02"
                                },
                                {
                                    "FOGLALAS_PK": "847",
                                    "METTOL": "2016-09-03"
                                },
                                {
                                    "FOGLALAS_PK": "848",
                                    "METTOL": "2016-09-04"
                                },
                                {
                                    "FOGLALAS_PK": "849",
                                    "METTOL": "2016-09-05"
                                },
                                {
                                    "FOGLALAS_PK": "850",
                                    "METTOL": "2016-09-05"
                                },
                                {
                                    "FOGLALAS_PK": "851",
                                    "METTOL": "2016-05-22"
                                },
                                {
                                    "FOGLALAS_PK": "852",
                                    "METTOL": "2016-05-23"
                                },
                                {
                                    "FOGLALAS_PK": "853",
                                    "METTOL": "2016-05-24"
                                },
                                {
                                    "FOGLALAS_PK": "854",
                                    "METTOL": "2016-05-24"
                                },
                                {
                                    "FOGLALAS_PK": "855",
                                    "METTOL": "2016-05-24"
                                },
                                {
                                    "FOGLALAS_PK": "856",
                                    "METTOL": "2016-05-24"
                                },
                                {
                                    "FOGLALAS_PK": "857",
                                    "METTOL": "2016-05-25"
                                },
                                {
                                    "FOGLALAS_PK": "858",
                                    "METTOL": "2016-05-25"
                                },
                                {
                                    "FOGLALAS_PK": "859",
                                    "METTOL": "2016-05-26"
                                },
                                {
                                    "FOGLALAS_PK": "860",
                                    "METTOL": "2016-05-27"
                                },
                                {
                                    "FOGLALAS_PK": "861",
                                    "METTOL": "2016-05-27"
                                },
                                {
                                    "FOGLALAS_PK": "862",
                                    "METTOL": "2016-05-27"
                                },
                                {
                                    "FOGLALAS_PK": "863",
                                    "METTOL": "2016-05-28"
                                },
                                {
                                    "FOGLALAS_PK": "864",
                                    "METTOL": "2016-05-28"
                                },
                                {
                                    "FOGLALAS_PK": "865",
                                    "METTOL": "2016-05-28"
                                },
                                {
                                    "FOGLALAS_PK": "866",
                                    "METTOL": "2016-05-28"
                                },
                                {
                                    "FOGLALAS_PK": "867",
                                    "METTOL": "2016-05-28"
                                },
                                {
                                    "FOGLALAS_PK": "868",
                                    "METTOL": "2016-05-28"
                                },
                                {
                                    "FOGLALAS_PK": "869",
                                    "METTOL": "2016-05-28"
                                },
                                {
                                    "FOGLALAS_PK": "870",
                                    "METTOL": "2016-05-28"
                                },
                                {
                                    "FOGLALAS_PK": "871",
                                    "METTOL": "2016-05-29"
                                },
                                {
                                    "FOGLALAS_PK": "872",
                                    "METTOL": "2016-05-29"
                                },
                                {
                                    "FOGLALAS_PK": "873",
                                    "METTOL": "2016-05-29"
                                },
                                {
                                    "FOGLALAS_PK": "874",
                                    "METTOL": "2016-05-30"
                                },
                                {
                                    "FOGLALAS_PK": "875",
                                    "METTOL": "2016-05-30"
                                },
                                {
                                    "FOGLALAS_PK": "876",
                                    "METTOL": "2016-05-30"
                                },
                                {
                                    "FOGLALAS_PK": "877",
                                    "METTOL": "2016-05-30"
                                },
                                {
                                    "FOGLALAS_PK": "878",
                                    "METTOL": "2016-05-30"
                                },
                                {
                                    "FOGLALAS_PK": "879",
                                    "METTOL": "2016-05-30"
                                },
                                {
                                    "FOGLALAS_PK": "880",
                                    "METTOL": "2016-05-30"
                                },
                                {
                                    "FOGLALAS_PK": "881",
                                    "METTOL": "2016-05-30"
                                },
                                {
                                    "FOGLALAS_PK": "882",
                                    "METTOL": "2016-05-30"
                                },
                                {
                                    "FOGLALAS_PK": "883",
                                    "METTOL": "2016-05-30"
                                },
                                {
                                    "FOGLALAS_PK": "884",
                                    "METTOL": "2016-05-30"
                                },
                                {
                                    "FOGLALAS_PK": "885",
                                    "METTOL": "2016-05-31"
                                },
                                {
                                    "FOGLALAS_PK": "886",
                                    "METTOL": "2016-06-01"
                                },
                                {
                                    "FOGLALAS_PK": "887",
                                    "METTOL": "2016-06-01"
                                },
                                {
                                    "FOGLALAS_PK": "888",
                                    "METTOL": "2016-06-02"
                                },
                                {
                                    "FOGLALAS_PK": "889",
                                    "METTOL": "2016-06-02"
                                },
                                {
                                    "FOGLALAS_PK": "890",
                                    "METTOL": "2016-06-02"
                                },
                                {
                                    "FOGLALAS_PK": "891",
                                    "METTOL": "2016-06-02"
                                },
                                {
                                    "FOGLALAS_PK": "892",
                                    "METTOL": "2016-06-03"
                                },
                                {
                                    "FOGLALAS_PK": "893",
                                    "METTOL": "2016-06-03"
                                },
                                {
                                    "FOGLALAS_PK": "894",
                                    "METTOL": "2016-06-03"
                                },
                                {
                                    "FOGLALAS_PK": "895",
                                    "METTOL": "2016-06-03"
                                },
                                {
                                    "FOGLALAS_PK": "896",
                                    "METTOL": "2016-06-03"
                                },
                                {
                                    "FOGLALAS_PK": "897",
                                    "METTOL": "2016-06-03"
                                },
                                {
                                    "FOGLALAS_PK": "898",
                                    "METTOL": "2016-06-03"
                                },
                                {
                                    "FOGLALAS_PK": "899",
                                    "METTOL": "2016-06-03"
                                },
                                {
                                    "FOGLALAS_PK": "900",
                                    "METTOL": "2016-06-03"
                                },
                                {
                                    "FOGLALAS_PK": "901",
                                    "METTOL": "2016-06-04"
                                },
                                {
                                    "FOGLALAS_PK": "902",
                                    "METTOL": "2016-06-04"
                                },
                                {
                                    "FOGLALAS_PK": "903",
                                    "METTOL": "2016-06-04"
                                },
                                {
                                    "FOGLALAS_PK": "904",
                                    "METTOL": "2016-06-04"
                                },
                                {
                                    "FOGLALAS_PK": "905",
                                    "METTOL": "2016-06-04"
                                },
                                {
                                    "FOGLALAS_PK": "906",
                                    "METTOL": "2016-06-04"
                                },
                                {
                                    "FOGLALAS_PK": "907",
                                    "METTOL": "2016-06-05"
                                },
                                {
                                    "FOGLALAS_PK": "908",
                                    "METTOL": "2016-06-05"
                                },
                                {
                                    "FOGLALAS_PK": "909",
                                    "METTOL": "2016-06-06"
                                },
                                {
                                    "FOGLALAS_PK": "910",
                                    "METTOL": "2016-06-06"
                                },
                                {
                                    "FOGLALAS_PK": "911",
                                    "METTOL": "2016-06-06"
                                },
                                {
                                    "FOGLALAS_PK": "912",
                                    "METTOL": "2016-06-06"
                                },
                                {
                                    "FOGLALAS_PK": "913",
                                    "METTOL": "2016-06-06"
                                },
                                {
                                    "FOGLALAS_PK": "914",
                                    "METTOL": "2016-06-06"
                                },
                                {
                                    "FOGLALAS_PK": "915",
                                    "METTOL": "2016-06-06"
                                },
                                {
                                    "FOGLALAS_PK": "916",
                                    "METTOL": "2016-06-06"
                                },
                                {
                                    "FOGLALAS_PK": "917",
                                    "METTOL": "2016-06-06"
                                },
                                {
                                    "FOGLALAS_PK": "918",
                                    "METTOL": "2016-06-06"
                                },
                                {
                                    "FOGLALAS_PK": "919",
                                    "METTOL": "2016-06-06"
                                },
                                {
                                    "FOGLALAS_PK": "920",
                                    "METTOL": "2016-06-06"
                                },
                                {
                                    "FOGLALAS_PK": "921",
                                    "METTOL": "2016-06-06"
                                },
                                {
                                    "FOGLALAS_PK": "922",
                                    "METTOL": "2016-06-06"
                                },
                                {
                                    "FOGLALAS_PK": "923",
                                    "METTOL": "2016-06-07"
                                },
                                {
                                    "FOGLALAS_PK": "924",
                                    "METTOL": "2016-06-07"
                                },
                                {
                                    "FOGLALAS_PK": "925",
                                    "METTOL": "2016-06-07"
                                },
                                {
                                    "FOGLALAS_PK": "926",
                                    "METTOL": "2016-06-07"
                                },
                                {
                                    "FOGLALAS_PK": "927",
                                    "METTOL": "2016-06-07"
                                },
                                {
                                    "FOGLALAS_PK": "928",
                                    "METTOL": "2016-06-07"
                                },
                                {
                                    "FOGLALAS_PK": "929",
                                    "METTOL": "2016-06-07"
                                },
                                {
                                    "FOGLALAS_PK": "930",
                                    "METTOL": "2016-06-07"
                                },
                                {
                                    "FOGLALAS_PK": "931",
                                    "METTOL": "2016-06-07"
                                },
                                {
                                    "FOGLALAS_PK": "932",
                                    "METTOL": "2016-06-07"
                                },
                                {
                                    "FOGLALAS_PK": "933",
                                    "METTOL": "2016-06-07"
                                },
                                {
                                    "FOGLALAS_PK": "934",
                                    "METTOL": "2016-06-08"
                                },
                                {
                                    "FOGLALAS_PK": "935",
                                    "METTOL": "2016-06-08"
                                },
                                {
                                    "FOGLALAS_PK": "936",
                                    "METTOL": "2016-06-08"
                                },
                                {
                                    "FOGLALAS_PK": "937",
                                    "METTOL": "2016-06-08"
                                },
                                {
                                    "FOGLALAS_PK": "938",
                                    "METTOL": "2016-06-09"
                                },
                                {
                                    "FOGLALAS_PK": "939",
                                    "METTOL": "2016-06-09"
                                },
                                {
                                    "FOGLALAS_PK": "940",
                                    "METTOL": "2016-06-09"
                                },
                                {
                                    "FOGLALAS_PK": "941",
                                    "METTOL": "2016-06-10"
                                },
                                {
                                    "FOGLALAS_PK": "942",
                                    "METTOL": "2016-06-10"
                                },
                                {
                                    "FOGLALAS_PK": "943",
                                    "METTOL": "2016-06-10"
                                },
                                {
                                    "FOGLALAS_PK": "944",
                                    "METTOL": "2016-06-10"
                                },
                                {
                                    "FOGLALAS_PK": "945",
                                    "METTOL": "2016-06-10"
                                },
                                {
                                    "FOGLALAS_PK": "946",
                                    "METTOL": "2016-06-10"
                                },
                                {
                                    "FOGLALAS_PK": "947",
                                    "METTOL": "2016-06-10"
                                },
                                {
                                    "FOGLALAS_PK": "948",
                                    "METTOL": "2016-06-10"
                                },
                                {
                                    "FOGLALAS_PK": "949",
                                    "METTOL": "2016-06-10"
                                },
                                {
                                    "FOGLALAS_PK": "950",
                                    "METTOL": "2016-06-10"
                                },
                                {
                                    "FOGLALAS_PK": "951",
                                    "METTOL": "2016-06-11"
                                },
                                {
                                    "FOGLALAS_PK": "952",
                                    "METTOL": "2016-06-11"
                                },
                                {
                                    "FOGLALAS_PK": "953",
                                    "METTOL": "2016-06-12"
                                },
                                {
                                    "FOGLALAS_PK": "954",
                                    "METTOL": "2016-06-13"
                                },
                                {
                                    "FOGLALAS_PK": "955",
                                    "METTOL": "2016-06-13"
                                },
                                {
                                    "FOGLALAS_PK": "956",
                                    "METTOL": "2016-06-13"
                                },
                                {
                                    "FOGLALAS_PK": "957",
                                    "METTOL": "2016-06-13"
                                },
                                {
                                    "FOGLALAS_PK": "958",
                                    "METTOL": "2016-06-13"
                                },
                                {
                                    "FOGLALAS_PK": "959",
                                    "METTOL": "2016-06-14"
                                },
                                {
                                    "FOGLALAS_PK": "960",
                                    "METTOL": "2016-06-15"
                                },
                                {
                                    "FOGLALAS_PK": "961",
                                    "METTOL": "2016-06-16"
                                },
                                {
                                    "FOGLALAS_PK": "962",
                                    "METTOL": "2016-06-16"
                                },
                                {
                                    "FOGLALAS_PK": "963",
                                    "METTOL": "2016-06-16"
                                },
                                {
                                    "FOGLALAS_PK": "964",
                                    "METTOL": "2016-06-16"
                                },
                                {
                                    "FOGLALAS_PK": "965",
                                    "METTOL": "2016-06-16"
                                },
                                {
                                    "FOGLALAS_PK": "966",
                                    "METTOL": "2016-06-16"
                                },
                                {
                                    "FOGLALAS_PK": "967",
                                    "METTOL": "2016-06-16"
                                },
                                {
                                    "FOGLALAS_PK": "968",
                                    "METTOL": "2016-06-16"
                                },
                                {
                                    "FOGLALAS_PK": "969",
                                    "METTOL": "2016-06-17"
                                },
                                {
                                    "FOGLALAS_PK": "970",
                                    "METTOL": "2016-06-17"
                                },
                                {
                                    "FOGLALAS_PK": "971",
                                    "METTOL": "2016-06-18"
                                },
                                {
                                    "FOGLALAS_PK": "972",
                                    "METTOL": "2016-06-19"
                                },
                                {
                                    "FOGLALAS_PK": "973",
                                    "METTOL": "2016-06-20"
                                },
                                {
                                    "FOGLALAS_PK": "974",
                                    "METTOL": "2016-06-20"
                                },
                                {
                                    "FOGLALAS_PK": "975",
                                    "METTOL": "2016-06-21"
                                },
                                {
                                    "FOGLALAS_PK": "976",
                                    "METTOL": "2016-06-22"
                                },
                                {
                                    "FOGLALAS_PK": "977",
                                    "METTOL": "2016-06-22"
                                },
                                {
                                    "FOGLALAS_PK": "978",
                                    "METTOL": "2016-06-22"
                                },
                                {
                                    "FOGLALAS_PK": "979",
                                    "METTOL": "2016-06-22"
                                },
                                {
                                    "FOGLALAS_PK": "980",
                                    "METTOL": "2016-06-23"
                                },
                                {
                                    "FOGLALAS_PK": "981",
                                    "METTOL": "2016-06-23"
                                },
                                {
                                    "FOGLALAS_PK": "982",
                                    "METTOL": "2016-06-23"
                                },
                                {
                                    "FOGLALAS_PK": "983",
                                    "METTOL": "2016-06-23"
                                },
                                {
                                    "FOGLALAS_PK": "984",
                                    "METTOL": "2016-06-24"
                                },
                                {
                                    "FOGLALAS_PK": "985",
                                    "METTOL": "2016-06-24"
                                },
                                {
                                    "FOGLALAS_PK": "986",
                                    "METTOL": "2016-06-25"
                                },
                                {
                                    "FOGLALAS_PK": "987",
                                    "METTOL": "2016-06-26"
                                },
                                {
                                    "FOGLALAS_PK": "988",
                                    "METTOL": "2016-06-27"
                                },
                                {
                                    "FOGLALAS_PK": "989",
                                    "METTOL": "2016-06-27"
                                },
                                {
                                    "FOGLALAS_PK": "990",
                                    "METTOL": "2016-06-27"
                                },
                                {
                                    "FOGLALAS_PK": "991",
                                    "METTOL": "2016-06-28"
                                },
                                {
                                    "FOGLALAS_PK": "992",
                                    "METTOL": "2016-06-29"
                                },
                                {
                                    "FOGLALAS_PK": "993",
                                    "METTOL": "2016-06-30"
                                },
                                {
                                    "FOGLALAS_PK": "994",
                                    "METTOL": "2016-06-30"
                                },
                                {
                                    "FOGLALAS_PK": "995",
                                    "METTOL": "2016-06-30"
                                },
                                {
                                    "FOGLALAS_PK": "996",
                                    "METTOL": "2016-07-01"
                                },
                                {
                                    "FOGLALAS_PK": "997",
                                    "METTOL": "2016-07-01"
                                },
                                {
                                    "FOGLALAS_PK": "998",
                                    "METTOL": "2016-07-01"
                                },
                                {
                                    "FOGLALAS_PK": "999",
                                    "METTOL": "2016-07-01"
                                },
                                {
                                    "FOGLALAS_PK": "1000",
                                    "METTOL": "2016-07-01"
                                },
                                {
                                    "FOGLALAS_PK": "1001",
                                    "METTOL": "2016-07-02"
                                },
                                {
                                    "FOGLALAS_PK": "1002",
                                    "METTOL": "2016-07-03"
                                },
                                {
                                    "FOGLALAS_PK": "1003",
                                    "METTOL": "2016-07-03"
                                },
                                {
                                    "FOGLALAS_PK": "1004",
                                    "METTOL": "2016-07-03"
                                },
                                {
                                    "FOGLALAS_PK": "1005",
                                    "METTOL": "2016-07-03"
                                },
                                {
                                    "FOGLALAS_PK": "1006",
                                    "METTOL": "2016-07-03"
                                },
                                {
                                    "FOGLALAS_PK": "1007",
                                    "METTOL": "2016-07-04"
                                },
                                {
                                    "FOGLALAS_PK": "1008",
                                    "METTOL": "2016-07-04"
                                },
                                {
                                    "FOGLALAS_PK": "1009",
                                    "METTOL": "2016-07-04"
                                },
                                {
                                    "FOGLALAS_PK": "1010",
                                    "METTOL": "2016-07-04"
                                },
                                {
                                    "FOGLALAS_PK": "1011",
                                    "METTOL": "2016-07-04"
                                },
                                {
                                    "FOGLALAS_PK": "1012",
                                    "METTOL": "2016-07-05"
                                },
                                {
                                    "FOGLALAS_PK": "1013",
                                    "METTOL": "2016-07-06"
                                },
                                {
                                    "FOGLALAS_PK": "1014",
                                    "METTOL": "2016-07-06"
                                },
                                {
                                    "FOGLALAS_PK": "1015",
                                    "METTOL": "2016-07-06"
                                },
                                {
                                    "FOGLALAS_PK": "1016",
                                    "METTOL": "2016-07-07"
                                },
                                {
                                    "FOGLALAS_PK": "1017",
                                    "METTOL": "2016-07-08"
                                },
                                {
                                    "FOGLALAS_PK": "1018",
                                    "METTOL": "2016-07-08"
                                },
                                {
                                    "FOGLALAS_PK": "1019",
                                    "METTOL": "2016-07-08"
                                },
                                {
                                    "FOGLALAS_PK": "1020",
                                    "METTOL": "2016-07-09"
                                },
                                {
                                    "FOGLALAS_PK": "1021",
                                    "METTOL": "2016-07-09"
                                },
                                {
                                    "FOGLALAS_PK": "1022",
                                    "METTOL": "2016-07-10"
                                },
                                {
                                    "FOGLALAS_PK": "1023",
                                    "METTOL": "2016-07-10"
                                },
                                {
                                    "FOGLALAS_PK": "1024",
                                    "METTOL": "2016-07-11"
                                },
                                {
                                    "FOGLALAS_PK": "1025",
                                    "METTOL": "2016-07-12"
                                },
                                {
                                    "FOGLALAS_PK": "1026",
                                    "METTOL": "2016-07-12"
                                },
                                {
                                    "FOGLALAS_PK": "1027",
                                    "METTOL": "2016-07-12"
                                },
                                {
                                    "FOGLALAS_PK": "1028",
                                    "METTOL": "2016-07-13"
                                },
                                {
                                    "FOGLALAS_PK": "1029",
                                    "METTOL": "2016-09-05"
                                },
                                {
                                    "FOGLALAS_PK": "1030",
                                    "METTOL": "2016-09-05"
                                },
                                {
                                    "FOGLALAS_PK": "1031",
                                    "METTOL": "2016-09-05"
                                },
                                {
                                    "FOGLALAS_PK": "1032",
                                    "METTOL": "2016-09-05"
                                },
                                {
                                    "FOGLALAS_PK": "1033",
                                    "METTOL": "2016-09-05"
                                },
                                {
                                    "FOGLALAS_PK": "1034",
                                    "METTOL": "2016-09-06"
                                },
                                {
                                    "FOGLALAS_PK": "1035",
                                    "METTOL": "2016-09-07"
                                },
                                {
                                    "FOGLALAS_PK": "1036",
                                    "METTOL": "2016-09-08"
                                },
                                {
                                    "FOGLALAS_PK": "1037",
                                    "METTOL": "2016-09-08"
                                },
                                {
                                    "FOGLALAS_PK": "1038",
                                    "METTOL": "2016-09-08"
                                },
                                {
                                    "FOGLALAS_PK": "1039",
                                    "METTOL": "2016-09-09"
                                },
                                {
                                    "FOGLALAS_PK": "1040",
                                    "METTOL": "2016-09-09"
                                },
                                {
                                    "FOGLALAS_PK": "1041",
                                    "METTOL": "2016-09-10"
                                },
                                {
                                    "FOGLALAS_PK": "1042",
                                    "METTOL": "2016-09-10"
                                },
                                {
                                    "FOGLALAS_PK": "1043",
                                    "METTOL": "2016-09-11"
                                },
                                {
                                    "FOGLALAS_PK": "1044",
                                    "METTOL": "2016-09-12"
                                },
                                {
                                    "FOGLALAS_PK": "1045",
                                    "METTOL": "2016-09-12"
                                },
                                {
                                    "FOGLALAS_PK": "1046",
                                    "METTOL": "2016-09-12"
                                },
                                {
                                    "FOGLALAS_PK": "1047",
                                    "METTOL": "2016-09-13"
                                },
                                {
                                    "FOGLALAS_PK": "1048",
                                    "METTOL": "2016-09-13"
                                },
                                {
                                    "FOGLALAS_PK": "1049",
                                    "METTOL": "2016-09-13"
                                },
                                {
                                    "FOGLALAS_PK": "1050",
                                    "METTOL": "2016-09-13"
                                },
                                {
                                    "FOGLALAS_PK": "1051",
                                    "METTOL": "2016-09-14"
                                },
                                {
                                    "FOGLALAS_PK": "1052",
                                    "METTOL": "2016-09-14"
                                },
                                {
                                    "FOGLALAS_PK": "1053",
                                    "METTOL": "2016-09-15"
                                },
                                {
                                    "FOGLALAS_PK": "1054",
                                    "METTOL": "2016-09-15"
                                },
                                {
                                    "FOGLALAS_PK": "1055",
                                    "METTOL": "2016-09-15"
                                },
                                {
                                    "FOGLALAS_PK": "1056",
                                    "METTOL": "2016-09-16"
                                },
                                {
                                    "FOGLALAS_PK": "1057",
                                    "METTOL": "2016-09-16"
                                },
                                {
                                    "FOGLALAS_PK": "1058",
                                    "METTOL": "2016-09-16"
                                },
                                {
                                    "FOGLALAS_PK": "1059",
                                    "METTOL": "2016-09-17"
                                },
                                {
                                    "FOGLALAS_PK": "1060",
                                    "METTOL": "2016-09-17"
                                },
                                {
                                    "FOGLALAS_PK": "1061",
                                    "METTOL": "2016-09-17"
                                },
                                {
                                    "FOGLALAS_PK": "1062",
                                    "METTOL": "2016-09-17"
                                },
                                {
                                    "FOGLALAS_PK": "1063",
                                    "METTOL": "2016-09-18"
                                },
                                {
                                    "FOGLALAS_PK": "1064",
                                    "METTOL": "2016-09-18"
                                },
                                {
                                    "FOGLALAS_PK": "1065",
                                    "METTOL": "2016-09-18"
                                },
                                {
                                    "FOGLALAS_PK": "1066",
                                    "METTOL": "2016-09-18"
                                },
                                {
                                    "FOGLALAS_PK": "1067",
                                    "METTOL": "2016-09-19"
                                },
                                {
                                    "FOGLALAS_PK": "1068",
                                    "METTOL": "2016-09-19"
                                },
                                {
                                    "FOGLALAS_PK": "1069",
                                    "METTOL": "2016-09-19"
                                },
                                {
                                    "FOGLALAS_PK": "1070",
                                    "METTOL": "2016-09-19"
                                },
                                {
                                    "FOGLALAS_PK": "1071",
                                    "METTOL": "2016-09-20"
                                },
                                {
                                    "FOGLALAS_PK": "1072",
                                    "METTOL": "2016-09-20"
                                },
                                {
                                    "FOGLALAS_PK": "1073",
                                    "METTOL": "2016-09-21"
                                },
                                {
                                    "FOGLALAS_PK": "1074",
                                    "METTOL": "2016-09-22"
                                },
                                {
                                    "FOGLALAS_PK": "1075",
                                    "METTOL": "2016-09-23"
                                },
                                {
                                    "FOGLALAS_PK": "1076",
                                    "METTOL": "2016-09-23"
                                },
                                {
                                    "FOGLALAS_PK": "1077",
                                    "METTOL": "2016-09-23"
                                },
                                {
                                    "FOGLALAS_PK": "1078",
                                    "METTOL": "2016-09-23"
                                },
                                {
                                    "FOGLALAS_PK": "1079",
                                    "METTOL": "2016-09-24"
                                },
                                {
                                    "FOGLALAS_PK": "1080",
                                    "METTOL": "2016-09-25"
                                },
                                {
                                    "FOGLALAS_PK": "1081",
                                    "METTOL": "2016-09-26"
                                },
                                {
                                    "FOGLALAS_PK": "1082",
                                    "METTOL": "2016-09-26"
                                },
                                {
                                    "FOGLALAS_PK": "1083",
                                    "METTOL": "2016-09-27"
                                },
                                {
                                    "FOGLALAS_PK": "1084",
                                    "METTOL": "2016-09-28"
                                },
                                {
                                    "FOGLALAS_PK": "1085",
                                    "METTOL": "2016-09-28"
                                },
                                {
                                    "FOGLALAS_PK": "1086",
                                    "METTOL": "2016-09-28"
                                },
                                {
                                    "FOGLALAS_PK": "1087",
                                    "METTOL": "2016-09-29"
                                },
                                {
                                    "FOGLALAS_PK": "1088",
                                    "METTOL": "2016-09-29"
                                },
                                {
                                    "FOGLALAS_PK": "1089",
                                    "METTOL": "2016-09-30"
                                },
                                {
                                    "FOGLALAS_PK": "1090",
                                    "METTOL": "2016-09-30"
                                },
                                {
                                    "FOGLALAS_PK": "1091",
                                    "METTOL": "2016-09-30"
                                },
                                {
                                    "FOGLALAS_PK": "1092",
                                    "METTOL": "2016-09-30"
                                },
                                {
                                    "FOGLALAS_PK": "1093",
                                    "METTOL": "2016-09-30"
                                },
                                {
                                    "FOGLALAS_PK": "1094",
                                    "METTOL": "2016-09-30"
                                },
                                {
                                    "FOGLALAS_PK": "1095",
                                    "METTOL": "2016-09-30"
                                },
                                {
                                    "FOGLALAS_PK": "1096",
                                    "METTOL": "2016-09-30"
                                },
                                {
                                    "FOGLALAS_PK": "1097",
                                    "METTOL": "2016-10-01"
                                },
                                {
                                    "FOGLALAS_PK": "1098",
                                    "METTOL": "2016-10-01"
                                },
                                {
                                    "FOGLALAS_PK": "1099",
                                    "METTOL": "2016-10-01"
                                },
                                {
                                    "FOGLALAS_PK": "1100",
                                    "METTOL": "2016-10-01"
                                },
                                {
                                    "FOGLALAS_PK": "1101",
                                    "METTOL": "2016-10-01"
                                },
                                {
                                    "FOGLALAS_PK": "1102",
                                    "METTOL": "2016-10-01"
                                },
                                {
                                    "FOGLALAS_PK": "1103",
                                    "METTOL": "2016-10-01"
                                },
                                {
                                    "FOGLALAS_PK": "1104",
                                    "METTOL": "2016-10-01"
                                },
                                {
                                    "FOGLALAS_PK": "1105",
                                    "METTOL": "2016-10-01"
                                },
                                {
                                    "FOGLALAS_PK": "1106",
                                    "METTOL": "2016-10-01"
                                },
                                {
                                    "FOGLALAS_PK": "1107",
                                    "METTOL": "2016-10-01"
                                },
                                {
                                    "FOGLALAS_PK": "1108",
                                    "METTOL": "2016-10-01"
                                },
                                {
                                    "FOGLALAS_PK": "1109",
                                    "METTOL": "2016-10-01"
                                },
                                {
                                    "FOGLALAS_PK": "1110",
                                    "METTOL": "2016-10-01"
                                },
                                {
                                    "FOGLALAS_PK": "1111",
                                    "METTOL": "2016-10-01"
                                },
                                {
                                    "FOGLALAS_PK": "1112",
                                    "METTOL": "2016-10-01"
                                },
                                {
                                    "FOGLALAS_PK": "1113",
                                    "METTOL": "2016-10-01"
                                },
                                {
                                    "FOGLALAS_PK": "1114",
                                    "METTOL": "2016-10-01"
                                },
                                {
                                    "FOGLALAS_PK": "1115",
                                    "METTOL": "2016-10-02"
                                },
                                {
                                    "FOGLALAS_PK": "1116",
                                    "METTOL": "2016-10-03"
                                },
                                {
                                    "FOGLALAS_PK": "1117",
                                    "METTOL": "2016-10-03"
                                },
                                {
                                    "FOGLALAS_PK": "1118",
                                    "METTOL": "2016-10-03"
                                },
                                {
                                    "FOGLALAS_PK": "1119",
                                    "METTOL": "2016-10-04"
                                },
                                {
                                    "FOGLALAS_PK": "1120",
                                    "METTOL": "2016-10-04"
                                },
                                {
                                    "FOGLALAS_PK": "1121",
                                    "METTOL": "2016-10-04"
                                },
                                {
                                    "FOGLALAS_PK": "1122",
                                    "METTOL": "2016-10-05"
                                },
                                {
                                    "FOGLALAS_PK": "1123",
                                    "METTOL": "2016-10-05"
                                },
                                {
                                    "FOGLALAS_PK": "1124",
                                    "METTOL": "2016-10-06"
                                },
                                {
                                    "FOGLALAS_PK": "1125",
                                    "METTOL": "2016-10-06"
                                },
                                {
                                    "FOGLALAS_PK": "1126",
                                    "METTOL": "2016-10-07"
                                },
                                {
                                    "FOGLALAS_PK": "1127",
                                    "METTOL": "2016-10-07"
                                },
                                {
                                    "FOGLALAS_PK": "1128",
                                    "METTOL": "2016-10-08"
                                },
                                {
                                    "FOGLALAS_PK": "1129",
                                    "METTOL": "2016-10-08"
                                },
                                {
                                    "FOGLALAS_PK": "1130",
                                    "METTOL": "2016-10-08"
                                },
                                {
                                    "FOGLALAS_PK": "1131",
                                    "METTOL": "2016-10-08"
                                },
                                {
                                    "FOGLALAS_PK": "1132",
                                    "METTOL": "2016-10-08"
                                },
                                {
                                    "FOGLALAS_PK": "1133",
                                    "METTOL": "2016-10-08"
                                },
                                {
                                    "FOGLALAS_PK": "1134",
                                    "METTOL": "2016-10-08"
                                },
                                {
                                    "FOGLALAS_PK": "1135",
                                    "METTOL": "2016-10-09"
                                },
                                {
                                    "FOGLALAS_PK": "1136",
                                    "METTOL": "2016-10-09"
                                },
                                {
                                    "FOGLALAS_PK": "1137",
                                    "METTOL": "2016-10-09"
                                },
                                {
                                    "FOGLALAS_PK": "1138",
                                    "METTOL": "2016-10-09"
                                },
                                {
                                    "FOGLALAS_PK": "1139",
                                    "METTOL": "2016-10-09"
                                },
                                {
                                    "FOGLALAS_PK": "1140",
                                    "METTOL": "2016-10-09"
                                },
                                {
                                    "FOGLALAS_PK": "1141",
                                    "METTOL": "2016-10-09"
                                },
                                {
                                    "FOGLALAS_PK": "1142",
                                    "METTOL": "2016-10-09"
                                },
                                {
                                    "FOGLALAS_PK": "1143",
                                    "METTOL": "2016-10-09"
                                },
                                {
                                    "FOGLALAS_PK": "1144",
                                    "METTOL": "2016-10-09"
                                },
                                {
                                    "FOGLALAS_PK": "1145",
                                    "METTOL": "2016-10-09"
                                },
                                {
                                    "FOGLALAS_PK": "1146",
                                    "METTOL": "2016-10-10"
                                },
                                {
                                    "FOGLALAS_PK": "1147",
                                    "METTOL": "2016-10-10"
                                },
                                {
                                    "FOGLALAS_PK": "1148",
                                    "METTOL": "2016-10-11"
                                },
                                {
                                    "FOGLALAS_PK": "1149",
                                    "METTOL": "2016-10-12"
                                },
                                {
                                    "FOGLALAS_PK": "1150",
                                    "METTOL": "2016-10-13"
                                },
                                {
                                    "FOGLALAS_PK": "1151",
                                    "METTOL": "2016-10-14"
                                },
                                {
                                    "FOGLALAS_PK": "1152",
                                    "METTOL": "2016-10-15"
                                },
                                {
                                    "FOGLALAS_PK": "1153",
                                    "METTOL": "2016-10-15"
                                },
                                {
                                    "FOGLALAS_PK": "1154",
                                    "METTOL": "2016-10-15"
                                },
                                {
                                    "FOGLALAS_PK": "1155",
                                    "METTOL": "2016-10-15"
                                },
                                {
                                    "FOGLALAS_PK": "1156",
                                    "METTOL": "2016-10-15"
                                },
                                {
                                    "FOGLALAS_PK": "1157",
                                    "METTOL": "2016-10-15"
                                },
                                {
                                    "FOGLALAS_PK": "1158",
                                    "METTOL": "2016-10-16"
                                },
                                {
                                    "FOGLALAS_PK": "1159",
                                    "METTOL": "2016-10-16"
                                },
                                {
                                    "FOGLALAS_PK": "1160",
                                    "METTOL": "2016-10-16"
                                },
                                {
                                    "FOGLALAS_PK": "1161",
                                    "METTOL": "2016-10-17"
                                },
                                {
                                    "FOGLALAS_PK": "1162",
                                    "METTOL": "2016-10-17"
                                },
                                {
                                    "FOGLALAS_PK": "1163",
                                    "METTOL": "2016-10-17"
                                },
                                {
                                    "FOGLALAS_PK": "1164",
                                    "METTOL": "2016-10-18"
                                },
                                {
                                    "FOGLALAS_PK": "1165",
                                    "METTOL": "2016-10-19"
                                },
                                {
                                    "FOGLALAS_PK": "1166",
                                    "METTOL": "2016-10-19"
                                },
                                {
                                    "FOGLALAS_PK": "1167",
                                    "METTOL": "2016-10-19"
                                },
                                {
                                    "FOGLALAS_PK": "1168",
                                    "METTOL": "2016-10-19"
                                },
                                {
                                    "FOGLALAS_PK": "1169",
                                    "METTOL": "2016-10-20"
                                },
                                {
                                    "FOGLALAS_PK": "1170",
                                    "METTOL": "2016-10-20"
                                },
                                {
                                    "FOGLALAS_PK": "1171",
                                    "METTOL": "2016-10-20"
                                },
                                {
                                    "FOGLALAS_PK": "1172",
                                    "METTOL": "2016-10-20"
                                },
                                {
                                    "FOGLALAS_PK": "1173",
                                    "METTOL": "2016-10-21"
                                },
                                {
                                    "FOGLALAS_PK": "1174",
                                    "METTOL": "2016-10-21"
                                },
                                {
                                    "FOGLALAS_PK": "1175",
                                    "METTOL": "2016-10-21"
                                },
                                {
                                    "FOGLALAS_PK": "1176",
                                    "METTOL": "2016-10-21"
                                },
                                {
                                    "FOGLALAS_PK": "1177",
                                    "METTOL": "2016-10-22"
                                },
                                {
                                    "FOGLALAS_PK": "1178",
                                    "METTOL": "2016-10-22"
                                },
                                {
                                    "FOGLALAS_PK": "1179",
                                    "METTOL": "2016-10-22"
                                },
                                {
                                    "FOGLALAS_PK": "1180",
                                    "METTOL": "2016-10-22"
                                },
                                {
                                    "FOGLALAS_PK": "1181",
                                    "METTOL": "2016-10-23"
                                },
                                {
                                    "FOGLALAS_PK": "1182",
                                    "METTOL": "2016-10-23"
                                },
                                {
                                    "FOGLALAS_PK": "1183",
                                    "METTOL": "2016-10-23"
                                },
                                {
                                    "FOGLALAS_PK": "1184",
                                    "METTOL": "2016-10-23"
                                },
                                {
                                    "FOGLALAS_PK": "1185",
                                    "METTOL": "2016-10-23"
                                },
                                {
                                    "FOGLALAS_PK": "1186",
                                    "METTOL": "2016-10-23"
                                },
                                {
                                    "FOGLALAS_PK": "1187",
                                    "METTOL": "2016-10-23"
                                },
                                {
                                    "FOGLALAS_PK": "1188",
                                    "METTOL": "2016-10-24"
                                },
                                {
                                    "FOGLALAS_PK": "1189",
                                    "METTOL": "2016-10-24"
                                },
                                {
                                    "FOGLALAS_PK": "1190",
                                    "METTOL": "2016-10-24"
                                },
                                {
                                    "FOGLALAS_PK": "1191",
                                    "METTOL": "2016-10-25"
                                },
                                {
                                    "FOGLALAS_PK": "1192",
                                    "METTOL": "2016-10-26"
                                },
                                {
                                    "FOGLALAS_PK": "1193",
                                    "METTOL": "2016-10-26"
                                },
                                {
                                    "FOGLALAS_PK": "1194",
                                    "METTOL": "2016-10-26"
                                },
                                {
                                    "FOGLALAS_PK": "1195",
                                    "METTOL": "2016-10-26"
                                },
                                {
                                    "FOGLALAS_PK": "1196",
                                    "METTOL": "2016-10-26"
                                },
                                {
                                    "FOGLALAS_PK": "1197",
                                    "METTOL": "2016-10-26"
                                },
                                {
                                    "FOGLALAS_PK": "1198",
                                    "METTOL": "2016-10-26"
                                },
                                {
                                    "FOGLALAS_PK": "1199",
                                    "METTOL": "2016-10-26"
                                },
                                {
                                    "FOGLALAS_PK": "1200",
                                    "METTOL": "2016-10-26"
                                },
                                {
                                    "FOGLALAS_PK": "1201",
                                    "METTOL": "2016-10-26"
                                },
                                {
                                    "FOGLALAS_PK": "1202",
                                    "METTOL": "2016-10-26"
                                },
                                {
                                    "FOGLALAS_PK": "1203",
                                    "METTOL": "2016-10-26"
                                },
                                {
                                    "FOGLALAS_PK": "1204",
                                    "METTOL": "2016-10-27"
                                },
                                {
                                    "FOGLALAS_PK": "1205",
                                    "METTOL": "2016-10-27"
                                },
                                {
                                    "FOGLALAS_PK": "1206",
                                    "METTOL": "2016-10-27"
                                },
                                {
                                    "FOGLALAS_PK": "1207",
                                    "METTOL": "2016-10-27"
                                },
                                {
                                    "FOGLALAS_PK": "1208",
                                    "METTOL": "2016-10-28"
                                },
                                {
                                    "FOGLALAS_PK": "1209",
                                    "METTOL": "2016-10-28"
                                },
                                {
                                    "FOGLALAS_PK": "1210",
                                    "METTOL": "2016-10-28"
                                },
                                {
                                    "FOGLALAS_PK": "1211",
                                    "METTOL": "2016-10-28"
                                },
                                {
                                    "FOGLALAS_PK": "1212",
                                    "METTOL": "2016-10-28"
                                },
                                {
                                    "FOGLALAS_PK": "1213",
                                    "METTOL": "2016-10-28"
                                },
                                {
                                    "FOGLALAS_PK": "1214",
                                    "METTOL": "2016-10-29"
                                },
                                {
                                    "FOGLALAS_PK": "1215",
                                    "METTOL": "2016-10-29"
                                },
                                {
                                    "FOGLALAS_PK": "1216",
                                    "METTOL": "2016-10-29"
                                },
                                {
                                    "FOGLALAS_PK": "1217",
                                    "METTOL": "2016-10-29"
                                },
                                {
                                    "FOGLALAS_PK": "1218",
                                    "METTOL": "2016-10-29"
                                },
                                {
                                    "FOGLALAS_PK": "1219",
                                    "METTOL": "2016-10-30"
                                },
                                {
                                    "FOGLALAS_PK": "1220",
                                    "METTOL": "2016-10-30"
                                },
                                {
                                    "FOGLALAS_PK": "1221",
                                    "METTOL": "2016-10-30"
                                },
                                {
                                    "FOGLALAS_PK": "1222",
                                    "METTOL": "2016-10-30"
                                },
                                {
                                    "FOGLALAS_PK": "1223",
                                    "METTOL": "2016-10-30"
                                },
                                {
                                    "FOGLALAS_PK": "1224",
                                    "METTOL": "2016-10-30"
                                },
                                {
                                    "FOGLALAS_PK": "1225",
                                    "METTOL": "2016-10-30"
                                },
                                {
                                    "FOGLALAS_PK": "1226",
                                    "METTOL": "2016-10-30"
                                },
                                {
                                    "FOGLALAS_PK": "1227",
                                    "METTOL": "2016-10-30"
                                },
                                {
                                    "FOGLALAS_PK": "1228",
                                    "METTOL": "2016-10-30"
                                },
                                {
                                    "FOGLALAS_PK": "1229",
                                    "METTOL": "2016-10-30"
                                },
                                {
                                    "FOGLALAS_PK": "1230",
                                    "METTOL": "2016-10-30"
                                },
                                {
                                    "FOGLALAS_PK": "1231",
                                    "METTOL": "2016-10-30"
                                },
                                {
                                    "FOGLALAS_PK": "1232",
                                    "METTOL": "2016-10-30"
                                },
                                {
                                    "FOGLALAS_PK": "1233",
                                    "METTOL": "2016-10-31"
                                },
                                {
                                    "FOGLALAS_PK": "1234",
                                    "METTOL": "2016-11-01"
                                },
                                {
                                    "FOGLALAS_PK": "1235",
                                    "METTOL": "2016-11-01"
                                },
                                {
                                    "FOGLALAS_PK": "1236",
                                    "METTOL": "2016-11-01"
                                },
                                {
                                    "FOGLALAS_PK": "1237",
                                    "METTOL": "2016-11-02"
                                },
                                {
                                    "FOGLALAS_PK": "1238",
                                    "METTOL": "2016-11-03"
                                },
                                {
                                    "FOGLALAS_PK": "1239",
                                    "METTOL": "2016-11-03"
                                },
                                {
                                    "FOGLALAS_PK": "1240",
                                    "METTOL": "2016-11-03"
                                },
                                {
                                    "FOGLALAS_PK": "1241",
                                    "METTOL": "2016-11-03"
                                },
                                {
                                    "FOGLALAS_PK": "1242",
                                    "METTOL": "2016-11-03"
                                },
                                {
                                    "FOGLALAS_PK": "1243",
                                    "METTOL": "2016-11-03"
                                },
                                {
                                    "FOGLALAS_PK": "1244",
                                    "METTOL": "2016-11-03"
                                },
                                {
                                    "FOGLALAS_PK": "1245",
                                    "METTOL": "2016-11-04"
                                },
                                {
                                    "FOGLALAS_PK": "1246",
                                    "METTOL": "2016-11-05"
                                },
                                {
                                    "FOGLALAS_PK": "1247",
                                    "METTOL": "2016-11-05"
                                },
                                {
                                    "FOGLALAS_PK": "1248",
                                    "METTOL": "2016-11-05"
                                },
                                {
                                    "FOGLALAS_PK": "1249",
                                    "METTOL": "2016-11-05"
                                },
                                {
                                    "FOGLALAS_PK": "1250",
                                    "METTOL": "2016-11-05"
                                },
                                {
                                    "FOGLALAS_PK": "1251",
                                    "METTOL": "2016-11-05"
                                },
                                {
                                    "FOGLALAS_PK": "1252",
                                    "METTOL": "2016-11-05"
                                },
                                {
                                    "FOGLALAS_PK": "1253",
                                    "METTOL": "2016-11-05"
                                },
                                {
                                    "FOGLALAS_PK": "1254",
                                    "METTOL": "2016-11-06"
                                },
                                {
                                    "FOGLALAS_PK": "1255",
                                    "METTOL": "2016-11-06"
                                },
                                {
                                    "FOGLALAS_PK": "1256",
                                    "METTOL": "2016-11-06"
                                },
                                {
                                    "FOGLALAS_PK": "1257",
                                    "METTOL": "2016-11-07"
                                },
                                {
                                    "FOGLALAS_PK": "1258",
                                    "METTOL": "2016-11-07"
                                },
                                {
                                    "FOGLALAS_PK": "1259",
                                    "METTOL": "2016-11-07"
                                },
                                {
                                    "FOGLALAS_PK": "1260",
                                    "METTOL": "2016-11-07"
                                },
                                {
                                    "FOGLALAS_PK": "1261",
                                    "METTOL": "2016-11-07"
                                },
                                {
                                    "FOGLALAS_PK": "1262",
                                    "METTOL": "2016-11-07"
                                },
                                {
                                    "FOGLALAS_PK": "1263",
                                    "METTOL": "2016-11-08"
                                },
                                {
                                    "FOGLALAS_PK": "1264",
                                    "METTOL": "2016-11-08"
                                },
                                {
                                    "FOGLALAS_PK": "1265",
                                    "METTOL": "2016-11-08"
                                },
                                {
                                    "FOGLALAS_PK": "1266",
                                    "METTOL": "2016-11-08"
                                },
                                {
                                    "FOGLALAS_PK": "1267",
                                    "METTOL": "2016-11-09"
                                },
                                {
                                    "FOGLALAS_PK": "1268",
                                    "METTOL": "2016-11-09"
                                },
                                {
                                    "FOGLALAS_PK": "1269",
                                    "METTOL": "2016-11-09"
                                },
                                {
                                    "FOGLALAS_PK": "1270",
                                    "METTOL": "2016-11-10"
                                },
                                {
                                    "FOGLALAS_PK": "1271",
                                    "METTOL": "2016-11-10"
                                },
                                {
                                    "FOGLALAS_PK": "1272",
                                    "METTOL": "2016-11-10"
                                },
                                {
                                    "FOGLALAS_PK": "1273",
                                    "METTOL": "2016-11-10"
                                },
                                {
                                    "FOGLALAS_PK": "1274",
                                    "METTOL": "2016-11-11"
                                },
                                {
                                    "FOGLALAS_PK": "1275",
                                    "METTOL": "2016-11-11"
                                },
                                {
                                    "FOGLALAS_PK": "1276",
                                    "METTOL": "2016-11-12"
                                },
                                {
                                    "FOGLALAS_PK": "1277",
                                    "METTOL": "2016-11-12"
                                },
                                {
                                    "FOGLALAS_PK": "1278",
                                    "METTOL": "2016-11-13"
                                },
                                {
                                    "FOGLALAS_PK": "1279",
                                    "METTOL": "2016-11-14"
                                },
                                {
                                    "FOGLALAS_PK": "1280",
                                    "METTOL": "2016-11-15"
                                },
                                {
                                    "FOGLALAS_PK": "1281",
                                    "METTOL": "2016-11-15"
                                },
                                {
                                    "FOGLALAS_PK": "1282",
                                    "METTOL": "2016-11-15"
                                },
                                {
                                    "FOGLALAS_PK": "1283",
                                    "METTOL": "2016-11-16"
                                },
                                {
                                    "FOGLALAS_PK": "1284",
                                    "METTOL": "2016-11-16"
                                },
                                {
                                    "FOGLALAS_PK": "1285",
                                    "METTOL": "2016-11-16"
                                },
                                {
                                    "FOGLALAS_PK": "1286",
                                    "METTOL": "2016-11-16"
                                },
                                {
                                    "FOGLALAS_PK": "1287",
                                    "METTOL": "2016-11-17"
                                },
                                {
                                    "FOGLALAS_PK": "1288",
                                    "METTOL": "2016-11-17"
                                },
                                {
                                    "FOGLALAS_PK": "1289",
                                    "METTOL": "2016-11-18"
                                },
                                {
                                    "FOGLALAS_PK": "1290",
                                    "METTOL": "2016-11-19"
                                },
                                {
                                    "FOGLALAS_PK": "1291",
                                    "METTOL": "2016-11-19"
                                },
                                {
                                    "FOGLALAS_PK": "1292",
                                    "METTOL": "2016-11-19"
                                },
                                {
                                    "FOGLALAS_PK": "1293",
                                    "METTOL": "2016-11-19"
                                },
                                {
                                    "FOGLALAS_PK": "1294",
                                    "METTOL": "2016-11-19"
                                },
                                {
                                    "FOGLALAS_PK": "1295",
                                    "METTOL": "2016-11-19"
                                },
                                {
                                    "FOGLALAS_PK": "1296",
                                    "METTOL": "2016-11-19"
                                },
                                {
                                    "FOGLALAS_PK": "1297",
                                    "METTOL": "2016-11-19"
                                },
                                {
                                    "FOGLALAS_PK": "1298",
                                    "METTOL": "2016-11-20"
                                },
                                {
                                    "FOGLALAS_PK": "1299",
                                    "METTOL": "2016-11-21"
                                },
                                {
                                    "FOGLALAS_PK": "1300",
                                    "METTOL": "2016-11-21"
                                },
                                {
                                    "FOGLALAS_PK": "1301",
                                    "METTOL": "2016-11-22"
                                },
                                {
                                    "FOGLALAS_PK": "1302",
                                    "METTOL": "2016-11-22"
                                },
                                {
                                    "FOGLALAS_PK": "1303",
                                    "METTOL": "2016-11-22"
                                },
                                {
                                    "FOGLALAS_PK": "1304",
                                    "METTOL": "2016-11-22"
                                },
                                {
                                    "FOGLALAS_PK": "1305",
                                    "METTOL": "2016-11-22"
                                },
                                {
                                    "FOGLALAS_PK": "1306",
                                    "METTOL": "2016-11-22"
                                },
                                {
                                    "FOGLALAS_PK": "1307",
                                    "METTOL": "2016-11-23"
                                },
                                {
                                    "FOGLALAS_PK": "1308",
                                    "METTOL": "2016-11-23"
                                },
                                {
                                    "FOGLALAS_PK": "1309",
                                    "METTOL": "2016-11-23"
                                },
                                {
                                    "FOGLALAS_PK": "1310",
                                    "METTOL": "2016-11-23"
                                },
                                {
                                    "FOGLALAS_PK": "1311",
                                    "METTOL": "2016-11-23"
                                },
                                {
                                    "FOGLALAS_PK": "1312",
                                    "METTOL": "2016-11-23"
                                },
                                {
                                    "FOGLALAS_PK": "1313",
                                    "METTOL": "2016-11-23"
                                },
                                {
                                    "FOGLALAS_PK": "1314",
                                    "METTOL": "2016-11-23"
                                },
                                {
                                    "FOGLALAS_PK": "1315",
                                    "METTOL": "2016-11-24"
                                },
                                {
                                    "FOGLALAS_PK": "1316",
                                    "METTOL": "2016-11-25"
                                },
                                {
                                    "FOGLALAS_PK": "1317",
                                    "METTOL": "2016-11-25"
                                },
                                {
                                    "FOGLALAS_PK": "1318",
                                    "METTOL": "2016-11-25"
                                },
                                {
                                    "FOGLALAS_PK": "1319",
                                    "METTOL": "2016-11-25"
                                },
                                {
                                    "FOGLALAS_PK": "1320",
                                    "METTOL": "2016-11-25"
                                },
                                {
                                    "FOGLALAS_PK": "1321",
                                    "METTOL": "2016-11-25"
                                },
                                {
                                    "FOGLALAS_PK": "1322",
                                    "METTOL": "2016-11-26"
                                },
                                {
                                    "FOGLALAS_PK": "1323",
                                    "METTOL": "2016-11-27"
                                },
                                {
                                    "FOGLALAS_PK": "1324",
                                    "METTOL": "2016-11-27"
                                },
                                {
                                    "FOGLALAS_PK": "1325",
                                    "METTOL": "2016-11-27"
                                },
                                {
                                    "FOGLALAS_PK": "1326",
                                    "METTOL": "2016-11-28"
                                },
                                {
                                    "FOGLALAS_PK": "1327",
                                    "METTOL": "2016-11-28"
                                },
                                {
                                    "FOGLALAS_PK": "1328",
                                    "METTOL": "2016-11-28"
                                },
                                {
                                    "FOGLALAS_PK": "1329",
                                    "METTOL": "2016-11-29"
                                },
                                {
                                    "FOGLALAS_PK": "1330",
                                    "METTOL": "2016-11-29"
                                },
                                {
                                    "FOGLALAS_PK": "1331",
                                    "METTOL": "2016-11-29"
                                },
                                {
                                    "FOGLALAS_PK": "1332",
                                    "METTOL": "2016-11-29"
                                },
                                {
                                    "FOGLALAS_PK": "1333",
                                    "METTOL": "2016-11-30"
                                },
                                {
                                    "FOGLALAS_PK": "1334",
                                    "METTOL": "2016-12-01"
                                },
                                {
                                    "FOGLALAS_PK": "1335",
                                    "METTOL": "2016-12-01"
                                },
                                {
                                    "FOGLALAS_PK": "1336",
                                    "METTOL": "2016-12-02"
                                },
                                {
                                    "FOGLALAS_PK": "1337",
                                    "METTOL": "2016-12-02"
                                },
                                {
                                    "FOGLALAS_PK": "1338",
                                    "METTOL": "2016-12-02"
                                },
                                {
                                    "FOGLALAS_PK": "1339",
                                    "METTOL": "2016-12-03"
                                },
                                {
                                    "FOGLALAS_PK": "1340",
                                    "METTOL": "2016-12-04"
                                },
                                {
                                    "FOGLALAS_PK": "1341",
                                    "METTOL": "2016-12-04"
                                },
                                {
                                    "FOGLALAS_PK": "1342",
                                    "METTOL": "2016-12-04"
                                },
                                {
                                    "FOGLALAS_PK": "1343",
                                    "METTOL": "2016-12-05"
                                },
                                {
                                    "FOGLALAS_PK": "1344",
                                    "METTOL": "2016-12-05"
                                },
                                {
                                    "FOGLALAS_PK": "1345",
                                    "METTOL": "2016-12-05"
                                },
                                {
                                    "FOGLALAS_PK": "1346",
                                    "METTOL": "2016-12-05"
                                },
                                {
                                    "FOGLALAS_PK": "1347",
                                    "METTOL": "2016-12-06"
                                },
                                {
                                    "FOGLALAS_PK": "1348",
                                    "METTOL": "2016-12-06"
                                },
                                {
                                    "FOGLALAS_PK": "1349",
                                    "METTOL": "2016-12-06"
                                },
                                {
                                    "FOGLALAS_PK": "1350",
                                    "METTOL": "2016-12-06"
                                },
                                {
                                    "FOGLALAS_PK": "1351",
                                    "METTOL": "2016-12-06"
                                },
                                {
                                    "FOGLALAS_PK": "1352",
                                    "METTOL": "2016-12-07"
                                },
                                {
                                    "FOGLALAS_PK": "1353",
                                    "METTOL": "2016-12-07"
                                },
                                {
                                    "FOGLALAS_PK": "1354",
                                    "METTOL": "2016-12-07"
                                },
                                {
                                    "FOGLALAS_PK": "1355",
                                    "METTOL": "2016-12-08"
                                },
                                {
                                    "FOGLALAS_PK": "1356",
                                    "METTOL": "2016-12-09"
                                },
                                {
                                    "FOGLALAS_PK": "1357",
                                    "METTOL": "2016-12-10"
                                },
                                {
                                    "FOGLALAS_PK": "1358",
                                    "METTOL": "2016-12-11"
                                },
                                {
                                    "FOGLALAS_PK": "1359",
                                    "METTOL": "2016-12-12"
                                },
                                {
                                    "FOGLALAS_PK": "1360",
                                    "METTOL": "2016-12-13"
                                },
                                {
                                    "FOGLALAS_PK": "1361",
                                    "METTOL": "2016-12-14"
                                },
                                {
                                    "FOGLALAS_PK": "1362",
                                    "METTOL": "2016-12-14"
                                },
                                {
                                    "FOGLALAS_PK": "1363",
                                    "METTOL": "2016-12-15"
                                },
                                {
                                    "FOGLALAS_PK": "1364",
                                    "METTOL": "2016-12-15"
                                },
                                {
                                    "FOGLALAS_PK": "1365",
                                    "METTOL": "2016-12-15"
                                },
                                {
                                    "FOGLALAS_PK": "1366",
                                    "METTOL": "2016-12-16"
                                },
                                {
                                    "FOGLALAS_PK": "1367",
                                    "METTOL": "2016-12-17"
                                },
                                {
                                    "FOGLALAS_PK": "1368",
                                    "METTOL": "2016-12-17"
                                },
                                {
                                    "FOGLALAS_PK": "1369",
                                    "METTOL": "2016-12-17"
                                },
                                {
                                    "FOGLALAS_PK": "1370",
                                    "METTOL": "2016-12-17"
                                },
                                {
                                    "FOGLALAS_PK": "1371",
                                    "METTOL": "2016-12-17"
                                },
                                {
                                    "FOGLALAS_PK": "1372",
                                    "METTOL": "2016-12-17"
                                },
                                {
                                    "FOGLALAS_PK": "1373",
                                    "METTOL": "2016-12-17"
                                },
                                {
                                    "FOGLALAS_PK": "1374",
                                    "METTOL": "2016-12-17"
                                },
                                {
                                    "FOGLALAS_PK": "1375",
                                    "METTOL": "2016-12-17"
                                },
                                {
                                    "FOGLALAS_PK": "1376",
                                    "METTOL": "2016-12-17"
                                },
                                {
                                    "FOGLALAS_PK": "1377",
                                    "METTOL": "2016-12-18"
                                },
                                {
                                    "FOGLALAS_PK": "1378",
                                    "METTOL": "2016-12-18"
                                },
                                {
                                    "FOGLALAS_PK": "1379",
                                    "METTOL": "2016-12-19"
                                },
                                {
                                    "FOGLALAS_PK": "1380",
                                    "METTOL": "2016-12-20"
                                },
                                {
                                    "FOGLALAS_PK": "1381",
                                    "METTOL": "2016-12-21"
                                },
                                {
                                    "FOGLALAS_PK": "1382",
                                    "METTOL": "2016-12-22"
                                },
                                {
                                    "FOGLALAS_PK": "1383",
                                    "METTOL": "2016-12-22"
                                },
                                {
                                    "FOGLALAS_PK": "1384",
                                    "METTOL": "2016-12-22"
                                },
                                {
                                    "FOGLALAS_PK": "1385",
                                    "METTOL": "2016-12-23"
                                },
                                {
                                    "FOGLALAS_PK": "1386",
                                    "METTOL": "2016-12-24"
                                },
                                {
                                    "FOGLALAS_PK": "1387",
                                    "METTOL": "2016-12-24"
                                },
                                {
                                    "FOGLALAS_PK": "1388",
                                    "METTOL": "2016-12-24"
                                },
                                {
                                    "FOGLALAS_PK": "1389",
                                    "METTOL": "2016-12-25"
                                },
                                {
                                    "FOGLALAS_PK": "1390",
                                    "METTOL": "2016-12-25"
                                },
                                {
                                    "FOGLALAS_PK": "1391",
                                    "METTOL": "2016-12-25"
                                },
                                {
                                    "FOGLALAS_PK": "1392",
                                    "METTOL": "2016-12-25"
                                },
                                {
                                    "FOGLALAS_PK": "1393",
                                    "METTOL": "2016-12-25"
                                },
                                {
                                    "FOGLALAS_PK": "1394",
                                    "METTOL": "2016-12-25"
                                },
                                {
                                    "FOGLALAS_PK": "1395",
                                    "METTOL": "2016-12-25"
                                },
                                {
                                    "FOGLALAS_PK": "1396",
                                    "METTOL": "2016-12-25"
                                },
                                {
                                    "FOGLALAS_PK": "1397",
                                    "METTOL": "2016-12-25"
                                },
                                {
                                    "FOGLALAS_PK": "1398",
                                    "METTOL": "2016-12-26"
                                },
                                {
                                    "FOGLALAS_PK": "1399",
                                    "METTOL": "2016-12-26"
                                },
                                {
                                    "FOGLALAS_PK": "1400",
                                    "METTOL": "2016-12-26"
                                },
                                {
                                    "FOGLALAS_PK": "1401",
                                    "METTOL": "2016-12-27"
                                },
                                {
                                    "FOGLALAS_PK": "1402",
                                    "METTOL": "2016-12-28"
                                },
                                {
                                    "FOGLALAS_PK": "1403",
                                    "METTOL": "2016-12-29"
                                },
                                {
                                    "FOGLALAS_PK": "1404",
                                    "METTOL": "2016-12-29"
                                },
                                {
                                    "FOGLALAS_PK": "1405",
                                    "METTOL": "2016-12-29"
                                },
                                {
                                    "FOGLALAS_PK": "1406",
                                    "METTOL": "2016-12-29"
                                },
                                {
                                    "FOGLALAS_PK": "1407",
                                    "METTOL": "2016-12-30"
                                },
                                {
                                    "FOGLALAS_PK": "1408",
                                    "METTOL": "2016-12-31"
                                },
                                {
                                    "FOGLALAS_PK": "1409",
                                    "METTOL": "2017-01-01"
                                },
                                {
                                    "FOGLALAS_PK": "1410",
                                    "METTOL": "2017-01-01"
                                },
                                {
                                    "FOGLALAS_PK": "1411",
                                    "METTOL": "2017-01-01"
                                },
                                {
                                    "FOGLALAS_PK": "1412",
                                    "METTOL": "2017-01-01"
                                },
                                {
                                    "FOGLALAS_PK": "1413",
                                    "METTOL": "2017-01-02"
                                },
                                {
                                    "FOGLALAS_PK": "1414",
                                    "METTOL": "2017-01-02"
                                },
                                {
                                    "FOGLALAS_PK": "1415",
                                    "METTOL": "2017-01-03"
                                },
                                {
                                    "FOGLALAS_PK": "1416",
                                    "METTOL": "2017-01-03"
                                },
                                {
                                    "FOGLALAS_PK": "1417",
                                    "METTOL": "2017-01-03"
                                },
                                {
                                    "FOGLALAS_PK": "1418",
                                    "METTOL": "2017-01-04"
                                },
                                {
                                    "FOGLALAS_PK": "1419",
                                    "METTOL": "2017-01-05"
                                },
                                {
                                    "FOGLALAS_PK": "1420",
                                    "METTOL": "2017-01-05"
                                },
                                {
                                    "FOGLALAS_PK": "1421",
                                    "METTOL": "2017-01-05"
                                },
                                {
                                    "FOGLALAS_PK": "1422",
                                    "METTOL": "2017-01-06"
                                },
                                {
                                    "FOGLALAS_PK": "1423",
                                    "METTOL": "2017-01-06"
                                },
                                {
                                    "FOGLALAS_PK": "1424",
                                    "METTOL": "2017-01-07"
                                },
                                {
                                    "FOGLALAS_PK": "1425",
                                    "METTOL": "2017-01-08"
                                },
                                {
                                    "FOGLALAS_PK": "1426",
                                    "METTOL": "2017-01-09"
                                },
                                {
                                    "FOGLALAS_PK": "1427",
                                    "METTOL": "2017-01-09"
                                },
                                {
                                    "FOGLALAS_PK": "1428",
                                    "METTOL": "2017-01-09"
                                },
                                {
                                    "FOGLALAS_PK": "1429",
                                    "METTOL": "2017-01-09"
                                },
                                {
                                    "FOGLALAS_PK": "1430",
                                    "METTOL": "2017-01-09"
                                },
                                {
                                    "FOGLALAS_PK": "1431",
                                    "METTOL": "2017-01-10"
                                },
                                {
                                    "FOGLALAS_PK": "1432",
                                    "METTOL": "2017-01-10"
                                },
                                {
                                    "FOGLALAS_PK": "1433",
                                    "METTOL": "2017-01-11"
                                },
                                {
                                    "FOGLALAS_PK": "1434",
                                    "METTOL": "2017-01-12"
                                },
                                {
                                    "FOGLALAS_PK": "1435",
                                    "METTOL": "2017-01-12"
                                },
                                {
                                    "FOGLALAS_PK": "1436",
                                    "METTOL": "2017-01-13"
                                },
                                {
                                    "FOGLALAS_PK": "1437",
                                    "METTOL": "2017-01-13"
                                },
                                {
                                    "FOGLALAS_PK": "1438",
                                    "METTOL": "2017-01-14"
                                },
                                {
                                    "FOGLALAS_PK": "1439",
                                    "METTOL": "2017-01-15"
                                },
                                {
                                    "FOGLALAS_PK": "1440",
                                    "METTOL": "2017-01-15"
                                },
                                {
                                    "FOGLALAS_PK": "1441",
                                    "METTOL": "2017-01-16"
                                },
                                {
                                    "FOGLALAS_PK": "1442",
                                    "METTOL": "2017-01-16"
                                },
                                {
                                    "FOGLALAS_PK": "1443",
                                    "METTOL": "2017-01-16"
                                },
                                {
                                    "FOGLALAS_PK": "1444",
                                    "METTOL": "2017-01-16"
                                },
                                {
                                    "FOGLALAS_PK": "1445",
                                    "METTOL": "2017-01-16"
                                },
                                {
                                    "FOGLALAS_PK": "1446",
                                    "METTOL": "2017-01-16"
                                },
                                {
                                    "FOGLALAS_PK": "1447",
                                    "METTOL": "2017-01-16"
                                },
                                {
                                    "FOGLALAS_PK": "1448",
                                    "METTOL": "2017-01-16"
                                },
                                {
                                    "FOGLALAS_PK": "1449",
                                    "METTOL": "2017-01-17"
                                },
                                {
                                    "FOGLALAS_PK": "1450",
                                    "METTOL": "2017-01-17"
                                },
                                {
                                    "FOGLALAS_PK": "1451",
                                    "METTOL": "2017-01-17"
                                },
                                {
                                    "FOGLALAS_PK": "1452",
                                    "METTOL": "2017-01-17"
                                },
                                {
                                    "FOGLALAS_PK": "1453",
                                    "METTOL": "2017-01-17"
                                },
                                {
                                    "FOGLALAS_PK": "1454",
                                    "METTOL": "2017-01-18"
                                },
                                {
                                    "FOGLALAS_PK": "1455",
                                    "METTOL": "2017-01-18"
                                },
                                {
                                    "FOGLALAS_PK": "1456",
                                    "METTOL": "2017-01-19"
                                },
                                {
                                    "FOGLALAS_PK": "1457",
                                    "METTOL": "2017-01-19"
                                },
                                {
                                    "FOGLALAS_PK": "1458",
                                    "METTOL": "2017-01-19"
                                },
                                {
                                    "FOGLALAS_PK": "1459",
                                    "METTOL": "2017-01-20"
                                },
                                {
                                    "FOGLALAS_PK": "1460",
                                    "METTOL": "2017-01-21"
                                },
                                {
                                    "FOGLALAS_PK": "1461",
                                    "METTOL": "2017-01-22"
                                },
                                {
                                    "FOGLALAS_PK": "1462",
                                    "METTOL": "2017-01-22"
                                },
                                {
                                    "FOGLALAS_PK": "1463",
                                    "METTOL": "2017-01-22"
                                },
                                {
                                    "FOGLALAS_PK": "1464",
                                    "METTOL": "2017-01-22"
                                },
                                {
                                    "FOGLALAS_PK": "1465",
                                    "METTOL": "2017-01-22"
                                },
                                {
                                    "FOGLALAS_PK": "1466",
                                    "METTOL": "2017-01-22"
                                },
                                {
                                    "FOGLALAS_PK": "1467",
                                    "METTOL": "2017-01-22"
                                },
                                {
                                    "FOGLALAS_PK": "1468",
                                    "METTOL": "2017-01-23"
                                },
                                {
                                    "FOGLALAS_PK": "1469",
                                    "METTOL": "2017-01-23"
                                },
                                {
                                    "FOGLALAS_PK": "1470",
                                    "METTOL": "2017-01-23"
                                },
                                {
                                    "FOGLALAS_PK": "1471",
                                    "METTOL": "2017-01-23"
                                },
                                {
                                    "FOGLALAS_PK": "1472",
                                    "METTOL": "2017-01-24"
                                },
                                {
                                    "FOGLALAS_PK": "1473",
                                    "METTOL": "2017-01-24"
                                },
                                {
                                    "FOGLALAS_PK": "1474",
                                    "METTOL": "2017-01-25"
                                },
                                {
                                    "FOGLALAS_PK": "1475",
                                    "METTOL": "2017-01-26"
                                },
                                {
                                    "FOGLALAS_PK": "1476",
                                    "METTOL": "2017-01-27"
                                },
                                {
                                    "FOGLALAS_PK": "1477",
                                    "METTOL": "2017-01-28"
                                },
                                {
                                    "FOGLALAS_PK": "1478",
                                    "METTOL": "2017-01-28"
                                },
                                {
                                    "FOGLALAS_PK": "1479",
                                    "METTOL": "2017-01-28"
                                },
                                {
                                    "FOGLALAS_PK": "1480",
                                    "METTOL": "2016-12-29"
                                },
                                {
                                    "FOGLALAS_PK": "1481",
                                    "METTOL": "2017-01-29"
                                },
                                {
                                    "FOGLALAS_PK": "1482",
                                    "METTOL": "2017-01-29"
                                },
                                {
                                    "FOGLALAS_PK": "1483",
                                    "METTOL": "2017-01-30"
                                },
                                {
                                    "FOGLALAS_PK": "1484",
                                    "METTOL": "2017-01-30"
                                },
                                {
                                    "FOGLALAS_PK": "1485",
                                    "METTOL": "2017-01-30"
                                },
                                {
                                    "FOGLALAS_PK": "1486",
                                    "METTOL": "2017-01-31"
                                },
                                {
                                    "FOGLALAS_PK": "1487",
                                    "METTOL": "2017-02-01"
                                },
                                {
                                    "FOGLALAS_PK": "1488",
                                    "METTOL": "2017-02-01"
                                },
                                {
                                    "FOGLALAS_PK": "1489",
                                    "METTOL": "2017-02-02"
                                },
                                {
                                    "FOGLALAS_PK": "1490",
                                    "METTOL": "2017-02-03"
                                },
                                {
                                    "FOGLALAS_PK": "1491",
                                    "METTOL": "2017-02-03"
                                },
                                {
                                    "FOGLALAS_PK": "1492",
                                    "METTOL": "2017-02-03"
                                },
                                {
                                    "FOGLALAS_PK": "1493",
                                    "METTOL": "2017-02-04"
                                },
                                {
                                    "FOGLALAS_PK": "1494",
                                    "METTOL": "2017-02-04"
                                },
                                {
                                    "FOGLALAS_PK": "1495",
                                    "METTOL": "2017-02-04"
                                },
                                {
                                    "FOGLALAS_PK": "1496",
                                    "METTOL": "2017-02-04"
                                },
                                {
                                    "FOGLALAS_PK": "1497",
                                    "METTOL": "2017-02-04"
                                },
                                {
                                    "FOGLALAS_PK": "1498",
                                    "METTOL": "2017-02-04"
                                },
                                {
                                    "FOGLALAS_PK": "1499",
                                    "METTOL": "2017-02-05"
                                },
                                {
                                    "FOGLALAS_PK": "1500",
                                    "METTOL": "2017-02-05"
                                },
                                {
                                    "FOGLALAS_PK": "1501",
                                    "METTOL": "2017-02-05"
                                },
                                {
                                    "FOGLALAS_PK": "1502",
                                    "METTOL": "2017-02-05"
                                },
                                {
                                    "FOGLALAS_PK": "1503",
                                    "METTOL": "2017-02-05"
                                },
                                {
                                    "FOGLALAS_PK": "1504",
                                    "METTOL": "2017-02-06"
                                },
                                {
                                    "FOGLALAS_PK": "1505",
                                    "METTOL": "2017-02-06"
                                },
                                {
                                    "FOGLALAS_PK": "1506",
                                    "METTOL": "2017-02-06"
                                },
                                {
                                    "FOGLALAS_PK": "1507",
                                    "METTOL": "2017-02-07"
                                },
                                {
                                    "FOGLALAS_PK": "1508",
                                    "METTOL": "2017-02-08"
                                },
                                {
                                    "FOGLALAS_PK": "1509",
                                    "METTOL": "2017-02-08"
                                },
                                {
                                    "FOGLALAS_PK": "1510",
                                    "METTOL": "2017-02-08"
                                },
                                {
                                    "FOGLALAS_PK": "1511",
                                    "METTOL": "2017-02-08"
                                },
                                {
                                    "FOGLALAS_PK": "1512",
                                    "METTOL": "2017-02-08"
                                },
                                {
                                    "FOGLALAS_PK": "1513",
                                    "METTOL": "2017-02-09"
                                },
                                {
                                    "FOGLALAS_PK": "1514",
                                    "METTOL": "2017-02-09"
                                },
                                {
                                    "FOGLALAS_PK": "1515",
                                    "METTOL": "2017-02-10"
                                },
                                {
                                    "FOGLALAS_PK": "1516",
                                    "METTOL": "2017-02-10"
                                },
                                {
                                    "FOGLALAS_PK": "1517",
                                    "METTOL": "2017-02-11"
                                },
                                {
                                    "FOGLALAS_PK": "1518",
                                    "METTOL": "2017-02-12"
                                },
                                {
                                    "FOGLALAS_PK": "1519",
                                    "METTOL": "2017-02-12"
                                },
                                {
                                    "FOGLALAS_PK": "1520",
                                    "METTOL": "2017-02-12"
                                },
                                {
                                    "FOGLALAS_PK": "1521",
                                    "METTOL": "2017-02-12"
                                },
                                {
                                    "FOGLALAS_PK": "1522",
                                    "METTOL": "2017-02-12"
                                },
                                {
                                    "FOGLALAS_PK": "1523",
                                    "METTOL": "2017-02-12"
                                },
                                {
                                    "FOGLALAS_PK": "1524",
                                    "METTOL": "2017-02-12"
                                },
                                {
                                    "FOGLALAS_PK": "1525",
                                    "METTOL": "2017-02-12"
                                },
                                {
                                    "FOGLALAS_PK": "1526",
                                    "METTOL": "2017-02-12"
                                },
                                {
                                    "FOGLALAS_PK": "1527",
                                    "METTOL": "2017-02-13"
                                },
                                {
                                    "FOGLALAS_PK": "1528",
                                    "METTOL": "2017-02-13"
                                },
                                {
                                    "FOGLALAS_PK": "1529",
                                    "METTOL": "2017-02-13"
                                },
                                {
                                    "FOGLALAS_PK": "1530",
                                    "METTOL": "2017-02-13"
                                },
                                {
                                    "FOGLALAS_PK": "1531",
                                    "METTOL": "2017-02-13"
                                },
                                {
                                    "FOGLALAS_PK": "1532",
                                    "METTOL": "2017-02-14"
                                },
                                {
                                    "FOGLALAS_PK": "1533",
                                    "METTOL": "2017-02-14"
                                },
                                {
                                    "FOGLALAS_PK": "1534",
                                    "METTOL": "2017-02-14"
                                },
                                {
                                    "FOGLALAS_PK": "1535",
                                    "METTOL": "2017-02-15"
                                },
                                {
                                    "FOGLALAS_PK": "1536",
                                    "METTOL": "2017-02-16"
                                },
                                {
                                    "FOGLALAS_PK": "1537",
                                    "METTOL": "2017-02-16"
                                },
                                {
                                    "FOGLALAS_PK": "1538",
                                    "METTOL": "2017-02-16"
                                },
                                {
                                    "FOGLALAS_PK": "1539",
                                    "METTOL": "2017-02-16"
                                },
                                {
                                    "FOGLALAS_PK": "1540",
                                    "METTOL": "2017-02-16"
                                },
                                {
                                    "FOGLALAS_PK": "1541",
                                    "METTOL": "2017-02-16"
                                },
                                {
                                    "FOGLALAS_PK": "1542",
                                    "METTOL": "2017-02-16"
                                },
                                {
                                    "FOGLALAS_PK": "1543",
                                    "METTOL": "2017-02-16"
                                },
                                {
                                    "FOGLALAS_PK": "1544",
                                    "METTOL": "2017-02-16"
                                },
                                {
                                    "FOGLALAS_PK": "1545",
                                    "METTOL": "2017-02-17"
                                },
                                {
                                    "FOGLALAS_PK": "1546",
                                    "METTOL": "2017-02-17"
                                },
                                {
                                    "FOGLALAS_PK": "1547",
                                    "METTOL": "2017-02-18"
                                },
                                {
                                    "FOGLALAS_PK": "1548",
                                    "METTOL": "2017-02-18"
                                },
                                {
                                    "FOGLALAS_PK": "1549",
                                    "METTOL": "2017-02-18"
                                },
                                {
                                    "FOGLALAS_PK": "1550",
                                    "METTOL": "2017-02-18"
                                },
                                {
                                    "FOGLALAS_PK": "1551",
                                    "METTOL": "2017-02-19"
                                },
                                {
                                    "FOGLALAS_PK": "1552",
                                    "METTOL": "2017-02-20"
                                },
                                {
                                    "FOGLALAS_PK": "1553",
                                    "METTOL": "2017-02-20"
                                },
                                {
                                    "FOGLALAS_PK": "1554",
                                    "METTOL": "2017-02-20"
                                },
                                {
                                    "FOGLALAS_PK": "1555",
                                    "METTOL": "2017-02-20"
                                },
                                {
                                    "FOGLALAS_PK": "1556",
                                    "METTOL": "2017-02-21"
                                },
                                {
                                    "FOGLALAS_PK": "1557",
                                    "METTOL": "2017-02-21"
                                },
                                {
                                    "FOGLALAS_PK": "1558",
                                    "METTOL": "2017-02-21"
                                },
                                {
                                    "FOGLALAS_PK": "1559",
                                    "METTOL": "2017-02-22"
                                },
                                {
                                    "FOGLALAS_PK": "1560",
                                    "METTOL": "2017-02-23"
                                },
                                {
                                    "FOGLALAS_PK": "1561",
                                    "METTOL": "2017-02-23"
                                },
                                {
                                    "FOGLALAS_PK": "1562",
                                    "METTOL": "2017-02-23"
                                },
                                {
                                    "FOGLALAS_PK": "1563",
                                    "METTOL": "2017-02-23"
                                },
                                {
                                    "FOGLALAS_PK": "1564",
                                    "METTOL": "2017-02-23"
                                },
                                {
                                    "FOGLALAS_PK": "1565",
                                    "METTOL": "2017-02-23"
                                },
                                {
                                    "FOGLALAS_PK": "1566",
                                    "METTOL": "2017-02-24"
                                },
                                {
                                    "FOGLALAS_PK": "1567",
                                    "METTOL": "2017-02-24"
                                },
                                {
                                    "FOGLALAS_PK": "1568",
                                    "METTOL": "2017-02-24"
                                },
                                {
                                    "FOGLALAS_PK": "1569",
                                    "METTOL": "2017-02-24"
                                },
                                {
                                    "FOGLALAS_PK": "1570",
                                    "METTOL": "2017-02-24"
                                },
                                {
                                    "FOGLALAS_PK": "1571",
                                    "METTOL": "2017-02-25"
                                },
                                {
                                    "FOGLALAS_PK": "1572",
                                    "METTOL": "2017-02-25"
                                },
                                {
                                    "FOGLALAS_PK": "1573",
                                    "METTOL": "2017-02-26"
                                },
                                {
                                    "FOGLALAS_PK": "1574",
                                    "METTOL": "2017-02-26"
                                },
                                {
                                    "FOGLALAS_PK": "1575",
                                    "METTOL": "2017-02-26"
                                },
                                {
                                    "FOGLALAS_PK": "1576",
                                    "METTOL": "2017-02-26"
                                },
                                {
                                    "FOGLALAS_PK": "1577",
                                    "METTOL": "2017-02-27"
                                },
                                {
                                    "FOGLALAS_PK": "1578",
                                    "METTOL": "2017-02-27"
                                },
                                {
                                    "FOGLALAS_PK": "1579",
                                    "METTOL": "2017-02-28"
                                },
                                {
                                    "FOGLALAS_PK": "1580",
                                    "METTOL": "2017-03-01"
                                },
                                {
                                    "FOGLALAS_PK": "1581",
                                    "METTOL": "2017-03-01"
                                },
                                {
                                    "FOGLALAS_PK": "1582",
                                    "METTOL": "2017-03-02"
                                },
                                {
                                    "FOGLALAS_PK": "1583",
                                    "METTOL": "2017-03-03"
                                },
                                {
                                    "FOGLALAS_PK": "1584",
                                    "METTOL": "2017-03-03"
                                }
                            ]
                        },
                        "text/html": [
                            "<table>",
                            "<tr><th>FOGLALAS_PK</th><th>METTOL</th></tr>",
                            "<tr><td>558</td><td>2016-04-06</td></tr>",
                            "<tr><td>559</td><td>2016-04-06</td></tr>",
                            "<tr><td>560</td><td>2016-04-06</td></tr>",
                            "<tr><td>561</td><td>2016-04-06</td></tr>",
                            "<tr><td>562</td><td>2016-04-06</td></tr>",
                            "<tr><td>563</td><td>2016-04-07</td></tr>",
                            "<tr><td>564</td><td>2016-04-08</td></tr>",
                            "<tr><td>565</td><td>2016-04-08</td></tr>",
                            "<tr><td>566</td><td>2016-04-09</td></tr>",
                            "<tr><td>567</td><td>2016-04-10</td></tr>",
                            "<tr><td>568</td><td>2016-04-10</td></tr>",
                            "<tr><td>569</td><td>2016-04-10</td></tr>",
                            "<tr><td>570</td><td>2016-04-10</td></tr>",
                            "<tr><td>571</td><td>2016-04-10</td></tr>",
                            "<tr><td>572</td><td>2016-04-10</td></tr>",
                            "<tr><td>573</td><td>2016-04-10</td></tr>",
                            "<tr><td>574</td><td>2016-04-10</td></tr>",
                            "<tr><td>575</td><td>2016-04-10</td></tr>",
                            "<tr><td>576</td><td>2016-04-11</td></tr>",
                            "<tr><td>577</td><td>2016-04-12</td></tr>",
                            "<tr><td>578</td><td>2016-04-13</td></tr>",
                            "<tr><td>579</td><td>2016-04-14</td></tr>",
                            "<tr><td>580</td><td>2016-04-14</td></tr>",
                            "<tr><td>581</td><td>2016-04-15</td></tr>",
                            "<tr><td>582</td><td>2016-04-16</td></tr>",
                            "<tr><td>583</td><td>2016-04-16</td></tr>",
                            "<tr><td>584</td><td>2016-04-17</td></tr>",
                            "<tr><td>585</td><td>2016-04-17</td></tr>",
                            "<tr><td>586</td><td>2016-04-18</td></tr>",
                            "<tr><td>587</td><td>2016-04-19</td></tr>",
                            "<tr><td>588</td><td>2016-04-19</td></tr>",
                            "<tr><td>589</td><td>2016-04-19</td></tr>",
                            "<tr><td>590</td><td>2016-04-19</td></tr>",
                            "<tr><td>591</td><td>2016-04-20</td></tr>",
                            "<tr><td>592</td><td>2016-04-21</td></tr>",
                            "<tr><td>593</td><td>2016-04-21</td></tr>",
                            "<tr><td>594</td><td>2016-04-22</td></tr>",
                            "<tr><td>595</td><td>2016-04-22</td></tr>",
                            "<tr><td>596</td><td>2016-04-23</td></tr>",
                            "<tr><td>597</td><td>2016-04-23</td></tr>",
                            "<tr><td>598</td><td>2016-04-24</td></tr>",
                            "<tr><td>599</td><td>2016-04-24</td></tr>",
                            "<tr><td>600</td><td>2016-04-24</td></tr>",
                            "<tr><td>601</td><td>2016-04-25</td></tr>",
                            "<tr><td>602</td><td>2016-04-26</td></tr>",
                            "<tr><td>603</td><td>2016-04-26</td></tr>",
                            "<tr><td>604</td><td>2016-04-27</td></tr>",
                            "<tr><td>605</td><td>2016-04-27</td></tr>",
                            "<tr><td>606</td><td>2016-04-27</td></tr>",
                            "<tr><td>607</td><td>2016-04-28</td></tr>",
                            "<tr><td>608</td><td>2016-04-28</td></tr>",
                            "<tr><td>609</td><td>2016-04-29</td></tr>",
                            "<tr><td>610</td><td>2016-04-30</td></tr>",
                            "<tr><td>611</td><td>2016-05-01</td></tr>",
                            "<tr><td>612</td><td>2016-05-01</td></tr>",
                            "<tr><td>613</td><td>2016-05-01</td></tr>",
                            "<tr><td>614</td><td>2016-05-01</td></tr>",
                            "<tr><td>615</td><td>2016-05-01</td></tr>",
                            "<tr><td>616</td><td>2016-05-02</td></tr>",
                            "<tr><td>617</td><td>2016-05-02</td></tr>",
                            "<tr><td>618</td><td>2016-05-03</td></tr>",
                            "<tr><td>619</td><td>2016-05-04</td></tr>",
                            "<tr><td>620</td><td>2016-05-05</td></tr>",
                            "<tr><td>621</td><td>2016-05-06</td></tr>",
                            "<tr><td>622</td><td>2016-05-07</td></tr>",
                            "<tr><td>623</td><td>2016-05-08</td></tr>",
                            "<tr><td>624</td><td>2016-05-08</td></tr>",
                            "<tr><td>625</td><td>2016-05-08</td></tr>",
                            "<tr><td>626</td><td>2016-05-08</td></tr>",
                            "<tr><td>627</td><td>2016-05-08</td></tr>",
                            "<tr><td>628</td><td>2016-05-09</td></tr>",
                            "<tr><td>629</td><td>2016-05-09</td></tr>",
                            "<tr><td>630</td><td>2016-05-09</td></tr>",
                            "<tr><td>631</td><td>2016-05-09</td></tr>",
                            "<tr><td>632</td><td>2016-05-09</td></tr>",
                            "<tr><td>633</td><td>2016-05-09</td></tr>",
                            "<tr><td>634</td><td>2016-05-09</td></tr>",
                            "<tr><td>635</td><td>2016-05-10</td></tr>",
                            "<tr><td>636</td><td>2016-05-10</td></tr>",
                            "<tr><td>637</td><td>2016-05-11</td></tr>",
                            "<tr><td>638</td><td>2016-05-12</td></tr>",
                            "<tr><td>639</td><td>2016-05-12</td></tr>",
                            "<tr><td>640</td><td>2016-05-12</td></tr>",
                            "<tr><td>641</td><td>2016-05-13</td></tr>",
                            "<tr><td>642</td><td>2016-05-13</td></tr>",
                            "<tr><td>643</td><td>2016-05-14</td></tr>",
                            "<tr><td>644</td><td>2016-05-14</td></tr>",
                            "<tr><td>645</td><td>2016-05-14</td></tr>",
                            "<tr><td>646</td><td>2016-05-14</td></tr>",
                            "<tr><td>647</td><td>2016-05-15</td></tr>",
                            "<tr><td>648</td><td>2016-05-16</td></tr>",
                            "<tr><td>649</td><td>2016-05-17</td></tr>",
                            "<tr><td>650</td><td>2016-05-17</td></tr>",
                            "<tr><td>651</td><td>2016-05-17</td></tr>",
                            "<tr><td>652</td><td>2016-05-18</td></tr>",
                            "<tr><td>653</td><td>2016-05-18</td></tr>",
                            "<tr><td>654</td><td>2016-05-18</td></tr>",
                            "<tr><td>655</td><td>2016-05-18</td></tr>",
                            "<tr><td>656</td><td>2016-05-19</td></tr>",
                            "<tr><td>657</td><td>2016-05-20</td></tr>",
                            "<tr><td>658</td><td>2016-05-21</td></tr>",
                            "<tr><td>659</td><td>2016-05-21</td></tr>",
                            "<tr><td>660</td><td>2016-05-21</td></tr>",
                            "<tr><td>661</td><td>2016-05-21</td></tr>",
                            "<tr><td>662</td><td>2016-05-21</td></tr>",
                            "<tr><td>663</td><td>2016-05-22</td></tr>",
                            "<tr><td>664</td><td>2016-07-13</td></tr>",
                            "<tr><td>665</td><td>2016-07-13</td></tr>",
                            "<tr><td>666</td><td>2016-07-13</td></tr>",
                            "<tr><td>667</td><td>2016-07-13</td></tr>",
                            "<tr><td>668</td><td>2016-07-14</td></tr>",
                            "<tr><td>669</td><td>2016-07-14</td></tr>",
                            "<tr><td>670</td><td>2016-07-14</td></tr>",
                            "<tr><td>671</td><td>2016-07-14</td></tr>",
                            "<tr><td>672</td><td>2016-07-14</td></tr>",
                            "<tr><td>673</td><td>2016-07-14</td></tr>",
                            "<tr><td>674</td><td>2016-07-15</td></tr>",
                            "<tr><td>675</td><td>2016-07-15</td></tr>",
                            "<tr><td>676</td><td>2016-07-16</td></tr>",
                            "<tr><td>677</td><td>2016-07-16</td></tr>",
                            "<tr><td>678</td><td>2016-07-17</td></tr>",
                            "<tr><td>679</td><td>2016-07-17</td></tr>",
                            "<tr><td>680</td><td>2016-07-17</td></tr>",
                            "<tr><td>681</td><td>2016-07-18</td></tr>",
                            "<tr><td>682</td><td>2016-07-18</td></tr>",
                            "<tr><td>683</td><td>2016-07-18</td></tr>",
                            "<tr><td>684</td><td>2016-07-18</td></tr>",
                            "<tr><td>685</td><td>2016-07-18</td></tr>",
                            "<tr><td>686</td><td>2016-07-18</td></tr>",
                            "<tr><td>687</td><td>2016-07-18</td></tr>",
                            "<tr><td>688</td><td>2016-07-19</td></tr>",
                            "<tr><td>689</td><td>2016-07-19</td></tr>",
                            "<tr><td>690</td><td>2016-07-19</td></tr>",
                            "<tr><td>691</td><td>2016-07-20</td></tr>",
                            "<tr><td>692</td><td>2016-07-20</td></tr>",
                            "<tr><td>693</td><td>2016-07-20</td></tr>",
                            "<tr><td>694</td><td>2016-07-20</td></tr>",
                            "<tr><td>695</td><td>2016-07-20</td></tr>",
                            "<tr><td>696</td><td>2016-07-20</td></tr>",
                            "<tr><td>697</td><td>2016-07-20</td></tr>",
                            "<tr><td>698</td><td>2016-07-20</td></tr>",
                            "<tr><td>699</td><td>2016-07-20</td></tr>",
                            "<tr><td>700</td><td>2016-07-20</td></tr>",
                            "<tr><td>701</td><td>2016-07-21</td></tr>",
                            "<tr><td>702</td><td>2016-07-21</td></tr>",
                            "<tr><td>703</td><td>2016-07-22</td></tr>",
                            "<tr><td>704</td><td>2016-07-22</td></tr>",
                            "<tr><td>705</td><td>2016-07-22</td></tr>",
                            "<tr><td>706</td><td>2016-07-22</td></tr>",
                            "<tr><td>707</td><td>2016-07-23</td></tr>",
                            "<tr><td>708</td><td>2016-07-23</td></tr>",
                            "<tr><td>709</td><td>2016-07-24</td></tr>",
                            "<tr><td>710</td><td>2016-07-24</td></tr>",
                            "<tr><td>711</td><td>2016-07-24</td></tr>",
                            "<tr><td>712</td><td>2016-07-24</td></tr>",
                            "<tr><td>713</td><td>2016-07-24</td></tr>",
                            "<tr><td>714</td><td>2016-07-25</td></tr>",
                            "<tr><td>715</td><td>2016-07-25</td></tr>",
                            "<tr><td>716</td><td>2016-07-26</td></tr>",
                            "<tr><td>717</td><td>2016-07-26</td></tr>",
                            "<tr><td>718</td><td>2016-07-27</td></tr>",
                            "<tr><td>719</td><td>2016-07-27</td></tr>",
                            "<tr><td>720</td><td>2016-07-27</td></tr>",
                            "<tr><td>721</td><td>2016-07-27</td></tr>",
                            "<tr><td>722</td><td>2016-07-27</td></tr>",
                            "<tr><td>723</td><td>2016-07-27</td></tr>",
                            "<tr><td>724</td><td>2016-07-27</td></tr>",
                            "<tr><td>725</td><td>2016-07-27</td></tr>",
                            "<tr><td>726</td><td>2016-07-27</td></tr>",
                            "<tr><td>727</td><td>2016-07-27</td></tr>",
                            "<tr><td>728</td><td>2016-07-27</td></tr>",
                            "<tr><td>729</td><td>2016-07-28</td></tr>",
                            "<tr><td>730</td><td>2016-07-28</td></tr>",
                            "<tr><td>731</td><td>2016-07-28</td></tr>",
                            "<tr><td>732</td><td>2016-07-28</td></tr>",
                            "<tr><td>733</td><td>2016-07-28</td></tr>",
                            "<tr><td>734</td><td>2016-07-28</td></tr>",
                            "<tr><td>735</td><td>2016-07-28</td></tr>",
                            "<tr><td>736</td><td>2016-07-29</td></tr>",
                            "<tr><td>737</td><td>2016-07-29</td></tr>",
                            "<tr><td>738</td><td>2016-07-30</td></tr>",
                            "<tr><td>739</td><td>2016-07-30</td></tr>",
                            "<tr><td>740</td><td>2016-07-30</td></tr>",
                            "<tr><td>741</td><td>2016-07-30</td></tr>",
                            "<tr><td>742</td><td>2016-07-31</td></tr>",
                            "<tr><td>743</td><td>2016-07-31</td></tr>",
                            "<tr><td>744</td><td>2016-08-01</td></tr>",
                            "<tr><td>745</td><td>2016-08-01</td></tr>",
                            "<tr><td>746</td><td>2016-08-01</td></tr>",
                            "<tr><td>747</td><td>2016-08-01</td></tr>",
                            "<tr><td>748</td><td>2016-08-02</td></tr>",
                            "<tr><td>749</td><td>2016-08-02</td></tr>",
                            "<tr><td>750</td><td>2016-08-03</td></tr>",
                            "<tr><td>751</td><td>2016-08-03</td></tr>",
                            "<tr><td>752</td><td>2016-08-03</td></tr>",
                            "<tr><td>753</td><td>2016-08-03</td></tr>",
                            "<tr><td>754</td><td>2016-08-04</td></tr>",
                            "<tr><td>755</td><td>2016-08-04</td></tr>",
                            "<tr><td>756</td><td>2016-08-05</td></tr>",
                            "<tr><td>757</td><td>2016-08-05</td></tr>",
                            "<tr><td>758</td><td>2016-08-05</td></tr>",
                            "<tr><td>759</td><td>2016-08-06</td></tr>",
                            "<tr><td>760</td><td>2016-08-06</td></tr>",
                            "<tr><td>761</td><td>2016-08-06</td></tr>",
                            "<tr><td>762</td><td>2016-08-07</td></tr>",
                            "<tr><td>763</td><td>2016-08-08</td></tr>",
                            "<tr><td>764</td><td>2016-08-09</td></tr>",
                            "<tr><td>765</td><td>2016-08-09</td></tr>",
                            "<tr><td>766</td><td>2016-08-10</td></tr>",
                            "<tr><td>767</td><td>2016-08-11</td></tr>",
                            "<tr><td>768</td><td>2016-08-12</td></tr>",
                            "<tr><td>769</td><td>2016-08-12</td></tr>",
                            "<tr><td>770</td><td>2016-08-12</td></tr>",
                            "<tr><td>771</td><td>2016-08-12</td></tr>",
                            "<tr><td>772</td><td>2016-08-12</td></tr>",
                            "<tr><td>773</td><td>2016-08-12</td></tr>",
                            "<tr><td>774</td><td>2016-08-13</td></tr>",
                            "<tr><td>775</td><td>2016-08-13</td></tr>",
                            "<tr><td>776</td><td>2016-08-14</td></tr>",
                            "<tr><td>777</td><td>2016-08-14</td></tr>",
                            "<tr><td>778</td><td>2016-08-14</td></tr>",
                            "<tr><td>779</td><td>2016-08-15</td></tr>",
                            "<tr><td>780</td><td>2016-08-15</td></tr>",
                            "<tr><td>781</td><td>2016-08-16</td></tr>",
                            "<tr><td>782</td><td>2016-08-16</td></tr>",
                            "<tr><td>783</td><td>2016-08-16</td></tr>",
                            "<tr><td>784</td><td>2016-08-16</td></tr>",
                            "<tr><td>785</td><td>2016-08-16</td></tr>",
                            "<tr><td>786</td><td>2016-08-16</td></tr>",
                            "<tr><td>787</td><td>2016-08-16</td></tr>",
                            "<tr><td>788</td><td>2016-08-16</td></tr>",
                            "<tr><td>789</td><td>2016-08-16</td></tr>",
                            "<tr><td>790</td><td>2016-08-16</td></tr>",
                            "<tr><td>791</td><td>2016-08-16</td></tr>",
                            "<tr><td>792</td><td>2016-08-16</td></tr>",
                            "<tr><td>793</td><td>2016-08-17</td></tr>",
                            "<tr><td>794</td><td>2016-08-17</td></tr>",
                            "<tr><td>795</td><td>2016-08-17</td></tr>",
                            "<tr><td>796</td><td>2016-08-17</td></tr>",
                            "<tr><td>797</td><td>2016-08-18</td></tr>",
                            "<tr><td>798</td><td>2016-08-18</td></tr>",
                            "<tr><td>799</td><td>2016-08-19</td></tr>",
                            "<tr><td>800</td><td>2016-08-20</td></tr>",
                            "<tr><td>801</td><td>2016-08-20</td></tr>",
                            "<tr><td>802</td><td>2016-08-20</td></tr>",
                            "<tr><td>803</td><td>2016-08-20</td></tr>",
                            "<tr><td>804</td><td>2016-08-20</td></tr>",
                            "<tr><td>805</td><td>2016-08-21</td></tr>",
                            "<tr><td>806</td><td>2016-08-21</td></tr>",
                            "<tr><td>807</td><td>2016-08-22</td></tr>",
                            "<tr><td>808</td><td>2016-08-23</td></tr>",
                            "<tr><td>809</td><td>2016-08-23</td></tr>",
                            "<tr><td>810</td><td>2016-08-23</td></tr>",
                            "<tr><td>811</td><td>2016-08-23</td></tr>",
                            "<tr><td>812</td><td>2016-08-23</td></tr>",
                            "<tr><td>813</td><td>2016-08-24</td></tr>",
                            "<tr><td>814</td><td>2016-08-24</td></tr>",
                            "<tr><td>815</td><td>2016-08-24</td></tr>",
                            "<tr><td>816</td><td>2016-08-24</td></tr>",
                            "<tr><td>817</td><td>2016-08-24</td></tr>",
                            "<tr><td>818</td><td>2016-08-24</td></tr>",
                            "<tr><td>819</td><td>2016-08-24</td></tr>",
                            "<tr><td>820</td><td>2016-08-24</td></tr>",
                            "<tr><td>821</td><td>2016-08-24</td></tr>",
                            "<tr><td>822</td><td>2016-08-24</td></tr>",
                            "<tr><td>823</td><td>2016-08-25</td></tr>",
                            "<tr><td>824</td><td>2016-08-25</td></tr>",
                            "<tr><td>825</td><td>2016-08-25</td></tr>",
                            "<tr><td>826</td><td>2016-08-26</td></tr>",
                            "<tr><td>827</td><td>2016-08-26</td></tr>",
                            "<tr><td>828</td><td>2016-08-27</td></tr>",
                            "<tr><td>829</td><td>2016-08-28</td></tr>",
                            "<tr><td>830</td><td>2016-08-28</td></tr>",
                            "<tr><td>831</td><td>2016-08-28</td></tr>",
                            "<tr><td>832</td><td>2016-08-28</td></tr>",
                            "<tr><td>833</td><td>2016-08-28</td></tr>",
                            "<tr><td>834</td><td>2016-08-29</td></tr>",
                            "<tr><td>835</td><td>2016-08-29</td></tr>",
                            "<tr><td>836</td><td>2016-08-29</td></tr>",
                            "<tr><td>837</td><td>2016-08-29</td></tr>",
                            "<tr><td>838</td><td>2016-08-29</td></tr>",
                            "<tr><td>839</td><td>2016-08-29</td></tr>",
                            "<tr><td>840</td><td>2016-08-30</td></tr>",
                            "<tr><td>841</td><td>2016-08-31</td></tr>",
                            "<tr><td>842</td><td>2016-08-31</td></tr>",
                            "<tr><td>843</td><td>2016-09-01</td></tr>",
                            "<tr><td>844</td><td>2016-09-02</td></tr>",
                            "<tr><td>845</td><td>2016-09-02</td></tr>",
                            "<tr><td>846</td><td>2016-09-02</td></tr>",
                            "<tr><td>847</td><td>2016-09-03</td></tr>",
                            "<tr><td>848</td><td>2016-09-04</td></tr>",
                            "<tr><td>849</td><td>2016-09-05</td></tr>",
                            "<tr><td>850</td><td>2016-09-05</td></tr>",
                            "<tr><td>851</td><td>2016-05-22</td></tr>",
                            "<tr><td>852</td><td>2016-05-23</td></tr>",
                            "<tr><td>853</td><td>2016-05-24</td></tr>",
                            "<tr><td>854</td><td>2016-05-24</td></tr>",
                            "<tr><td>855</td><td>2016-05-24</td></tr>",
                            "<tr><td>856</td><td>2016-05-24</td></tr>",
                            "<tr><td>857</td><td>2016-05-25</td></tr>",
                            "<tr><td>858</td><td>2016-05-25</td></tr>",
                            "<tr><td>859</td><td>2016-05-26</td></tr>",
                            "<tr><td>860</td><td>2016-05-27</td></tr>",
                            "<tr><td>861</td><td>2016-05-27</td></tr>",
                            "<tr><td>862</td><td>2016-05-27</td></tr>",
                            "<tr><td>863</td><td>2016-05-28</td></tr>",
                            "<tr><td>864</td><td>2016-05-28</td></tr>",
                            "<tr><td>865</td><td>2016-05-28</td></tr>",
                            "<tr><td>866</td><td>2016-05-28</td></tr>",
                            "<tr><td>867</td><td>2016-05-28</td></tr>",
                            "<tr><td>868</td><td>2016-05-28</td></tr>",
                            "<tr><td>869</td><td>2016-05-28</td></tr>",
                            "<tr><td>870</td><td>2016-05-28</td></tr>",
                            "<tr><td>871</td><td>2016-05-29</td></tr>",
                            "<tr><td>872</td><td>2016-05-29</td></tr>",
                            "<tr><td>873</td><td>2016-05-29</td></tr>",
                            "<tr><td>874</td><td>2016-05-30</td></tr>",
                            "<tr><td>875</td><td>2016-05-30</td></tr>",
                            "<tr><td>876</td><td>2016-05-30</td></tr>",
                            "<tr><td>877</td><td>2016-05-30</td></tr>",
                            "<tr><td>878</td><td>2016-05-30</td></tr>",
                            "<tr><td>879</td><td>2016-05-30</td></tr>",
                            "<tr><td>880</td><td>2016-05-30</td></tr>",
                            "<tr><td>881</td><td>2016-05-30</td></tr>",
                            "<tr><td>882</td><td>2016-05-30</td></tr>",
                            "<tr><td>883</td><td>2016-05-30</td></tr>",
                            "<tr><td>884</td><td>2016-05-30</td></tr>",
                            "<tr><td>885</td><td>2016-05-31</td></tr>",
                            "<tr><td>886</td><td>2016-06-01</td></tr>",
                            "<tr><td>887</td><td>2016-06-01</td></tr>",
                            "<tr><td>888</td><td>2016-06-02</td></tr>",
                            "<tr><td>889</td><td>2016-06-02</td></tr>",
                            "<tr><td>890</td><td>2016-06-02</td></tr>",
                            "<tr><td>891</td><td>2016-06-02</td></tr>",
                            "<tr><td>892</td><td>2016-06-03</td></tr>",
                            "<tr><td>893</td><td>2016-06-03</td></tr>",
                            "<tr><td>894</td><td>2016-06-03</td></tr>",
                            "<tr><td>895</td><td>2016-06-03</td></tr>",
                            "<tr><td>896</td><td>2016-06-03</td></tr>",
                            "<tr><td>897</td><td>2016-06-03</td></tr>",
                            "<tr><td>898</td><td>2016-06-03</td></tr>",
                            "<tr><td>899</td><td>2016-06-03</td></tr>",
                            "<tr><td>900</td><td>2016-06-03</td></tr>",
                            "<tr><td>901</td><td>2016-06-04</td></tr>",
                            "<tr><td>902</td><td>2016-06-04</td></tr>",
                            "<tr><td>903</td><td>2016-06-04</td></tr>",
                            "<tr><td>904</td><td>2016-06-04</td></tr>",
                            "<tr><td>905</td><td>2016-06-04</td></tr>",
                            "<tr><td>906</td><td>2016-06-04</td></tr>",
                            "<tr><td>907</td><td>2016-06-05</td></tr>",
                            "<tr><td>908</td><td>2016-06-05</td></tr>",
                            "<tr><td>909</td><td>2016-06-06</td></tr>",
                            "<tr><td>910</td><td>2016-06-06</td></tr>",
                            "<tr><td>911</td><td>2016-06-06</td></tr>",
                            "<tr><td>912</td><td>2016-06-06</td></tr>",
                            "<tr><td>913</td><td>2016-06-06</td></tr>",
                            "<tr><td>914</td><td>2016-06-06</td></tr>",
                            "<tr><td>915</td><td>2016-06-06</td></tr>",
                            "<tr><td>916</td><td>2016-06-06</td></tr>",
                            "<tr><td>917</td><td>2016-06-06</td></tr>",
                            "<tr><td>918</td><td>2016-06-06</td></tr>",
                            "<tr><td>919</td><td>2016-06-06</td></tr>",
                            "<tr><td>920</td><td>2016-06-06</td></tr>",
                            "<tr><td>921</td><td>2016-06-06</td></tr>",
                            "<tr><td>922</td><td>2016-06-06</td></tr>",
                            "<tr><td>923</td><td>2016-06-07</td></tr>",
                            "<tr><td>924</td><td>2016-06-07</td></tr>",
                            "<tr><td>925</td><td>2016-06-07</td></tr>",
                            "<tr><td>926</td><td>2016-06-07</td></tr>",
                            "<tr><td>927</td><td>2016-06-07</td></tr>",
                            "<tr><td>928</td><td>2016-06-07</td></tr>",
                            "<tr><td>929</td><td>2016-06-07</td></tr>",
                            "<tr><td>930</td><td>2016-06-07</td></tr>",
                            "<tr><td>931</td><td>2016-06-07</td></tr>",
                            "<tr><td>932</td><td>2016-06-07</td></tr>",
                            "<tr><td>933</td><td>2016-06-07</td></tr>",
                            "<tr><td>934</td><td>2016-06-08</td></tr>",
                            "<tr><td>935</td><td>2016-06-08</td></tr>",
                            "<tr><td>936</td><td>2016-06-08</td></tr>",
                            "<tr><td>937</td><td>2016-06-08</td></tr>",
                            "<tr><td>938</td><td>2016-06-09</td></tr>",
                            "<tr><td>939</td><td>2016-06-09</td></tr>",
                            "<tr><td>940</td><td>2016-06-09</td></tr>",
                            "<tr><td>941</td><td>2016-06-10</td></tr>",
                            "<tr><td>942</td><td>2016-06-10</td></tr>",
                            "<tr><td>943</td><td>2016-06-10</td></tr>",
                            "<tr><td>944</td><td>2016-06-10</td></tr>",
                            "<tr><td>945</td><td>2016-06-10</td></tr>",
                            "<tr><td>946</td><td>2016-06-10</td></tr>",
                            "<tr><td>947</td><td>2016-06-10</td></tr>",
                            "<tr><td>948</td><td>2016-06-10</td></tr>",
                            "<tr><td>949</td><td>2016-06-10</td></tr>",
                            "<tr><td>950</td><td>2016-06-10</td></tr>",
                            "<tr><td>951</td><td>2016-06-11</td></tr>",
                            "<tr><td>952</td><td>2016-06-11</td></tr>",
                            "<tr><td>953</td><td>2016-06-12</td></tr>",
                            "<tr><td>954</td><td>2016-06-13</td></tr>",
                            "<tr><td>955</td><td>2016-06-13</td></tr>",
                            "<tr><td>956</td><td>2016-06-13</td></tr>",
                            "<tr><td>957</td><td>2016-06-13</td></tr>",
                            "<tr><td>958</td><td>2016-06-13</td></tr>",
                            "<tr><td>959</td><td>2016-06-14</td></tr>",
                            "<tr><td>960</td><td>2016-06-15</td></tr>",
                            "<tr><td>961</td><td>2016-06-16</td></tr>",
                            "<tr><td>962</td><td>2016-06-16</td></tr>",
                            "<tr><td>963</td><td>2016-06-16</td></tr>",
                            "<tr><td>964</td><td>2016-06-16</td></tr>",
                            "<tr><td>965</td><td>2016-06-16</td></tr>",
                            "<tr><td>966</td><td>2016-06-16</td></tr>",
                            "<tr><td>967</td><td>2016-06-16</td></tr>",
                            "<tr><td>968</td><td>2016-06-16</td></tr>",
                            "<tr><td>969</td><td>2016-06-17</td></tr>",
                            "<tr><td>970</td><td>2016-06-17</td></tr>",
                            "<tr><td>971</td><td>2016-06-18</td></tr>",
                            "<tr><td>972</td><td>2016-06-19</td></tr>",
                            "<tr><td>973</td><td>2016-06-20</td></tr>",
                            "<tr><td>974</td><td>2016-06-20</td></tr>",
                            "<tr><td>975</td><td>2016-06-21</td></tr>",
                            "<tr><td>976</td><td>2016-06-22</td></tr>",
                            "<tr><td>977</td><td>2016-06-22</td></tr>",
                            "<tr><td>978</td><td>2016-06-22</td></tr>",
                            "<tr><td>979</td><td>2016-06-22</td></tr>",
                            "<tr><td>980</td><td>2016-06-23</td></tr>",
                            "<tr><td>981</td><td>2016-06-23</td></tr>",
                            "<tr><td>982</td><td>2016-06-23</td></tr>",
                            "<tr><td>983</td><td>2016-06-23</td></tr>",
                            "<tr><td>984</td><td>2016-06-24</td></tr>",
                            "<tr><td>985</td><td>2016-06-24</td></tr>",
                            "<tr><td>986</td><td>2016-06-25</td></tr>",
                            "<tr><td>987</td><td>2016-06-26</td></tr>",
                            "<tr><td>988</td><td>2016-06-27</td></tr>",
                            "<tr><td>989</td><td>2016-06-27</td></tr>",
                            "<tr><td>990</td><td>2016-06-27</td></tr>",
                            "<tr><td>991</td><td>2016-06-28</td></tr>",
                            "<tr><td>992</td><td>2016-06-29</td></tr>",
                            "<tr><td>993</td><td>2016-06-30</td></tr>",
                            "<tr><td>994</td><td>2016-06-30</td></tr>",
                            "<tr><td>995</td><td>2016-06-30</td></tr>",
                            "<tr><td>996</td><td>2016-07-01</td></tr>",
                            "<tr><td>997</td><td>2016-07-01</td></tr>",
                            "<tr><td>998</td><td>2016-07-01</td></tr>",
                            "<tr><td>999</td><td>2016-07-01</td></tr>",
                            "<tr><td>1000</td><td>2016-07-01</td></tr>",
                            "<tr><td>1001</td><td>2016-07-02</td></tr>",
                            "<tr><td>1002</td><td>2016-07-03</td></tr>",
                            "<tr><td>1003</td><td>2016-07-03</td></tr>",
                            "<tr><td>1004</td><td>2016-07-03</td></tr>",
                            "<tr><td>1005</td><td>2016-07-03</td></tr>",
                            "<tr><td>1006</td><td>2016-07-03</td></tr>",
                            "<tr><td>1007</td><td>2016-07-04</td></tr>",
                            "<tr><td>1008</td><td>2016-07-04</td></tr>",
                            "<tr><td>1009</td><td>2016-07-04</td></tr>",
                            "<tr><td>1010</td><td>2016-07-04</td></tr>",
                            "<tr><td>1011</td><td>2016-07-04</td></tr>",
                            "<tr><td>1012</td><td>2016-07-05</td></tr>",
                            "<tr><td>1013</td><td>2016-07-06</td></tr>",
                            "<tr><td>1014</td><td>2016-07-06</td></tr>",
                            "<tr><td>1015</td><td>2016-07-06</td></tr>",
                            "<tr><td>1016</td><td>2016-07-07</td></tr>",
                            "<tr><td>1017</td><td>2016-07-08</td></tr>",
                            "<tr><td>1018</td><td>2016-07-08</td></tr>",
                            "<tr><td>1019</td><td>2016-07-08</td></tr>",
                            "<tr><td>1020</td><td>2016-07-09</td></tr>",
                            "<tr><td>1021</td><td>2016-07-09</td></tr>",
                            "<tr><td>1022</td><td>2016-07-10</td></tr>",
                            "<tr><td>1023</td><td>2016-07-10</td></tr>",
                            "<tr><td>1024</td><td>2016-07-11</td></tr>",
                            "<tr><td>1025</td><td>2016-07-12</td></tr>",
                            "<tr><td>1026</td><td>2016-07-12</td></tr>",
                            "<tr><td>1027</td><td>2016-07-12</td></tr>",
                            "<tr><td>1028</td><td>2016-07-13</td></tr>",
                            "<tr><td>1029</td><td>2016-09-05</td></tr>",
                            "<tr><td>1030</td><td>2016-09-05</td></tr>",
                            "<tr><td>1031</td><td>2016-09-05</td></tr>",
                            "<tr><td>1032</td><td>2016-09-05</td></tr>",
                            "<tr><td>1033</td><td>2016-09-05</td></tr>",
                            "<tr><td>1034</td><td>2016-09-06</td></tr>",
                            "<tr><td>1035</td><td>2016-09-07</td></tr>",
                            "<tr><td>1036</td><td>2016-09-08</td></tr>",
                            "<tr><td>1037</td><td>2016-09-08</td></tr>",
                            "<tr><td>1038</td><td>2016-09-08</td></tr>",
                            "<tr><td>1039</td><td>2016-09-09</td></tr>",
                            "<tr><td>1040</td><td>2016-09-09</td></tr>",
                            "<tr><td>1041</td><td>2016-09-10</td></tr>",
                            "<tr><td>1042</td><td>2016-09-10</td></tr>",
                            "<tr><td>1043</td><td>2016-09-11</td></tr>",
                            "<tr><td>1044</td><td>2016-09-12</td></tr>",
                            "<tr><td>1045</td><td>2016-09-12</td></tr>",
                            "<tr><td>1046</td><td>2016-09-12</td></tr>",
                            "<tr><td>1047</td><td>2016-09-13</td></tr>",
                            "<tr><td>1048</td><td>2016-09-13</td></tr>",
                            "<tr><td>1049</td><td>2016-09-13</td></tr>",
                            "<tr><td>1050</td><td>2016-09-13</td></tr>",
                            "<tr><td>1051</td><td>2016-09-14</td></tr>",
                            "<tr><td>1052</td><td>2016-09-14</td></tr>",
                            "<tr><td>1053</td><td>2016-09-15</td></tr>",
                            "<tr><td>1054</td><td>2016-09-15</td></tr>",
                            "<tr><td>1055</td><td>2016-09-15</td></tr>",
                            "<tr><td>1056</td><td>2016-09-16</td></tr>",
                            "<tr><td>1057</td><td>2016-09-16</td></tr>",
                            "<tr><td>1058</td><td>2016-09-16</td></tr>",
                            "<tr><td>1059</td><td>2016-09-17</td></tr>",
                            "<tr><td>1060</td><td>2016-09-17</td></tr>",
                            "<tr><td>1061</td><td>2016-09-17</td></tr>",
                            "<tr><td>1062</td><td>2016-09-17</td></tr>",
                            "<tr><td>1063</td><td>2016-09-18</td></tr>",
                            "<tr><td>1064</td><td>2016-09-18</td></tr>",
                            "<tr><td>1065</td><td>2016-09-18</td></tr>",
                            "<tr><td>1066</td><td>2016-09-18</td></tr>",
                            "<tr><td>1067</td><td>2016-09-19</td></tr>",
                            "<tr><td>1068</td><td>2016-09-19</td></tr>",
                            "<tr><td>1069</td><td>2016-09-19</td></tr>",
                            "<tr><td>1070</td><td>2016-09-19</td></tr>",
                            "<tr><td>1071</td><td>2016-09-20</td></tr>",
                            "<tr><td>1072</td><td>2016-09-20</td></tr>",
                            "<tr><td>1073</td><td>2016-09-21</td></tr>",
                            "<tr><td>1074</td><td>2016-09-22</td></tr>",
                            "<tr><td>1075</td><td>2016-09-23</td></tr>",
                            "<tr><td>1076</td><td>2016-09-23</td></tr>",
                            "<tr><td>1077</td><td>2016-09-23</td></tr>",
                            "<tr><td>1078</td><td>2016-09-23</td></tr>",
                            "<tr><td>1079</td><td>2016-09-24</td></tr>",
                            "<tr><td>1080</td><td>2016-09-25</td></tr>",
                            "<tr><td>1081</td><td>2016-09-26</td></tr>",
                            "<tr><td>1082</td><td>2016-09-26</td></tr>",
                            "<tr><td>1083</td><td>2016-09-27</td></tr>",
                            "<tr><td>1084</td><td>2016-09-28</td></tr>",
                            "<tr><td>1085</td><td>2016-09-28</td></tr>",
                            "<tr><td>1086</td><td>2016-09-28</td></tr>",
                            "<tr><td>1087</td><td>2016-09-29</td></tr>",
                            "<tr><td>1088</td><td>2016-09-29</td></tr>",
                            "<tr><td>1089</td><td>2016-09-30</td></tr>",
                            "<tr><td>1090</td><td>2016-09-30</td></tr>",
                            "<tr><td>1091</td><td>2016-09-30</td></tr>",
                            "<tr><td>1092</td><td>2016-09-30</td></tr>",
                            "<tr><td>1093</td><td>2016-09-30</td></tr>",
                            "<tr><td>1094</td><td>2016-09-30</td></tr>",
                            "<tr><td>1095</td><td>2016-09-30</td></tr>",
                            "<tr><td>1096</td><td>2016-09-30</td></tr>",
                            "<tr><td>1097</td><td>2016-10-01</td></tr>",
                            "<tr><td>1098</td><td>2016-10-01</td></tr>",
                            "<tr><td>1099</td><td>2016-10-01</td></tr>",
                            "<tr><td>1100</td><td>2016-10-01</td></tr>",
                            "<tr><td>1101</td><td>2016-10-01</td></tr>",
                            "<tr><td>1102</td><td>2016-10-01</td></tr>",
                            "<tr><td>1103</td><td>2016-10-01</td></tr>",
                            "<tr><td>1104</td><td>2016-10-01</td></tr>",
                            "<tr><td>1105</td><td>2016-10-01</td></tr>",
                            "<tr><td>1106</td><td>2016-10-01</td></tr>",
                            "<tr><td>1107</td><td>2016-10-01</td></tr>",
                            "<tr><td>1108</td><td>2016-10-01</td></tr>",
                            "<tr><td>1109</td><td>2016-10-01</td></tr>",
                            "<tr><td>1110</td><td>2016-10-01</td></tr>",
                            "<tr><td>1111</td><td>2016-10-01</td></tr>",
                            "<tr><td>1112</td><td>2016-10-01</td></tr>",
                            "<tr><td>1113</td><td>2016-10-01</td></tr>",
                            "<tr><td>1114</td><td>2016-10-01</td></tr>",
                            "<tr><td>1115</td><td>2016-10-02</td></tr>",
                            "<tr><td>1116</td><td>2016-10-03</td></tr>",
                            "<tr><td>1117</td><td>2016-10-03</td></tr>",
                            "<tr><td>1118</td><td>2016-10-03</td></tr>",
                            "<tr><td>1119</td><td>2016-10-04</td></tr>",
                            "<tr><td>1120</td><td>2016-10-04</td></tr>",
                            "<tr><td>1121</td><td>2016-10-04</td></tr>",
                            "<tr><td>1122</td><td>2016-10-05</td></tr>",
                            "<tr><td>1123</td><td>2016-10-05</td></tr>",
                            "<tr><td>1124</td><td>2016-10-06</td></tr>",
                            "<tr><td>1125</td><td>2016-10-06</td></tr>",
                            "<tr><td>1126</td><td>2016-10-07</td></tr>",
                            "<tr><td>1127</td><td>2016-10-07</td></tr>",
                            "<tr><td>1128</td><td>2016-10-08</td></tr>",
                            "<tr><td>1129</td><td>2016-10-08</td></tr>",
                            "<tr><td>1130</td><td>2016-10-08</td></tr>",
                            "<tr><td>1131</td><td>2016-10-08</td></tr>",
                            "<tr><td>1132</td><td>2016-10-08</td></tr>",
                            "<tr><td>1133</td><td>2016-10-08</td></tr>",
                            "<tr><td>1134</td><td>2016-10-08</td></tr>",
                            "<tr><td>1135</td><td>2016-10-09</td></tr>",
                            "<tr><td>1136</td><td>2016-10-09</td></tr>",
                            "<tr><td>1137</td><td>2016-10-09</td></tr>",
                            "<tr><td>1138</td><td>2016-10-09</td></tr>",
                            "<tr><td>1139</td><td>2016-10-09</td></tr>",
                            "<tr><td>1140</td><td>2016-10-09</td></tr>",
                            "<tr><td>1141</td><td>2016-10-09</td></tr>",
                            "<tr><td>1142</td><td>2016-10-09</td></tr>",
                            "<tr><td>1143</td><td>2016-10-09</td></tr>",
                            "<tr><td>1144</td><td>2016-10-09</td></tr>",
                            "<tr><td>1145</td><td>2016-10-09</td></tr>",
                            "<tr><td>1146</td><td>2016-10-10</td></tr>",
                            "<tr><td>1147</td><td>2016-10-10</td></tr>",
                            "<tr><td>1148</td><td>2016-10-11</td></tr>",
                            "<tr><td>1149</td><td>2016-10-12</td></tr>",
                            "<tr><td>1150</td><td>2016-10-13</td></tr>",
                            "<tr><td>1151</td><td>2016-10-14</td></tr>",
                            "<tr><td>1152</td><td>2016-10-15</td></tr>",
                            "<tr><td>1153</td><td>2016-10-15</td></tr>",
                            "<tr><td>1154</td><td>2016-10-15</td></tr>",
                            "<tr><td>1155</td><td>2016-10-15</td></tr>",
                            "<tr><td>1156</td><td>2016-10-15</td></tr>",
                            "<tr><td>1157</td><td>2016-10-15</td></tr>",
                            "<tr><td>1158</td><td>2016-10-16</td></tr>",
                            "<tr><td>1159</td><td>2016-10-16</td></tr>",
                            "<tr><td>1160</td><td>2016-10-16</td></tr>",
                            "<tr><td>1161</td><td>2016-10-17</td></tr>",
                            "<tr><td>1162</td><td>2016-10-17</td></tr>",
                            "<tr><td>1163</td><td>2016-10-17</td></tr>",
                            "<tr><td>1164</td><td>2016-10-18</td></tr>",
                            "<tr><td>1165</td><td>2016-10-19</td></tr>",
                            "<tr><td>1166</td><td>2016-10-19</td></tr>",
                            "<tr><td>1167</td><td>2016-10-19</td></tr>",
                            "<tr><td>1168</td><td>2016-10-19</td></tr>",
                            "<tr><td>1169</td><td>2016-10-20</td></tr>",
                            "<tr><td>1170</td><td>2016-10-20</td></tr>",
                            "<tr><td>1171</td><td>2016-10-20</td></tr>",
                            "<tr><td>1172</td><td>2016-10-20</td></tr>",
                            "<tr><td>1173</td><td>2016-10-21</td></tr>",
                            "<tr><td>1174</td><td>2016-10-21</td></tr>",
                            "<tr><td>1175</td><td>2016-10-21</td></tr>",
                            "<tr><td>1176</td><td>2016-10-21</td></tr>",
                            "<tr><td>1177</td><td>2016-10-22</td></tr>",
                            "<tr><td>1178</td><td>2016-10-22</td></tr>",
                            "<tr><td>1179</td><td>2016-10-22</td></tr>",
                            "<tr><td>1180</td><td>2016-10-22</td></tr>",
                            "<tr><td>1181</td><td>2016-10-23</td></tr>",
                            "<tr><td>1182</td><td>2016-10-23</td></tr>",
                            "<tr><td>1183</td><td>2016-10-23</td></tr>",
                            "<tr><td>1184</td><td>2016-10-23</td></tr>",
                            "<tr><td>1185</td><td>2016-10-23</td></tr>",
                            "<tr><td>1186</td><td>2016-10-23</td></tr>",
                            "<tr><td>1187</td><td>2016-10-23</td></tr>",
                            "<tr><td>1188</td><td>2016-10-24</td></tr>",
                            "<tr><td>1189</td><td>2016-10-24</td></tr>",
                            "<tr><td>1190</td><td>2016-10-24</td></tr>",
                            "<tr><td>1191</td><td>2016-10-25</td></tr>",
                            "<tr><td>1192</td><td>2016-10-26</td></tr>",
                            "<tr><td>1193</td><td>2016-10-26</td></tr>",
                            "<tr><td>1194</td><td>2016-10-26</td></tr>",
                            "<tr><td>1195</td><td>2016-10-26</td></tr>",
                            "<tr><td>1196</td><td>2016-10-26</td></tr>",
                            "<tr><td>1197</td><td>2016-10-26</td></tr>",
                            "<tr><td>1198</td><td>2016-10-26</td></tr>",
                            "<tr><td>1199</td><td>2016-10-26</td></tr>",
                            "<tr><td>1200</td><td>2016-10-26</td></tr>",
                            "<tr><td>1201</td><td>2016-10-26</td></tr>",
                            "<tr><td>1202</td><td>2016-10-26</td></tr>",
                            "<tr><td>1203</td><td>2016-10-26</td></tr>",
                            "<tr><td>1204</td><td>2016-10-27</td></tr>",
                            "<tr><td>1205</td><td>2016-10-27</td></tr>",
                            "<tr><td>1206</td><td>2016-10-27</td></tr>",
                            "<tr><td>1207</td><td>2016-10-27</td></tr>",
                            "<tr><td>1208</td><td>2016-10-28</td></tr>",
                            "<tr><td>1209</td><td>2016-10-28</td></tr>",
                            "<tr><td>1210</td><td>2016-10-28</td></tr>",
                            "<tr><td>1211</td><td>2016-10-28</td></tr>",
                            "<tr><td>1212</td><td>2016-10-28</td></tr>",
                            "<tr><td>1213</td><td>2016-10-28</td></tr>",
                            "<tr><td>1214</td><td>2016-10-29</td></tr>",
                            "<tr><td>1215</td><td>2016-10-29</td></tr>",
                            "<tr><td>1216</td><td>2016-10-29</td></tr>",
                            "<tr><td>1217</td><td>2016-10-29</td></tr>",
                            "<tr><td>1218</td><td>2016-10-29</td></tr>",
                            "<tr><td>1219</td><td>2016-10-30</td></tr>",
                            "<tr><td>1220</td><td>2016-10-30</td></tr>",
                            "<tr><td>1221</td><td>2016-10-30</td></tr>",
                            "<tr><td>1222</td><td>2016-10-30</td></tr>",
                            "<tr><td>1223</td><td>2016-10-30</td></tr>",
                            "<tr><td>1224</td><td>2016-10-30</td></tr>",
                            "<tr><td>1225</td><td>2016-10-30</td></tr>",
                            "<tr><td>1226</td><td>2016-10-30</td></tr>",
                            "<tr><td>1227</td><td>2016-10-30</td></tr>",
                            "<tr><td>1228</td><td>2016-10-30</td></tr>",
                            "<tr><td>1229</td><td>2016-10-30</td></tr>",
                            "<tr><td>1230</td><td>2016-10-30</td></tr>",
                            "<tr><td>1231</td><td>2016-10-30</td></tr>",
                            "<tr><td>1232</td><td>2016-10-30</td></tr>",
                            "<tr><td>1233</td><td>2016-10-31</td></tr>",
                            "<tr><td>1234</td><td>2016-11-01</td></tr>",
                            "<tr><td>1235</td><td>2016-11-01</td></tr>",
                            "<tr><td>1236</td><td>2016-11-01</td></tr>",
                            "<tr><td>1237</td><td>2016-11-02</td></tr>",
                            "<tr><td>1238</td><td>2016-11-03</td></tr>",
                            "<tr><td>1239</td><td>2016-11-03</td></tr>",
                            "<tr><td>1240</td><td>2016-11-03</td></tr>",
                            "<tr><td>1241</td><td>2016-11-03</td></tr>",
                            "<tr><td>1242</td><td>2016-11-03</td></tr>",
                            "<tr><td>1243</td><td>2016-11-03</td></tr>",
                            "<tr><td>1244</td><td>2016-11-03</td></tr>",
                            "<tr><td>1245</td><td>2016-11-04</td></tr>",
                            "<tr><td>1246</td><td>2016-11-05</td></tr>",
                            "<tr><td>1247</td><td>2016-11-05</td></tr>",
                            "<tr><td>1248</td><td>2016-11-05</td></tr>",
                            "<tr><td>1249</td><td>2016-11-05</td></tr>",
                            "<tr><td>1250</td><td>2016-11-05</td></tr>",
                            "<tr><td>1251</td><td>2016-11-05</td></tr>",
                            "<tr><td>1252</td><td>2016-11-05</td></tr>",
                            "<tr><td>1253</td><td>2016-11-05</td></tr>",
                            "<tr><td>1254</td><td>2016-11-06</td></tr>",
                            "<tr><td>1255</td><td>2016-11-06</td></tr>",
                            "<tr><td>1256</td><td>2016-11-06</td></tr>",
                            "<tr><td>1257</td><td>2016-11-07</td></tr>",
                            "<tr><td>1258</td><td>2016-11-07</td></tr>",
                            "<tr><td>1259</td><td>2016-11-07</td></tr>",
                            "<tr><td>1260</td><td>2016-11-07</td></tr>",
                            "<tr><td>1261</td><td>2016-11-07</td></tr>",
                            "<tr><td>1262</td><td>2016-11-07</td></tr>",
                            "<tr><td>1263</td><td>2016-11-08</td></tr>",
                            "<tr><td>1264</td><td>2016-11-08</td></tr>",
                            "<tr><td>1265</td><td>2016-11-08</td></tr>",
                            "<tr><td>1266</td><td>2016-11-08</td></tr>",
                            "<tr><td>1267</td><td>2016-11-09</td></tr>",
                            "<tr><td>1268</td><td>2016-11-09</td></tr>",
                            "<tr><td>1269</td><td>2016-11-09</td></tr>",
                            "<tr><td>1270</td><td>2016-11-10</td></tr>",
                            "<tr><td>1271</td><td>2016-11-10</td></tr>",
                            "<tr><td>1272</td><td>2016-11-10</td></tr>",
                            "<tr><td>1273</td><td>2016-11-10</td></tr>",
                            "<tr><td>1274</td><td>2016-11-11</td></tr>",
                            "<tr><td>1275</td><td>2016-11-11</td></tr>",
                            "<tr><td>1276</td><td>2016-11-12</td></tr>",
                            "<tr><td>1277</td><td>2016-11-12</td></tr>",
                            "<tr><td>1278</td><td>2016-11-13</td></tr>",
                            "<tr><td>1279</td><td>2016-11-14</td></tr>",
                            "<tr><td>1280</td><td>2016-11-15</td></tr>",
                            "<tr><td>1281</td><td>2016-11-15</td></tr>",
                            "<tr><td>1282</td><td>2016-11-15</td></tr>",
                            "<tr><td>1283</td><td>2016-11-16</td></tr>",
                            "<tr><td>1284</td><td>2016-11-16</td></tr>",
                            "<tr><td>1285</td><td>2016-11-16</td></tr>",
                            "<tr><td>1286</td><td>2016-11-16</td></tr>",
                            "<tr><td>1287</td><td>2016-11-17</td></tr>",
                            "<tr><td>1288</td><td>2016-11-17</td></tr>",
                            "<tr><td>1289</td><td>2016-11-18</td></tr>",
                            "<tr><td>1290</td><td>2016-11-19</td></tr>",
                            "<tr><td>1291</td><td>2016-11-19</td></tr>",
                            "<tr><td>1292</td><td>2016-11-19</td></tr>",
                            "<tr><td>1293</td><td>2016-11-19</td></tr>",
                            "<tr><td>1294</td><td>2016-11-19</td></tr>",
                            "<tr><td>1295</td><td>2016-11-19</td></tr>",
                            "<tr><td>1296</td><td>2016-11-19</td></tr>",
                            "<tr><td>1297</td><td>2016-11-19</td></tr>",
                            "<tr><td>1298</td><td>2016-11-20</td></tr>",
                            "<tr><td>1299</td><td>2016-11-21</td></tr>",
                            "<tr><td>1300</td><td>2016-11-21</td></tr>",
                            "<tr><td>1301</td><td>2016-11-22</td></tr>",
                            "<tr><td>1302</td><td>2016-11-22</td></tr>",
                            "<tr><td>1303</td><td>2016-11-22</td></tr>",
                            "<tr><td>1304</td><td>2016-11-22</td></tr>",
                            "<tr><td>1305</td><td>2016-11-22</td></tr>",
                            "<tr><td>1306</td><td>2016-11-22</td></tr>",
                            "<tr><td>1307</td><td>2016-11-23</td></tr>",
                            "<tr><td>1308</td><td>2016-11-23</td></tr>",
                            "<tr><td>1309</td><td>2016-11-23</td></tr>",
                            "<tr><td>1310</td><td>2016-11-23</td></tr>",
                            "<tr><td>1311</td><td>2016-11-23</td></tr>",
                            "<tr><td>1312</td><td>2016-11-23</td></tr>",
                            "<tr><td>1313</td><td>2016-11-23</td></tr>",
                            "<tr><td>1314</td><td>2016-11-23</td></tr>",
                            "<tr><td>1315</td><td>2016-11-24</td></tr>",
                            "<tr><td>1316</td><td>2016-11-25</td></tr>",
                            "<tr><td>1317</td><td>2016-11-25</td></tr>",
                            "<tr><td>1318</td><td>2016-11-25</td></tr>",
                            "<tr><td>1319</td><td>2016-11-25</td></tr>",
                            "<tr><td>1320</td><td>2016-11-25</td></tr>",
                            "<tr><td>1321</td><td>2016-11-25</td></tr>",
                            "<tr><td>1322</td><td>2016-11-26</td></tr>",
                            "<tr><td>1323</td><td>2016-11-27</td></tr>",
                            "<tr><td>1324</td><td>2016-11-27</td></tr>",
                            "<tr><td>1325</td><td>2016-11-27</td></tr>",
                            "<tr><td>1326</td><td>2016-11-28</td></tr>",
                            "<tr><td>1327</td><td>2016-11-28</td></tr>",
                            "<tr><td>1328</td><td>2016-11-28</td></tr>",
                            "<tr><td>1329</td><td>2016-11-29</td></tr>",
                            "<tr><td>1330</td><td>2016-11-29</td></tr>",
                            "<tr><td>1331</td><td>2016-11-29</td></tr>",
                            "<tr><td>1332</td><td>2016-11-29</td></tr>",
                            "<tr><td>1333</td><td>2016-11-30</td></tr>",
                            "<tr><td>1334</td><td>2016-12-01</td></tr>",
                            "<tr><td>1335</td><td>2016-12-01</td></tr>",
                            "<tr><td>1336</td><td>2016-12-02</td></tr>",
                            "<tr><td>1337</td><td>2016-12-02</td></tr>",
                            "<tr><td>1338</td><td>2016-12-02</td></tr>",
                            "<tr><td>1339</td><td>2016-12-03</td></tr>",
                            "<tr><td>1340</td><td>2016-12-04</td></tr>",
                            "<tr><td>1341</td><td>2016-12-04</td></tr>",
                            "<tr><td>1342</td><td>2016-12-04</td></tr>",
                            "<tr><td>1343</td><td>2016-12-05</td></tr>",
                            "<tr><td>1344</td><td>2016-12-05</td></tr>",
                            "<tr><td>1345</td><td>2016-12-05</td></tr>",
                            "<tr><td>1346</td><td>2016-12-05</td></tr>",
                            "<tr><td>1347</td><td>2016-12-06</td></tr>",
                            "<tr><td>1348</td><td>2016-12-06</td></tr>",
                            "<tr><td>1349</td><td>2016-12-06</td></tr>",
                            "<tr><td>1350</td><td>2016-12-06</td></tr>",
                            "<tr><td>1351</td><td>2016-12-06</td></tr>",
                            "<tr><td>1352</td><td>2016-12-07</td></tr>",
                            "<tr><td>1353</td><td>2016-12-07</td></tr>",
                            "<tr><td>1354</td><td>2016-12-07</td></tr>",
                            "<tr><td>1355</td><td>2016-12-08</td></tr>",
                            "<tr><td>1356</td><td>2016-12-09</td></tr>",
                            "<tr><td>1357</td><td>2016-12-10</td></tr>",
                            "<tr><td>1358</td><td>2016-12-11</td></tr>",
                            "<tr><td>1359</td><td>2016-12-12</td></tr>",
                            "<tr><td>1360</td><td>2016-12-13</td></tr>",
                            "<tr><td>1361</td><td>2016-12-14</td></tr>",
                            "<tr><td>1362</td><td>2016-12-14</td></tr>",
                            "<tr><td>1363</td><td>2016-12-15</td></tr>",
                            "<tr><td>1364</td><td>2016-12-15</td></tr>",
                            "<tr><td>1365</td><td>2016-12-15</td></tr>",
                            "<tr><td>1366</td><td>2016-12-16</td></tr>",
                            "<tr><td>1367</td><td>2016-12-17</td></tr>",
                            "<tr><td>1368</td><td>2016-12-17</td></tr>",
                            "<tr><td>1369</td><td>2016-12-17</td></tr>",
                            "<tr><td>1370</td><td>2016-12-17</td></tr>",
                            "<tr><td>1371</td><td>2016-12-17</td></tr>",
                            "<tr><td>1372</td><td>2016-12-17</td></tr>",
                            "<tr><td>1373</td><td>2016-12-17</td></tr>",
                            "<tr><td>1374</td><td>2016-12-17</td></tr>",
                            "<tr><td>1375</td><td>2016-12-17</td></tr>",
                            "<tr><td>1376</td><td>2016-12-17</td></tr>",
                            "<tr><td>1377</td><td>2016-12-18</td></tr>",
                            "<tr><td>1378</td><td>2016-12-18</td></tr>",
                            "<tr><td>1379</td><td>2016-12-19</td></tr>",
                            "<tr><td>1380</td><td>2016-12-20</td></tr>",
                            "<tr><td>1381</td><td>2016-12-21</td></tr>",
                            "<tr><td>1382</td><td>2016-12-22</td></tr>",
                            "<tr><td>1383</td><td>2016-12-22</td></tr>",
                            "<tr><td>1384</td><td>2016-12-22</td></tr>",
                            "<tr><td>1385</td><td>2016-12-23</td></tr>",
                            "<tr><td>1386</td><td>2016-12-24</td></tr>",
                            "<tr><td>1387</td><td>2016-12-24</td></tr>",
                            "<tr><td>1388</td><td>2016-12-24</td></tr>",
                            "<tr><td>1389</td><td>2016-12-25</td></tr>",
                            "<tr><td>1390</td><td>2016-12-25</td></tr>",
                            "<tr><td>1391</td><td>2016-12-25</td></tr>",
                            "<tr><td>1392</td><td>2016-12-25</td></tr>",
                            "<tr><td>1393</td><td>2016-12-25</td></tr>",
                            "<tr><td>1394</td><td>2016-12-25</td></tr>",
                            "<tr><td>1395</td><td>2016-12-25</td></tr>",
                            "<tr><td>1396</td><td>2016-12-25</td></tr>",
                            "<tr><td>1397</td><td>2016-12-25</td></tr>",
                            "<tr><td>1398</td><td>2016-12-26</td></tr>",
                            "<tr><td>1399</td><td>2016-12-26</td></tr>",
                            "<tr><td>1400</td><td>2016-12-26</td></tr>",
                            "<tr><td>1401</td><td>2016-12-27</td></tr>",
                            "<tr><td>1402</td><td>2016-12-28</td></tr>",
                            "<tr><td>1403</td><td>2016-12-29</td></tr>",
                            "<tr><td>1404</td><td>2016-12-29</td></tr>",
                            "<tr><td>1405</td><td>2016-12-29</td></tr>",
                            "<tr><td>1406</td><td>2016-12-29</td></tr>",
                            "<tr><td>1407</td><td>2016-12-30</td></tr>",
                            "<tr><td>1408</td><td>2016-12-31</td></tr>",
                            "<tr><td>1409</td><td>2017-01-01</td></tr>",
                            "<tr><td>1410</td><td>2017-01-01</td></tr>",
                            "<tr><td>1411</td><td>2017-01-01</td></tr>",
                            "<tr><td>1412</td><td>2017-01-01</td></tr>",
                            "<tr><td>1413</td><td>2017-01-02</td></tr>",
                            "<tr><td>1414</td><td>2017-01-02</td></tr>",
                            "<tr><td>1415</td><td>2017-01-03</td></tr>",
                            "<tr><td>1416</td><td>2017-01-03</td></tr>",
                            "<tr><td>1417</td><td>2017-01-03</td></tr>",
                            "<tr><td>1418</td><td>2017-01-04</td></tr>",
                            "<tr><td>1419</td><td>2017-01-05</td></tr>",
                            "<tr><td>1420</td><td>2017-01-05</td></tr>",
                            "<tr><td>1421</td><td>2017-01-05</td></tr>",
                            "<tr><td>1422</td><td>2017-01-06</td></tr>",
                            "<tr><td>1423</td><td>2017-01-06</td></tr>",
                            "<tr><td>1424</td><td>2017-01-07</td></tr>",
                            "<tr><td>1425</td><td>2017-01-08</td></tr>",
                            "<tr><td>1426</td><td>2017-01-09</td></tr>",
                            "<tr><td>1427</td><td>2017-01-09</td></tr>",
                            "<tr><td>1428</td><td>2017-01-09</td></tr>",
                            "<tr><td>1429</td><td>2017-01-09</td></tr>",
                            "<tr><td>1430</td><td>2017-01-09</td></tr>",
                            "<tr><td>1431</td><td>2017-01-10</td></tr>",
                            "<tr><td>1432</td><td>2017-01-10</td></tr>",
                            "<tr><td>1433</td><td>2017-01-11</td></tr>",
                            "<tr><td>1434</td><td>2017-01-12</td></tr>",
                            "<tr><td>1435</td><td>2017-01-12</td></tr>",
                            "<tr><td>1436</td><td>2017-01-13</td></tr>",
                            "<tr><td>1437</td><td>2017-01-13</td></tr>",
                            "<tr><td>1438</td><td>2017-01-14</td></tr>",
                            "<tr><td>1439</td><td>2017-01-15</td></tr>",
                            "<tr><td>1440</td><td>2017-01-15</td></tr>",
                            "<tr><td>1441</td><td>2017-01-16</td></tr>",
                            "<tr><td>1442</td><td>2017-01-16</td></tr>",
                            "<tr><td>1443</td><td>2017-01-16</td></tr>",
                            "<tr><td>1444</td><td>2017-01-16</td></tr>",
                            "<tr><td>1445</td><td>2017-01-16</td></tr>",
                            "<tr><td>1446</td><td>2017-01-16</td></tr>",
                            "<tr><td>1447</td><td>2017-01-16</td></tr>",
                            "<tr><td>1448</td><td>2017-01-16</td></tr>",
                            "<tr><td>1449</td><td>2017-01-17</td></tr>",
                            "<tr><td>1450</td><td>2017-01-17</td></tr>",
                            "<tr><td>1451</td><td>2017-01-17</td></tr>",
                            "<tr><td>1452</td><td>2017-01-17</td></tr>",
                            "<tr><td>1453</td><td>2017-01-17</td></tr>",
                            "<tr><td>1454</td><td>2017-01-18</td></tr>",
                            "<tr><td>1455</td><td>2017-01-18</td></tr>",
                            "<tr><td>1456</td><td>2017-01-19</td></tr>",
                            "<tr><td>1457</td><td>2017-01-19</td></tr>",
                            "<tr><td>1458</td><td>2017-01-19</td></tr>",
                            "<tr><td>1459</td><td>2017-01-20</td></tr>",
                            "<tr><td>1460</td><td>2017-01-21</td></tr>",
                            "<tr><td>1461</td><td>2017-01-22</td></tr>",
                            "<tr><td>1462</td><td>2017-01-22</td></tr>",
                            "<tr><td>1463</td><td>2017-01-22</td></tr>",
                            "<tr><td>1464</td><td>2017-01-22</td></tr>",
                            "<tr><td>1465</td><td>2017-01-22</td></tr>",
                            "<tr><td>1466</td><td>2017-01-22</td></tr>",
                            "<tr><td>1467</td><td>2017-01-22</td></tr>",
                            "<tr><td>1468</td><td>2017-01-23</td></tr>",
                            "<tr><td>1469</td><td>2017-01-23</td></tr>",
                            "<tr><td>1470</td><td>2017-01-23</td></tr>",
                            "<tr><td>1471</td><td>2017-01-23</td></tr>",
                            "<tr><td>1472</td><td>2017-01-24</td></tr>",
                            "<tr><td>1473</td><td>2017-01-24</td></tr>",
                            "<tr><td>1474</td><td>2017-01-25</td></tr>",
                            "<tr><td>1475</td><td>2017-01-26</td></tr>",
                            "<tr><td>1476</td><td>2017-01-27</td></tr>",
                            "<tr><td>1477</td><td>2017-01-28</td></tr>",
                            "<tr><td>1478</td><td>2017-01-28</td></tr>",
                            "<tr><td>1479</td><td>2017-01-28</td></tr>",
                            "<tr><td>1480</td><td>2016-12-29</td></tr>",
                            "<tr><td>1481</td><td>2017-01-29</td></tr>",
                            "<tr><td>1482</td><td>2017-01-29</td></tr>",
                            "<tr><td>1483</td><td>2017-01-30</td></tr>",
                            "<tr><td>1484</td><td>2017-01-30</td></tr>",
                            "<tr><td>1485</td><td>2017-01-30</td></tr>",
                            "<tr><td>1486</td><td>2017-01-31</td></tr>",
                            "<tr><td>1487</td><td>2017-02-01</td></tr>",
                            "<tr><td>1488</td><td>2017-02-01</td></tr>",
                            "<tr><td>1489</td><td>2017-02-02</td></tr>",
                            "<tr><td>1490</td><td>2017-02-03</td></tr>",
                            "<tr><td>1491</td><td>2017-02-03</td></tr>",
                            "<tr><td>1492</td><td>2017-02-03</td></tr>",
                            "<tr><td>1493</td><td>2017-02-04</td></tr>",
                            "<tr><td>1494</td><td>2017-02-04</td></tr>",
                            "<tr><td>1495</td><td>2017-02-04</td></tr>",
                            "<tr><td>1496</td><td>2017-02-04</td></tr>",
                            "<tr><td>1497</td><td>2017-02-04</td></tr>",
                            "<tr><td>1498</td><td>2017-02-04</td></tr>",
                            "<tr><td>1499</td><td>2017-02-05</td></tr>",
                            "<tr><td>1500</td><td>2017-02-05</td></tr>",
                            "<tr><td>1501</td><td>2017-02-05</td></tr>",
                            "<tr><td>1502</td><td>2017-02-05</td></tr>",
                            "<tr><td>1503</td><td>2017-02-05</td></tr>",
                            "<tr><td>1504</td><td>2017-02-06</td></tr>",
                            "<tr><td>1505</td><td>2017-02-06</td></tr>",
                            "<tr><td>1506</td><td>2017-02-06</td></tr>",
                            "<tr><td>1507</td><td>2017-02-07</td></tr>",
                            "<tr><td>1508</td><td>2017-02-08</td></tr>",
                            "<tr><td>1509</td><td>2017-02-08</td></tr>",
                            "<tr><td>1510</td><td>2017-02-08</td></tr>",
                            "<tr><td>1511</td><td>2017-02-08</td></tr>",
                            "<tr><td>1512</td><td>2017-02-08</td></tr>",
                            "<tr><td>1513</td><td>2017-02-09</td></tr>",
                            "<tr><td>1514</td><td>2017-02-09</td></tr>",
                            "<tr><td>1515</td><td>2017-02-10</td></tr>",
                            "<tr><td>1516</td><td>2017-02-10</td></tr>",
                            "<tr><td>1517</td><td>2017-02-11</td></tr>",
                            "<tr><td>1518</td><td>2017-02-12</td></tr>",
                            "<tr><td>1519</td><td>2017-02-12</td></tr>",
                            "<tr><td>1520</td><td>2017-02-12</td></tr>",
                            "<tr><td>1521</td><td>2017-02-12</td></tr>",
                            "<tr><td>1522</td><td>2017-02-12</td></tr>",
                            "<tr><td>1523</td><td>2017-02-12</td></tr>",
                            "<tr><td>1524</td><td>2017-02-12</td></tr>",
                            "<tr><td>1525</td><td>2017-02-12</td></tr>",
                            "<tr><td>1526</td><td>2017-02-12</td></tr>",
                            "<tr><td>1527</td><td>2017-02-13</td></tr>",
                            "<tr><td>1528</td><td>2017-02-13</td></tr>",
                            "<tr><td>1529</td><td>2017-02-13</td></tr>",
                            "<tr><td>1530</td><td>2017-02-13</td></tr>",
                            "<tr><td>1531</td><td>2017-02-13</td></tr>",
                            "<tr><td>1532</td><td>2017-02-14</td></tr>",
                            "<tr><td>1533</td><td>2017-02-14</td></tr>",
                            "<tr><td>1534</td><td>2017-02-14</td></tr>",
                            "<tr><td>1535</td><td>2017-02-15</td></tr>",
                            "<tr><td>1536</td><td>2017-02-16</td></tr>",
                            "<tr><td>1537</td><td>2017-02-16</td></tr>",
                            "<tr><td>1538</td><td>2017-02-16</td></tr>",
                            "<tr><td>1539</td><td>2017-02-16</td></tr>",
                            "<tr><td>1540</td><td>2017-02-16</td></tr>",
                            "<tr><td>1541</td><td>2017-02-16</td></tr>",
                            "<tr><td>1542</td><td>2017-02-16</td></tr>",
                            "<tr><td>1543</td><td>2017-02-16</td></tr>",
                            "<tr><td>1544</td><td>2017-02-16</td></tr>",
                            "<tr><td>1545</td><td>2017-02-17</td></tr>",
                            "<tr><td>1546</td><td>2017-02-17</td></tr>",
                            "<tr><td>1547</td><td>2017-02-18</td></tr>",
                            "<tr><td>1548</td><td>2017-02-18</td></tr>",
                            "<tr><td>1549</td><td>2017-02-18</td></tr>",
                            "<tr><td>1550</td><td>2017-02-18</td></tr>",
                            "<tr><td>1551</td><td>2017-02-19</td></tr>",
                            "<tr><td>1552</td><td>2017-02-20</td></tr>",
                            "<tr><td>1553</td><td>2017-02-20</td></tr>",
                            "<tr><td>1554</td><td>2017-02-20</td></tr>",
                            "<tr><td>1555</td><td>2017-02-20</td></tr>",
                            "<tr><td>1556</td><td>2017-02-21</td></tr>",
                            "<tr><td>1557</td><td>2017-02-21</td></tr>",
                            "<tr><td>1558</td><td>2017-02-21</td></tr>",
                            "<tr><td>1559</td><td>2017-02-22</td></tr>",
                            "<tr><td>1560</td><td>2017-02-23</td></tr>",
                            "<tr><td>1561</td><td>2017-02-23</td></tr>",
                            "<tr><td>1562</td><td>2017-02-23</td></tr>",
                            "<tr><td>1563</td><td>2017-02-23</td></tr>",
                            "<tr><td>1564</td><td>2017-02-23</td></tr>",
                            "<tr><td>1565</td><td>2017-02-23</td></tr>",
                            "<tr><td>1566</td><td>2017-02-24</td></tr>",
                            "<tr><td>1567</td><td>2017-02-24</td></tr>",
                            "<tr><td>1568</td><td>2017-02-24</td></tr>",
                            "<tr><td>1569</td><td>2017-02-24</td></tr>",
                            "<tr><td>1570</td><td>2017-02-24</td></tr>",
                            "<tr><td>1571</td><td>2017-02-25</td></tr>",
                            "<tr><td>1572</td><td>2017-02-25</td></tr>",
                            "<tr><td>1573</td><td>2017-02-26</td></tr>",
                            "<tr><td>1574</td><td>2017-02-26</td></tr>",
                            "<tr><td>1575</td><td>2017-02-26</td></tr>",
                            "<tr><td>1576</td><td>2017-02-26</td></tr>",
                            "<tr><td>1577</td><td>2017-02-27</td></tr>",
                            "<tr><td>1578</td><td>2017-02-27</td></tr>",
                            "<tr><td>1579</td><td>2017-02-28</td></tr>",
                            "<tr><td>1580</td><td>2017-03-01</td></tr>",
                            "<tr><td>1581</td><td>2017-03-01</td></tr>",
                            "<tr><td>1582</td><td>2017-03-02</td></tr>",
                            "<tr><td>1583</td><td>2017-03-03</td></tr>",
                            "<tr><td>1584</td><td>2017-03-03</td></tr>",
                            "</table>"
                        ]
                    }
                }
            ],
            "execution_count": 28
        }
    ]
}