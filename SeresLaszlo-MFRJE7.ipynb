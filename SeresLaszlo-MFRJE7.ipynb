{
    "metadata": {
        "kernelspec": {
            "name": "SQL",
            "display_name": "SQL",
            "language": "sql"
        },
        "language_info": {
            "name": "sql",
            "version": ""
        }
    },
    "nbformat_minor": 2,
    "nbformat": 4,
    "cells": [
        {
            "cell_type": "code",
            "source": [
                "SELECT szh.SZALLAS_ID, szh.SZALLAS_NEV, sz.KLIMAS\r\n",
                "FROM Szallashely szh JOIN Szoba sz ON szh.SZALLAS_ID = sz.SZALLAS_FK\r\n",
                "WHERE szh.SZALLAS_ID = sz.SZALLAS_FK\r\n",
                "GROUP BY szh.SZALLAS_ID"
            ],
            "metadata": {
                "azdata_cell_guid": "07275a1a-2a9d-46a9-99c8-ccbee85ee284",
                "language": "sql"
            },
            "outputs": [
                {
                    "output_type": "error",
                    "evalue": "Msg 8120, Level 16, State 1, Line 1\r\nColumn 'Szallashely.SZALLAS_NEV' is invalid in the select list because it is not contained in either an aggregate function or the GROUP BY clause.",
                    "ename": "",
                    "traceback": []
                },
                {
                    "output_type": "display_data",
                    "data": {
                        "text/html": "Total execution time: 00:00:00.003"
                    },
                    "metadata": {}
                }
            ],
            "execution_count": 2
        },
        {
            "cell_type": "code",
            "source": [
                "SELECT sz.SZOBA_ID, szh.ROGZ_IDO, Foglalas.FOGLALAS_PK\r\n",
                "FROM Szoba sz JOIN Szallashely szh ON sz.SZALLAS_FK = szh.SZALLAS_ID, Foglalas\r\n",
                "WHERE Foglalas.SZOBA_FK = sz.SZALLAS_FK\r\n",
                "AND Foglalas.FOGLALAS_PK > 10\r\n",
                ""
            ],
            "metadata": {
                "azdata_cell_guid": "b3112777-b736-4ba1-9773-962095a1dc42",
                "language": "sql"
            },
            "outputs": [],
            "execution_count": null
        }
    ]
}